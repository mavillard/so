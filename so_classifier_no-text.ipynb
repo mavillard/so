{
 "cells": [
  {
   "cell_type": "markdown",
   "metadata": {
    "collapsed": true
   },
   "source": [
    "#StackOverflow answer classifier"
   ]
  },
  {
   "cell_type": "code",
   "execution_count": 2,
   "metadata": {
    "collapsed": false
   },
   "outputs": [],
   "source": [
    "import re\n",
    "import os\n",
    "from html.parser import HTMLParser\n",
    "from time import time\n",
    "from xml.etree import ElementTree as etree\n",
    "from xml.etree.ElementTree import Element\n",
    "\n",
    "import numpy as np\n",
    "import pandas as pd"
   ]
  },
  {
   "cell_type": "markdown",
   "metadata": {
    "collapsed": false
   },
   "source": [
    "##Data"
   ]
  },
  {
   "cell_type": "code",
   "execution_count": 3,
   "metadata": {
    "collapsed": false
   },
   "outputs": [],
   "source": [
    "qas_df = pd.read_csv('data/qas.csv')"
   ]
  },
  {
   "cell_type": "markdown",
   "metadata": {},
   "source": [
    "###b) Non textual features"
   ]
  },
  {
   "cell_type": "code",
   "execution_count": 4,
   "metadata": {
    "collapsed": false
   },
   "outputs": [],
   "source": [
    "columns = ['Unnamed: 0', 'text', 'id']\n",
    "qa_df = qas_df.drop(columns, axis=1)"
   ]
  },
  {
   "cell_type": "code",
   "execution_count": 5,
   "metadata": {
    "collapsed": false
   },
   "outputs": [
    {
     "data": {
      "text/plain": [
       "27233"
      ]
     },
     "execution_count": 5,
     "metadata": {},
     "output_type": "execute_result"
    }
   ],
   "source": [
    "len(qa_df[qa_df.accepted==True])"
   ]
  },
  {
   "cell_type": "code",
   "execution_count": 6,
   "metadata": {
    "collapsed": false
   },
   "outputs": [
    {
     "data": {
      "text/plain": [
       "45614"
      ]
     },
     "execution_count": 6,
     "metadata": {},
     "output_type": "execute_result"
    }
   ],
   "source": [
    "len(qa_df[qa_df.accepted==False])"
   ]
  },
  {
   "cell_type": "code",
   "execution_count": 7,
   "metadata": {
    "collapsed": false
   },
   "outputs": [
    {
     "data": {
      "text/html": [
       "<div style=\"max-height:1000px;max-width:1500px;overflow:auto;\">\n",
       "<table border=\"1\" class=\"dataframe\">\n",
       "  <thead>\n",
       "    <tr style=\"text-align: right;\">\n",
       "      <th></th>\n",
       "      <th>score_q</th>\n",
       "      <th>view_count</th>\n",
       "      <th>answer_count</th>\n",
       "      <th>comment_count_q</th>\n",
       "      <th>code_line_count_q</th>\n",
       "      <th>reputation_q</th>\n",
       "      <th>comment_count_a</th>\n",
       "      <th>code_line_count_a</th>\n",
       "      <th>score_a</th>\n",
       "      <th>accepted</th>\n",
       "      <th>reputation_a</th>\n",
       "      <th>percent_answered_questions_q</th>\n",
       "      <th>percent_accepted_answers_a</th>\n",
       "    </tr>\n",
       "  </thead>\n",
       "  <tbody>\n",
       "    <tr>\n",
       "      <th>0</th>\n",
       "      <td>3</td>\n",
       "      <td>177</td>\n",
       "      <td>1</td>\n",
       "      <td>3</td>\n",
       "      <td>0</td>\n",
       "      <td>16</td>\n",
       "      <td>4</td>\n",
       "      <td>3</td>\n",
       "      <td>0</td>\n",
       "      <td>False</td>\n",
       "      <td>947</td>\n",
       "      <td>0</td>\n",
       "      <td>15</td>\n",
       "    </tr>\n",
       "    <tr>\n",
       "      <th>1</th>\n",
       "      <td>0</td>\n",
       "      <td>44</td>\n",
       "      <td>1</td>\n",
       "      <td>0</td>\n",
       "      <td>7</td>\n",
       "      <td>42</td>\n",
       "      <td>0</td>\n",
       "      <td>3</td>\n",
       "      <td>0</td>\n",
       "      <td>False</td>\n",
       "      <td>11986</td>\n",
       "      <td>0</td>\n",
       "      <td>50</td>\n",
       "    </tr>\n",
       "    <tr>\n",
       "      <th>2</th>\n",
       "      <td>1</td>\n",
       "      <td>127</td>\n",
       "      <td>1</td>\n",
       "      <td>0</td>\n",
       "      <td>0</td>\n",
       "      <td>28</td>\n",
       "      <td>0</td>\n",
       "      <td>0</td>\n",
       "      <td>0</td>\n",
       "      <td>False</td>\n",
       "      <td>6920</td>\n",
       "      <td>0</td>\n",
       "      <td>33</td>\n",
       "    </tr>\n",
       "    <tr>\n",
       "      <th>3</th>\n",
       "      <td>2</td>\n",
       "      <td>68</td>\n",
       "      <td>2</td>\n",
       "      <td>0</td>\n",
       "      <td>2</td>\n",
       "      <td>28</td>\n",
       "      <td>0</td>\n",
       "      <td>0</td>\n",
       "      <td>1</td>\n",
       "      <td>False</td>\n",
       "      <td>1055</td>\n",
       "      <td>0</td>\n",
       "      <td>40</td>\n",
       "    </tr>\n",
       "    <tr>\n",
       "      <th>4</th>\n",
       "      <td>2</td>\n",
       "      <td>68</td>\n",
       "      <td>2</td>\n",
       "      <td>0</td>\n",
       "      <td>2</td>\n",
       "      <td>28</td>\n",
       "      <td>1</td>\n",
       "      <td>0</td>\n",
       "      <td>0</td>\n",
       "      <td>False</td>\n",
       "      <td>21855</td>\n",
       "      <td>0</td>\n",
       "      <td>33</td>\n",
       "    </tr>\n",
       "  </tbody>\n",
       "</table>\n",
       "</div>"
      ],
      "text/plain": [
       "   score_q  view_count  answer_count  comment_count_q  code_line_count_q  \\\n",
       "0        3         177             1                3                  0   \n",
       "1        0          44             1                0                  7   \n",
       "2        1         127             1                0                  0   \n",
       "3        2          68             2                0                  2   \n",
       "4        2          68             2                0                  2   \n",
       "\n",
       "   reputation_q  comment_count_a  code_line_count_a  score_a accepted  \\\n",
       "0            16                4                  3        0    False   \n",
       "1            42                0                  3        0    False   \n",
       "2            28                0                  0        0    False   \n",
       "3            28                0                  0        1    False   \n",
       "4            28                1                  0        0    False   \n",
       "\n",
       "   reputation_a  percent_answered_questions_q  percent_accepted_answers_a  \n",
       "0           947                             0                          15  \n",
       "1         11986                             0                          50  \n",
       "2          6920                             0                          33  \n",
       "3          1055                             0                          40  \n",
       "4         21855                             0                          33  "
      ]
     },
     "execution_count": 7,
     "metadata": {},
     "output_type": "execute_result"
    }
   ],
   "source": [
    "qa_df.head()"
   ]
  },
  {
   "cell_type": "code",
   "execution_count": 8,
   "metadata": {
    "collapsed": false
   },
   "outputs": [],
   "source": [
    "qa_df = qa_df.reindex(np.random.permutation(qa_df.index))"
   ]
  },
  {
   "cell_type": "code",
   "execution_count": 9,
   "metadata": {
    "collapsed": false
   },
   "outputs": [
    {
     "data": {
      "text/html": [
       "<div style=\"max-height:1000px;max-width:1500px;overflow:auto;\">\n",
       "<table border=\"1\" class=\"dataframe\">\n",
       "  <thead>\n",
       "    <tr style=\"text-align: right;\">\n",
       "      <th></th>\n",
       "      <th>score_q</th>\n",
       "      <th>view_count</th>\n",
       "      <th>answer_count</th>\n",
       "      <th>comment_count_q</th>\n",
       "      <th>code_line_count_q</th>\n",
       "      <th>reputation_q</th>\n",
       "      <th>comment_count_a</th>\n",
       "      <th>code_line_count_a</th>\n",
       "      <th>score_a</th>\n",
       "      <th>accepted</th>\n",
       "      <th>reputation_a</th>\n",
       "      <th>percent_answered_questions_q</th>\n",
       "      <th>percent_accepted_answers_a</th>\n",
       "    </tr>\n",
       "  </thead>\n",
       "  <tbody>\n",
       "    <tr>\n",
       "      <th>3896</th>\n",
       "      <td>0</td>\n",
       "      <td>349</td>\n",
       "      <td>5</td>\n",
       "      <td>2</td>\n",
       "      <td>9</td>\n",
       "      <td>302</td>\n",
       "      <td>0</td>\n",
       "      <td>5</td>\n",
       "      <td>0</td>\n",
       "      <td>False</td>\n",
       "      <td>8174</td>\n",
       "      <td>67</td>\n",
       "      <td>0</td>\n",
       "    </tr>\n",
       "    <tr>\n",
       "      <th>66384</th>\n",
       "      <td>0</td>\n",
       "      <td>84</td>\n",
       "      <td>1</td>\n",
       "      <td>1</td>\n",
       "      <td>5</td>\n",
       "      <td>0</td>\n",
       "      <td>0</td>\n",
       "      <td>7</td>\n",
       "      <td>1</td>\n",
       "      <td>False</td>\n",
       "      <td>651</td>\n",
       "      <td>0</td>\n",
       "      <td>0</td>\n",
       "    </tr>\n",
       "    <tr>\n",
       "      <th>51233</th>\n",
       "      <td>0</td>\n",
       "      <td>56</td>\n",
       "      <td>1</td>\n",
       "      <td>0</td>\n",
       "      <td>17</td>\n",
       "      <td>10850</td>\n",
       "      <td>2</td>\n",
       "      <td>15</td>\n",
       "      <td>2</td>\n",
       "      <td>True</td>\n",
       "      <td>269859</td>\n",
       "      <td>100</td>\n",
       "      <td>46</td>\n",
       "    </tr>\n",
       "    <tr>\n",
       "      <th>31946</th>\n",
       "      <td>2</td>\n",
       "      <td>512</td>\n",
       "      <td>1</td>\n",
       "      <td>2</td>\n",
       "      <td>35</td>\n",
       "      <td>33</td>\n",
       "      <td>0</td>\n",
       "      <td>8</td>\n",
       "      <td>2</td>\n",
       "      <td>True</td>\n",
       "      <td>33</td>\n",
       "      <td>100</td>\n",
       "      <td>100</td>\n",
       "    </tr>\n",
       "    <tr>\n",
       "      <th>62908</th>\n",
       "      <td>3</td>\n",
       "      <td>114</td>\n",
       "      <td>3</td>\n",
       "      <td>0</td>\n",
       "      <td>0</td>\n",
       "      <td>12</td>\n",
       "      <td>5</td>\n",
       "      <td>0</td>\n",
       "      <td>3</td>\n",
       "      <td>False</td>\n",
       "      <td>138</td>\n",
       "      <td>0</td>\n",
       "      <td>0</td>\n",
       "    </tr>\n",
       "  </tbody>\n",
       "</table>\n",
       "</div>"
      ],
      "text/plain": [
       "       score_q  view_count  answer_count  comment_count_q  code_line_count_q  \\\n",
       "3896         0         349             5                2                  9   \n",
       "66384        0          84             1                1                  5   \n",
       "51233        0          56             1                0                 17   \n",
       "31946        2         512             1                2                 35   \n",
       "62908        3         114             3                0                  0   \n",
       "\n",
       "       reputation_q  comment_count_a  code_line_count_a  score_a accepted  \\\n",
       "3896            302                0                  5        0    False   \n",
       "66384             0                0                  7        1    False   \n",
       "51233         10850                2                 15        2     True   \n",
       "31946            33                0                  8        2     True   \n",
       "62908            12                5                  0        3    False   \n",
       "\n",
       "       reputation_a  percent_answered_questions_q  percent_accepted_answers_a  \n",
       "3896           8174                            67                           0  \n",
       "66384           651                             0                           0  \n",
       "51233        269859                           100                          46  \n",
       "31946            33                           100                         100  \n",
       "62908           138                             0                           0  "
      ]
     },
     "execution_count": 9,
     "metadata": {},
     "output_type": "execute_result"
    }
   ],
   "source": [
    "qa_df.head()"
   ]
  },
  {
   "cell_type": "markdown",
   "metadata": {},
   "source": [
    "##scikit-learn"
   ]
  },
  {
   "cell_type": "code",
   "execution_count": 10,
   "metadata": {
    "collapsed": false
   },
   "outputs": [],
   "source": [
    "import logging\n",
    "\n",
    "from nltk.corpus import stopwords\n",
    "from sklearn import metrics\n",
    "from sklearn.cross_validation import cross_val_score, StratifiedKFold, train_test_split\n",
    "from sklearn.ensemble import RandomForestClassifier\n",
    "from sklearn.grid_search import GridSearchCV\n",
    "from sklearn.feature_extraction import DictVectorizer\n",
    "from sklearn.feature_extraction.text import CountVectorizer, TfidfTransformer, TfidfVectorizer\n",
    "from sklearn.feature_selection import SelectKBest, chi2\n",
    "from sklearn.linear_model import PassiveAggressiveClassifier, Perceptron, RidgeClassifier, SGDClassifier\n",
    "from sklearn.metrics import precision_recall_fscore_support\n",
    "from sklearn.naive_bayes import BernoulliNB, GaussianNB, MultinomialNB\n",
    "from sklearn.neighbors import KNeighborsClassifier, NearestCentroid\n",
    "from sklearn.pipeline import Pipeline\n",
    "from sklearn.svm import LinearSVC\n",
    "from sklearn.utils.extmath import density"
   ]
  },
  {
   "cell_type": "code",
   "execution_count": 11,
   "metadata": {
    "collapsed": true
   },
   "outputs": [],
   "source": [
    "# Display progress logs on stdout\n",
    "logging.basicConfig(level=logging.INFO,\n",
    "                    format='%(asctime)s %(levelname)s %(message)s')"
   ]
  },
  {
   "cell_type": "code",
   "execution_count": 12,
   "metadata": {
    "collapsed": false
   },
   "outputs": [
    {
     "data": {
      "text/plain": [
       "array([[  0.00000000e+00,   1.00000000e+00,   3.00000000e+00, ...,\n",
       "          0.00000000e+00,   3.00000000e+00,   1.77000000e+02],\n",
       "       [  0.00000000e+00,   2.00000000e+00,   5.00000000e+00, ...,\n",
       "          2.00000000e+00,   1.00000000e+00,   1.46200000e+03],\n",
       "       [  1.00000000e+00,   2.00000000e+00,   5.00000000e+00, ...,\n",
       "          5.00000000e+00,   2.00000000e+00,   8.03000000e+02],\n",
       "       ..., \n",
       "       [  1.00000000e+00,   1.00000000e+00,   1.00000000e+00, ...,\n",
       "          2.00000000e+00,  -2.00000000e+00,   2.38100000e+03],\n",
       "       [  0.00000000e+00,   2.00000000e+00,   4.00000000e+00, ...,\n",
       "          0.00000000e+00,   1.00000000e+00,   1.64000000e+02],\n",
       "       [  0.00000000e+00,   3.00000000e+00,   5.00000000e+00, ...,\n",
       "          0.00000000e+00,   0.00000000e+00,   1.00000000e+02]])"
      ]
     },
     "execution_count": 12,
     "metadata": {},
     "output_type": "execute_result"
    }
   ],
   "source": [
    "from sklearn.feature_extraction import DictVectorizer\n",
    "\n",
    "v = DictVectorizer(sparse=False)\n",
    "X = v.fit_transform(qa_df.ix[0:10].T.to_dict().values())\n",
    "X"
   ]
  },
  {
   "cell_type": "code",
   "execution_count": 13,
   "metadata": {
    "collapsed": false
   },
   "outputs": [],
   "source": [
    "def size_mb(docs):\n",
    "    return sum(len(s) for s in docs) / 1e6\n",
    "\n",
    "# data_train_size_mb = size_mb(data_train['sentence'])\n",
    "# data_test_size_mb = size_mb(data_test['sentence'])\n",
    "\n",
    "# print(\"%d documents - %0.3fMB (training set)\" % (\n",
    "#     len(data_train), data_train_size_mb))\n",
    "# print(\"%d documents - %0.3fMB (test set)\" % (\n",
    "#     len(data_test), data_test_size_mb))\n",
    "# print(\"%d categories\" % len(categories))\n",
    "# print()"
   ]
  },
  {
   "cell_type": "code",
   "execution_count": 14,
   "metadata": {
    "collapsed": false
   },
   "outputs": [
    {
     "name": "stdout",
     "output_type": "stream",
     "text": [
      "[[4 1]\n",
      " [2 5]]\n"
     ]
    }
   ],
   "source": [
    ">>> from sklearn.metrics import confusion_matrix\n",
    ">>> y_true = [1, 0, 1, 0, 1, 0, 1, 0, 1, 0, 1, 1]\n",
    ">>> y_pred = [1, 0, 0, 0, 1, 1, 1, 0, 0, 0, 1, 1]\n",
    ">>> print(confusion_matrix(y_true, y_pred))\n",
    "#     | Pred\n",
    "#     |-----\n",
    "# True| 0 1\n",
    "# ----------\n",
    "#  0  | 4 1\n",
    "#  1  | 2 5\n"
   ]
  },
  {
   "cell_type": "code",
   "execution_count": 27,
   "metadata": {
    "collapsed": true
   },
   "outputs": [],
   "source": [
    "def benchmark(clf, X_train, X_test, y_train, y_test, name):\n",
    "    print(\"_\" * 80)\n",
    "    print(\"Training: %s\" % name)\n",
    "    print(clf)\n",
    "    \n",
    "#     X_train = X_train.T.to_dict().values()\n",
    "#     X_test = X_test.T.to_dict().values()\n",
    "#     y_train = y_train.T.to_dict().values()\n",
    "#     y_test = y_test.T.to_dict().values()\n",
    "    \n",
    "    t0 = time()\n",
    "    clf.fit(X_train, y_train)\n",
    "    train_time = time() - t0\n",
    "    print(\"train time: %0.3fs\" % train_time)\n",
    "\n",
    "    t0 = time()\n",
    "    pred = clf.predict(X_test)\n",
    "    test_time = time() - t0\n",
    "    print(\"test time:  %0.3fs\" % test_time)\n",
    "\n",
    "    score = metrics.accuracy_score(y_test, pred)\n",
    "    print(\"accuracy:   %0.3f\" % score)\n",
    "\n",
    "    precision = metrics.precision_score(y_test, pred)\n",
    "    print(\"precision:   %0.3f\" % score)\n",
    "\n",
    "    recall = metrics.recall_score(y_test, pred)\n",
    "    print(\"recall:   %0.3f\" % score)\n",
    "\n",
    "    print(\"classification report:\")\n",
    "    print(metrics.classification_report(y_test, pred, target_names=['No', 'Yes']))\n",
    "\n",
    "    print(\"confusion matrix:\")\n",
    "    print(metrics.confusion_matrix(y_test, pred))\n",
    "\n",
    "    print()\n",
    "    return score, precision, recall"
   ]
  },
  {
   "cell_type": "code",
   "execution_count": 16,
   "metadata": {
    "collapsed": true
   },
   "outputs": [],
   "source": [
    "# Params\n",
    "K = 10\n",
    "parameters = {\n",
    "#     'vect__max_df': (0.5, 0.75, 1.0),\n",
    "#     'vect__max_features': (None, 1000, 5000, 10000, 50000),\n",
    "#     'vect__ngram_range': ((1, 1), (1, 2), (2, 2), (1, 3), (2, 3), (3, 3)),  # unigrams or bigrams or trigrams\n",
    "    'vect__stop_words': (None, stopwords.words('english')),\n",
    "    'tfidf__use_idf': (True, False),\n",
    "#     'tfidf__norm': ('l1', 'l2'),\n",
    "#     'clf__alpha': (1e-1, 1e-2, 1e-3, 1e-4, 1e-5, 1e-6),\n",
    "#     'clf__penalty': ('l1', 'l2', 'elasticnet'),\n",
    "#     'clf__n_iter': (10, 50, 80),\n",
    "#     'clf__loss': ('log', 'modified_huber'),\n",
    "}"
   ]
  },
  {
   "cell_type": "code",
   "execution_count": 28,
   "metadata": {
    "collapsed": false
   },
   "outputs": [],
   "source": [
    "# Classifiers\n",
    "clf_list = [\n",
    "    (RidgeClassifier(alpha=.00001, tol=1e-2, solver=\"lsqr\"), \"Ridge classifier\"),\n",
    "    (Perceptron(alpha=.00001, n_iter=50), \"Perceptron\"),\n",
    "    (PassiveAggressiveClassifier(n_iter=50), \"Passive-aggressive\"),\n",
    "#     NO USAR (KNeighborsClassifier(n_neighbors=10), \"kNN\"),\n",
    "#     MUY LENTO (RandomForestClassifier(n_estimators=100), \"Random forest\"),\n",
    "    (LinearSVC(loss='squared_hinge', penalty='l2', dual=False, tol=1e-3), 'Linear SVC'),\n",
    "    (SGDClassifier(alpha=.000001, n_iter=50, penalty='l1'), 'SGDClassifier'),\n",
    "    (NearestCentroid(), 'Nearest Centroid'),\n",
    "#     (MultinomialNB(alpha=.00001), 'Multinomial NB'),\n",
    "    (BernoulliNB(alpha=.00001), 'Bernoulli NB'),\n",
    "    (LinearSVC(penalty=\"l1\", dual=False, tol=1e-3), 'Linear SVC'),\n",
    "#     (GaussianNB(), 'Gaussian NB')\n",
    "]"
   ]
  },
  {
   "cell_type": "code",
   "execution_count": 29,
   "metadata": {
    "collapsed": false
   },
   "outputs": [
    {
     "name": "stdout",
     "output_type": "stream",
     "text": [
      "________________________________________________________________________________\n",
      "Training: Ridge classifier\n",
      "Pipeline(steps=[('vect', DictVectorizer(dtype=<class 'numpy.float64'>, separator='=', sort=True,\n",
      "        sparse=True)), ('clf', RidgeClassifier(alpha=1e-05, class_weight=None, copy_X=True,\n",
      "        fit_intercept=True, max_iter=None, normalize=False, solver='lsqr',\n",
      "        tol=0.01))])\n",
      "train time: 0.574s\n",
      "test time:  0.500s\n",
      "accuracy:   0.628\n",
      "precision:   0.628\n",
      "recall:   0.628\n",
      "classification report:\n",
      "             precision    recall  f1-score   support\n",
      "\n",
      "         No       0.63      0.98      0.77     20520\n",
      "        Yes       0.54      0.04      0.07     12261\n",
      "\n",
      "avg / total       0.60      0.63      0.51     32781\n",
      "\n",
      "confusion matrix:\n",
      "[[20149   371]\n",
      " [11820   441]]\n",
      "\n",
      "________________________________________________________________________________\n",
      "Training: Perceptron\n",
      "Pipeline(steps=[('vect', DictVectorizer(dtype=<class 'numpy.float64'>, separator='=', sort=True,\n",
      "        sparse=True)), ('clf', Perceptron(alpha=1e-05, class_weight=None, eta0=1.0, fit_intercept=True,\n",
      "      n_iter=50, n_jobs=1, penalty=None, random_state=0, shuffle=True,\n",
      "      verbose=0, warm_start=False))])\n",
      "train time: 0.729s\n",
      "test time:  0.519s\n",
      "accuracy:   0.548\n",
      "precision:   0.548\n",
      "recall:   0.548\n",
      "classification report:\n",
      "             precision    recall  f1-score   support\n",
      "\n",
      "         No       0.87      0.33      0.48     20520\n",
      "        Yes       0.45      0.92      0.60     12261\n",
      "\n",
      "avg / total       0.71      0.55      0.52     32781\n",
      "\n",
      "confusion matrix:\n",
      "[[ 6700 13820]\n",
      " [  985 11276]]\n",
      "\n",
      "________________________________________________________________________________\n",
      "Training: Passive-aggressive\n",
      "Pipeline(steps=[('vect', DictVectorizer(dtype=<class 'numpy.float64'>, separator='=', sort=True,\n",
      "        sparse=True)), ('clf', PassiveAggressiveClassifier(C=1.0, fit_intercept=True, loss='hinge',\n",
      "              n_iter=50, n_jobs=1, random_state=None, shuffle=True,\n",
      "              verbose=0, warm_start=False))])\n",
      "train time: 0.849s\n",
      "test time:  0.695s\n",
      "accuracy:   0.492\n",
      "precision:   0.492\n",
      "recall:   0.492\n",
      "classification report:\n",
      "             precision    recall  f1-score   support\n",
      "\n",
      "         No       0.98      0.19      0.32     20520\n",
      "        Yes       0.42      0.99      0.59     12261\n",
      "\n",
      "avg / total       0.77      0.49      0.42     32781\n",
      "\n",
      "confusion matrix:\n",
      "[[ 3972 16548]\n",
      " [   94 12167]]\n",
      "\n",
      "________________________________________________________________________________\n",
      "Training: Linear SVC\n",
      "Pipeline(steps=[('vect', DictVectorizer(dtype=<class 'numpy.float64'>, separator='=', sort=True,\n",
      "        sparse=True)), ('clf', LinearSVC(C=1.0, class_weight=None, dual=False, fit_intercept=True,\n",
      "     intercept_scaling=1, loss='squared_hinge', max_iter=1000,\n",
      "     multi_class='ovr', penalty='l2', random_state=None, tol=0.001,\n",
      "     verbose=0))])\n",
      "train time: 2.075s\n",
      "test time:  0.544s\n",
      "accuracy:   0.867\n",
      "precision:   0.867\n",
      "recall:   0.867\n",
      "classification report:\n",
      "             precision    recall  f1-score   support\n",
      "\n",
      "         No       0.90      0.88      0.89     20520\n",
      "        Yes       0.81      0.84      0.82     12261\n",
      "\n",
      "avg / total       0.87      0.87      0.87     32781\n",
      "\n",
      "confusion matrix:\n",
      "[[18155  2365]\n",
      " [ 1998 10263]]\n",
      "\n",
      "________________________________________________________________________________\n",
      "Training: SGDClassifier\n",
      "Pipeline(steps=[('vect', DictVectorizer(dtype=<class 'numpy.float64'>, separator='=', sort=True,\n",
      "        sparse=True)), ('clf', SGDClassifier(alpha=1e-06, average=False, class_weight=None, epsilon=0.1,\n",
      "       eta0=0.0, fit_intercept=True, l1_ratio=0.15,\n",
      "       learning_rate='optimal', loss='hinge', n_iter=50, n_jobs=1,\n",
      "       penalty='l1', power_t=0.5, random_state=None, shuffle=True,\n",
      "       verbose=0, warm_start=False))])\n",
      "train time: 1.002s\n",
      "test time:  0.618s\n",
      "accuracy:   0.669\n",
      "precision:   0.669\n",
      "recall:   0.669\n",
      "classification report:\n",
      "             precision    recall  f1-score   support\n",
      "\n",
      "         No       0.66      0.97      0.79     20520\n",
      "        Yes       0.78      0.16      0.27     12261\n",
      "\n",
      "avg / total       0.70      0.67      0.59     32781\n",
      "\n",
      "confusion matrix:\n",
      "[[19940   580]\n",
      " [10255  2006]]\n",
      "\n",
      "________________________________________________________________________________\n",
      "Training: Nearest Centroid\n",
      "Pipeline(steps=[('vect', DictVectorizer(dtype=<class 'numpy.float64'>, separator='=', sort=True,\n",
      "        sparse=True)), ('clf', NearestCentroid(metric='euclidean', shrink_threshold=None))])\n",
      "train time: 0.570s\n",
      "test time:  0.619s\n",
      "accuracy:   0.619\n",
      "precision:   0.619\n",
      "recall:   0.619\n",
      "classification report:\n",
      "             precision    recall  f1-score   support\n",
      "\n",
      "         No       0.65      0.84      0.73     20520\n",
      "        Yes       0.48      0.25      0.33     12261\n",
      "\n",
      "avg / total       0.59      0.62      0.58     32781\n",
      "\n",
      "confusion matrix:\n",
      "[[17221  3299]\n",
      " [ 9197  3064]]\n",
      "\n",
      "________________________________________________________________________________\n",
      "Training: Bernoulli NB\n",
      "Pipeline(steps=[('vect', DictVectorizer(dtype=<class 'numpy.float64'>, separator='=', sort=True,\n",
      "        sparse=True)), ('clf', BernoulliNB(alpha=1e-05, binarize=0.0, class_prior=None, fit_prior=True))])\n",
      "train time: 0.522s\n",
      "test time:  0.508s\n",
      "accuracy:   0.782\n",
      "precision:   0.782\n",
      "recall:   0.782\n",
      "classification report:\n",
      "             precision    recall  f1-score   support\n",
      "\n",
      "         No       0.87      0.77      0.81     20520\n",
      "        Yes       0.67      0.81      0.74     12261\n",
      "\n",
      "avg / total       0.80      0.78      0.79     32781\n",
      "\n",
      "confusion matrix:\n",
      "[[15720  4800]\n",
      " [ 2345  9916]]\n",
      "\n",
      "________________________________________________________________________________\n",
      "Training: Linear SVC\n",
      "Pipeline(steps=[('vect', DictVectorizer(dtype=<class 'numpy.float64'>, separator='=', sort=True,\n",
      "        sparse=True)), ('clf', LinearSVC(C=1.0, class_weight=None, dual=False, fit_intercept=True,\n",
      "     intercept_scaling=1, loss='squared_hinge', max_iter=1000,\n",
      "     multi_class='ovr', penalty='l1', random_state=None, tol=0.001,\n",
      "     verbose=0))])\n",
      "train time: 0.848s\n",
      "test time:  0.506s\n",
      "accuracy:   0.875\n",
      "precision:   0.875\n",
      "recall:   0.875\n",
      "classification report:\n",
      "             precision    recall  f1-score   support\n",
      "\n",
      "         No       0.90      0.90      0.90     20520\n",
      "        Yes       0.84      0.83      0.83     12261\n",
      "\n",
      "avg / total       0.88      0.88      0.88     32781\n",
      "\n",
      "confusion matrix:\n",
      "[[18515  2005]\n",
      " [ 2081 10180]]\n",
      "\n",
      "________________________________________________________________________________\n",
      "Training: Ridge classifier\n",
      "Pipeline(steps=[('vect', DictVectorizer(dtype=<class 'numpy.float64'>, separator='=', sort=True,\n",
      "        sparse=True)), ('clf', RidgeClassifier(alpha=1e-05, class_weight=None, copy_X=True,\n",
      "        fit_intercept=True, max_iter=None, normalize=False, solver='lsqr',\n",
      "        tol=0.01))])\n",
      "train time: 0.601s\n",
      "test time:  0.556s\n",
      "accuracy:   0.627\n",
      "precision:   0.627\n",
      "recall:   0.627\n",
      "classification report:\n",
      "             precision    recall  f1-score   support\n",
      "\n",
      "         No       0.63      0.98      0.77     20520\n",
      "        Yes       0.52      0.04      0.07     12261\n",
      "\n",
      "avg / total       0.59      0.63      0.51     32781\n",
      "\n",
      "confusion matrix:\n",
      "[[20125   395]\n",
      " [11826   435]]\n",
      "\n",
      "________________________________________________________________________________\n",
      "Training: Perceptron\n",
      "Pipeline(steps=[('vect', DictVectorizer(dtype=<class 'numpy.float64'>, separator='=', sort=True,\n",
      "        sparse=True)), ('clf', Perceptron(alpha=1e-05, class_weight=None, eta0=1.0, fit_intercept=True,\n",
      "      n_iter=50, n_jobs=1, penalty=None, random_state=0, shuffle=True,\n",
      "      verbose=0, warm_start=False))])\n",
      "train time: 0.720s\n",
      "test time:  0.744s\n",
      "accuracy:   0.532\n",
      "precision:   0.532\n",
      "recall:   0.532\n",
      "classification report:\n",
      "             precision    recall  f1-score   support\n",
      "\n",
      "         No       0.84      0.31      0.45     20520\n",
      "        Yes       0.44      0.90      0.59     12261\n",
      "\n",
      "avg / total       0.69      0.53      0.51     32781\n",
      "\n",
      "confusion matrix:\n",
      "[[ 6369 14151]\n",
      " [ 1178 11083]]\n",
      "\n",
      "________________________________________________________________________________\n",
      "Training: Passive-aggressive\n",
      "Pipeline(steps=[('vect', DictVectorizer(dtype=<class 'numpy.float64'>, separator='=', sort=True,\n",
      "        sparse=True)), ('clf', PassiveAggressiveClassifier(C=1.0, fit_intercept=True, loss='hinge',\n",
      "              n_iter=50, n_jobs=1, random_state=None, shuffle=True,\n",
      "              verbose=0, warm_start=False))])\n",
      "train time: 0.913s\n",
      "test time:  0.542s\n",
      "accuracy:   0.798\n",
      "precision:   0.798\n",
      "recall:   0.798\n",
      "classification report:\n",
      "             precision    recall  f1-score   support\n",
      "\n",
      "         No       0.85      0.83      0.84     20520\n",
      "        Yes       0.72      0.75      0.73     12261\n",
      "\n",
      "avg / total       0.80      0.80      0.80     32781\n",
      "\n",
      "confusion matrix:\n",
      "[[17019  3501]\n",
      " [ 3118  9143]]\n",
      "\n",
      "________________________________________________________________________________\n",
      "Training: Linear SVC\n",
      "Pipeline(steps=[('vect', DictVectorizer(dtype=<class 'numpy.float64'>, separator='=', sort=True,\n",
      "        sparse=True)), ('clf', LinearSVC(C=1.0, class_weight=None, dual=False, fit_intercept=True,\n",
      "     intercept_scaling=1, loss='squared_hinge', max_iter=1000,\n",
      "     multi_class='ovr', penalty='l2', random_state=None, tol=0.001,\n",
      "     verbose=0))])\n",
      "train time: 2.159s\n",
      "test time:  0.526s\n",
      "accuracy:   0.879\n",
      "precision:   0.879\n",
      "recall:   0.879\n",
      "classification report:\n",
      "             precision    recall  f1-score   support\n",
      "\n",
      "         No       0.91      0.90      0.90     20520\n",
      "        Yes       0.84      0.84      0.84     12261\n",
      "\n",
      "avg / total       0.88      0.88      0.88     32781\n",
      "\n",
      "confusion matrix:\n",
      "[[18489  2031]\n",
      " [ 1938 10323]]\n",
      "\n",
      "________________________________________________________________________________\n",
      "Training: SGDClassifier\n",
      "Pipeline(steps=[('vect', DictVectorizer(dtype=<class 'numpy.float64'>, separator='=', sort=True,\n",
      "        sparse=True)), ('clf', SGDClassifier(alpha=1e-06, average=False, class_weight=None, epsilon=0.1,\n",
      "       eta0=0.0, fit_intercept=True, l1_ratio=0.15,\n",
      "       learning_rate='optimal', loss='hinge', n_iter=50, n_jobs=1,\n",
      "       penalty='l1', power_t=0.5, random_state=None, shuffle=True,\n",
      "       verbose=0, warm_start=False))])\n",
      "train time: 0.842s\n",
      "test time:  0.582s\n",
      "accuracy:   0.495\n",
      "precision:   0.495\n",
      "recall:   0.495\n",
      "classification report:\n",
      "             precision    recall  f1-score   support\n",
      "\n",
      "         No       0.90      0.22      0.35     20520\n",
      "        Yes       0.42      0.96      0.59     12261\n",
      "\n",
      "avg / total       0.72      0.49      0.44     32781\n",
      "\n",
      "confusion matrix:\n",
      "[[ 4448 16072]\n",
      " [  485 11776]]\n",
      "\n",
      "________________________________________________________________________________\n",
      "Training: Nearest Centroid\n",
      "Pipeline(steps=[('vect', DictVectorizer(dtype=<class 'numpy.float64'>, separator='=', sort=True,\n",
      "        sparse=True)), ('clf', NearestCentroid(metric='euclidean', shrink_threshold=None))])\n",
      "train time: 0.585s\n",
      "test time:  0.501s\n",
      "accuracy:   0.624\n",
      "precision:   0.624\n",
      "recall:   0.624\n",
      "classification report:\n",
      "             precision    recall  f1-score   support\n",
      "\n",
      "         No       0.65      0.85      0.74     20520\n",
      "        Yes       0.49      0.24      0.32     12261\n",
      "\n",
      "avg / total       0.59      0.62      0.58     32781\n",
      "\n",
      "confusion matrix:\n",
      "[[17517  3003]\n",
      " [ 9330  2931]]\n",
      "\n",
      "________________________________________________________________________________\n",
      "Training: Bernoulli NB\n",
      "Pipeline(steps=[('vect', DictVectorizer(dtype=<class 'numpy.float64'>, separator='=', sort=True,\n",
      "        sparse=True)), ('clf', BernoulliNB(alpha=1e-05, binarize=0.0, class_prior=None, fit_prior=True))])\n",
      "train time: 0.514s\n",
      "test time:  0.513s\n",
      "accuracy:   0.780\n",
      "precision:   0.780\n",
      "recall:   0.780\n",
      "classification report:\n",
      "             precision    recall  f1-score   support\n",
      "\n",
      "         No       0.86      0.77      0.81     20520\n",
      "        Yes       0.67      0.80      0.73     12261\n",
      "\n",
      "avg / total       0.79      0.78      0.78     32781\n",
      "\n",
      "confusion matrix:\n",
      "[[15788  4732]\n",
      " [ 2471  9790]]\n",
      "\n",
      "________________________________________________________________________________\n",
      "Training: Linear SVC\n",
      "Pipeline(steps=[('vect', DictVectorizer(dtype=<class 'numpy.float64'>, separator='=', sort=True,\n",
      "        sparse=True)), ('clf', LinearSVC(C=1.0, class_weight=None, dual=False, fit_intercept=True,\n",
      "     intercept_scaling=1, loss='squared_hinge', max_iter=1000,\n",
      "     multi_class='ovr', penalty='l1', random_state=None, tol=0.001,\n",
      "     verbose=0))])\n",
      "train time: 0.927s\n",
      "test time:  0.502s\n",
      "accuracy:   0.880\n",
      "precision:   0.880\n",
      "recall:   0.880\n",
      "classification report:\n",
      "             precision    recall  f1-score   support\n",
      "\n",
      "         No       0.90      0.91      0.90     20520\n",
      "        Yes       0.84      0.83      0.84     12261\n",
      "\n",
      "avg / total       0.88      0.88      0.88     32781\n",
      "\n",
      "confusion matrix:\n",
      "[[18604  1916]\n",
      " [ 2030 10231]]\n",
      "\n"
     ]
    }
   ],
   "source": [
    "from collections import defaultdict\n",
    "# results = defaultdict(lambda: defaultdict(list))\n",
    "results = defaultdict(list)\n",
    "\n",
    "X = qa_df.drop('accepted', axis=1)\n",
    "y = qa_df['accepted']\n",
    "\n",
    "X = np.array(list(X.T.to_dict().values()))\n",
    "y = np.array(list(y.T.to_dict().values()))\n",
    "\n",
    "X_data, X_val, y_data, y_val = train_test_split(X, y, train_size=0.9, test_size=0.1, random_state=100)\n",
    "\n",
    "# X_data = X_data.reset_index(drop=True)\n",
    "# X_val = X_val.reset_index(drop=True)\n",
    "# y_data = y_data.reset_index(drop=True)\n",
    "# y_val = y_val.reset_index(drop=True)\n",
    "\n",
    "for train_index, test_index in StratifiedKFold(y_data, 2):#K):\n",
    "    X_train, X_test = X_data[train_index], X_data[test_index]\n",
    "    y_train, y_test = y_data[train_index], y_data[test_index]\n",
    "    \n",
    "    for clf, name in clf_list:\n",
    "        pipeline = Pipeline([\n",
    "            ('vect', DictVectorizer()),\n",
    "            ('clf', clf),\n",
    "        ])\n",
    "#         grid_search = GridSearchCV(pipeline, parameters, n_jobs=-1, verbose=1)\n",
    "#         benchmark_results = benchmark(grid_search, X_train, X_test, y_train, y_test)\n",
    "        benchmark_results = benchmark(pipeline, X_train, X_test, y_train, y_test, name)\n",
    "        results[name].append(benchmark_results)"
   ]
  },
  {
   "cell_type": "code",
   "execution_count": 71,
   "metadata": {
    "collapsed": false
   },
   "outputs": [
    {
     "data": {
      "text/plain": [
       "32781"
      ]
     },
     "execution_count": 71,
     "metadata": {},
     "output_type": "execute_result"
    }
   ],
   "source": [
    "len(X_test)"
   ]
  },
  {
   "cell_type": "code",
   "execution_count": 74,
   "metadata": {
    "collapsed": false
   },
   "outputs": [
    {
     "data": {
      "text/plain": [
       "False    20520\n",
       "True     12261\n",
       "dtype: int64"
      ]
     },
     "execution_count": 74,
     "metadata": {},
     "output_type": "execute_result"
    }
   ],
   "source": [
    "y_test.value_counts()"
   ]
  },
  {
   "cell_type": "code",
   "execution_count": 52,
   "metadata": {
    "collapsed": false
   },
   "outputs": [
    {
     "data": {
      "text/plain": [
       "0        Ajax image upload from html file to codeignite...\n",
       "1        How to emulate CPUs in Java? - So I have been ...\n",
       "2        how can i fetch the next auto increment value ...\n",
       "3        Update all column at once mysql - I have follo...\n",
       "4        ArrayList Cannot find variable isJunior - I'm ...\n",
       "5        how to place (push) input values dynamically i...\n",
       "6        Is Javascript constructor function equivalent/...\n",
       "7        Facebook oauth2 login returns (400) bad reques...\n",
       "8        C: Is it legal to subscript an array of incomp...\n",
       "9        Jquery - Convert a link to button in dialog - ...\n",
       "10       C++ copy constructor behaviour - There is a pa...\n",
       "11       How to check which objects collide with b2Cont...\n",
       "12       \"Insert Into\" clause in sybase 15.5 - I am ins...\n",
       "13       Differentiate retina and non-retina display in...\n",
       "14       Where should .sh/bash scripts be placed when u...\n",
       "15       Sail.js requires server restart after running ...\n",
       "16       Setting server timezone to add/subtract time f...\n",
       "17       save custom radio button state ember - I'm usi...\n",
       "18       Get application to wait until Variables are up...\n",
       "19       Artificially firing Page Events in ASP.NET? - ...\n",
       "20       Showing Fatal Error when clicked on system->co...\n",
       "21       Best Techniques to share data between Landscap...\n",
       "22       AJAX won't transfer variable to PHP - I am try...\n",
       "23       TableCell views in UITableView not appearing i...\n",
       "24       QtCreator can't find lastfm library file libla...\n",
       "25       Adding extra parameter to method? - I have bel...\n",
       "26       Want to Shorten this code - I have this Code  ...\n",
       "27       populate combobox from an excel sheet based on...\n",
       "28       Should I use == or === for ... if ($POST[\"var_...\n",
       "29       Google Maps return to origin - I'm using a pre...\n",
       "                               ...                        \n",
       "32855    Reading bytes from URL, and converting binary ...\n",
       "32857    When i am executing the code i am getting a Sy...\n",
       "32858    inform symfony of where repository classes are...\n",
       "32859    PHP + Javascript error: Unexpected token D - I...\n",
       "32860    ItemStateChanged called twice into JComboBox -...\n",
       "32861    How to fetch the non matching rows in Oracle -...\n",
       "32863    Is there a way I can set only one of my groupb...\n",
       "32864    create an xpath expression in java that is to ...\n",
       "32865    Abnormal behavior while using proguard - My Or...\n",
       "32866    Instagram API, /media/recent shows only images...\n",
       "32868    mac os x how to add files to core data databas...\n",
       "32870    How to compile C version of vtd-xml under linu...\n",
       "32872    ejbAccessException when starting JNLP java app...\n",
       "32873    Converting conditional equation from infix to ...\n",
       "32874    AngularJS: convert bound value - I have a boun...\n",
       "32875    Same radiobutton, same position. Why they are ...\n",
       "32877    Returning on completion of a block? - Given th...\n",
       "32879    Why Soft Link is Used in Ubuntu? - This questi...\n",
       "32880    PHP curl is not working on Windows and Apache ...\n",
       "32882    Image map with overlay images not working + JS...\n",
       "32883    Is it considered \"correct\" to use a template f...\n",
       "32884    Removing the contents of an arraylist of custo...\n",
       "32885    What's an alternative to echo grep in parsing ...\n",
       "32887    PHP Error after 2 or more results displayed fr...\n",
       "32888    How to Setup an Image Database on a Server? - ...\n",
       "32889    Make iOS bar button item for iOS 6 to look lik...\n",
       "32890    How do I show a Jpeg photo from LDAP with JSP?...\n",
       "32891    PHP search in array and if exists increment, e...\n",
       "32894    Post the value from js to php - EDİTED(\"I thin...\n",
       "32897    Working with Hive Joins - File1: Id fileFile2:...\n",
       "Name: text, dtype: object"
      ]
     },
     "execution_count": 52,
     "metadata": {},
     "output_type": "execute_result"
    }
   ],
   "source": [
    "X_train"
   ]
  },
  {
   "cell_type": "code",
   "execution_count": 54,
   "metadata": {
    "collapsed": false
   },
   "outputs": [
    {
     "data": {
      "text/plain": [
       "32589    Unable to access Bower in Laravel app director...\n",
       "32590    How to add winapi to Lua for Windows - I've in...\n",
       "32592    Click on link in iframe then perform jQuery ac...\n",
       "32593    what happened when function return - I know wh...\n",
       "32594    \".errorClass\" of jQuery validate works but the...\n",
       "32599    How to get the full path of a file properly? -...\n",
       "32601    How to print a sublist that contains all of th...\n",
       "32603    Simplest way to store List of Objects in Windo...\n",
       "32605    Use sed/awk to delete a line if the following ...\n",
       "32607    My codes are true , but an error message stop ...\n",
       "32610    FragmentTabHost and custom tabs - I really nee...\n",
       "32612    connection of c# application to server using i...\n",
       "32615    android - Countdown then an action - I want to...\n",
       "32621    AJAX - Sending knockout observables as JSON ob...\n",
       "32623    Missing file from MSDN example for GDI printin...\n",
       "32626    OSX Install Python Distribute - I am trying to...\n",
       "32628    MySQL not recognising datetime index in WHERE ...\n",
       "32631    Loading images from tablet local files with JS...\n",
       "32632    Gulp-sass fails to compile scss file - I'm usi...\n",
       "32633    Versioning etiquette in open source projects? ...\n",
       "32635    How does vim detect and handle mouse scroll wh...\n",
       "32636    Surface mesh generation in MATLAB - I know how...\n",
       "32637    Export a diagram drawn using applet and graphi...\n",
       "32641    Go to current executing statement in Visual St...\n",
       "32645    Match a variable length of number with shell s...\n",
       "32646    Initialize a dynamically added Google Map - I'...\n",
       "32647    What is the best way for IPC in java? - I am u...\n",
       "32648    Handling Security in Asp.net MVC pages with Ac...\n",
       "32651    What is the name of the += method for hash? - ...\n",
       "32653    Getting the dimensions of a newly updated imag...\n",
       "                               ...                        \n",
       "65532    High availability periodic task (cron) on AWS ...\n",
       "65533    Handling JMSExceptions when using JMS, specifi...\n",
       "65534    Zooming and panning of two plotspaces in CoreP...\n",
       "65535    Set variables in JavaScript once function fini...\n",
       "65536    java pass data to JTable's row upon button cli...\n",
       "65537    Building iOS project with Xcode with different...\n",
       "65538    If you call glBufferData after already calling...\n",
       "65539    In magento how to display associated products ...\n",
       "65540    Transform an unicode to a float - With Django,...\n",
       "65541    Java regex replaceAll with boundaries not work...\n",
       "65542    how can i inherit from 2 objects and use both ...\n",
       "65543    String Replacement parameters - (C#)My code se...\n",
       "65544    Pass a function name as parameter in a functio...\n",
       "65545    MySQL special character concat_ws - I want the...\n",
       "65546    Emacs highlight specific words when opening - ...\n",
       "65547    How can I insert data with the correct foreign...\n",
       "65548    Send selected text to festival - How do you se...\n",
       "65549    How can I get the value of a EditTextCell in G...\n",
       "65550    How should I create my json classes to parse t...\n",
       "65551    Data from a select to other page with foreach ...\n",
       "65552    How can i write Simple Mbean to monitor JBOSS ...\n",
       "65553    Preserve constness on assigning an object - Is...\n",
       "65554    Stream Video to website - We have been given a...\n",
       "65555    What is this purpose of this function? - I hav...\n",
       "65556    TestNG specific testsuite not running - I want...\n",
       "65557    How to dynamically show border on a div withou...\n",
       "65558    Running Java application on Ubuntu server - Ho...\n",
       "65559    Batch file to output last line of findstr - I ...\n",
       "65560    How can I sequence this MySQL table correctly ...\n",
       "65561    \"Package not signed correctly\" appearing for s...\n",
       "Name: text, dtype: object"
      ]
     },
     "execution_count": 54,
     "metadata": {},
     "output_type": "execute_result"
    }
   ],
   "source": [
    "X_test"
   ]
  },
  {
   "cell_type": "code",
   "execution_count": 73,
   "metadata": {
    "collapsed": false
   },
   "outputs": [
    {
     "ename": "KeyError",
     "evalue": "597",
     "output_type": "error",
     "traceback": [
      "\u001b[1;31m---------------------------------------------------------------------------\u001b[0m",
      "\u001b[1;31mKeyError\u001b[0m                                  Traceback (most recent call last)",
      "\u001b[1;32m<ipython-input-73-1f8ff5eaed02>\u001b[0m in \u001b[0;36m<module>\u001b[1;34m()\u001b[0m\n\u001b[1;32m----> 1\u001b[1;33m \u001b[0mX_data\u001b[0m\u001b[1;33m.\u001b[0m\u001b[0mix\u001b[0m\u001b[1;33m[\u001b[0m\u001b[1;36m597\u001b[0m\u001b[1;33m]\u001b[0m\u001b[1;33m\u001b[0m\u001b[0m\n\u001b[0m",
      "\u001b[1;32m/home/antonio/.virtualenvs/lexisnexis/local/lib/python2.7/site-packages/pandas/core/indexing.pyc\u001b[0m in \u001b[0;36m__getitem__\u001b[1;34m(self, key)\u001b[0m\n\u001b[0;32m     71\u001b[0m             \u001b[1;32mreturn\u001b[0m \u001b[0mself\u001b[0m\u001b[1;33m.\u001b[0m\u001b[0m_getitem_tuple\u001b[0m\u001b[1;33m(\u001b[0m\u001b[0mkey\u001b[0m\u001b[1;33m)\u001b[0m\u001b[1;33m\u001b[0m\u001b[0m\n\u001b[0;32m     72\u001b[0m         \u001b[1;32melse\u001b[0m\u001b[1;33m:\u001b[0m\u001b[1;33m\u001b[0m\u001b[0m\n\u001b[1;32m---> 73\u001b[1;33m             \u001b[1;32mreturn\u001b[0m \u001b[0mself\u001b[0m\u001b[1;33m.\u001b[0m\u001b[0m_getitem_axis\u001b[0m\u001b[1;33m(\u001b[0m\u001b[0mkey\u001b[0m\u001b[1;33m,\u001b[0m \u001b[0maxis\u001b[0m\u001b[1;33m=\u001b[0m\u001b[1;36m0\u001b[0m\u001b[1;33m)\u001b[0m\u001b[1;33m\u001b[0m\u001b[0m\n\u001b[0m\u001b[0;32m     74\u001b[0m \u001b[1;33m\u001b[0m\u001b[0m\n\u001b[0;32m     75\u001b[0m     \u001b[1;32mdef\u001b[0m \u001b[0m_get_label\u001b[0m\u001b[1;33m(\u001b[0m\u001b[0mself\u001b[0m\u001b[1;33m,\u001b[0m \u001b[0mlabel\u001b[0m\u001b[1;33m,\u001b[0m \u001b[0maxis\u001b[0m\u001b[1;33m=\u001b[0m\u001b[1;36m0\u001b[0m\u001b[1;33m)\u001b[0m\u001b[1;33m:\u001b[0m\u001b[1;33m\u001b[0m\u001b[0m\n",
      "\u001b[1;32m/home/antonio/.virtualenvs/lexisnexis/local/lib/python2.7/site-packages/pandas/core/indexing.pyc\u001b[0m in \u001b[0;36m_getitem_axis\u001b[1;34m(self, key, axis)\u001b[0m\n\u001b[0;32m    922\u001b[0m                     \u001b[1;32mreturn\u001b[0m \u001b[0mself\u001b[0m\u001b[1;33m.\u001b[0m\u001b[0m_get_loc\u001b[0m\u001b[1;33m(\u001b[0m\u001b[0mkey\u001b[0m\u001b[1;33m,\u001b[0m \u001b[0maxis\u001b[0m\u001b[1;33m=\u001b[0m\u001b[0maxis\u001b[0m\u001b[1;33m)\u001b[0m\u001b[1;33m\u001b[0m\u001b[0m\n\u001b[0;32m    923\u001b[0m \u001b[1;33m\u001b[0m\u001b[0m\n\u001b[1;32m--> 924\u001b[1;33m             \u001b[1;32mreturn\u001b[0m \u001b[0mself\u001b[0m\u001b[1;33m.\u001b[0m\u001b[0m_get_label\u001b[0m\u001b[1;33m(\u001b[0m\u001b[0mkey\u001b[0m\u001b[1;33m,\u001b[0m \u001b[0maxis\u001b[0m\u001b[1;33m=\u001b[0m\u001b[0maxis\u001b[0m\u001b[1;33m)\u001b[0m\u001b[1;33m\u001b[0m\u001b[0m\n\u001b[0m\u001b[0;32m    925\u001b[0m \u001b[1;33m\u001b[0m\u001b[0m\n\u001b[0;32m    926\u001b[0m     \u001b[1;32mdef\u001b[0m \u001b[0m_getitem_iterable\u001b[0m\u001b[1;33m(\u001b[0m\u001b[0mself\u001b[0m\u001b[1;33m,\u001b[0m \u001b[0mkey\u001b[0m\u001b[1;33m,\u001b[0m \u001b[0maxis\u001b[0m\u001b[1;33m=\u001b[0m\u001b[1;36m0\u001b[0m\u001b[1;33m)\u001b[0m\u001b[1;33m:\u001b[0m\u001b[1;33m\u001b[0m\u001b[0m\n",
      "\u001b[1;32m/home/antonio/.virtualenvs/lexisnexis/local/lib/python2.7/site-packages/pandas/core/indexing.pyc\u001b[0m in \u001b[0;36m_get_label\u001b[1;34m(self, label, axis)\u001b[0m\n\u001b[0;32m     82\u001b[0m                 \u001b[1;32mreturn\u001b[0m \u001b[0mself\u001b[0m\u001b[1;33m.\u001b[0m\u001b[0mobj\u001b[0m\u001b[1;33m.\u001b[0m\u001b[0m_xs\u001b[0m\u001b[1;33m(\u001b[0m\u001b[0mlabel\u001b[0m\u001b[1;33m,\u001b[0m \u001b[0maxis\u001b[0m\u001b[1;33m=\u001b[0m\u001b[0maxis\u001b[0m\u001b[1;33m)\u001b[0m\u001b[1;33m\u001b[0m\u001b[0m\n\u001b[0;32m     83\u001b[0m             \u001b[1;32mexcept\u001b[0m\u001b[1;33m:\u001b[0m\u001b[1;33m\u001b[0m\u001b[0m\n\u001b[1;32m---> 84\u001b[1;33m                 \u001b[1;32mreturn\u001b[0m \u001b[0mself\u001b[0m\u001b[1;33m.\u001b[0m\u001b[0mobj\u001b[0m\u001b[1;33m[\u001b[0m\u001b[0mlabel\u001b[0m\u001b[1;33m]\u001b[0m\u001b[1;33m\u001b[0m\u001b[0m\n\u001b[0m\u001b[0;32m     85\u001b[0m         elif (isinstance(label, tuple) and\n\u001b[0;32m     86\u001b[0m                 isinstance(label[axis], slice)):\n",
      "\u001b[1;32m/home/antonio/.virtualenvs/lexisnexis/local/lib/python2.7/site-packages/pandas/core/series.pyc\u001b[0m in \u001b[0;36m__getitem__\u001b[1;34m(self, key)\u001b[0m\n\u001b[0;32m    512\u001b[0m     \u001b[1;32mdef\u001b[0m \u001b[0m__getitem__\u001b[0m\u001b[1;33m(\u001b[0m\u001b[0mself\u001b[0m\u001b[1;33m,\u001b[0m \u001b[0mkey\u001b[0m\u001b[1;33m)\u001b[0m\u001b[1;33m:\u001b[0m\u001b[1;33m\u001b[0m\u001b[0m\n\u001b[0;32m    513\u001b[0m         \u001b[1;32mtry\u001b[0m\u001b[1;33m:\u001b[0m\u001b[1;33m\u001b[0m\u001b[0m\n\u001b[1;32m--> 514\u001b[1;33m             \u001b[0mresult\u001b[0m \u001b[1;33m=\u001b[0m \u001b[0mself\u001b[0m\u001b[1;33m.\u001b[0m\u001b[0mindex\u001b[0m\u001b[1;33m.\u001b[0m\u001b[0mget_value\u001b[0m\u001b[1;33m(\u001b[0m\u001b[0mself\u001b[0m\u001b[1;33m,\u001b[0m \u001b[0mkey\u001b[0m\u001b[1;33m)\u001b[0m\u001b[1;33m\u001b[0m\u001b[0m\n\u001b[0m\u001b[0;32m    515\u001b[0m \u001b[1;33m\u001b[0m\u001b[0m\n\u001b[0;32m    516\u001b[0m             \u001b[1;32mif\u001b[0m \u001b[1;32mnot\u001b[0m \u001b[0mnp\u001b[0m\u001b[1;33m.\u001b[0m\u001b[0misscalar\u001b[0m\u001b[1;33m(\u001b[0m\u001b[0mresult\u001b[0m\u001b[1;33m)\u001b[0m\u001b[1;33m:\u001b[0m\u001b[1;33m\u001b[0m\u001b[0m\n",
      "\u001b[1;32m/home/antonio/.virtualenvs/lexisnexis/local/lib/python2.7/site-packages/pandas/core/index.pyc\u001b[0m in \u001b[0;36mget_value\u001b[1;34m(self, series, key)\u001b[0m\n\u001b[0;32m   1458\u001b[0m \u001b[1;33m\u001b[0m\u001b[0m\n\u001b[0;32m   1459\u001b[0m         \u001b[1;32mtry\u001b[0m\u001b[1;33m:\u001b[0m\u001b[1;33m\u001b[0m\u001b[0m\n\u001b[1;32m-> 1460\u001b[1;33m             \u001b[1;32mreturn\u001b[0m \u001b[0mself\u001b[0m\u001b[1;33m.\u001b[0m\u001b[0m_engine\u001b[0m\u001b[1;33m.\u001b[0m\u001b[0mget_value\u001b[0m\u001b[1;33m(\u001b[0m\u001b[0ms\u001b[0m\u001b[1;33m,\u001b[0m \u001b[0mk\u001b[0m\u001b[1;33m)\u001b[0m\u001b[1;33m\u001b[0m\u001b[0m\n\u001b[0m\u001b[0;32m   1461\u001b[0m         \u001b[1;32mexcept\u001b[0m \u001b[0mKeyError\u001b[0m \u001b[1;32mas\u001b[0m \u001b[0me1\u001b[0m\u001b[1;33m:\u001b[0m\u001b[1;33m\u001b[0m\u001b[0m\n\u001b[0;32m   1462\u001b[0m             \u001b[1;32mif\u001b[0m \u001b[0mlen\u001b[0m\u001b[1;33m(\u001b[0m\u001b[0mself\u001b[0m\u001b[1;33m)\u001b[0m \u001b[1;33m>\u001b[0m \u001b[1;36m0\u001b[0m \u001b[1;32mand\u001b[0m \u001b[0mself\u001b[0m\u001b[1;33m.\u001b[0m\u001b[0minferred_type\u001b[0m \u001b[1;32min\u001b[0m \u001b[1;33m[\u001b[0m\u001b[1;34m'integer'\u001b[0m\u001b[1;33m,\u001b[0m\u001b[1;34m'boolean'\u001b[0m\u001b[1;33m]\u001b[0m\u001b[1;33m:\u001b[0m\u001b[1;33m\u001b[0m\u001b[0m\n",
      "\u001b[1;32mpandas/index.pyx\u001b[0m in \u001b[0;36mpandas.index.IndexEngine.get_value (pandas/index.c:3113)\u001b[1;34m()\u001b[0m\n",
      "\u001b[1;32mpandas/index.pyx\u001b[0m in \u001b[0;36mpandas.index.IndexEngine.get_value (pandas/index.c:2844)\u001b[1;34m()\u001b[0m\n",
      "\u001b[1;32mpandas/index.pyx\u001b[0m in \u001b[0;36mpandas.index.IndexEngine.get_loc (pandas/index.c:3704)\u001b[1;34m()\u001b[0m\n",
      "\u001b[1;32mpandas/hashtable.pyx\u001b[0m in \u001b[0;36mpandas.hashtable.Int64HashTable.get_item (pandas/hashtable.c:7255)\u001b[1;34m()\u001b[0m\n",
      "\u001b[1;32mpandas/hashtable.pyx\u001b[0m in \u001b[0;36mpandas.hashtable.Int64HashTable.get_item (pandas/hashtable.c:7193)\u001b[1;34m()\u001b[0m\n",
      "\u001b[1;31mKeyError\u001b[0m: 597"
     ]
    }
   ],
   "source": [
    "X_data.ix[597]"
   ]
  },
  {
   "cell_type": "code",
   "execution_count": 60,
   "metadata": {
    "collapsed": false
   },
   "outputs": [
    {
     "data": {
      "text/plain": [
       "nan"
      ]
     },
     "execution_count": 60,
     "metadata": {},
     "output_type": "execute_result"
    }
   ],
   "source": [
    "X_train.ix[597]"
   ]
  },
  {
   "cell_type": "code",
   "execution_count": 30,
   "metadata": {
    "collapsed": false
   },
   "outputs": [],
   "source": [
    "# K = 10\n",
    "# parameters = {\n",
    "#     'vect__max_df': (0.5, 0.75, 1.0),\n",
    "#     'vect__max_features': (None, 1000, 5000, 10000, 50000),\n",
    "#     'vect__ngram_range': ((1, 1), (1, 2), (2, 2), (1, 3), (2, 3), (3, 3)),  # unigrams or bigrams or trigrams\n",
    "#     'vect__stop_words': (None, stopwords.words('english')),\n",
    "#     'tfidf__use_idf': (True, False),\n",
    "#     'tfidf__norm': ('l1', 'l2'),\n",
    "# #     'clf__alpha': (1e-1, 1e-2, 1e-3, 1e-4, 1e-5, 1e-6),\n",
    "# #     'clf__penalty': ('l1', 'l2', 'elasticnet'),\n",
    "# #     'clf__n_iter': (10, 50, 80),\n",
    "# #     'clf__loss': ('log', 'modified_huber'),\n",
    "# }\n",
    "# csf_list = [\n",
    "#     (RidgeClassifier(tol=1e-2, solver=\"lsqr\"), \"Ridge Classifier\"),\n",
    "#     (Perceptron(n_iter=50), \"Perceptron\"),\n",
    "#     (PassiveAggressiveClassifier(n_iter=50), \"Passive-Aggressive\"),\n",
    "#     (KNeighborsClassifier(n_neighbors=10), \"kNN\"),\n",
    "#     (RandomForestClassifier(n_estimators=100), \"Random forest\")\n",
    "# ]\n",
    "# results = {}\n",
    "# for clf, name in csf_list:\n",
    "#     pipeline = Pipeline([\n",
    "#         ('vect', CountVectorizer()),\n",
    "#         ('tfidf', TfidfTransformer()),\n",
    "#         ('clf', clf),\n",
    "#     ])\n",
    "#     grid_search = GridSearchCV(pipeline, parameters, n_jobs=-1, verbose=1)\n",
    "#     skf = StratifiedKFold(y, K)\n",
    "#     results[name] = cross_val_score(grid_search, X, y, cv=skf, n_jobs=-1, verbose=1)"
   ]
  },
  {
   "cell_type": "code",
   "execution_count": 36,
   "metadata": {
    "collapsed": false
   },
   "outputs": [
    {
     "name": "stdout",
     "output_type": "stream",
     "text": [
      "Extracting features from the training data using a sparse vectorizer\n",
      "done in 0.398901s at 2.688MB/s\n",
      "n_samples: 5922, n_features: 18088\n",
      "\n",
      "Extracting features from the test data using the same vectorizer\n",
      "done in 0.027828s at 4.383MB/s\n",
      "n_samples: 659, n_features: 18088\n",
      "\n"
     ]
    }
   ],
   "source": [
    "# split a training set and a test set\n",
    "y_train = train_labels\n",
    "y_test = test_labels\n",
    "\n",
    "print(\"Extracting features from the training data using a sparse vectorizer\")\n",
    "t0 = time()\n",
    "vectorizer = TfidfVectorizer(sublinear_tf=True, max_df=0.5,\n",
    "                             stop_words='english')\n",
    "X_train = vectorizer.fit_transform(data_train.sentence.tolist())\n",
    "duration = time() - t0\n",
    "print(\"done in %fs at %0.3fMB/s\" % (duration, data_train_size_mb / duration))\n",
    "print(\"n_samples: %d, n_features: %d\" % X_train.shape)\n",
    "print()\n",
    "\n",
    "print(\"Extracting features from the test data using the same vectorizer\")\n",
    "t0 = time()\n",
    "X_test = vectorizer.transform(data_test.sentence.tolist())\n",
    "duration = time() - t0\n",
    "print(\"done in %fs at %0.3fMB/s\" % (duration, data_test_size_mb / duration))\n",
    "print(\"n_samples: %d, n_features: %d\" % X_test.shape)\n",
    "print()"
   ]
  },
  {
   "cell_type": "code",
   "execution_count": 37,
   "metadata": {
    "collapsed": false
   },
   "outputs": [
    {
     "name": "stdout",
     "output_type": "stream",
     "text": [
      "Extracting 1000 best features by a chi-squared test\n",
      "done in 0.022103s\n",
      "\n"
     ]
    }
   ],
   "source": [
    "# mapping from integer feature name to original token string\n",
    "feature_names = vectorizer.get_feature_names()\n",
    "opts_select_chi2 = 100\n",
    "\n",
    "print(\"Extracting %d best features by a chi-squared test\" %\n",
    "      opts_select_chi2)\n",
    "t0 = time()\n",
    "ch2 = SelectKBest(chi2, k=opts_select_chi2)\n",
    "X_train = ch2.fit_transform(X_train, y_train)\n",
    "X_test = ch2.transform(X_test)\n",
    "if feature_names:\n",
    "    # keep selected feature names\n",
    "    feature_names = [feature_names[i] for i\n",
    "                     in ch2.get_support(indices=True)]\n",
    "print(\"done in %fs\" % (time() - t0))\n",
    "print()\n",
    "\n",
    "feature_names = np.asarray(feature_names)"
   ]
  },
  {
   "cell_type": "code",
   "execution_count": 38,
   "metadata": {
    "collapsed": false
   },
   "outputs": [],
   "source": [
    "# feature_names"
   ]
  },
  {
   "cell_type": "code",
   "execution_count": 39,
   "metadata": {
    "collapsed": true
   },
   "outputs": [],
   "source": [
    "def trim(s):\n",
    "    \"\"\"Trim string to fit on terminal (assuming 80-column display)\"\"\"\n",
    "    return s if len(s) < 80 else s[:75] + \"...\""
   ]
  },
  {
   "cell_type": "code",
   "execution_count": null,
   "metadata": {
    "collapsed": true
   },
   "outputs": [],
   "source": []
  }
 ],
 "metadata": {
  "kernelspec": {
   "display_name": "Python 3",
   "language": "python",
   "name": "python3"
  },
  "language_info": {
   "codemirror_mode": {
    "name": "ipython",
    "version": 3
   },
   "file_extension": ".py",
   "mimetype": "text/x-python",
   "name": "python",
   "nbconvert_exporter": "python",
   "pygments_lexer": "ipython3",
   "version": "3.4.0"
  }
 },
 "nbformat": 4,
 "nbformat_minor": 0
}
