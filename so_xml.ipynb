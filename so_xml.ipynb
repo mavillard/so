{
 "cells": [
  {
   "cell_type": "markdown",
   "metadata": {},
   "source": [
    "#StackOverflow answer classifier"
   ]
  },
  {
   "cell_type": "code",
   "execution_count": 1,
   "metadata": {
    "collapsed": true
   },
   "outputs": [],
   "source": [
    "import re\n",
    "import os\n",
    "from html.parser import HTMLParser\n",
    "from time import time\n",
    "from xml.etree import ElementTree as etree\n",
    "from xml.etree.ElementTree import Element\n",
    "\n",
    "import numpy as np\n",
    "import pandas as pd"
   ]
  },
  {
   "cell_type": "code",
   "execution_count": 2,
   "metadata": {
    "collapsed": true
   },
   "outputs": [],
   "source": [
    "class HTML2String(HTMLParser):\n",
    "    def __init__(self):\n",
    "        HTMLParser.__init__(self)\n",
    "        self.strict = False\n",
    "        self.convert_charrefs= True\n",
    "        self.text = []\n",
    "    def handle_data(self, d):\n",
    "        self.text.append(d)\n",
    "    def get_data(self):\n",
    "        return ''.join(self.text)\n",
    "\n",
    "def html_to_string(html):\n",
    "    s = HTML2String()\n",
    "    s.feed(html)\n",
    "    return s.get_data()\n",
    "\n",
    "def count_code_lines(html):\n",
    "    count_lines = 0\n",
    "    codes = re.findall(r'<code>.*?</code>', html, re.DOTALL)\n",
    "    for code in codes:\n",
    "        text = html_to_string(code)\n",
    "        lines = text.split('\\n')\n",
    "        lines = list(filter(lambda x: len(x) > 0, lines))\n",
    "        count_lines += len(lines)\n",
    "    return count_lines\n",
    "\n",
    "def remove_code_from_html(html):\n",
    "    nocode = html\n",
    "    codes = re.findall(r'<code>.*?</code>', html, re.DOTALL)\n",
    "    for code in codes:\n",
    "        nocode = nocode.replace(code, '')\n",
    "    return nocode"
   ]
  },
  {
   "cell_type": "code",
   "execution_count": 3,
   "metadata": {
    "collapsed": true
   },
   "outputs": [],
   "source": [
    "url_base = 'http://stackoverflow.com/'\n",
    "url_base_q = url_base + 'questions/'\n",
    "url_base_a = url_base + 'questions/'\n",
    "url_base_u = url_base + 'users/'"
   ]
  },
  {
   "cell_type": "code",
   "execution_count": 4,
   "metadata": {
    "collapsed": false
   },
   "outputs": [],
   "source": [
    "qs_columns = ['id', 'author_id', 'date', 'title', 'text', 'score', 'view_count', 'answer_count', 'comment_count', 'code_line_count', 'url']\n",
    "as_columns = ['id', 'author_id', 'question_id', 'date', 'text', 'score', 'accepted', 'comment_count', 'code_line_count', 'url']\n",
    "us_columns = ['id', 'date', 'name', 'reputation', 'total_question_count', 'answered_question_count', 'total_answer_count', 'accepted_answer_count', 'url']\n",
    "\n",
    "questions_df = pd.DataFrame(columns=qs_columns)\n",
    "answers_df = pd.DataFrame(columns=as_columns)\n",
    "users_df = pd.DataFrame(columns=us_columns)"
   ]
  },
  {
   "cell_type": "code",
   "execution_count": 5,
   "metadata": {
    "collapsed": false
   },
   "outputs": [],
   "source": [
    "def add_question(question):\n",
    "    q_id = question.get('Id')\n",
    "    author_id = question.get('OwnerUserId')\n",
    "    date = question.get('CreationDate')\n",
    "    title = question.get('Title')\n",
    "    text = html_to_string(remove_code_from_html(question.get('Body')))\n",
    "    score = int(question.get('Score'))\n",
    "    view_count = int(question.get('ViewCount'))\n",
    "    answer_count = int(question.get('AnswerCount'))\n",
    "    comment_count = int(question.get('CommentCount'))\n",
    "    code_line_count = count_code_lines(question.get('Body'))\n",
    "    url = url_base_q + q_id\n",
    "    \n",
    "    info = [q_id, author_id, date, title, text, score, view_count, answer_count, comment_count, code_line_count, url]\n",
    "    q_df = pd.DataFrame([info], columns=qs_columns)\n",
    "    global questions_df\n",
    "    questions_df = questions_df.append(q_df, ignore_index=True)\n",
    "\n",
    "def add_answer(answer, accepted=False):\n",
    "    a_id = answer.get('Id')\n",
    "    author_id = answer.get('OwnerUserId')\n",
    "    question_id = answer.get('ParentId')\n",
    "    date = answer.get('CreationDate')\n",
    "    text = html_to_string(remove_code_from_html(answer.get('Body')))\n",
    "    score = int(answer.get('Score'))\n",
    "    accepted = accepted\n",
    "    comment_count = int(answer.get('CommentCount'))\n",
    "    code_line_count = count_code_lines(answer.get('Body'))\n",
    "    url = url_base_a + question_id + '/' + a_id\n",
    "\n",
    "    info = [a_id, author_id, question_id, date, text, score, accepted, comment_count, code_line_count, url]\n",
    "    a_df = pd.DataFrame([info], columns=as_columns)\n",
    "    global answers_df\n",
    "    answers_df = answers_df.append(a_df, ignore_index=True)\n",
    "\n",
    "def add_user(user_id):\n",
    "    u_id = user_id\n",
    "    date = ''\n",
    "    name = ''\n",
    "    reputation = 0\n",
    "    total_question_count = 0\n",
    "    answered_question_count = 0\n",
    "    total_answer_count = 0\n",
    "    accepted_answer_count = 0\n",
    "    url = url_base_u + u_id\n",
    "\n",
    "    info = [u_id, date, name, reputation, total_question_count, answered_question_count, total_answer_count, accepted_answer_count, url]\n",
    "    u_df = pd.DataFrame([info], columns=us_columns)\n",
    "    global users_df\n",
    "    users_df = users_df.append(u_df, ignore_index=True)\n",
    "\n",
    "def update_user_info(user):\n",
    "    user_id = user.get('Id')\n",
    "    \n",
    "    users_df.loc[users_df.id==user_id, 'date'] = user.get('CreationDate')\n",
    "    users_df.loc[users_df.id==user_id, 'name'] = user.get('DisplayName')\n",
    "    users_df.loc[users_df.id==user_id, 'reputation'] = int(user.get('Reputation'))\n",
    "\n",
    "def update_user_question_counts(user_id, answered_question=False):\n",
    "    users_df.loc[users_df.id==user_id, 'total_question_count'] += 1\n",
    "    if answered_question:\n",
    "        users_df.loc[users_df.id==user_id, 'answered_question_count'] += 1\n",
    "\n",
    "def update_user_answer_counts(user_id, accepted_answer=False):\n",
    "    users_df.loc[users_df.id==user_id, 'total_answer_count'] += 1\n",
    "    if accepted_answer:\n",
    "        users_df.loc[users_df.id==user_id, 'accepted_answer_count'] += 1\n",
    "\n",
    "def is_new_user(user_id):\n",
    "    return user_id not in users_df.id.values"
   ]
  },
  {
   "cell_type": "code",
   "execution_count": 6,
   "metadata": {
    "collapsed": true
   },
   "outputs": [],
   "source": [
    "data_path = '/media/antonio/92088d7f-1ed4-49dd-b55f-01462ab87ebb/so_data'"
   ]
  },
  {
   "cell_type": "markdown",
   "metadata": {},
   "source": [
    "##Questions"
   ]
  },
  {
   "cell_type": "code",
   "execution_count": 7,
   "metadata": {
    "collapsed": false
   },
   "outputs": [],
   "source": [
    "xml_file = 'Questions-2014-01-0.xml'\n",
    "xml_path = os.path.join(data_path, xml_file)"
   ]
  },
  {
   "cell_type": "code",
   "execution_count": 8,
   "metadata": {
    "collapsed": false
   },
   "outputs": [
    {
     "name": "stdout",
     "output_type": "stream",
     "text": [
      "5000 elements processed\n",
      "10000 elements processed\n",
      "15000 elements processed\n",
      "20000 elements processed\n",
      "25000 elements processed\n",
      "30000 elements processed\n",
      "35000 elements processed\n",
      "40000 elements processed\n",
      "45000 elements processed\n",
      "50000 elements processed\n",
      "--------------------------------------------------------------------------------\n",
      "Elements processed: 52006\n",
      "Processing time: 2111 seconds\n",
      "--------------------------------------------------------------------------------\n"
     ]
    }
   ],
   "source": [
    "accepted_answer_ids = np.array([])\n",
    "\n",
    "iterparser = etree.iterparse(xml_path, events=('start',))\n",
    "next(iterparser)\n",
    "\n",
    "elem_count = 0\n",
    "t0 = time()\n",
    "# count = 0\n",
    "for event, elem in iterparser:\n",
    "#     if count == 100:\n",
    "#         break\n",
    "#     count +=1\n",
    "    \n",
    "    \n",
    "    add_question(elem)\n",
    "    \n",
    "    accepted_answer_id = elem.get('AcceptedAnswerId')\n",
    "    is_accepted = accepted_answer_id is not None\n",
    "    if is_accepted:\n",
    "        accepted_answer_ids = np.append(accepted_answer_ids, accepted_answer_id)\n",
    "    \n",
    "    author_id = elem.get('OwnerUserId')\n",
    "    if author_id is None:\n",
    "        author_id = elem.get('OwnerDisplayName')\n",
    "    if is_new_user(author_id):\n",
    "        add_user(author_id)\n",
    "    update_user_question_counts(author_id, answered_question=is_accepted)\n",
    "    \n",
    "    elem.clear()\n",
    "    \n",
    "    elem_count += 1\n",
    "    if elem_count % 5000 == 0:\n",
    "        print('%d elements processed' % elem_count)\n",
    "t1 = time()\n",
    "\n",
    "print('-' * 80)\n",
    "print('Elements processed: %d' % elem_count)\n",
    "print('Processing time: %d seconds' % (t1 - t0))\n",
    "print('-' * 80)"
   ]
  },
  {
   "cell_type": "code",
   "execution_count": 9,
   "metadata": {
    "collapsed": false
   },
   "outputs": [
    {
     "name": "stdout",
     "output_type": "stream",
     "text": [
      "elem_count == len(questions_df) = True\n"
     ]
    }
   ],
   "source": [
    "print('elem_count == len(questions_df) = %s' % (elem_count == len(questions_df)))"
   ]
  },
  {
   "cell_type": "code",
   "execution_count": 10,
   "metadata": {
    "collapsed": false
   },
   "outputs": [
    {
     "data": {
      "text/html": [
       "<div style=\"max-height:1000px;max-width:1500px;overflow:auto;\">\n",
       "<table border=\"1\" class=\"dataframe\">\n",
       "  <thead>\n",
       "    <tr style=\"text-align: right;\">\n",
       "      <th></th>\n",
       "      <th>id</th>\n",
       "      <th>author_id</th>\n",
       "      <th>date</th>\n",
       "      <th>title</th>\n",
       "      <th>text</th>\n",
       "      <th>score</th>\n",
       "      <th>view_count</th>\n",
       "      <th>answer_count</th>\n",
       "      <th>comment_count</th>\n",
       "      <th>code_line_count</th>\n",
       "      <th>url</th>\n",
       "    </tr>\n",
       "  </thead>\n",
       "  <tbody>\n",
       "    <tr>\n",
       "      <th>0</th>\n",
       "      <td>20864411</td>\n",
       "      <td>3150390</td>\n",
       "      <td>2014-01-01T00:00:20.607</td>\n",
       "      <td>nvd3.js How to make a historical multiBarChart?</td>\n",
       "      <td>I have multiple, labeled sets of data with dat...</td>\n",
       "      <td>3</td>\n",
       "      <td>177</td>\n",
       "      <td>1</td>\n",
       "      <td>3</td>\n",
       "      <td>0</td>\n",
       "      <td>http://stackoverflow.com/questions/20864411</td>\n",
       "    </tr>\n",
       "    <tr>\n",
       "      <th>1</th>\n",
       "      <td>20864423</td>\n",
       "      <td>1377324</td>\n",
       "      <td>2014-01-01T00:02:46.990</td>\n",
       "      <td>Sphinx complex queries with mix of AND/OR</td>\n",
       "      <td>I've been looked around and have no luck on th...</td>\n",
       "      <td>0</td>\n",
       "      <td>44</td>\n",
       "      <td>1</td>\n",
       "      <td>0</td>\n",
       "      <td>7</td>\n",
       "      <td>http://stackoverflow.com/questions/20864423</td>\n",
       "    </tr>\n",
       "    <tr>\n",
       "      <th>2</th>\n",
       "      <td>20864424</td>\n",
       "      <td>2212490</td>\n",
       "      <td>2014-01-01T00:02:57.477</td>\n",
       "      <td>Google App Scripts get IP</td>\n",
       "      <td>How can I restrict a script on GAS to load onl...</td>\n",
       "      <td>1</td>\n",
       "      <td>127</td>\n",
       "      <td>1</td>\n",
       "      <td>0</td>\n",
       "      <td>0</td>\n",
       "      <td>http://stackoverflow.com/questions/20864424</td>\n",
       "    </tr>\n",
       "    <tr>\n",
       "      <th>3</th>\n",
       "      <td>20864427</td>\n",
       "      <td>2779244</td>\n",
       "      <td>2014-01-01T00:03:24.030</td>\n",
       "      <td>PHP form processing issues</td>\n",
       "      <td>I have been trying numerous ways to get the em...</td>\n",
       "      <td>-2</td>\n",
       "      <td>108</td>\n",
       "      <td>1</td>\n",
       "      <td>10</td>\n",
       "      <td>206</td>\n",
       "      <td>http://stackoverflow.com/questions/20864427</td>\n",
       "    </tr>\n",
       "    <tr>\n",
       "      <th>4</th>\n",
       "      <td>20864429</td>\n",
       "      <td>382775</td>\n",
       "      <td>2014-01-01T00:03:39.953</td>\n",
       "      <td>IAM policy to allow EC2 instance API access on...</td>\n",
       "      <td>I'm trying to set up an app that configures my...</td>\n",
       "      <td>0</td>\n",
       "      <td>686</td>\n",
       "      <td>1</td>\n",
       "      <td>0</td>\n",
       "      <td>16</td>\n",
       "      <td>http://stackoverflow.com/questions/20864429</td>\n",
       "    </tr>\n",
       "  </tbody>\n",
       "</table>\n",
       "</div>"
      ],
      "text/plain": [
       "         id author_id                     date  \\\n",
       "0  20864411   3150390  2014-01-01T00:00:20.607   \n",
       "1  20864423   1377324  2014-01-01T00:02:46.990   \n",
       "2  20864424   2212490  2014-01-01T00:02:57.477   \n",
       "3  20864427   2779244  2014-01-01T00:03:24.030   \n",
       "4  20864429    382775  2014-01-01T00:03:39.953   \n",
       "\n",
       "                                               title  \\\n",
       "0    nvd3.js How to make a historical multiBarChart?   \n",
       "1          Sphinx complex queries with mix of AND/OR   \n",
       "2                          Google App Scripts get IP   \n",
       "3                         PHP form processing issues   \n",
       "4  IAM policy to allow EC2 instance API access on...   \n",
       "\n",
       "                                                text  score  view_count  \\\n",
       "0  I have multiple, labeled sets of data with dat...      3         177   \n",
       "1  I've been looked around and have no luck on th...      0          44   \n",
       "2  How can I restrict a script on GAS to load onl...      1         127   \n",
       "3  I have been trying numerous ways to get the em...     -2         108   \n",
       "4  I'm trying to set up an app that configures my...      0         686   \n",
       "\n",
       "   answer_count  comment_count  code_line_count  \\\n",
       "0             1              3                0   \n",
       "1             1              0                7   \n",
       "2             1              0                0   \n",
       "3             1             10              206   \n",
       "4             1              0               16   \n",
       "\n",
       "                                           url  \n",
       "0  http://stackoverflow.com/questions/20864411  \n",
       "1  http://stackoverflow.com/questions/20864423  \n",
       "2  http://stackoverflow.com/questions/20864424  \n",
       "3  http://stackoverflow.com/questions/20864427  \n",
       "4  http://stackoverflow.com/questions/20864429  "
      ]
     },
     "execution_count": 10,
     "metadata": {},
     "output_type": "execute_result"
    }
   ],
   "source": [
    "questions_df.head()"
   ]
  },
  {
   "cell_type": "code",
   "execution_count": 11,
   "metadata": {
    "collapsed": true
   },
   "outputs": [],
   "source": [
    "questions_df.to_csv('data/questions.csv')"
   ]
  },
  {
   "cell_type": "markdown",
   "metadata": {},
   "source": [
    "##Answers"
   ]
  },
  {
   "cell_type": "code",
   "execution_count": 12,
   "metadata": {
    "collapsed": false
   },
   "outputs": [],
   "source": [
    "xml_file = 'Answers-2014-01.xml'\n",
    "xml_path = os.path.join(data_path, xml_file)"
   ]
  },
  {
   "cell_type": "code",
   "execution_count": 13,
   "metadata": {
    "collapsed": false
   },
   "outputs": [
    {
     "name": "stdout",
     "output_type": "stream",
     "text": [
      "5000 elements processed\n",
      "10000 elements processed\n",
      "15000 elements processed\n",
      "20000 elements processed\n",
      "25000 elements processed\n",
      "30000 elements processed\n",
      "35000 elements processed\n",
      "40000 elements processed\n",
      "45000 elements processed\n",
      "50000 elements processed\n",
      "55000 elements processed\n",
      "60000 elements processed\n",
      "65000 elements processed\n",
      "70000 elements processed\n",
      "--------------------------------------------------------------------------------\n",
      "Elements processed: 73746\n",
      "Processing time: 4857 seconds\n",
      "--------------------------------------------------------------------------------\n"
     ]
    }
   ],
   "source": [
    "question_ids = np.array(questions_df['id'])\n",
    "\n",
    "iterparser = etree.iterparse(xml_path, events=('start',))\n",
    "next(iterparser)\n",
    "\n",
    "elem_count = 0\n",
    "t0 = time()\n",
    "# count = 0\n",
    "for event, elem in iterparser:\n",
    "#     count +=1\n",
    "#     if count == 1000:\n",
    "#         break\n",
    "    \n",
    "    \n",
    "    \n",
    "    if elem.get('ParentId') not in question_ids:\n",
    "        elem.clear()\n",
    "        continue\n",
    "    \n",
    "    is_accepted = elem.get('Id') in accepted_answer_ids\n",
    "    add_answer(elem, is_accepted)\n",
    "    \n",
    "    author_id = elem.get('OwnerUserId')\n",
    "    if author_id is None:\n",
    "        author_id = elem.get('OwnerDisplayName')\n",
    "    if is_new_user(author_id):\n",
    "        add_user(author_id)\n",
    "    update_user_answer_counts(author_id, accepted_answer=is_accepted)\n",
    "    \n",
    "    elem.clear()\n",
    "    \n",
    "    elem_count += 1\n",
    "    if elem_count % 5000 == 0:\n",
    "        print('%d elements processed' % elem_count)\n",
    "t1 = time()\n",
    "\n",
    "print('-' * 80)\n",
    "print('Elements processed: %d' % elem_count)\n",
    "print('Processing time: %d seconds' % (t1 - t0))\n",
    "print('-' * 80)"
   ]
  },
  {
   "cell_type": "code",
   "execution_count": 14,
   "metadata": {
    "collapsed": false
   },
   "outputs": [
    {
     "name": "stdout",
     "output_type": "stream",
     "text": [
      "elem_count == len(answers_df) = True\n"
     ]
    }
   ],
   "source": [
    "print('elem_count == len(answers_df) = %s' % (elem_count == len(answers_df)))"
   ]
  },
  {
   "cell_type": "code",
   "execution_count": 15,
   "metadata": {
    "collapsed": false
   },
   "outputs": [
    {
     "data": {
      "text/html": [
       "<div style=\"max-height:1000px;max-width:1500px;overflow:auto;\">\n",
       "<table border=\"1\" class=\"dataframe\">\n",
       "  <thead>\n",
       "    <tr style=\"text-align: right;\">\n",
       "      <th></th>\n",
       "      <th>id</th>\n",
       "      <th>author_id</th>\n",
       "      <th>question_id</th>\n",
       "      <th>date</th>\n",
       "      <th>text</th>\n",
       "      <th>score</th>\n",
       "      <th>accepted</th>\n",
       "      <th>comment_count</th>\n",
       "      <th>code_line_count</th>\n",
       "      <th>url</th>\n",
       "    </tr>\n",
       "  </thead>\n",
       "  <tbody>\n",
       "    <tr>\n",
       "      <th>0</th>\n",
       "      <td>20864440</td>\n",
       "      <td>1455016</td>\n",
       "      <td>20864431</td>\n",
       "      <td>2014-01-01T00:07:10.900</td>\n",
       "      <td>This is a 1-character typo. The while loop wil...</td>\n",
       "      <td>2</td>\n",
       "      <td>False</td>\n",
       "      <td>4</td>\n",
       "      <td>9</td>\n",
       "      <td>http://stackoverflow.com/questions/20864431/20...</td>\n",
       "    </tr>\n",
       "    <tr>\n",
       "      <th>1</th>\n",
       "      <td>20864458</td>\n",
       "      <td>1491895</td>\n",
       "      <td>20864430</td>\n",
       "      <td>2014-01-01T00:11:32.343</td>\n",
       "      <td>Try this RE:\\n\\n\\n\\nChanges:\\n\\n\\nThere's only...</td>\n",
       "      <td>0</td>\n",
       "      <td>True</td>\n",
       "      <td>0</td>\n",
       "      <td>8</td>\n",
       "      <td>http://stackoverflow.com/questions/20864430/20...</td>\n",
       "    </tr>\n",
       "    <tr>\n",
       "      <th>2</th>\n",
       "      <td>20864483</td>\n",
       "      <td>307266</td>\n",
       "      <td>20864457</td>\n",
       "      <td>2014-01-01T00:16:37.330</td>\n",
       "      <td>You can store the last known page index in a f...</td>\n",
       "      <td>1</td>\n",
       "      <td>True</td>\n",
       "      <td>0</td>\n",
       "      <td>8</td>\n",
       "      <td>http://stackoverflow.com/questions/20864457/20...</td>\n",
       "    </tr>\n",
       "    <tr>\n",
       "      <th>3</th>\n",
       "      <td>20864515</td>\n",
       "      <td>44729</td>\n",
       "      <td>20864454</td>\n",
       "      <td>2014-01-01T00:23:16.613</td>\n",
       "      <td>You can compile GL4 programs all day long.  To...</td>\n",
       "      <td>6</td>\n",
       "      <td>True</td>\n",
       "      <td>3</td>\n",
       "      <td>0</td>\n",
       "      <td>http://stackoverflow.com/questions/20864454/20...</td>\n",
       "    </tr>\n",
       "    <tr>\n",
       "      <th>4</th>\n",
       "      <td>20864516</td>\n",
       "      <td>2960823</td>\n",
       "      <td>20864495</td>\n",
       "      <td>2014-01-01T00:23:40.403</td>\n",
       "      <td>Images also have an  event. You can hook it to...</td>\n",
       "      <td>3</td>\n",
       "      <td>False</td>\n",
       "      <td>0</td>\n",
       "      <td>2</td>\n",
       "      <td>http://stackoverflow.com/questions/20864495/20...</td>\n",
       "    </tr>\n",
       "  </tbody>\n",
       "</table>\n",
       "</div>"
      ],
      "text/plain": [
       "         id author_id question_id                     date  \\\n",
       "0  20864440   1455016    20864431  2014-01-01T00:07:10.900   \n",
       "1  20864458   1491895    20864430  2014-01-01T00:11:32.343   \n",
       "2  20864483    307266    20864457  2014-01-01T00:16:37.330   \n",
       "3  20864515     44729    20864454  2014-01-01T00:23:16.613   \n",
       "4  20864516   2960823    20864495  2014-01-01T00:23:40.403   \n",
       "\n",
       "                                                text  score accepted  \\\n",
       "0  This is a 1-character typo. The while loop wil...      2    False   \n",
       "1  Try this RE:\\n\\n\\n\\nChanges:\\n\\n\\nThere's only...      0     True   \n",
       "2  You can store the last known page index in a f...      1     True   \n",
       "3  You can compile GL4 programs all day long.  To...      6     True   \n",
       "4  Images also have an  event. You can hook it to...      3    False   \n",
       "\n",
       "   comment_count  code_line_count  \\\n",
       "0              4                9   \n",
       "1              0                8   \n",
       "2              0                8   \n",
       "3              3                0   \n",
       "4              0                2   \n",
       "\n",
       "                                                 url  \n",
       "0  http://stackoverflow.com/questions/20864431/20...  \n",
       "1  http://stackoverflow.com/questions/20864430/20...  \n",
       "2  http://stackoverflow.com/questions/20864457/20...  \n",
       "3  http://stackoverflow.com/questions/20864454/20...  \n",
       "4  http://stackoverflow.com/questions/20864495/20...  "
      ]
     },
     "execution_count": 15,
     "metadata": {},
     "output_type": "execute_result"
    }
   ],
   "source": [
    "answers_df.head()"
   ]
  },
  {
   "cell_type": "code",
   "execution_count": 16,
   "metadata": {
    "collapsed": true
   },
   "outputs": [],
   "source": [
    "answers_df.to_csv('data/answers.csv')"
   ]
  },
  {
   "cell_type": "markdown",
   "metadata": {},
   "source": [
    "##Users"
   ]
  },
  {
   "cell_type": "code",
   "execution_count": 25,
   "metadata": {
    "collapsed": false
   },
   "outputs": [],
   "source": [
    "xml_file = 'Users-2014_2015-no_rep_1.xml'\n",
    "xml_path = os.path.join(data_path, xml_file)"
   ]
  },
  {
   "cell_type": "code",
   "execution_count": 26,
   "metadata": {
    "collapsed": false
   },
   "outputs": [
    {
     "name": "stdout",
     "output_type": "stream",
     "text": [
      "5000 elements processed\n",
      "100000 rows\n",
      "10000 elements processed\n",
      "200000 rows\n",
      "15000 elements processed\n",
      "300000 rows\n",
      "20000 elements processed\n",
      "400000 rows\n",
      "25000 elements processed\n",
      "500000 rows\n",
      "30000 elements processed\n",
      "600000 rows\n",
      "35000 elements processed\n",
      "40000 elements processed\n",
      "700000 rows\n",
      "45000 elements processed\n",
      "800000 rows\n",
      "900000 rows\n",
      "1000000 rows\n",
      "--------------------------------------------------------------------------------\n",
      "Elements processed: 49520\n",
      "Processing time: 4627 seconds\n",
      "--------------------------------------------------------------------------------\n"
     ]
    }
   ],
   "source": [
    "user_ids = np.array(users_df['id'])\n",
    "\n",
    "iterparser = etree.iterparse(xml_path, events=('start',))\n",
    "next(iterparser)\n",
    "\n",
    "row_count = 0\n",
    "elem_count = 0\n",
    "t0 = time()\n",
    "for event, elem in iterparser:\n",
    "    \n",
    "    row_count += 1\n",
    "    if row_count % 100000 == 0:\n",
    "        print('%d rows' % row_count)\n",
    "    \n",
    "    \n",
    "    if elem.get('Id') not in user_ids:\n",
    "        elem.clear()\n",
    "        continue\n",
    "    \n",
    "    update_user_info(elem)\n",
    "    \n",
    "    elem.clear()\n",
    "    \n",
    "    elem_count += 1\n",
    "    if elem_count % 5000 == 0:\n",
    "        print('%d elements processed' % elem_count)\n",
    "t1 = time()\n",
    "\n",
    "print('-' * 80)\n",
    "print('Elements processed: %d' % elem_count)\n",
    "print('Processing time: %d seconds' % (t1 - t0))\n",
    "print('-' * 80)"
   ]
  },
  {
   "cell_type": "code",
   "execution_count": 27,
   "metadata": {
    "collapsed": false
   },
   "outputs": [
    {
     "name": "stdout",
     "output_type": "stream",
     "text": [
      "elem_count == len(users_df) = False\n"
     ]
    }
   ],
   "source": [
    "print('elem_count == len(users_df) = %s' % (elem_count == len(users_df)))"
   ]
  },
  {
   "cell_type": "code",
   "execution_count": 28,
   "metadata": {
    "collapsed": false
   },
   "outputs": [
    {
     "data": {
      "text/plain": [
       "49520"
      ]
     },
     "execution_count": 28,
     "metadata": {},
     "output_type": "execute_result"
    }
   ],
   "source": [
    "elem_count"
   ]
  },
  {
   "cell_type": "code",
   "execution_count": 29,
   "metadata": {
    "collapsed": false
   },
   "outputs": [
    {
     "data": {
      "text/plain": [
       "53283"
      ]
     },
     "execution_count": 29,
     "metadata": {},
     "output_type": "execute_result"
    }
   ],
   "source": [
    "len(users_df)"
   ]
  },
  {
   "cell_type": "code",
   "execution_count": 30,
   "metadata": {
    "collapsed": false
   },
   "outputs": [
    {
     "data": {
      "text/html": [
       "<div style=\"max-height:1000px;max-width:1500px;overflow:auto;\">\n",
       "<table border=\"1\" class=\"dataframe\">\n",
       "  <thead>\n",
       "    <tr style=\"text-align: right;\">\n",
       "      <th></th>\n",
       "      <th>id</th>\n",
       "      <th>date</th>\n",
       "      <th>name</th>\n",
       "      <th>reputation</th>\n",
       "      <th>total_question_count</th>\n",
       "      <th>answered_question_count</th>\n",
       "      <th>total_answer_count</th>\n",
       "      <th>accepted_answer_count</th>\n",
       "      <th>url</th>\n",
       "    </tr>\n",
       "  </thead>\n",
       "  <tbody>\n",
       "    <tr>\n",
       "      <th>0</th>\n",
       "      <td>3150390</td>\n",
       "      <td>2013-12-31T23:45:57.020</td>\n",
       "      <td>user3150390</td>\n",
       "      <td>16</td>\n",
       "      <td>1</td>\n",
       "      <td>0</td>\n",
       "      <td>0</td>\n",
       "      <td>0</td>\n",
       "      <td>http://stackoverflow.com/users/3150390</td>\n",
       "    </tr>\n",
       "    <tr>\n",
       "      <th>1</th>\n",
       "      <td>1377324</td>\n",
       "      <td>2012-05-05T20:45:40.307</td>\n",
       "      <td>user1377324</td>\n",
       "      <td>42</td>\n",
       "      <td>1</td>\n",
       "      <td>0</td>\n",
       "      <td>0</td>\n",
       "      <td>0</td>\n",
       "      <td>http://stackoverflow.com/users/1377324</td>\n",
       "    </tr>\n",
       "    <tr>\n",
       "      <th>2</th>\n",
       "      <td>2212490</td>\n",
       "      <td>2013-03-26T16:38:08.430</td>\n",
       "      <td>VEC</td>\n",
       "      <td>28</td>\n",
       "      <td>2</td>\n",
       "      <td>0</td>\n",
       "      <td>0</td>\n",
       "      <td>0</td>\n",
       "      <td>http://stackoverflow.com/users/2212490</td>\n",
       "    </tr>\n",
       "    <tr>\n",
       "      <th>3</th>\n",
       "      <td>2779244</td>\n",
       "      <td>2013-09-14T13:19:37.960</td>\n",
       "      <td>user252415</td>\n",
       "      <td>9</td>\n",
       "      <td>2</td>\n",
       "      <td>1</td>\n",
       "      <td>0</td>\n",
       "      <td>0</td>\n",
       "      <td>http://stackoverflow.com/users/2779244</td>\n",
       "    </tr>\n",
       "    <tr>\n",
       "      <th>4</th>\n",
       "      <td>382775</td>\n",
       "      <td>2010-07-03T17:01:27.020</td>\n",
       "      <td>dmikalova</td>\n",
       "      <td>56</td>\n",
       "      <td>1</td>\n",
       "      <td>0</td>\n",
       "      <td>0</td>\n",
       "      <td>0</td>\n",
       "      <td>http://stackoverflow.com/users/382775</td>\n",
       "    </tr>\n",
       "  </tbody>\n",
       "</table>\n",
       "</div>"
      ],
      "text/plain": [
       "        id                     date         name  reputation  \\\n",
       "0  3150390  2013-12-31T23:45:57.020  user3150390          16   \n",
       "1  1377324  2012-05-05T20:45:40.307  user1377324          42   \n",
       "2  2212490  2013-03-26T16:38:08.430          VEC          28   \n",
       "3  2779244  2013-09-14T13:19:37.960   user252415           9   \n",
       "4   382775  2010-07-03T17:01:27.020    dmikalova          56   \n",
       "\n",
       "   total_question_count  answered_question_count  total_answer_count  \\\n",
       "0                     1                        0                   0   \n",
       "1                     1                        0                   0   \n",
       "2                     2                        0                   0   \n",
       "3                     2                        1                   0   \n",
       "4                     1                        0                   0   \n",
       "\n",
       "   accepted_answer_count                                     url  \n",
       "0                      0  http://stackoverflow.com/users/3150390  \n",
       "1                      0  http://stackoverflow.com/users/1377324  \n",
       "2                      0  http://stackoverflow.com/users/2212490  \n",
       "3                      0  http://stackoverflow.com/users/2779244  \n",
       "4                      0   http://stackoverflow.com/users/382775  "
      ]
     },
     "execution_count": 30,
     "metadata": {},
     "output_type": "execute_result"
    }
   ],
   "source": [
    "users_df.head()"
   ]
  },
  {
   "cell_type": "code",
   "execution_count": 31,
   "metadata": {
    "collapsed": false
   },
   "outputs": [],
   "source": [
    "users_df.to_csv('data/users.csv')"
   ]
  },
  {
   "cell_type": "markdown",
   "metadata": {
    "collapsed": true
   },
   "source": [
    "##Question-Answer"
   ]
  },
  {
   "cell_type": "code",
   "execution_count": 53,
   "metadata": {
    "collapsed": true
   },
   "outputs": [],
   "source": [
    "qs_df = questions_df[['id', 'author_id', 'title', 'text', 'score', 'view_count', 'answer_count', 'comment_count', 'code_line_count']]\n",
    "as_df = answers_df[['id', 'author_id', 'question_id', 'text', 'comment_count', 'code_line_count', 'score', 'accepted']]\n",
    "us_df = users_df[['id', 'reputation', 'total_question_count', 'answered_question_count', 'total_answer_count', 'accepted_answer_count']]"
   ]
  },
  {
   "cell_type": "code",
   "execution_count": 54,
   "metadata": {
    "collapsed": false
   },
   "outputs": [],
   "source": [
    "qus_df = pd.merge(qs_df, us_df, left_on='author_id', right_on='id', suffixes=('_q', '_u')).drop('id_u', axis=1)\n",
    "aus_df = pd.merge(as_df, us_df, left_on='author_id', right_on='id', suffixes=('_a', '_u')).drop('id_u', axis=1)\n",
    "qas_df = pd.merge(qus_df, aus_df, left_on='id_q', right_on='question_id', suffixes=('_q', '_a')).drop('question_id', axis=1)"
   ]
  },
  {
   "cell_type": "code",
   "execution_count": 55,
   "metadata": {
    "collapsed": false
   },
   "outputs": [
    {
     "name": "stdout",
     "output_type": "stream",
     "text": [
      "--------------------------------------------------------------------------------\n",
      "Total q-a pairs: 49520\n",
      "--------------------------------------------------------------------------------\n"
     ]
    }
   ],
   "source": [
    "# id = id_q-id_a\n",
    "qas_df['id'] = qas_df[['id_q', 'id_a']].apply(lambda x: x['id_q'] + '-' + x['id_a'], axis=1)\n",
    "\n",
    "# text = title - text_q -- text_a\n",
    "qas_df['text'] = qas_df[['title', 'text_q', 'text_a']].apply(lambda x: x['title'] + ' - ' + x['text_q'] + ' -- ' + x['text_a'], axis=1)\n",
    "\n",
    "# percent_answered_questions_q = answered_question_count_q * 100 / total_question_count_q\n",
    "qas_df['percent_answered_questions_q'] = qas_df[['answered_question_count_q', 'total_question_count_q']].apply(lambda x: round(100 * x['answered_question_count_q'] / x['total_question_count_q']), axis=1)\n",
    "\n",
    "# percent_accepted_answers_a = accepted_answer_count_a * 100 / total_answer_count_a\n",
    "qas_df['percent_accepted_answers_a'] = qas_df[['accepted_answer_count_a', 'total_answer_count_a']].apply(lambda x: round(100 * x['accepted_answer_count_a'] / x['total_answer_count_a']), axis=1)\n",
    "\n",
    "cols_to_delete = ['author_id_q', 'author_id_a', 'total_answer_count_q', 'accepted_answer_count_q', 'total_question_count_a', 'answered_question_count_a']\n",
    "cols_to_delete.extend(['id_q', 'id_a'])\n",
    "cols_to_delete.extend(['title', 'text_q', 'text_a'])\n",
    "cols_to_delete.extend(['answered_question_count_q', 'total_question_count_q'])\n",
    "cols_to_delete.extend(['accepted_answer_count_a', 'total_answer_count_a'])\n",
    "\n",
    "qas_df.drop(cols_to_delete, axis=1, inplace=True)\n",
    "\n",
    "print('-' * 80)\n",
    "print('Total q-a pairs: %d' % elem_count)\n",
    "print('-' * 80)"
   ]
  },
  {
   "cell_type": "code",
   "execution_count": 56,
   "metadata": {
    "collapsed": false
   },
   "outputs": [
    {
     "data": {
      "text/html": [
       "<div style=\"max-height:1000px;max-width:1500px;overflow:auto;\">\n",
       "<table border=\"1\" class=\"dataframe\">\n",
       "  <thead>\n",
       "    <tr style=\"text-align: right;\">\n",
       "      <th></th>\n",
       "      <th>score_q</th>\n",
       "      <th>view_count</th>\n",
       "      <th>answer_count</th>\n",
       "      <th>comment_count_q</th>\n",
       "      <th>code_line_count_q</th>\n",
       "      <th>reputation_q</th>\n",
       "      <th>comment_count_a</th>\n",
       "      <th>code_line_count_a</th>\n",
       "      <th>score_a</th>\n",
       "      <th>accepted</th>\n",
       "      <th>reputation_a</th>\n",
       "      <th>id</th>\n",
       "      <th>text</th>\n",
       "      <th>percent_answered_questions_q</th>\n",
       "      <th>percent_accepted_answers_a</th>\n",
       "    </tr>\n",
       "  </thead>\n",
       "  <tbody>\n",
       "    <tr>\n",
       "      <th>0</th>\n",
       "      <td>3</td>\n",
       "      <td>177</td>\n",
       "      <td>1</td>\n",
       "      <td>3</td>\n",
       "      <td>0</td>\n",
       "      <td>16</td>\n",
       "      <td>4</td>\n",
       "      <td>3</td>\n",
       "      <td>0</td>\n",
       "      <td>False</td>\n",
       "      <td>947</td>\n",
       "      <td>20864411-20864961</td>\n",
       "      <td>nvd3.js How to make a historical multiBarChart...</td>\n",
       "      <td>0</td>\n",
       "      <td>15</td>\n",
       "    </tr>\n",
       "    <tr>\n",
       "      <th>1</th>\n",
       "      <td>0</td>\n",
       "      <td>44</td>\n",
       "      <td>1</td>\n",
       "      <td>0</td>\n",
       "      <td>7</td>\n",
       "      <td>42</td>\n",
       "      <td>0</td>\n",
       "      <td>3</td>\n",
       "      <td>0</td>\n",
       "      <td>False</td>\n",
       "      <td>11986</td>\n",
       "      <td>20864423-20864519</td>\n",
       "      <td>Sphinx complex queries with mix of AND/OR - I'...</td>\n",
       "      <td>0</td>\n",
       "      <td>50</td>\n",
       "    </tr>\n",
       "    <tr>\n",
       "      <th>2</th>\n",
       "      <td>1</td>\n",
       "      <td>127</td>\n",
       "      <td>1</td>\n",
       "      <td>0</td>\n",
       "      <td>0</td>\n",
       "      <td>28</td>\n",
       "      <td>0</td>\n",
       "      <td>0</td>\n",
       "      <td>0</td>\n",
       "      <td>False</td>\n",
       "      <td>6920</td>\n",
       "      <td>20864424-20864588</td>\n",
       "      <td>Google App Scripts get IP - How can I restrict...</td>\n",
       "      <td>0</td>\n",
       "      <td>33</td>\n",
       "    </tr>\n",
       "    <tr>\n",
       "      <th>3</th>\n",
       "      <td>2</td>\n",
       "      <td>68</td>\n",
       "      <td>2</td>\n",
       "      <td>0</td>\n",
       "      <td>2</td>\n",
       "      <td>28</td>\n",
       "      <td>0</td>\n",
       "      <td>0</td>\n",
       "      <td>1</td>\n",
       "      <td>False</td>\n",
       "      <td>1055</td>\n",
       "      <td>20982426-20995560</td>\n",
       "      <td>How to use a different email with MailApp in G...</td>\n",
       "      <td>0</td>\n",
       "      <td>40</td>\n",
       "    </tr>\n",
       "    <tr>\n",
       "      <th>4</th>\n",
       "      <td>2</td>\n",
       "      <td>68</td>\n",
       "      <td>2</td>\n",
       "      <td>0</td>\n",
       "      <td>2</td>\n",
       "      <td>28</td>\n",
       "      <td>1</td>\n",
       "      <td>0</td>\n",
       "      <td>0</td>\n",
       "      <td>False</td>\n",
       "      <td>21855</td>\n",
       "      <td>20982426-21002137</td>\n",
       "      <td>How to use a different email with MailApp in G...</td>\n",
       "      <td>0</td>\n",
       "      <td>33</td>\n",
       "    </tr>\n",
       "  </tbody>\n",
       "</table>\n",
       "</div>"
      ],
      "text/plain": [
       "   score_q  view_count  answer_count  comment_count_q  code_line_count_q  \\\n",
       "0        3         177             1                3                  0   \n",
       "1        0          44             1                0                  7   \n",
       "2        1         127             1                0                  0   \n",
       "3        2          68             2                0                  2   \n",
       "4        2          68             2                0                  2   \n",
       "\n",
       "   reputation_q  comment_count_a  code_line_count_a  score_a accepted  \\\n",
       "0            16                4                  3        0    False   \n",
       "1            42                0                  3        0    False   \n",
       "2            28                0                  0        0    False   \n",
       "3            28                0                  0        1    False   \n",
       "4            28                1                  0        0    False   \n",
       "\n",
       "   reputation_a                 id  \\\n",
       "0           947  20864411-20864961   \n",
       "1         11986  20864423-20864519   \n",
       "2          6920  20864424-20864588   \n",
       "3          1055  20982426-20995560   \n",
       "4         21855  20982426-21002137   \n",
       "\n",
       "                                                text  \\\n",
       "0  nvd3.js How to make a historical multiBarChart...   \n",
       "1  Sphinx complex queries with mix of AND/OR - I'...   \n",
       "2  Google App Scripts get IP - How can I restrict...   \n",
       "3  How to use a different email with MailApp in G...   \n",
       "4  How to use a different email with MailApp in G...   \n",
       "\n",
       "   percent_answered_questions_q  percent_accepted_answers_a  \n",
       "0                             0                          15  \n",
       "1                             0                          50  \n",
       "2                             0                          33  \n",
       "3                             0                          40  \n",
       "4                             0                          33  "
      ]
     },
     "execution_count": 56,
     "metadata": {},
     "output_type": "execute_result"
    }
   ],
   "source": [
    "qas_df.head()"
   ]
  },
  {
   "cell_type": "code",
   "execution_count": 57,
   "metadata": {
    "collapsed": true
   },
   "outputs": [],
   "source": [
    "users_df.to_csv('data/qas.csv')"
   ]
  }
 ],
 "metadata": {
  "kernelspec": {
   "display_name": "Python 3",
   "language": "python",
   "name": "python3"
  },
  "language_info": {
   "codemirror_mode": {
    "name": "ipython",
    "version": 3
   },
   "file_extension": ".py",
   "mimetype": "text/x-python",
   "name": "python",
   "nbconvert_exporter": "python",
   "pygments_lexer": "ipython3",
   "version": "3.4.0"
  }
 },
 "nbformat": 4,
 "nbformat_minor": 0
}
