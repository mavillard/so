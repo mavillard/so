{
 "cells": [
  {
   "cell_type": "markdown",
   "metadata": {},
   "source": [
    "# StackOverflow answer classifier"
   ]
  },
  {
   "cell_type": "code",
   "execution_count": 6,
   "metadata": {
    "collapsed": true
   },
   "outputs": [],
   "source": [
    "import re\n",
    "import os\n",
    "from html.parser import HTMLParser\n",
    "from xml.etree import ElementTree as etree\n",
    "from xml.etree.ElementTree import Element\n",
    "\n",
    "import numpy as np\n",
    "import pandas as pd"
   ]
  },
  {
   "cell_type": "code",
   "execution_count": 25,
   "metadata": {
    "collapsed": true
   },
   "outputs": [],
   "source": [
    "class HTML2String(HTMLParser):\n",
    "    def __init__(self):\n",
    "        HTMLParser.__init__(self)\n",
    "        self.strict = False\n",
    "        self.convert_charrefs= True\n",
    "        self.text = []\n",
    "    def handle_data(self, d):\n",
    "        self.text.append(d)\n",
    "    def get_data(self):\n",
    "        return ''.join(self.text)\n",
    "\n",
    "def html_to_string(html):\n",
    "    s = HTML2String()\n",
    "    s.feed(html)\n",
    "    return s.get_data()\n",
    "\n",
    "def count_code_lines(html):\n",
    "    count_lines = 0\n",
    "    codes = re.findall(r'<code>.*?</code>', html, re.DOTALL)\n",
    "    for code in codes:\n",
    "        text = html_to_string(code)\n",
    "        lines = text.split('\\n')\n",
    "        lines = list(filter(lambda x: len(x) > 0, lines))\n",
    "        count_lines += len(lines)\n",
    "    return count_lines\n",
    "\n",
    "def remove_code_from_html(html):\n",
    "    nocode = html\n",
    "    codes = re.findall(r'<code>.*?</code>', html, re.DOTALL)\n",
    "    for code in codes:\n",
    "        nocode = nocode.replace(code, '')\n",
    "    return nocode"
   ]
  },
  {
   "cell_type": "code",
   "execution_count": 27,
   "metadata": {
    "collapsed": false
   },
   "outputs": [
    {
     "data": {
      "text/plain": [
       "\"I'm trying to set up an app that configures my instances upon launch and I want to close down that app's API access as much as possible. My current policy is as follows:\\n\\n\\n\\nHowever, this allows the app to perform any of these actions on anything in EC2. Is there a way I can lock down the actions of the app on an ec2 instance to either that specific instance, or to all of the boxes that have the same IAM role?\""
      ]
     },
     "execution_count": 27,
     "metadata": {},
     "output_type": "execute_result"
    }
   ],
   "source": [
    "html_to_string(remove_code_from_html(dict(elem.items())['Body']))"
   ]
  },
  {
   "cell_type": "code",
   "execution_count": null,
   "metadata": {
    "collapsed": true
   },
   "outputs": [],
   "source": [
    "url_base = 'http://stackoverflow.com/'\n",
    "url_base_q = url_base + 'questions/'\n",
    "url_base_a = url_base + 'questions/'\n",
    "url_base_u = url_base + 'users/'"
   ]
  },
  {
   "cell_type": "code",
   "execution_count": 7,
   "metadata": {
    "collapsed": true
   },
   "outputs": [],
   "source": [
    "qs_columns = ['id', 'author_id', 'date', 'title', 'text', 'score', 'tags', 'view_count', 'answer_count', 'comment_count', 'code_line_count', 'url']\n",
    "as_columns = ['id', 'author_id', 'question_id', 'date', 'text', 'comment_count', 'code_line_count', 'score', 'accepted', 'url']\n",
    "us_columns = ['id', 'name', 'total_questions', 'unanswered_questions', 'total_answers', 'accepted_answers', 'reputation', 'badge_total', 'url']\n",
    "qa_columns = ['id', 'text', 'q_score', 'a_score', 'qer_reputation', 'aer_reputation', 'qer_percent_answered_questions', 'aer_percent_accepted_answers', 'aer_badge_total', 'a_code_lenth', 'is_qa']\n",
    "\n",
    "questions_df = pd.DataFrame(columns=qs_columns)\n",
    "answers_df = pd.DataFrame(columns=as_columns)\n",
    "users_df = pd.DataFrame(columns=us_columns)\n",
    "qas_df = pd.DataFrame(columns=qa_columns)"
   ]
  },
  {
   "cell_type": "code",
   "execution_count": null,
   "metadata": {
    "collapsed": true
   },
   "outputs": [],
   "source": [
    "def question_to_df(question):\n",
    "    q_id = question['Id']\n",
    "    author_id = question['OwnerUserId']\n",
    "    date = question['CreationDate']\n",
    "    title = question['Title']\n",
    "    text = html_to_string(remove_code_from_html(question['Body']))\n",
    "    score = question['Score']\n",
    "    tags = question['Tags']\n",
    "    view_count = question['ViewCount']']\n",
    "    answer_count = question['ViewCount']\n",
    "    comment_count = question['CommentCount']\n",
    "    code_line_count = count_code_lines(question['Body'])\n",
    "    url = url_base_q + q_id\n",
    "\n",
    "    info = [q_id, author_id, date, title, text, score, tags, view_count, answer_count, comment_count, code_line_count, url]\n",
    "    q_df = pd.DataFrame([info], columns=qs_columns)\n",
    "    return q_df\n",
    "\n",
    "def answer_to_df(answer, accepted=False):\n",
    "    a_id = answer['Id']\n",
    "    author_id = answer['OwnerUserId']\n",
    "    question_id = answer['ParentId']\n",
    "    date = answer['CreationDate']\n",
    "    text = html_to_string(remove_code_from_html(answer['Body']))\n",
    "    comment_count = answer['CommentCount']\n",
    "    code_line_count = code_line_count(answer['Body'])\n",
    "    score = answer['Score']\n",
    "    accepted = accepted\n",
    "    url = url_base_a + question_id + '/' + a_id\n",
    "\n",
    "    info = [a_id, author_id, question_id, date, text, comment_count, code_line_count, score, accepted, url]\n",
    "    a_df = pd.DataFrame([info], columns=as_columns)\n",
    "    return a_df\n",
    "\n",
    "def user_to_df(user):\n",
    "    u_id = user.id\n",
    "    name = user.display_name\n",
    "    total_questions = so.questions(user_id=user.id).total\n",
    "    unanswered_questions = count_unanswered_questions(user)\n",
    "    total_answers = so.answers(user_id=user.id).total\n",
    "    accepted_answers = count_accepted_answers(user)\n",
    "    reputation = user.reputation.real\n",
    "    badge_total = user.badge_total\n",
    "    url = user.url\n",
    "\n",
    "    info = [u_id, name, total_questions, unanswered_questions, total_answers, accepted_answers, reputation, badge_total, url]\n",
    "    u_df = pd.DataFrame([info], columns=us_columns)\n",
    "    return u_df"
   ]
  },
  {
   "cell_type": "code",
   "execution_count": 47,
   "metadata": {
    "collapsed": false
   },
   "outputs": [
    {
     "data": {
      "text/plain": [
       "{'AboutMe': '<p>I am:</p>\\n\\n<ul>\\n<li>the co-founder and CEO of <a href=\"http://stackexchange.com\">Stack Exchange</a></li>\\n<li>the co-founder of <a href=\"http://www.fogcreek.com\" rel=\"nofollow\">Fog Creek Software</a></li>\\n<li>the creator and chairman of the board of <a href=\"http://trello.com\" rel=\"nofollow\">Trello</a></li>\\n<li>owner of Taco, the most famous Siberian Husky on the Upper West Side.</li>\\n</ul>\\n\\n<p>You can find me on Twitter (as <a href=\"http://twitter.com/spolsky\" rel=\"nofollow\">@spolsky</a>) or on my rarely-updated blog, <a href=\"http://joelonsoftware.com\" rel=\"nofollow\">Joel on Software</a>.</p>\\n',\n",
       " 'AccountId': '4',\n",
       " 'CreationDate': '2008-07-31T14:22:31.317',\n",
       " 'DisplayName': 'Joel Spolsky',\n",
       " 'DownVotes': '94',\n",
       " 'Id': '4',\n",
       " 'LastAccessDate': '2015-03-06T22:54:27.657',\n",
       " 'Location': 'New York, NY',\n",
       " 'ProfileImageUrl': 'http://i.stack.imgur.com/C5gBG.jpg?s=128&g=1',\n",
       " 'Reputation': '23699',\n",
       " 'UpVotes': '760',\n",
       " 'Views': '58608',\n",
       " 'WebsiteUrl': 'http://www.joelonsoftware.com/'}"
      ]
     },
     "execution_count": 47,
     "metadata": {},
     "output_type": "execute_result"
    }
   ],
   "source": [
    "dict(elem.items())"
   ]
  },
  {
   "cell_type": "code",
   "execution_count": 41,
   "metadata": {
    "collapsed": false
   },
   "outputs": [],
   "source": [
    "pd.DataFrame([[1,None,3]]).to_csv('2.csv')"
   ]
  },
  {
   "cell_type": "code",
   "execution_count": 28,
   "metadata": {
    "collapsed": true
   },
   "outputs": [],
   "source": [
    "data_path = '/media/antonio/92088d7f-1ed4-49dd-b55f-01462ab87ebb/so_data'"
   ]
  },
  {
   "cell_type": "markdown",
   "metadata": {},
   "source": [
    "##Questions"
   ]
  },
  {
   "cell_type": "code",
   "execution_count": 52,
   "metadata": {
    "collapsed": true
   },
   "outputs": [],
   "source": [
    "xml_file = 'Badges.xml'\n",
    "xml_path = os.path.join(data_path, xml_file)"
   ]
  },
  {
   "cell_type": "code",
   "execution_count": 53,
   "metadata": {
    "collapsed": false
   },
   "outputs": [
    {
     "name": "stdout",
     "output_type": "stream",
     "text": [
      "{'Name': 'Teacher', 'Date': '2008-09-15T08:55:03.957', 'UserId': '994', 'Id': '82947'}\n",
      "{'Name': 'Teacher', 'Date': '2008-09-15T08:55:03.957', 'UserId': '3893', 'Id': '82949'}\n",
      "{'Name': 'Teacher', 'Date': '2008-09-15T08:55:03.957', 'UserId': '4591', 'Id': '82950'}\n",
      "{'Name': 'Teacher', 'Date': '2008-09-15T08:55:03.957', 'UserId': '5196', 'Id': '82951'}\n"
     ]
    }
   ],
   "source": [
    "count = 0\n",
    "iterparser = etree.iterparse(xml_path)\n",
    "iterator = iter(iterparser)\n",
    "event, root = next(iterator)\n",
    "root.clear()\n",
    "\n",
    "for event, elem in iterparser:\n",
    "    print(dict(elem.items()))\n",
    "    count +=1\n",
    "    if count == 4:\n",
    "#     if elem.get('Id') == '22746288':\n",
    "#         print(dict(elem.items()))\n",
    "        break\n",
    "    elem.clear()"
   ]
  },
  {
   "cell_type": "code",
   "execution_count": 12,
   "metadata": {
    "collapsed": false
   },
   "outputs": [
    {
     "data": {
      "text/plain": [
       "'82956'"
      ]
     },
     "execution_count": 12,
     "metadata": {},
     "output_type": "execute_result"
    }
   ],
   "source": [
    "elem.get('Id')"
   ]
  },
  {
   "cell_type": "code",
   "execution_count": 18,
   "metadata": {
    "collapsed": false
   },
   "outputs": [
    {
     "data": {
      "text/plain": [
       "[('UserId', '652'),\n",
       " ('Id', '82956'),\n",
       " ('Date', '2008-09-15T08:55:03.957'),\n",
       " ('Name', 'Teacher')]"
      ]
     },
     "execution_count": 18,
     "metadata": {},
     "output_type": "execute_result"
    }
   ],
   "source": [
    "elem.items()"
   ]
  },
  {
   "cell_type": "code",
   "execution_count": 19,
   "metadata": {
    "collapsed": false
   },
   "outputs": [
    {
     "data": {
      "text/plain": [
       "'Teacher'"
      ]
     },
     "execution_count": 19,
     "metadata": {},
     "output_type": "execute_result"
    }
   ],
   "source": [
    "elem.get('Name')"
   ]
  },
  {
   "cell_type": "code",
   "execution_count": 20,
   "metadata": {
    "collapsed": false
   },
   "outputs": [
    {
     "data": {
      "text/plain": [
       "'row'"
      ]
     },
     "execution_count": 20,
     "metadata": {},
     "output_type": "execute_result"
    }
   ],
   "source": [
    "elem.tag"
   ]
  },
  {
   "cell_type": "code",
   "execution_count": 24,
   "metadata": {
    "collapsed": false
   },
   "outputs": [
    {
     "ename": "TypeError",
     "evalue": "'xml.etree.ElementTree.Element' object is not an iterator",
     "output_type": "error",
     "traceback": [
      "\u001b[1;31m---------------------------------------------------------------------------\u001b[0m",
      "\u001b[1;31mTypeError\u001b[0m                                 Traceback (most recent call last)",
      "\u001b[1;32m<ipython-input-24-2eb76118547a>\u001b[0m in \u001b[0;36m<module>\u001b[1;34m()\u001b[0m\n\u001b[1;32m----> 1\u001b[1;33m \u001b[0mnext\u001b[0m\u001b[1;33m(\u001b[0m\u001b[0melem\u001b[0m\u001b[1;33m)\u001b[0m\u001b[1;33m\u001b[0m\u001b[0m\n\u001b[0m",
      "\u001b[1;31mTypeError\u001b[0m: 'xml.etree.ElementTree.Element' object is not an iterator"
     ]
    }
   ],
   "source": [
    "next(elem)"
   ]
  },
  {
   "cell_type": "code",
   "execution_count": 35,
   "metadata": {
    "collapsed": false
   },
   "outputs": [
    {
     "data": {
      "text/plain": [
       "'badges'"
      ]
     },
     "execution_count": 35,
     "metadata": {},
     "output_type": "execute_result"
    }
   ],
   "source": [
    "root.tag"
   ]
  },
  {
   "cell_type": "code",
   "execution_count": 36,
   "metadata": {
    "collapsed": false
   },
   "outputs": [
    {
     "data": {
      "text/plain": [
       "<Element 'row' at 0x7f0098070368>"
      ]
     },
     "execution_count": 36,
     "metadata": {},
     "output_type": "execute_result"
    }
   ],
   "source": [
    "elem"
   ]
  },
  {
   "cell_type": "code",
   "execution_count": 38,
   "metadata": {
    "collapsed": false
   },
   "outputs": [],
   "source": [
    "root.clear()"
   ]
  },
  {
   "cell_type": "code",
   "execution_count": 40,
   "metadata": {
    "collapsed": false
   },
   "outputs": [
    {
     "data": {
      "text/plain": [
       "'badges'"
      ]
     },
     "execution_count": 40,
     "metadata": {},
     "output_type": "execute_result"
    }
   ],
   "source": [
    "root.tag"
   ]
  },
  {
   "cell_type": "code",
   "execution_count": 9,
   "metadata": {
    "collapsed": false
   },
   "outputs": [
    {
     "data": {
      "text/plain": [
       "[('LastEditDate', '2014-01-23T22:52:51.697'),\n",
       " ('LastActivityDate', '2014-01-23T22:52:51.697'),\n",
       " ('LastEditorUserId', '3052751'),\n",
       " ('Id', '20864452'),\n",
       " ('Body',\n",
       "  '<p>Is there a way to use textpath using SnapSVG? I tried using textPath as an attribute but it does not seem to add a textpath element in the text node.</p>\\n\\n<pre><code>var txtpth = s.path(\"M70 70 Q 80 90 200 150 L 200 400\").attr({\\n    fill: \"none\",\\n    stroke: \"black\"\\n });\\nvar crooked = s.text(0,0,\"lorempsum ipsum lorempsum ipsum lorempsum ipsum lorempsum   ipsum\").attr({\\n     textPath: txtpth,\\n     stroke:\"black\"\\n });\\n</code></pre>\\n\\n<p>I do not see a direct API to manipulate text paths in SVG using snap.svg.</p>\\n'),\n",
       " ('CreationDate', '2014-01-01T00:10:40.443'),\n",
       " ('AnswerCount', '3'),\n",
       " ('CommentCount', '2'),\n",
       " ('PostTypeId', '1'),\n",
       " ('Tags', '<javascript><text><svg><path><snap.svg>'),\n",
       " ('OwnerUserId', '2452938'),\n",
       " ('ViewCount', '1170'),\n",
       " ('Title', 'How to use textPath for text in snap.svg?'),\n",
       " ('Score', '1')]"
      ]
     },
     "execution_count": 9,
     "metadata": {},
     "output_type": "execute_result"
    }
   ],
   "source": [
    "elem.items()"
   ]
  },
  {
   "cell_type": "code",
   "execution_count": 44,
   "metadata": {
    "collapsed": false
   },
   "outputs": [
    {
     "data": {
      "text/plain": [
       "True"
      ]
     },
     "execution_count": 44,
     "metadata": {},
     "output_type": "execute_result"
    }
   ],
   "source": [
    "elem.get('AcceptedAnswerId') is not None"
   ]
  },
  {
   "cell_type": "code",
   "execution_count": null,
   "metadata": {
    "collapsed": true
   },
   "outputs": [],
   "source": []
  }
 ],
 "metadata": {
  "kernelspec": {
   "display_name": "Python 3",
   "language": "python",
   "name": "python3"
  },
  "language_info": {
   "codemirror_mode": {
    "name": "ipython",
    "version": 3
   },
   "file_extension": ".py",
   "mimetype": "text/x-python",
   "name": "python",
   "nbconvert_exporter": "python",
   "pygments_lexer": "ipython3",
   "version": "3.4.0"
  }
 },
 "nbformat": 4,
 "nbformat_minor": 0
}
