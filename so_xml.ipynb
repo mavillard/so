{
 "cells": [
  {
   "cell_type": "markdown",
   "metadata": {},
   "source": [
    "#StackOverflow answer classifier"
   ]
  },
  {
   "cell_type": "code",
   "execution_count": 1,
   "metadata": {
    "collapsed": true
   },
   "outputs": [],
   "source": [
    "import re\n",
    "import os\n",
    "from html.parser import HTMLParser\n",
    "from time import time\n",
    "from xml.etree import ElementTree as etree\n",
    "from xml.etree.ElementTree import Element\n",
    "\n",
    "import numpy as np\n",
    "import pandas as pd"
   ]
  },
  {
   "cell_type": "code",
   "execution_count": 2,
   "metadata": {
    "collapsed": true
   },
   "outputs": [],
   "source": [
    "class HTML2String(HTMLParser):\n",
    "    def __init__(self):\n",
    "        HTMLParser.__init__(self)\n",
    "        self.strict = False\n",
    "        self.convert_charrefs= True\n",
    "        self.text = []\n",
    "    def handle_data(self, d):\n",
    "        self.text.append(d)\n",
    "    def get_data(self):\n",
    "        return ''.join(self.text)\n",
    "\n",
    "def html_to_string(html):\n",
    "    s = HTML2String()\n",
    "    s.feed(html)\n",
    "    return s.get_data()\n",
    "\n",
    "def count_code_lines(html):\n",
    "    count_lines = 0\n",
    "    codes = re.findall(r'<code>.*?</code>', html, re.DOTALL)\n",
    "    for code in codes:\n",
    "        text = html_to_string(code)\n",
    "        lines = text.split('\\n')\n",
    "        lines = list(filter(lambda x: len(x) > 0, lines))\n",
    "        count_lines += len(lines)\n",
    "    return count_lines\n",
    "\n",
    "def remove_code_from_html(html):\n",
    "    nocode = html\n",
    "    codes = re.findall(r'<code>.*?</code>', html, re.DOTALL)\n",
    "    for code in codes:\n",
    "        nocode = nocode.replace(code, '')\n",
    "    return nocode"
   ]
  },
  {
   "cell_type": "code",
   "execution_count": 3,
   "metadata": {
    "collapsed": true
   },
   "outputs": [],
   "source": [
    "url_base = 'http://stackoverflow.com/'\n",
    "url_base_q = url_base + 'questions/'\n",
    "url_base_a = url_base + 'questions/'\n",
    "url_base_u = url_base + 'users/'"
   ]
  },
  {
   "cell_type": "code",
   "execution_count": 4,
   "metadata": {
    "collapsed": false
   },
   "outputs": [],
   "source": [
    "qs_columns = ['id', 'author_id', 'date', 'title', 'text', 'score', 'view_count', 'answer_count', 'comment_count', 'code_line_count', 'url']\n",
    "as_columns = ['id', 'author_id', 'question_id', 'date', 'text', 'score', 'accepted', 'comment_count', 'code_line_count', 'url']\n",
    "us_columns = ['id', 'date', 'name', 'reputation', 'total_question_count', 'answered_question_count', 'total_answer_count', 'accepted_answer_count', 'url']\n",
    "\n",
    "questions_df = pd.DataFrame(columns=qs_columns)\n",
    "answers_df = pd.DataFrame(columns=as_columns)\n",
    "users_df = pd.DataFrame(columns=us_columns)"
   ]
  },
  {
   "cell_type": "code",
   "execution_count": 5,
   "metadata": {
    "collapsed": false
   },
   "outputs": [],
   "source": [
    "def add_question(question):\n",
    "    q_id = question.get('Id')\n",
    "    author_id = question.get('OwnerUserId')\n",
    "    date = question.get('CreationDate')\n",
    "    title = question.get('Title')\n",
    "    text = html_to_string(remove_code_from_html(question.get('Body')))\n",
    "    score = int(question.get('Score'))\n",
    "    view_count = int(question.get('ViewCount'))\n",
    "    answer_count = int(question.get('AnswerCount'))\n",
    "    comment_count = int(question.get('CommentCount'))\n",
    "    code_line_count = count_code_lines(question.get('Body'))\n",
    "    url = url_base_q + q_id\n",
    "    \n",
    "    info = [q_id, author_id, date, title, text, score, view_count, answer_count, comment_count, code_line_count, url]\n",
    "    q_df = pd.DataFrame([info], columns=qs_columns)\n",
    "    global questions_df\n",
    "    questions_df = questions_df.append(q_df, ignore_index=True)\n",
    "\n",
    "def add_answer(answer, accepted=False):\n",
    "    a_id = answer.get('Id')\n",
    "    author_id = answer.get('OwnerUserId')\n",
    "    question_id = answer.get('ParentId')\n",
    "    date = answer.get('CreationDate')\n",
    "    text = html_to_string(remove_code_from_html(answer.get('Body')))\n",
    "    score = int(answer.get('Score'))\n",
    "    accepted = accepted\n",
    "    comment_count = int(answer.get('CommentCount'))\n",
    "    code_line_count = count_code_lines(answer.get('Body'))\n",
    "    url = url_base_a + question_id + '/' + a_id\n",
    "\n",
    "    info = [a_id, author_id, question_id, date, text, score, accepted, comment_count, code_line_count, url]\n",
    "    a_df = pd.DataFrame([info], columns=as_columns)\n",
    "    global answers_df\n",
    "    answers_df = answers_df.append(a_df, ignore_index=True)\n",
    "\n",
    "def add_user(user_id):\n",
    "    u_id = user_id\n",
    "    date = ''\n",
    "    name = ''\n",
    "    reputation = 0\n",
    "    total_question_count = 0\n",
    "    answered_question_count = 0\n",
    "    total_answer_count = 0\n",
    "    accepted_answer_count = 0\n",
    "    url = url_base_u + u_id\n",
    "\n",
    "    info = [u_id, date, name, reputation, total_question_count, answered_question_count, total_answer_count, accepted_answer_count, url]\n",
    "    u_df = pd.DataFrame([info], columns=us_columns)\n",
    "    global users_df\n",
    "    users_df = users_df.append(u_df, ignore_index=True)\n",
    "\n",
    "def update_user_info(user):\n",
    "    user_id = user.get('Id')\n",
    "    \n",
    "    users_df.loc[users_df.id==user_id, 'date'] = user.get('CreationDate')\n",
    "    users_df.loc[users_df.id==user_id, 'name'] = user.get('DisplayName')\n",
    "    users_df.loc[users_df.id==user_id, 'reputation'] = int(user.get('Reputation'))\n",
    "\n",
    "def update_user_question_counts(user_id, answered_question=False):\n",
    "    users_df.loc[users_df.id==user_id, 'total_question_count'] += 1\n",
    "    if answered_question:\n",
    "        users_df.loc[users_df.id==user_id, 'answered_question_count'] += 1\n",
    "\n",
    "def update_user_answer_counts(user_id, accepted_answer=False):\n",
    "    users_df.loc[users_df.id==user_id, 'total_answer_count'] += 1\n",
    "    if accepted_answer:\n",
    "        users_df.loc[users_df.id==user_id, 'accepted_answer_count'] += 1\n",
    "\n",
    "def is_new_user(user_id):\n",
    "    return user_id not in users_df.id.values"
   ]
  },
  {
   "cell_type": "code",
   "execution_count": 6,
   "metadata": {
    "collapsed": true
   },
   "outputs": [],
   "source": [
    "data_path = '/media/antonio/92088d7f-1ed4-49dd-b55f-01462ab87ebb/so_data'"
   ]
  },
  {
   "cell_type": "markdown",
   "metadata": {},
   "source": [
    "##Questions"
   ]
  },
  {
   "cell_type": "code",
   "execution_count": 7,
   "metadata": {
    "collapsed": false
   },
   "outputs": [],
   "source": [
    "xml_file = 'Questions-2014-01-0.xml'\n",
    "xml_path = os.path.join(data_path, xml_file)"
   ]
  },
  {
   "cell_type": "code",
   "execution_count": 8,
   "metadata": {
    "collapsed": false
   },
   "outputs": [
    {
     "ename": "KeyboardInterrupt",
     "evalue": "",
     "output_type": "error",
     "traceback": [
      "\u001b[1;31m---------------------------------------------------------------------------\u001b[0m",
      "\u001b[1;31mKeyboardInterrupt\u001b[0m                         Traceback (most recent call last)",
      "\u001b[1;32m<ipython-input-8-8bd958643dcc>\u001b[0m in \u001b[0;36m<module>\u001b[1;34m()\u001b[0m\n\u001b[0;32m     25\u001b[0m     \u001b[1;32mif\u001b[0m \u001b[0mis_new_user\u001b[0m\u001b[1;33m(\u001b[0m\u001b[0mauthor_id\u001b[0m\u001b[1;33m)\u001b[0m\u001b[1;33m:\u001b[0m\u001b[1;33m\u001b[0m\u001b[0m\n\u001b[0;32m     26\u001b[0m         \u001b[0madd_user\u001b[0m\u001b[1;33m(\u001b[0m\u001b[0mauthor_id\u001b[0m\u001b[1;33m)\u001b[0m\u001b[1;33m\u001b[0m\u001b[0m\n\u001b[1;32m---> 27\u001b[1;33m     \u001b[0mupdate_user_question_counts\u001b[0m\u001b[1;33m(\u001b[0m\u001b[0mauthor_id\u001b[0m\u001b[1;33m,\u001b[0m \u001b[0manswered_question\u001b[0m\u001b[1;33m=\u001b[0m\u001b[0mis_accepted\u001b[0m\u001b[1;33m)\u001b[0m\u001b[1;33m\u001b[0m\u001b[0m\n\u001b[0m\u001b[0;32m     28\u001b[0m \u001b[1;33m\u001b[0m\u001b[0m\n\u001b[0;32m     29\u001b[0m     \u001b[0melem\u001b[0m\u001b[1;33m.\u001b[0m\u001b[0mclear\u001b[0m\u001b[1;33m(\u001b[0m\u001b[1;33m)\u001b[0m\u001b[1;33m\u001b[0m\u001b[0m\n",
      "\u001b[1;32m<ipython-input-5-b777a9957c16>\u001b[0m in \u001b[0;36mupdate_user_question_counts\u001b[1;34m(user_id, answered_question)\u001b[0m\n\u001b[0;32m     60\u001b[0m     \u001b[0musers_df\u001b[0m\u001b[1;33m.\u001b[0m\u001b[0mloc\u001b[0m\u001b[1;33m[\u001b[0m\u001b[0musers_df\u001b[0m\u001b[1;33m.\u001b[0m\u001b[0mid\u001b[0m\u001b[1;33m==\u001b[0m\u001b[0muser_id\u001b[0m\u001b[1;33m,\u001b[0m \u001b[1;34m'total_question_count'\u001b[0m\u001b[1;33m]\u001b[0m \u001b[1;33m+=\u001b[0m \u001b[1;36m1\u001b[0m\u001b[1;33m\u001b[0m\u001b[0m\n\u001b[0;32m     61\u001b[0m     \u001b[1;32mif\u001b[0m \u001b[0manswered_question\u001b[0m\u001b[1;33m:\u001b[0m\u001b[1;33m\u001b[0m\u001b[0m\n\u001b[1;32m---> 62\u001b[1;33m         \u001b[0musers_df\u001b[0m\u001b[1;33m.\u001b[0m\u001b[0mloc\u001b[0m\u001b[1;33m[\u001b[0m\u001b[0musers_df\u001b[0m\u001b[1;33m.\u001b[0m\u001b[0mid\u001b[0m\u001b[1;33m==\u001b[0m\u001b[0muser_id\u001b[0m\u001b[1;33m,\u001b[0m \u001b[1;34m'answered_question_count'\u001b[0m\u001b[1;33m]\u001b[0m \u001b[1;33m+=\u001b[0m \u001b[1;36m1\u001b[0m\u001b[1;33m\u001b[0m\u001b[0m\n\u001b[0m\u001b[0;32m     63\u001b[0m \u001b[1;33m\u001b[0m\u001b[0m\n\u001b[0;32m     64\u001b[0m \u001b[1;32mdef\u001b[0m \u001b[0mupdate_user_answer_counts\u001b[0m\u001b[1;33m(\u001b[0m\u001b[0muser_id\u001b[0m\u001b[1;33m,\u001b[0m \u001b[0maccepted_answer\u001b[0m\u001b[1;33m=\u001b[0m\u001b[1;32mFalse\u001b[0m\u001b[1;33m)\u001b[0m\u001b[1;33m:\u001b[0m\u001b[1;33m\u001b[0m\u001b[0m\n",
      "\u001b[1;32m/home/antonio/.virtualenvs/so3/lib/python3.4/site-packages/pandas/core/ops.py\u001b[0m in \u001b[0;36mwrapper\u001b[1;34m(self, other, axis)\u001b[0m\n\u001b[0;32m    612\u001b[0m \u001b[1;33m\u001b[0m\u001b[0m\n\u001b[0;32m    613\u001b[0m             \u001b[1;31m# scalars\u001b[0m\u001b[1;33m\u001b[0m\u001b[1;33m\u001b[0m\u001b[0m\n\u001b[1;32m--> 614\u001b[1;33m             \u001b[0mres\u001b[0m \u001b[1;33m=\u001b[0m \u001b[0mna_op\u001b[0m\u001b[1;33m(\u001b[0m\u001b[0mvalues\u001b[0m\u001b[1;33m,\u001b[0m \u001b[0mother\u001b[0m\u001b[1;33m)\u001b[0m\u001b[1;33m\u001b[0m\u001b[0m\n\u001b[0m\u001b[0;32m    615\u001b[0m             \u001b[1;32mif\u001b[0m \u001b[0mnp\u001b[0m\u001b[1;33m.\u001b[0m\u001b[0misscalar\u001b[0m\u001b[1;33m(\u001b[0m\u001b[0mres\u001b[0m\u001b[1;33m)\u001b[0m\u001b[1;33m:\u001b[0m\u001b[1;33m\u001b[0m\u001b[0m\n\u001b[0;32m    616\u001b[0m                 raise TypeError('Could not compare %s type with Series'\n",
      "\u001b[1;32m/home/antonio/.virtualenvs/so3/lib/python3.4/site-packages/pandas/core/ops.py\u001b[0m in \u001b[0;36mna_op\u001b[1;34m(x, y)\u001b[0m\n\u001b[0;32m    560\u001b[0m                     \u001b[0mresult\u001b[0m \u001b[1;33m=\u001b[0m \u001b[0mlib\u001b[0m\u001b[1;33m.\u001b[0m\u001b[0mvec_compare\u001b[0m\u001b[1;33m(\u001b[0m\u001b[0mx\u001b[0m\u001b[1;33m,\u001b[0m \u001b[0my\u001b[0m\u001b[1;33m,\u001b[0m \u001b[0mop\u001b[0m\u001b[1;33m)\u001b[0m\u001b[1;33m\u001b[0m\u001b[0m\n\u001b[0;32m    561\u001b[0m             \u001b[1;32melse\u001b[0m\u001b[1;33m:\u001b[0m\u001b[1;33m\u001b[0m\u001b[0m\n\u001b[1;32m--> 562\u001b[1;33m                 \u001b[0mresult\u001b[0m \u001b[1;33m=\u001b[0m \u001b[0mlib\u001b[0m\u001b[1;33m.\u001b[0m\u001b[0mscalar_compare\u001b[0m\u001b[1;33m(\u001b[0m\u001b[0mx\u001b[0m\u001b[1;33m,\u001b[0m \u001b[0my\u001b[0m\u001b[1;33m,\u001b[0m \u001b[0mop\u001b[0m\u001b[1;33m)\u001b[0m\u001b[1;33m\u001b[0m\u001b[0m\n\u001b[0m\u001b[0;32m    563\u001b[0m         \u001b[1;32melse\u001b[0m\u001b[1;33m:\u001b[0m\u001b[1;33m\u001b[0m\u001b[0m\n\u001b[0;32m    564\u001b[0m \u001b[1;33m\u001b[0m\u001b[0m\n",
      "\u001b[1;31mKeyboardInterrupt\u001b[0m: "
     ]
    }
   ],
   "source": [
    "accepted_answer_ids = np.array([])\n",
    "\n",
    "iterparser = etree.iterparse(xml_path, events=('start',))\n",
    "next(iterparser)\n",
    "\n",
    "elem_count = 0\n",
    "t0 = time()\n",
    "# count = 0\n",
    "for event, elem in iterparser:\n",
    "#     if count == 100:\n",
    "#         break\n",
    "#     count +=1\n",
    "    \n",
    "    \n",
    "    add_question(elem)\n",
    "    \n",
    "    accepted_answer_id = elem.get('AcceptedAnswerId')\n",
    "    is_accepted = accepted_answer_id is not None\n",
    "    if is_accepted:\n",
    "        accepted_answer_ids = np.append(accepted_answer_ids, accepted_answer_id)\n",
    "    \n",
    "    author_id = elem.get('OwnerUserId')\n",
    "    if author_id is None:\n",
    "        author_id = elem.get('OwnerDisplayName')\n",
    "    if is_new_user(author_id):\n",
    "        add_user(author_id)\n",
    "    update_user_question_counts(author_id, answered_question=is_accepted)\n",
    "    \n",
    "    elem.clear()\n",
    "    \n",
    "    elem_count += 1\n",
    "    if elem_count % 5000 == 0:\n",
    "        print('%d elements processed' % elem_count)    \n",
    "t1 = time()\n",
    "\n",
    "print('-' * 80)\n",
    "print('Elements processed: %d' % elem_count)\n",
    "print('Processing time: %d seconds' % (t1 - t0))\n",
    "print('-' * 80)"
   ]
  },
  {
   "cell_type": "code",
   "execution_count": null,
   "metadata": {
    "collapsed": false
   },
   "outputs": [],
   "source": [
    "print('elem_count == len(questions_df) = %s' % (elem_count == len(questions_df)))"
   ]
  },
  {
   "cell_type": "code",
   "execution_count": null,
   "metadata": {
    "collapsed": false
   },
   "outputs": [],
   "source": [
    "questions_df.head()"
   ]
  },
  {
   "cell_type": "code",
   "execution_count": null,
   "metadata": {
    "collapsed": true
   },
   "outputs": [],
   "source": [
    "questions_df.to_csv('data/questions.csv')"
   ]
  },
  {
   "cell_type": "markdown",
   "metadata": {},
   "source": [
    "##Answers"
   ]
  },
  {
   "cell_type": "code",
   "execution_count": null,
   "metadata": {
    "collapsed": false
   },
   "outputs": [],
   "source": [
    "xml_file = 'Answers-2014-01.xml'\n",
    "xml_path = os.path.join(data_path, xml_file)"
   ]
  },
  {
   "cell_type": "code",
   "execution_count": null,
   "metadata": {
    "collapsed": false
   },
   "outputs": [],
   "source": [
    "question_ids = np.array(questions_df['id'])\n",
    "\n",
    "iterparser = etree.iterparse(xml_path, events=('start',))\n",
    "next(iterparser)\n",
    "\n",
    "elem_count = 0\n",
    "t0 = time()\n",
    "# count = 0\n",
    "for event, elem in iterparser:\n",
    "#     count +=1\n",
    "#     if count == 1000:\n",
    "#         break\n",
    "    \n",
    "    \n",
    "    \n",
    "    if elem.get('ParentId') not in question_ids:\n",
    "        elem.clear()\n",
    "        continue\n",
    "    \n",
    "    is_accepted = elem.get('Id') in accepted_answer_ids\n",
    "    add_answer(elem, is_accepted)\n",
    "    \n",
    "    author_id = elem.get('OwnerUserId')\n",
    "    if author_id is None:\n",
    "        author_id = elem.get('OwnerDisplayName')\n",
    "    if is_new_user(author_id):\n",
    "        add_user(author_id)\n",
    "    update_user_answer_counts(author_id, accepted_answer=is_accepted)\n",
    "    \n",
    "    elem.clear()\n",
    "    \n",
    "    elem_count += 1\n",
    "    if elem_count % 5000 == 0:\n",
    "        print('%d elements processed' % elem_count) \n",
    "t1 = time()\n",
    "\n",
    "print('-' * 80)\n",
    "print('Elements processed: %d' % elem_count)\n",
    "print('Processing time: %d seconds' % (t1 - t0))\n",
    "print('-' * 80)"
   ]
  },
  {
   "cell_type": "code",
   "execution_count": null,
   "metadata": {
    "collapsed": false
   },
   "outputs": [],
   "source": [
    "print('elem_count == len(answers_df) = %s' % (elem_count == len(answers_df)))"
   ]
  },
  {
   "cell_type": "code",
   "execution_count": null,
   "metadata": {
    "collapsed": false
   },
   "outputs": [],
   "source": [
    "answers_df.head()"
   ]
  },
  {
   "cell_type": "code",
   "execution_count": null,
   "metadata": {
    "collapsed": true
   },
   "outputs": [],
   "source": [
    "answers_df.to_csv('data/answers.csv')"
   ]
  },
  {
   "cell_type": "markdown",
   "metadata": {},
   "source": [
    "##Users"
   ]
  },
  {
   "cell_type": "code",
   "execution_count": null,
   "metadata": {
    "collapsed": false
   },
   "outputs": [],
   "source": [
    "xml_file = 'Users.xml'\n",
    "xml_path = os.path.join(data_path, xml_file)"
   ]
  },
  {
   "cell_type": "code",
   "execution_count": null,
   "metadata": {
    "collapsed": false
   },
   "outputs": [],
   "source": [
    "user_ids = np.array(users_df['id'])\n",
    "\n",
    "iterparser = etree.iterparse(xml_path, events=('start',))\n",
    "next(iterparser)\n",
    "\n",
    "elem_count = 0\n",
    "t0 = time()\n",
    "for event, elem in iterparser:\n",
    "    if elem.get('Id') not in user_ids:\n",
    "        elem.clear()\n",
    "        continue\n",
    "    \n",
    "    update_user_info(elem)\n",
    "    \n",
    "    elem.clear()\n",
    "    \n",
    "    elem_count += 1\n",
    "    if elem_count % 5000 == 0:\n",
    "        print('%d elements processed' % elem_count) \n",
    "t1 = time()\n",
    "\n",
    "print('-' * 80)\n",
    "print('Elements processed: %d' % elem_count)\n",
    "print('Processing time: %d seconds' % (t1 - t0))\n",
    "print('-' * 80)"
   ]
  },
  {
   "cell_type": "code",
   "execution_count": null,
   "metadata": {
    "collapsed": false
   },
   "outputs": [],
   "source": [
    "print('elem_count == len(users_df) = %s' % (elem_count == len(users_df)))"
   ]
  },
  {
   "cell_type": "code",
   "execution_count": null,
   "metadata": {
    "collapsed": false
   },
   "outputs": [],
   "source": [
    "users_df.head()"
   ]
  },
  {
   "cell_type": "code",
   "execution_count": null,
   "metadata": {
    "collapsed": false
   },
   "outputs": [],
   "source": [
    "users_df.to_csv('data/users.csv')"
   ]
  },
  {
   "cell_type": "markdown",
   "metadata": {
    "collapsed": true
   },
   "source": [
    "##Question-Answer"
   ]
  },
  {
   "cell_type": "code",
   "execution_count": null,
   "metadata": {
    "collapsed": true
   },
   "outputs": [],
   "source": [
    "qs_df = questions_df[['id', 'author_id', 'title', 'text', 'score', 'view_count', 'answer_count', 'comment_count', 'code_line_count']]\n",
    "as_df = answers_df[['id', 'author_id', 'question_id', 'text', 'comment_count', 'code_line_count', 'score', 'accepted']]\n",
    "us_df = users_df[['id', 'reputation', 'total_question_count', 'answered_question_count', 'total_answer_count', 'accepted_answer_count']]"
   ]
  },
  {
   "cell_type": "code",
   "execution_count": null,
   "metadata": {
    "collapsed": false
   },
   "outputs": [],
   "source": [
    "qus_df = pd.merge(qs_df, us_df, left_on='author_id', right_on='id', suffixes=('_q', '_u')).drop('id_u', axis=1)\n",
    "aus_df = pd.merge(as_df, us_df, left_on='author_id', right_on='id', suffixes=('_a', '_u')).drop('id_u', axis=1)\n",
    "qas_df = pd.merge(qus_df, aus_df, left_on='id_q', right_on='question_id', suffixes=('_q', '_a')).drop('question_id', axis=1)"
   ]
  },
  {
   "cell_type": "code",
   "execution_count": null,
   "metadata": {
    "collapsed": false
   },
   "outputs": [],
   "source": [
    "# id = id_q-id_a\n",
    "qas_df['id'] = qas_df[['id_q', 'id_a']].apply(lambda x: x['id_q'] + '-' + x['id_a'], axis=1)\n",
    "\n",
    "# text = title - text_q -- text_a\n",
    "qas_df['text'] = qas_df[['title', 'text_q', 'text_a']].apply(lambda x: x['title'] + ' - ' + x['text_q'] + ' -- ' + x['text_a'], axis=1)\n",
    "\n",
    "# percent_answered_questions_q = answered_question_count_q * 100 / total_question_count_q\n",
    "qas_df['percent_answered_questions_q'] = qas_df[['answered_question_count_q', 'total_question_count_q']].apply(lambda x: round(100 * x['answered_question_count_q'] / x['total_question_count_q']), axis=1)\n",
    "\n",
    "# percent_accepted_answers_a = accepted_answer_count_a * 100 / total_answer_count_a\n",
    "qas_df['percent_answered_questions_a'] = qas_df[['accepted_answer_count_a', 'total_answer_count_a']].apply(lambda x: round(100 * x['accepted_answer_count_a'] / x['total_answer_count_a']), axis=1)\n",
    "\n",
    "cols_to_delete = ['author_id_q', 'author_id_a', 'total_answer_count_q', 'accepted_answer_count_q', 'total_question_count_a', 'answered_question_count_a']\n",
    "cols_to_delete.extend(['id_q', 'id_a'])\n",
    "cols_to_delete.extend(['title', 'text_q', 'text_a'])\n",
    "cols_to_delete.extend(['answered_question_count_q', 'total_question_count_q'])\n",
    "cols_to_delete.extend(['accepted_answer_count_a', 'total_answer_count_a'])\n",
    "\n",
    "qas_df.drop(cols_to_delete, axis=1, inplace=True)\n",
    "\n",
    "print('-' * 80)\n",
    "print('Total q-a pairs: %d' % elem_count)\n",
    "print('-' * 80)"
   ]
  },
  {
   "cell_type": "code",
   "execution_count": null,
   "metadata": {
    "collapsed": false
   },
   "outputs": [],
   "source": [
    "qas_df.head()"
   ]
  },
  {
   "cell_type": "code",
   "execution_count": null,
   "metadata": {
    "collapsed": true
   },
   "outputs": [],
   "source": [
    "users_df.to_csv('data/qas.csv')"
   ]
  }
 ],
 "metadata": {
  "kernelspec": {
   "display_name": "Python 3",
   "language": "python",
   "name": "python3"
  },
  "language_info": {
   "codemirror_mode": {
    "name": "ipython",
    "version": 3
   },
   "file_extension": ".py",
   "mimetype": "text/x-python",
   "name": "python",
   "nbconvert_exporter": "python",
   "pygments_lexer": "ipython3",
   "version": "3.4.0"
  }
 },
 "nbformat": 4,
 "nbformat_minor": 0
}
