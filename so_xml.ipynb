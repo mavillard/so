{
 "cells": [
  {
   "cell_type": "markdown",
   "metadata": {},
   "source": [
    "#StackOverflow answer classifier"
   ]
  },
  {
   "cell_type": "code",
   "execution_count": 1,
   "metadata": {
    "collapsed": true
   },
   "outputs": [],
   "source": [
    "import re\n",
    "import os\n",
    "from html.parser import HTMLParser\n",
    "from xml.etree import ElementTree as etree\n",
    "from xml.etree.ElementTree import Element\n",
    "\n",
    "import numpy as np\n",
    "import pandas as pd"
   ]
  },
  {
   "cell_type": "code",
   "execution_count": 2,
   "metadata": {
    "collapsed": true
   },
   "outputs": [],
   "source": [
    "class HTML2String(HTMLParser):\n",
    "    def __init__(self):\n",
    "        HTMLParser.__init__(self)\n",
    "        self.strict = False\n",
    "        self.convert_charrefs= True\n",
    "        self.text = []\n",
    "    def handle_data(self, d):\n",
    "        self.text.append(d)\n",
    "    def get_data(self):\n",
    "        return ''.join(self.text)\n",
    "\n",
    "def html_to_string(html):\n",
    "    s = HTML2String()\n",
    "    s.feed(html)\n",
    "    return s.get_data()\n",
    "\n",
    "def count_code_lines(html):\n",
    "    count_lines = 0\n",
    "    codes = re.findall(r'<code>.*?</code>', html, re.DOTALL)\n",
    "    for code in codes:\n",
    "        text = html_to_string(code)\n",
    "        lines = text.split('\\n')\n",
    "        lines = list(filter(lambda x: len(x) > 0, lines))\n",
    "        count_lines += len(lines)\n",
    "    return count_lines\n",
    "\n",
    "def remove_code_from_html(html):\n",
    "    nocode = html\n",
    "    codes = re.findall(r'<code>.*?</code>', html, re.DOTALL)\n",
    "    for code in codes:\n",
    "        nocode = nocode.replace(code, '')\n",
    "    return nocode"
   ]
  },
  {
   "cell_type": "code",
   "execution_count": 3,
   "metadata": {
    "collapsed": true
   },
   "outputs": [],
   "source": [
    "url_base = 'http://stackoverflow.com/'\n",
    "url_base_q = url_base + 'questions/'\n",
    "url_base_a = url_base + 'questions/'\n",
    "url_base_u = url_base + 'users/'"
   ]
  },
  {
   "cell_type": "code",
   "execution_count": 60,
   "metadata": {
    "collapsed": false
   },
   "outputs": [],
   "source": [
    "qs_columns = ['id', 'author_id', 'date', 'title', 'text', 'score', 'view_count', 'answer_count', 'comment_count', 'code_line_count', 'url']\n",
    "as_columns = ['id', 'author_id', 'question_id', 'date', 'text', 'comment_count', 'code_line_count', 'score', 'accepted', 'url']\n",
    "us_columns = ['id', 'date', 'name', 'reputation', 'total_question_count', 'answered_question_count', 'total_answer_count', 'accepted_answer_count', 'url']\n",
    "qa_columns = ['id', 'text', 'q_score', 'a_score', 'qer_reputation', 'aer_reputation', 'qer_percent_answered_questions', 'aer_percent_accepted_answers', 'aer_badge_total', 'a_code_lenth', 'is_qa']\n",
    "\n",
    "questions_df = pd.DataFrame(columns=qs_columns)\n",
    "answers_df = pd.DataFrame(columns=as_columns)\n",
    "users_df = pd.DataFrame(columns=us_columns)\n",
    "qas_df = pd.DataFrame(columns=qa_columns)"
   ]
  },
  {
   "cell_type": "code",
   "execution_count": 84,
   "metadata": {
    "collapsed": true
   },
   "outputs": [],
   "source": [
    "def add_question(question):\n",
    "    q_id = question.get('Id')\n",
    "    author_id = question.get('OwnerUserId')\n",
    "    date = question.get('CreationDate')\n",
    "    title = question.get('Title')\n",
    "    text = html_to_string(remove_code_from_html(question.get('Body')))\n",
    "    score = int(question.get('Score'))\n",
    "    view_count = int(question.get('ViewCount'))\n",
    "    answer_count = int(question.get('AnswerCount'))\n",
    "    comment_count = int(question.get('CommentCount'))\n",
    "    code_line_count = count_code_lines(question.get('Body'))\n",
    "    url = url_base_q + q_id\n",
    "    \n",
    "    info = [q_id, author_id, date, title, text, score, view_count, answer_count, comment_count, code_line_count, url]\n",
    "    q_df = pd.DataFrame([info], columns=qs_columns)\n",
    "    global questions_df\n",
    "    questions_df = questions_df.append(q_df, ignore_index=True)\n",
    "\n",
    "def add_answer(answer, accepted=False):\n",
    "    a_id = answer.get('Id')\n",
    "    author_id = answer.get('OwnerUserId')\n",
    "    question_id = answer.get('ParentId')\n",
    "    date = answer.get('CreationDate')\n",
    "    text = html_to_string(remove_code_from_html(answer.get('Body')))\n",
    "    comment_count = int(answer.get('CommentCount'))\n",
    "    code_line_count = code_line_count(answer.get('Body'))\n",
    "    score = int(answer.get('Score'))\n",
    "    accepted = accepted\n",
    "    url = url_base_a + question_id + '/' + a_id\n",
    "\n",
    "    info = [a_id, author_id, question_id, date, text, comment_count, code_line_count, score, accepted, url]\n",
    "    a_df = pd.DataFrame([info], columns=as_columns)\n",
    "    global answers_df\n",
    "    answers_df = answers_df.append(a_df, ignore_index=True)\n",
    "\n",
    "def add_user(user_id):\n",
    "    u_id = user_id\n",
    "    date = ''\n",
    "    name = ''\n",
    "    reputation = 0\n",
    "    total_question_count = 0\n",
    "    answered_question_count = 0\n",
    "    total_answer_count = 0\n",
    "    accepted_answer_count = 0\n",
    "    url = url_base_u + u_id\n",
    "\n",
    "    info = [u_id, date, name, reputation, total_question_count, answered_question_count, total_answer_count, accepted_answer_count, url]\n",
    "    u_df = pd.DataFrame([info], columns=us_columns)\n",
    "    global users_df\n",
    "    users_df = users_df.append(u_df, ignore_index=True)\n",
    "\n",
    "def update_user_info(user):\n",
    "    row_index = get_row_index(users_df, user.get('Id'))\n",
    "    \n",
    "    users_df.loc[row_index, 'date'] = user.get('CreationDate')\n",
    "    users_df.loc[row_index, 'name'] = user.get('DisplayName')\n",
    "    users_df.loc[row_index, 'reputation'] = int(user.get('Reputation'))\n",
    "\n",
    "def update_user_question_counts(user_id, answered_question=False):\n",
    "    users_df.loc[users_df.id==user_id, 'total_question_count'] += 1\n",
    "    if answered_question:\n",
    "        users_df.loc[users_df.id==user_id, 'answered_question_count'] += 1\n",
    "\n",
    "def update_user_answer_counts(user_id, accepted_answer=False):\n",
    "    users_df.loc[users_df.id==user_id, 'total_answer_count'] += 1\n",
    "    if accepted_answer:\n",
    "        users_df.loc[users_df.id==user_id, 'accepted_answer_count'] += 1\n",
    "\n",
    "def is_new_user(user_id):\n",
    "    return user_id not in users_df.id.values"
   ]
  },
  {
   "cell_type": "code",
   "execution_count": 24,
   "metadata": {
    "collapsed": true
   },
   "outputs": [],
   "source": [
    "data_path = '/media/antonio/92088d7f-1ed4-49dd-b55f-01462ab87ebb/so_data'"
   ]
  },
  {
   "cell_type": "markdown",
   "metadata": {},
   "source": [
    "##Questions"
   ]
  },
  {
   "cell_type": "code",
   "execution_count": 25,
   "metadata": {
    "collapsed": false
   },
   "outputs": [],
   "source": [
    "xml_file = 'Questions-2014-01-0.xml'\n",
    "xml_path = os.path.join(data_path, xml_file)"
   ]
  },
  {
   "cell_type": "code",
   "execution_count": 88,
   "metadata": {
    "collapsed": false
   },
   "outputs": [],
   "source": [
    "questions_df = pd.DataFrame(columns=qs_columns)\n",
    "answers_df = pd.DataFrame(columns=as_columns)\n",
    "users_df = pd.DataFrame(columns=us_columns)\n",
    "qas_df = pd.DataFrame(columns=qa_columns)\n",
    "\n",
    "accepted_answer_ids = np.array([])\n",
    "\n",
    "iterparser = etree.iterparse(xml_path)\n",
    "iterator = iter(iterparser)\n",
    "event, root = next(iterator)\n",
    "root.clear()\n",
    "\n",
    "count = 0\n",
    "for event, elem in iterparser:\n",
    "    if count == 1000:\n",
    "        break\n",
    "    count +=1\n",
    "    \n",
    "    \n",
    "    add_question(elem)\n",
    "    \n",
    "    accepted_answer_id = elem.get('AcceptedAnswerId')\n",
    "    is_accepted = accepted_answer_id is not None\n",
    "    if is_accepted:\n",
    "        accepted_answer_ids = np.append(accepted_answer_ids, accepted_answer_id)\n",
    "    \n",
    "    author_id = elem.get('OwnerUserId')\n",
    "    if author_id is None:\n",
    "        author_id = elem.get('OwnerDisplayName')\n",
    "    if is_new_user(author_id):\n",
    "        add_user(author_id)\n",
    "    update_user_question_counts(author_id, answered_question=is_accepted)\n",
    "    \n",
    "    elem.clear()"
   ]
  },
  {
   "cell_type": "markdown",
   "metadata": {},
   "source": [
    "##Answers"
   ]
  },
  {
   "cell_type": "code",
   "execution_count": 9,
   "metadata": {
    "collapsed": false
   },
   "outputs": [],
   "source": [
    "xml_file = 'Answers-2014-01.xml'\n",
    "xml_path = os.path.join(data_path, xml_file)"
   ]
  },
  {
   "cell_type": "code",
   "execution_count": 18,
   "metadata": {
    "collapsed": false
   },
   "outputs": [],
   "source": [
    "iterparser = etree.iterparse(xml_path)\n",
    "iterator = iter(iterparser)\n",
    "event, root = next(iterator)\n",
    "root.clear()\n",
    "\n",
    "count = 0\n",
    "for event, elem in iterparser:\n",
    "    count +=1\n",
    "    if count == 1000:\n",
    "        break\n",
    "    \n",
    "    \n",
    "    is_accepted = elem.get('Id') in accepted_answer_ids\n",
    "    add_answer(elem, is_accepted)\n",
    "    \n",
    "    author_id = elem.get('OwnerUserId')\n",
    "    if author_id is None:\n",
    "        author_id = elem.get('OwnerDisplayName')\n",
    "    if is_new_user(author_id):\n",
    "        add_user(author_id)\n",
    "    update_user_answer_counts(author_id, answered_question=is_accepted)\n",
    "    \n",
    "    elem.clear()"
   ]
  },
  {
   "cell_type": "code",
   "execution_count": 44,
   "metadata": {
    "collapsed": false
   },
   "outputs": [
    {
     "data": {
      "text/html": [
       "<div style=\"max-height:1000px;max-width:1500px;overflow:auto;\">\n",
       "<table border=\"1\" class=\"dataframe\">\n",
       "  <thead>\n",
       "    <tr style=\"text-align: right;\">\n",
       "      <th></th>\n",
       "      <th>id</th>\n",
       "      <th>author_id</th>\n",
       "      <th>date</th>\n",
       "      <th>title</th>\n",
       "      <th>text</th>\n",
       "      <th>score</th>\n",
       "      <th>view_count</th>\n",
       "      <th>answer_count</th>\n",
       "      <th>comment_count</th>\n",
       "      <th>code_line_count</th>\n",
       "      <th>url</th>\n",
       "    </tr>\n",
       "  </thead>\n",
       "  <tbody>\n",
       "    <tr>\n",
       "      <th>0</th>\n",
       "      <td>20864423</td>\n",
       "      <td>1377324</td>\n",
       "      <td>2014-01-01T00:02:46.990</td>\n",
       "      <td>Sphinx complex queries with mix of AND/OR</td>\n",
       "      <td>I've been looked around and have no luck on th...</td>\n",
       "      <td>0</td>\n",
       "      <td>44</td>\n",
       "      <td>1</td>\n",
       "      <td>0</td>\n",
       "      <td>7</td>\n",
       "      <td>http://stackoverflow.com/questions/20864423</td>\n",
       "    </tr>\n",
       "    <tr>\n",
       "      <th>1</th>\n",
       "      <td>20864424</td>\n",
       "      <td>2212490</td>\n",
       "      <td>2014-01-01T00:02:57.477</td>\n",
       "      <td>Google App Scripts get IP</td>\n",
       "      <td>How can I restrict a script on GAS to load onl...</td>\n",
       "      <td>1</td>\n",
       "      <td>127</td>\n",
       "      <td>1</td>\n",
       "      <td>0</td>\n",
       "      <td>0</td>\n",
       "      <td>http://stackoverflow.com/questions/20864424</td>\n",
       "    </tr>\n",
       "    <tr>\n",
       "      <th>2</th>\n",
       "      <td>20864427</td>\n",
       "      <td>2779244</td>\n",
       "      <td>2014-01-01T00:03:24.030</td>\n",
       "      <td>PHP form processing issues</td>\n",
       "      <td>I have been trying numerous ways to get the em...</td>\n",
       "      <td>-2</td>\n",
       "      <td>108</td>\n",
       "      <td>1</td>\n",
       "      <td>10</td>\n",
       "      <td>206</td>\n",
       "      <td>http://stackoverflow.com/questions/20864427</td>\n",
       "    </tr>\n",
       "    <tr>\n",
       "      <th>3</th>\n",
       "      <td>20864429</td>\n",
       "      <td>382775</td>\n",
       "      <td>2014-01-01T00:03:39.953</td>\n",
       "      <td>IAM policy to allow EC2 instance API access on...</td>\n",
       "      <td>I'm trying to set up an app that configures my...</td>\n",
       "      <td>0</td>\n",
       "      <td>686</td>\n",
       "      <td>1</td>\n",
       "      <td>0</td>\n",
       "      <td>16</td>\n",
       "      <td>http://stackoverflow.com/questions/20864429</td>\n",
       "    </tr>\n",
       "    <tr>\n",
       "      <th>4</th>\n",
       "      <td>20864430</td>\n",
       "      <td>2592623</td>\n",
       "      <td>2014-01-01T00:03:42.410</td>\n",
       "      <td>PHP Mailing Address Preg_match not working! Ki...</td>\n",
       "      <td>I am trying to make a regular expression to ma...</td>\n",
       "      <td>0</td>\n",
       "      <td>45</td>\n",
       "      <td>2</td>\n",
       "      <td>1</td>\n",
       "      <td>4</td>\n",
       "      <td>http://stackoverflow.com/questions/20864430</td>\n",
       "    </tr>\n",
       "  </tbody>\n",
       "</table>\n",
       "</div>"
      ],
      "text/plain": [
       "         id author_id                     date  \\\n",
       "0  20864423   1377324  2014-01-01T00:02:46.990   \n",
       "1  20864424   2212490  2014-01-01T00:02:57.477   \n",
       "2  20864427   2779244  2014-01-01T00:03:24.030   \n",
       "3  20864429    382775  2014-01-01T00:03:39.953   \n",
       "4  20864430   2592623  2014-01-01T00:03:42.410   \n",
       "\n",
       "                                               title  \\\n",
       "0          Sphinx complex queries with mix of AND/OR   \n",
       "1                          Google App Scripts get IP   \n",
       "2                         PHP form processing issues   \n",
       "3  IAM policy to allow EC2 instance API access on...   \n",
       "4  PHP Mailing Address Preg_match not working! Ki...   \n",
       "\n",
       "                                                text  score  view_count  \\\n",
       "0  I've been looked around and have no luck on th...      0          44   \n",
       "1  How can I restrict a script on GAS to load onl...      1         127   \n",
       "2  I have been trying numerous ways to get the em...     -2         108   \n",
       "3  I'm trying to set up an app that configures my...      0         686   \n",
       "4  I am trying to make a regular expression to ma...      0          45   \n",
       "\n",
       "   answer_count  comment_count  code_line_count  \\\n",
       "0             1              0                7   \n",
       "1             1              0                0   \n",
       "2             1             10              206   \n",
       "3             1              0               16   \n",
       "4             2              1                4   \n",
       "\n",
       "                                           url  \n",
       "0  http://stackoverflow.com/questions/20864423  \n",
       "1  http://stackoverflow.com/questions/20864424  \n",
       "2  http://stackoverflow.com/questions/20864427  \n",
       "3  http://stackoverflow.com/questions/20864429  \n",
       "4  http://stackoverflow.com/questions/20864430  "
      ]
     },
     "execution_count": 44,
     "metadata": {},
     "output_type": "execute_result"
    }
   ],
   "source": [
    "questions_df.head()"
   ]
  },
  {
   "cell_type": "code",
   "execution_count": 15,
   "metadata": {
    "collapsed": false
   },
   "outputs": [
    {
     "data": {
      "text/plain": [
       "array(['1', '2'], \n",
       "      dtype='<U1')"
      ]
     },
     "execution_count": 15,
     "metadata": {},
     "output_type": "execute_result"
    }
   ],
   "source": [
    "np.array(['1','2'])"
   ]
  },
  {
   "cell_type": "code",
   "execution_count": 34,
   "metadata": {
    "collapsed": false
   },
   "outputs": [],
   "source": [
    "elem.get('OwnerId')"
   ]
  },
  {
   "cell_type": "code",
   "execution_count": 47,
   "metadata": {
    "collapsed": false
   },
   "outputs": [
    {
     "data": {
      "text/plain": [
       "{'AboutMe': '<p>I am:</p>\\n\\n<ul>\\n<li>the co-founder and CEO of <a href=\"http://stackexchange.com\">Stack Exchange</a></li>\\n<li>the co-founder of <a href=\"http://www.fogcreek.com\" rel=\"nofollow\">Fog Creek Software</a></li>\\n<li>the creator and chairman of the board of <a href=\"http://trello.com\" rel=\"nofollow\">Trello</a></li>\\n<li>owner of Taco, the most famous Siberian Husky on the Upper West Side.</li>\\n</ul>\\n\\n<p>You can find me on Twitter (as <a href=\"http://twitter.com/spolsky\" rel=\"nofollow\">@spolsky</a>) or on my rarely-updated blog, <a href=\"http://joelonsoftware.com\" rel=\"nofollow\">Joel on Software</a>.</p>\\n',\n",
       " 'AccountId': '4',\n",
       " 'CreationDate': '2008-07-31T14:22:31.317',\n",
       " 'DisplayName': 'Joel Spolsky',\n",
       " 'DownVotes': '94',\n",
       " 'Id': '4',\n",
       " 'LastAccessDate': '2015-03-06T22:54:27.657',\n",
       " 'Location': 'New York, NY',\n",
       " 'ProfileImageUrl': 'http://i.stack.imgur.com/C5gBG.jpg?s=128&g=1',\n",
       " 'Reputation': '23699',\n",
       " 'UpVotes': '760',\n",
       " 'Views': '58608',\n",
       " 'WebsiteUrl': 'http://www.joelonsoftware.com/'}"
      ]
     },
     "execution_count": 47,
     "metadata": {},
     "output_type": "execute_result"
    }
   ],
   "source": [
    "dict(elem.items())"
   ]
  },
  {
   "cell_type": "code",
   "execution_count": 41,
   "metadata": {
    "collapsed": false
   },
   "outputs": [],
   "source": [
    "pd.DataFrame([[1,None,3]]).to_csv('2.csv')"
   ]
  },
  {
   "cell_type": "code",
   "execution_count": 12,
   "metadata": {
    "collapsed": false
   },
   "outputs": [
    {
     "data": {
      "text/plain": [
       "'82956'"
      ]
     },
     "execution_count": 12,
     "metadata": {},
     "output_type": "execute_result"
    }
   ],
   "source": [
    "elem.get('Id')"
   ]
  },
  {
   "cell_type": "code",
   "execution_count": 18,
   "metadata": {
    "collapsed": false
   },
   "outputs": [
    {
     "data": {
      "text/plain": [
       "[('UserId', '652'),\n",
       " ('Id', '82956'),\n",
       " ('Date', '2008-09-15T08:55:03.957'),\n",
       " ('Name', 'Teacher')]"
      ]
     },
     "execution_count": 18,
     "metadata": {},
     "output_type": "execute_result"
    }
   ],
   "source": [
    "elem.items()"
   ]
  },
  {
   "cell_type": "code",
   "execution_count": 19,
   "metadata": {
    "collapsed": false
   },
   "outputs": [
    {
     "data": {
      "text/plain": [
       "'Teacher'"
      ]
     },
     "execution_count": 19,
     "metadata": {},
     "output_type": "execute_result"
    }
   ],
   "source": [
    "elem.get('Name')"
   ]
  },
  {
   "cell_type": "code",
   "execution_count": 20,
   "metadata": {
    "collapsed": false
   },
   "outputs": [
    {
     "data": {
      "text/plain": [
       "'row'"
      ]
     },
     "execution_count": 20,
     "metadata": {},
     "output_type": "execute_result"
    }
   ],
   "source": [
    "elem.tag"
   ]
  },
  {
   "cell_type": "code",
   "execution_count": 24,
   "metadata": {
    "collapsed": false
   },
   "outputs": [
    {
     "ename": "TypeError",
     "evalue": "'xml.etree.ElementTree.Element' object is not an iterator",
     "output_type": "error",
     "traceback": [
      "\u001b[1;31m---------------------------------------------------------------------------\u001b[0m",
      "\u001b[1;31mTypeError\u001b[0m                                 Traceback (most recent call last)",
      "\u001b[1;32m<ipython-input-24-2eb76118547a>\u001b[0m in \u001b[0;36m<module>\u001b[1;34m()\u001b[0m\n\u001b[1;32m----> 1\u001b[1;33m \u001b[0mnext\u001b[0m\u001b[1;33m(\u001b[0m\u001b[0melem\u001b[0m\u001b[1;33m)\u001b[0m\u001b[1;33m\u001b[0m\u001b[0m\n\u001b[0m",
      "\u001b[1;31mTypeError\u001b[0m: 'xml.etree.ElementTree.Element' object is not an iterator"
     ]
    }
   ],
   "source": [
    "next(elem)"
   ]
  },
  {
   "cell_type": "code",
   "execution_count": 35,
   "metadata": {
    "collapsed": false
   },
   "outputs": [
    {
     "data": {
      "text/plain": [
       "'badges'"
      ]
     },
     "execution_count": 35,
     "metadata": {},
     "output_type": "execute_result"
    }
   ],
   "source": [
    "root.tag"
   ]
  },
  {
   "cell_type": "code",
   "execution_count": 36,
   "metadata": {
    "collapsed": false
   },
   "outputs": [
    {
     "data": {
      "text/plain": [
       "<Element 'row' at 0x7f0098070368>"
      ]
     },
     "execution_count": 36,
     "metadata": {},
     "output_type": "execute_result"
    }
   ],
   "source": [
    "elem"
   ]
  },
  {
   "cell_type": "code",
   "execution_count": 38,
   "metadata": {
    "collapsed": false
   },
   "outputs": [],
   "source": [
    "root.clear()"
   ]
  },
  {
   "cell_type": "code",
   "execution_count": 40,
   "metadata": {
    "collapsed": false
   },
   "outputs": [
    {
     "data": {
      "text/plain": [
       "'badges'"
      ]
     },
     "execution_count": 40,
     "metadata": {},
     "output_type": "execute_result"
    }
   ],
   "source": [
    "root.tag"
   ]
  },
  {
   "cell_type": "code",
   "execution_count": 9,
   "metadata": {
    "collapsed": false
   },
   "outputs": [
    {
     "data": {
      "text/plain": [
       "[('LastEditDate', '2014-01-23T22:52:51.697'),\n",
       " ('LastActivityDate', '2014-01-23T22:52:51.697'),\n",
       " ('LastEditorUserId', '3052751'),\n",
       " ('Id', '20864452'),\n",
       " ('Body',\n",
       "  '<p>Is there a way to use textpath using SnapSVG? I tried using textPath as an attribute but it does not seem to add a textpath element in the text node.</p>\\n\\n<pre><code>var txtpth = s.path(\"M70 70 Q 80 90 200 150 L 200 400\").attr({\\n    fill: \"none\",\\n    stroke: \"black\"\\n });\\nvar crooked = s.text(0,0,\"lorempsum ipsum lorempsum ipsum lorempsum ipsum lorempsum   ipsum\").attr({\\n     textPath: txtpth,\\n     stroke:\"black\"\\n });\\n</code></pre>\\n\\n<p>I do not see a direct API to manipulate text paths in SVG using snap.svg.</p>\\n'),\n",
       " ('CreationDate', '2014-01-01T00:10:40.443'),\n",
       " ('AnswerCount', '3'),\n",
       " ('CommentCount', '2'),\n",
       " ('PostTypeId', '1'),\n",
       " ('Tags', '<javascript><text><svg><path><snap.svg>'),\n",
       " ('OwnerUserId', '2452938'),\n",
       " ('ViewCount', '1170'),\n",
       " ('Title', 'How to use textPath for text in snap.svg?'),\n",
       " ('Score', '1')]"
      ]
     },
     "execution_count": 9,
     "metadata": {},
     "output_type": "execute_result"
    }
   ],
   "source": [
    "elem.items()"
   ]
  },
  {
   "cell_type": "code",
   "execution_count": 44,
   "metadata": {
    "collapsed": false
   },
   "outputs": [
    {
     "data": {
      "text/plain": [
       "True"
      ]
     },
     "execution_count": 44,
     "metadata": {},
     "output_type": "execute_result"
    }
   ],
   "source": [
    "elem.get('AcceptedAnswerId') is not None"
   ]
  },
  {
   "cell_type": "code",
   "execution_count": null,
   "metadata": {
    "collapsed": true
   },
   "outputs": [],
   "source": []
  }
 ],
 "metadata": {
  "kernelspec": {
   "display_name": "Python 3",
   "language": "python",
   "name": "python3"
  },
  "language_info": {
   "codemirror_mode": {
    "name": "ipython",
    "version": 3
   },
   "file_extension": ".py",
   "mimetype": "text/x-python",
   "name": "python",
   "nbconvert_exporter": "python",
   "pygments_lexer": "ipython3",
   "version": "3.4.0"
  }
 },
 "nbformat": 4,
 "nbformat_minor": 0
}
