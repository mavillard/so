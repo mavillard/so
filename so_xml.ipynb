{
 "cells": [
  {
   "cell_type": "markdown",
   "metadata": {},
   "source": [
    "# StackOverflow answer classifier"
   ]
  },
  {
   "cell_type": "code",
   "execution_count": 6,
   "metadata": {
    "collapsed": true
   },
   "outputs": [],
   "source": [
    "import re\n",
    "import os\n",
    "from html.parser import HTMLParser\n",
    "from xml.etree import ElementTree as etree\n",
    "from xml.etree.ElementTree import Element\n",
    "\n",
    "import numpy as np\n",
    "import pandas as pd"
   ]
  },
  {
   "cell_type": "code",
   "execution_count": 19,
   "metadata": {
    "collapsed": true
   },
   "outputs": [],
   "source": [
    "class HTML2String(HTMLParser):\n",
    "    def __init__(self):\n",
    "        HTMLParser.__init__(self)\n",
    "        self.strict = False\n",
    "        self.convert_charrefs= True\n",
    "        self.text = []\n",
    "    def handle_data(self, d):\n",
    "        self.text.append(d)\n",
    "    def get_data(self):\n",
    "        return ''.join(self.text)\n",
    "\n",
    "def html_to_string(html):\n",
    "    s = HTML2String()\n",
    "    s.feed(html)\n",
    "    return s.get_data()\n",
    "\n",
    "def code_line_count(html):\n",
    "    count_lines = 0\n",
    "    codes = re.findall(r'<code>.*?</code>', html, re.DOTALL)\n",
    "    for code in codes:\n",
    "        text = html_to_string(code)\n",
    "        lines = text.split('\\n')\n",
    "        lines = list(filter(lambda x: len(x) > 0, lines))\n",
    "        count_lines += len(lines)\n",
    "    return count_lines"
   ]
  },
  {
   "cell_type": "code",
   "execution_count": 14,
   "metadata": {
    "collapsed": false
   },
   "outputs": [
    {
     "data": {
      "text/plain": [
       "{'AnswerCount': '1',\n",
       " 'Body': '<p>I\\'m trying to set up an app that configures my instances upon launch and I want to close down that app\\'s API access as much as possible. My current policy is as follows:</p>\\n\\n<pre><code>{\\n  \"Version\": \"2012-10-17\",\\n  \"Statement\": [\\n    {\\n      \"Sid\": \"Stmt1388183890000\",\\n      \"Effect\": \"Allow\",\\n      \"Action\": [\\n        \"ec2:AssociateAddress\",\\n        \"ec2:CreateTags\",\\n        \"ec2:DescribeInstances\",\\n        \"ec2:RebootInstances\"\\n      ],\\n      \"Resource\":\"*\"\\n    }\\n  ]\\n}\\n</code></pre>\\n\\n<p>However, this allows the app to perform any of these actions on anything in EC2. Is there a way I can lock down the actions of the app on an ec2 instance to either that specific instance, or to all of the boxes that have the same IAM role?</p>\\n',\n",
       " 'CommentCount': '0',\n",
       " 'CreationDate': '2014-01-01T00:03:39.953',\n",
       " 'Id': '20864429',\n",
       " 'LastActivityDate': '2014-01-01T07:28:22.857',\n",
       " 'OwnerUserId': '382775',\n",
       " 'PostTypeId': '1',\n",
       " 'Score': '0',\n",
       " 'Tags': '<amazon-web-services><amazon-ec2><iam>',\n",
       " 'Title': 'IAM policy to allow EC2 instance API access only to modify itself',\n",
       " 'ViewCount': '686'}"
      ]
     },
     "execution_count": 14,
     "metadata": {},
     "output_type": "execute_result"
    }
   ],
   "source": [
    "dict(elem.items())"
   ]
  },
  {
   "cell_type": "code",
   "execution_count": null,
   "metadata": {
    "collapsed": true
   },
   "outputs": [],
   "source": [
    "def question_to_df(question):\n",
    "    q_id = question['Id']\n",
    "    author_id = question['OwnerUserId']\n",
    "    date = question['CreationDate']\n",
    "    title = question['Id']\n",
    "    text = html_to_string(question['Id'])\n",
    "    score = question['Id']\n",
    "    view_count = question.['Id']\n",
    "    comment_count = question['Id']\n",
    "    tags = question['Id']\n",
    "    url = question['Id']\n",
    "\n",
    "    info = [q_id, author_id, date, title, text, score, view_count, answer_count, comment_count, tags, url]\n",
    "    q_df = pd.DataFrame([info], columns=qs_columns)\n",
    "    return q_df\n",
    "\n",
    "def answer_to_df(answer):\n",
    "    print('b')\n",
    "    a_id = answer.id\n",
    "    author_id = answer.owner_id\n",
    "    question_id = answer.question_id\n",
    "    date = answer.creation_date\n",
    "    text = html_to_string(answer.body)\n",
    "    code_lines = code_line_count(answer.body)\n",
    "    score = answer.score\n",
    "    accepted = answer.accepted\n",
    "    url = answer.url\n",
    "\n",
    "    info = [a_id, author_id, question_id, date, text, code_lines, score, accepted, url]\n",
    "    a_df = pd.DataFrame([info], columns=as_columns)\n",
    "    return a_df\n",
    "\n",
    "def user_to_df(user):\n",
    "    print('c')\n",
    "    u_id = user.id\n",
    "    name = user.display_name\n",
    "    total_questions = so.questions(user_id=user.id).total\n",
    "    unanswered_questions = count_unanswered_questions(user)\n",
    "    total_answers = so.answers(user_id=user.id).total\n",
    "    accepted_answers = count_accepted_answers(user)\n",
    "    reputation = user.reputation.real\n",
    "    badge_total = user.badge_total\n",
    "    url = user.url\n",
    "\n",
    "    info = [u_id, name, total_questions, unanswered_questions, total_answers, accepted_answers, reputation, badge_total, url]\n",
    "    u_df = pd.DataFrame([info], columns=us_columns)\n",
    "    return u_df"
   ]
  },
  {
   "cell_type": "code",
   "execution_count": 7,
   "metadata": {
    "collapsed": true
   },
   "outputs": [],
   "source": [
    "qs_columns = ['id', 'author_id', 'date', 'title', 'text', 'score', 'view_count', 'answer_count', 'comment_count', 'tags', 'url']\n",
    "as_columns = ['id', 'author_id', 'question_id', 'date', 'text', 'code_lines', 'score', 'accepted', 'url']\n",
    "us_columns = ['id', 'name', 'total_questions', 'unanswered_questions', 'total_answers', 'accepted_answers', 'reputation', 'badge_total', 'url']\n",
    "qa_columns = ['id', 'text', 'q_score', 'a_score', 'qer_reputation', 'aer_reputation', 'qer_percent_answered_questions', 'aer_percent_accepted_answers', 'aer_badge_total', 'a_code_lenth', 'is_qa']\n",
    "\n",
    "questions_df = pd.DataFrame(columns=qs_columns)\n",
    "answers_df = pd.DataFrame(columns=as_columns)\n",
    "users_df = pd.DataFrame(columns=us_columns)\n",
    "qas_df = pd.DataFrame(columns=qa_columns)"
   ]
  },
  {
   "cell_type": "code",
   "execution_count": 18,
   "metadata": {
    "collapsed": false
   },
   "outputs": [],
   "source": [
    "pd.DataFrame([[1,2,3]]).to_csv('2.csv')"
   ]
  },
  {
   "cell_type": "code",
   "execution_count": 9,
   "metadata": {
    "collapsed": true
   },
   "outputs": [],
   "source": [
    "data_path = '/media/antonio/92088d7f-1ed4-49dd-b55f-01462ab87ebb/so_data'"
   ]
  },
  {
   "cell_type": "markdown",
   "metadata": {},
   "source": [
    "##Questions"
   ]
  },
  {
   "cell_type": "code",
   "execution_count": 10,
   "metadata": {
    "collapsed": true
   },
   "outputs": [],
   "source": [
    "xml_file = 'Questions-2014.xml'\n",
    "xml_path = os.path.join(data_path, xml_file)"
   ]
  },
  {
   "cell_type": "code",
   "execution_count": 13,
   "metadata": {
    "collapsed": false
   },
   "outputs": [
    {
     "name": "stdout",
     "output_type": "stream",
     "text": [
      "{'CreationDate': '2014-01-01T00:02:46.990', 'PostTypeId': '1', 'OwnerUserId': '1377324', 'AnswerCount': '1', 'Score': '0', 'Body': '<p>I\\'ve been looked around and have no luck on this.</p>\\n\\n<p>So I have a complex query to sphinx and wondering if I could do complex query of SQL like this</p>\\n\\n<pre><code>SELECT * FROM Table WHERE (categoryid in (17,18,19, 20) OR merchantid in (110,112,335)) AND brandid NOT in (20, 30, 40,50);\\n</code></pre>\\n\\n<p>I know OR is working with SetSelect with</p>\\n\\n<pre><code>$s-&gt;SetSelect(\\'*, IN(categoryid, 17,18 19) OR IN(merchantid,110,112, 335) AS test\\');\\n$s-&gt;SetFilter(\\'test\\', array(1), true);\\n$s-&gt;query(\"\", \"index\");\\n</code></pre>\\n\\n<p>NOT query could be done as individual query </p>\\n\\n<pre><code>$s-&gt;SetSelect(\\'*, IN(brandid,20,30,40,50 AS nottest\\');\\n$s-&gt;SetFilter(\\'nottest\\', array(1));\\n$s-&gt;query(\"\", \"index\");\\n</code></pre>\\n\\n<p>But how should I combine both in one query</p>\\n', 'Id': '20864423', 'Tags': '<sphinx>', 'LastActivityDate': '2014-01-01T10:21:36.423', 'ViewCount': '44', 'LastEditorUserId': '1377324', 'Title': 'Sphinx complex queries with mix of AND/OR', 'LastEditDate': '2014-01-01T10:21:36.423', 'CommentCount': '0'}\n",
      "{'FavoriteCount': '0', 'CreationDate': '2014-01-01T00:02:57.477', 'PostTypeId': '1', 'OwnerUserId': '2212490', 'AnswerCount': '1', 'Score': '1', 'Body': \"<p>How can I restrict a script on GAS to load only if the host has a certain IP?</p>\\n\\n<p>I have a script that takes a input, submits, and then returns a table of data.  But I want it to return the data only if the host has a certain IP because I don't want the data available outside this location.</p>\\n\\n<p>No login is required.</p>\\n\", 'Id': '20864424', 'Tags': '<google-apps-script>', 'LastActivityDate': '2014-06-30T20:10:39.083', 'Title': 'Google App Scripts get IP', 'ViewCount': '127', 'CommentCount': '0'}\n",
      "{'CreationDate': '2014-01-01T00:03:24.030', 'PostTypeId': '1', 'OwnerUserId': '2779244', 'AnswerCount': '1', 'Score': '-2', 'Body': '<p>I have been trying numerous ways to get the email addresses entered into the form here: <a href=\"http://contest.realfamilytrips.com\" rel=\"nofollow\">http://contest.realfamilytrips.com</a> saved to a file of some sort. I have had no luck. Now I am trying to email myself with each entry and not having much luck with that either.</p>\\n\\n<p>I put together a bit of PHP code (after hours of research. I\\'m pretty new to this end of things) that was supposed to email me each time a user inputs their email address into the form, but it isn\\'t working.</p>\\n\\n<p>This is a single-page landing page so there\\'s not a ton of code. I\\'d like to share the index.html and my php script, as well as the stylesheet and functions.js files. If anyone can tell me how to get these email addresses either saved or emailed or something I would be very grateful.</p>\\n\\n<p>INDEX.html:</p>\\n\\n<pre><code>&lt;!DOCTYPE html&gt;\\n&lt;html lang=\"en-US\" xmlns=\"http://www.w3.org/1999/xhtml\" dir=\"ltr\"&gt;\\n&lt;head&gt;\\n    &lt;title&gt;iPad Air Giveaway&lt;/title&gt;\\n    &lt;meta http-equiv=\"Content-type\" content=\"text/html; charset=utf-8\" /&gt;\\n    &lt;link rel=\"shortcut icon\" href=\"css/images/favicon.ico\" /&gt;\\n    &lt;link rel=\"stylesheet\" href=\"css/style.css\" type=\"text/css\" media=\"all\" /&gt;\\n    &lt;link rel=\"stylesheet\" href=\"css/video-js.css\" type=\"text/css\" media=\"all\" /&gt;\\n    &lt;script src=\"js/jquery-1.7.2.min.js\" type=\"text/javascript\"&gt;&lt;/script&gt;\\n    &lt;script src=\"js/html5.js\" type=\"text/javascript\"&gt;&lt;/script&gt;\\n    &lt;script src=\"js/functions.js\" type=\"text/javascript\"&gt;&lt;/script&gt;\\n    &lt;link rel=\"shortcut icon\" href=\"favicon.ico\" &gt;\\n   &lt;link rel=\"icon\" type=\"image/gif\" href=\"animated_favicon1.gif\" &gt;\\n\\n&lt;/head&gt;\\n        &lt;body class=\"type-3\"&gt;\\n        &lt;p&gt;&lt;/p&gt;\\n&lt;!-- Shell --&gt;\\n    &lt;div class=\"shell\"&gt;&lt;!-- Sidebar --&gt; &lt;aside id=\"sidebar\"&gt;\\n        &lt;div class=\"item\"&gt;&lt;img src=\"css/images/ipadgraphic.png\" alt=\"win an ipad air\" /&gt;&lt;/div&gt;\\n        &lt;p style=\"text-align: left;\"&gt;Enter sweepstakes to win a brand new iPad Air. Unsubscribe&lt;br /&gt; anytime. &lt;a href=\"http://realfamilytrips.com/real-family-trips-great-family-itinerary-contest-terms-conditions/\"&gt;Click here for official terms and conditions&lt;/a&gt;&lt;/p&gt;\\n        &lt;/aside&gt; &lt;!-- END Sidebar --&gt; &lt;!-- Content --&gt;&lt;section id=\"content\"&gt;&lt;!-- Logo --&gt;\\n        &lt;h1 id=\"logo\"&gt;&lt;a href=\"http://realfamilytrips.com\" title=\"home\"&gt;Real Family Trips&lt;/a&gt;&lt;/h1&gt;\\n    &lt;div&gt;\\n        &lt;h2&gt;Win an iPad Air&lt;/h2&gt;\\n        &lt;h2 class=\"pull-up\"&gt;For The Best Family Itinerary&lt;/h2&gt;\\n        &lt;p style=\"text-align: left;\" class=\"intro-text\"&gt;&lt;em&gt;Hey there World Traveler!&lt;/em&gt;&lt;/p&gt;\\n        &lt;p style=\"text-align: left;\" class=\"intro-text\"&gt;&lt;em&gt;Want to win an &lt;span class=\"largetext\"&gt;iPad Air&lt;/span&gt; in a contest for the best family itinerary? Start by answering the question below. You can also share this with others, so more families can learn how to travel with their kids for the best experience!&lt;span size=\"-1\"&gt;&lt;a href=\"http://realfamilytrips.com/real-family-trips-great-family-itinerary-contest-helpful-hints/\" style=\"text-decoration: none; border-bottom: 1px solid #095DF7;\"&gt; more details&lt;/a&gt;&lt;/span&gt;&lt;/em&gt;&lt;/p&gt;\\n&lt;!-- Step 1 --&gt;\\n    &lt;div class=\"steps step-1\"&gt;\\n        &lt;h2 style=\"font-size: 26px;\"&gt;STEP 1: Answer this question&lt;/h2&gt;\\n            &lt;form action=\"#\" method=\"post\"&gt;\\n            &lt;div class=\"select-holder\"&gt;&lt;label&gt;Who is giving away a new 7.5\" retina display iPad Air?&lt;/label&gt;\\n            &lt;div class=\"select-wrap\"&gt;&lt;select name=\"\"&gt; &lt;option selected=\"selected\" value=\"Select Your Answer\"&gt;Select Your Answer&lt;/option&gt; &lt;option value=\"LeadBrite, Duh!\"&gt;RealFamilyTrips, hello...&lt;/option&gt; &lt;option value=\"Lady Gaga\"&gt;My next door neighbor&lt;/option&gt; &lt;option value=\"Santa Claus\"&gt;Santa Claus&lt;/option&gt; &lt;/select&gt;&lt;/div&gt;\\n            &lt;/div&gt;\\n        &lt;input value=\"Submit Answer&amp;nbsp;&amp;nbsp;&amp;nbsp;\" class=\"submit-button\" type=\"submit\" /&gt;&lt;/form&gt;\\n                &lt;div class=\"contest-ends\"&gt;\\n                &lt;p&gt;&lt;span&gt;Contest Ends&lt;/span&gt;&lt;/p&gt;\\n                &lt;p&gt;January 31st, 2014 2:00 pm E.S.T.&lt;/p&gt;\\n                &lt;/div&gt;\\n    &lt;/div&gt;\\n&lt;!-- END Step 1 --&gt; \\n&lt;!-- Step 2 --&gt;\\n    &lt;div class=\"steps step-2\"&gt;\\n        &lt;h2 style=\"font-size: 26px;\"&gt;STEP 2: Your details&lt;/h2&gt;\\n&amp;nbsp; &lt;form action=\"signup.php\" method=\"post\" name=\"emailaddy\"&gt;\\n                    &lt;input type=\"text\" class=\"field\" value=\"Enter your email address\" title=\"Enter your email address\" /&gt;\\n                    &lt;input type=\"submit\" value=\"Send\" class=\"send\" /&gt;\\n                &lt;/form&gt;\\n            &lt;div class=\"contest-ends\"&gt;\\n            &lt;p&gt;&lt;span&gt;Contest Ends&lt;/span&gt;&lt;/p&gt;\\n            &lt;p&gt;January 31st, 2014 2:00 pm E.S.T.&lt;/p&gt;\\n            &lt;/div&gt;\\n    &lt;/div&gt;\\n&lt;!-- END Step 2 --&gt; \\n&lt;!-- Step 3 --&gt;\\n    &lt;div class=\"steps step-3\"&gt;\\n        &lt;h2 style=\"font-size: 26px;\"&gt;STEP 3: Submit Itinerary&lt;/h2&gt;\\n        &lt;a href=\"http://realfamilytrips.com/share-itineraries\"&gt; &lt;input value=\"Go!\" class=\"send\" type=\"submit\" /&gt; &lt;/a&gt;\\n            &lt;div class=\"contest-ends\"&gt;\\n            &lt;p&gt;&lt;span&gt;Contest Ends&lt;/span&gt;&lt;/p&gt;\\n            &lt;p&gt;January 31st, 2014 2:00 pm E.S.T.&lt;/p&gt;\\n            &lt;/div&gt;\\n    &lt;/div&gt;\\n&lt;!-- END Step 3 --&gt;\\n        &lt;p class=\"inspired\"&gt;brought to you by &lt;a href=\"http://realfamilytrips.com\"&gt;Real Family Trips&lt;/a&gt;&lt;/p&gt;\\n        &lt;/div&gt;\\n    &lt;/section&gt;&lt;!-- END Content --&gt;\\n    &lt;div class=\"cl\"&gt;&amp;nbsp;&lt;/div&gt;\\n&lt;/div&gt;\\n&lt;!-- END Shell --&gt;\\n    &lt;p&gt;&lt;/p&gt;\\n    &lt;/body&gt;\\n&lt;/html&gt;\\n</code></pre>\\n\\n<p>SIGNUP.php:</p>\\n\\n<pre><code>&lt;?php\\n\\n/* Subject and Email variables */\\n\\n    $emailSubject = \\'Real Family Trips Contest\\';\\n    $webmaster = lifeleavesscars@gmail.com\\n\\n/* Gathering Data Variables */\\n\\n    $emailField = $_POST[\\'emailaddy\\'];\\n\\n    $body = &lt;&lt;&lt;EOD\\n&lt;br&gt;&lt;hr&gt;&lt;br&gt;\\nEmail address: $email &lt;br&gt;\\nEOD;\\n\\n    $headers = \"From: $email\\\\r\\\\n\";\\n    $headers .= \"Content-type: text/html\\\\r\\\\n\";\\n    $success = mail ($webmaster, $emailSubject, $body, $headers);\\n\\n?&gt;\\n</code></pre>\\n\\n<p>STYLE.css:</p>\\n\\n<pre><code>@import url(\\'fonts.css\\');\\n\\n* { margin: 0; padding: 0; outline: 0; }\\n\\nbody, html { height: 100%; }\\n\\nbody {\\n    font-size: 18px;\\n    line-height: 24px;\\n    font-family: \\'SegoeUI\\', arial, sans-serif;\\n    color: #314b7b;\\n    background: #fff url(images/body1.png) repeat-y center 0;\\n    min-width: 980px;\\n}\\n\\na { color: #0252aa; text-decoration: none; cursor: pointer; }\\na:hover { text-decoration: underline; }\\na img { border: 0; }\\n\\nem { font-style: normal; font-family: \\'SegoeUI-Italic\\'; }\\n.largetext { font-size:150%; font-weight:bold; }\\n\\ninput, textarea, select { font-size: 18px; font-family: \\'SegoeUI\\', arial, sans-serif; }\\ntextarea { overflow: auto; }\\nselect { background:none repeat scroll 0 0 transparent; border: 0;   font-family: \\'SegoeUI\\'; font-size: 14px; line-height: 24px; width: 367px; -webkit-appearance: menulist; margin: 0 5px 0 4px; }\\n\\n.cl { display: block; height: 0; font-size: 0; line-height: 0; text-indent: -4000px; clear: both; }\\n.notext { font-size: 0; line-height: 0; text-indent: -4000px; }\\n.left, .alignleft { float: left; display: inline; }\\n.right, .alignright { float: right; display: inline; }\\n\\nh2 { font-family: \\'SegoeUI-Bold\\'; font-size: 30px; line-height: 36px; color: #314b7b; text-align:center; font-weight: normal; }\\nh2 span { font-size: 36px; display: block; padding-bottom: 2px; }\\n\\n.shell { width: 960px; margin: 0 auto; }\\n\\n#logo { width: 289px; margin: 0 auto; font-size: 0; line-height: 0; padding-bottom: 14px; }\\n#logo a { display: block; width: 289px; height: 62px; background: url(images/logo.png) no-repeat 0 0; text-indent: -4000px;  }\\n\\n#sidebar { display: inline; float: left; width: 503px;  padding-top: 32px;  }\\n#sidebar h2 { width: 380px; margin: 0 auto; margin-top: 30px; }\\n\\n#content { display: inline; float: right; padding: 27px 13px 0 11px; width: 415px; }\\n#content h2 { color: #010101; text-shadow: 0 1px #fff; padding-right: 6px; letter-spacing: -1px; }\\n#content h2.pull-up { position: relative; margin-top: -6px; padding-bottom: 17px; }\\n#content p.intro-text { width: 372px; margin: 0 auto; text-align:center; padding: 0 0 9px 24px; }\\n#content p.inspired { font-size: 15px; text-align:center; color: #8f8f8f; text-shadow: 1px 2px 1px #f6f6f6 }\\n#content p.inspired a { color: #8f8f8f; text-decoration: underline; }\\n#content p.inspired a:hover { text-decoration: none; }\\n\\n.steps { padding-bottom: 29px; }\\n.steps p { font-size: 20px; line-height: 30px; color: #010101; width: auto; text-align:center; }\\n.steps form label { display: block; padding-bottom: 23px; }\\n\\n.steps form p a { color: #015978; text-decoration: underline; }\\n.steps form p a:hover { text-decoration: none; }\\n.steps form .select-holder { margin-top: 7px; padding: 13px 19px 20px 13px; background: #fff; }\\n.steps .select-wrap { width: 375px; border: solid 1px #707070; padding: 2px 0 4px 0; margin-left: 1px; }\\n.steps .submit-button { display: block;  width: 346px; height: 73px; margin: 16px auto 0; background: url(images/submit-button.png) no-repeat 0 0; border: 0; }\\n.steps .submit-button { font-family: \\'SegoeUI-Bold\\'; font-size: 30px; color: #212121; cursor: pointer; text-shadow: 0 1px #faf562; letter-spacing: -1px; }\\n.steps .submit-button:hover { background-position: 0 -73px; }\\n.steps .send { display: block;  width: 346px; height: 73px; margin: 16px auto 0; background: url(images/send.png) no-repeat 0 0; border: 0;}\\n.steps .send { font-family: \\'SegoeUI-Bold\\'; font-size: 30px; color: #212121; cursor: pointer; text-shadow: 0 1px #faf562; letter-spacing: -1px; }\\n.steps .send:hover { background-position: 0 -73px; }\\n.steps .field { margin: 25px 0 17px 6px; padding: 10px 20px 11px; line-height: 28px; width: 366px; box-shadow: inset 3px 5px 3px 3px #f5f5f5; background: #fff; border: solid 1px #d7d7d7; }\\n\\n.step-2 { display: none; }\\n.step-3 { display: none; } \\n\\n.contest-ends { padding-top: 16px; }\\n.contest-ends p { font-size: 20px; line-height: 24px; color: #8f8f8f; text-shadow: 0 1px #fff; text-align:center; } \\n.contest-ends p span { display: block; line-height: 18px; font-size: 15px; }\\n\\nbody.type-2 { background: #e1e1e1 url(images/body2.png) repeat-x 0 0; }\\nbody.type-2 #wrapper { background: url(images/wrapper.jpg) no-repeat center 0; }\\nbody.type-2 #logo { width: 365px; }\\nbody.type-2 #logo a { width: 365px; height: 62px; background: url(images/logo2.png) no-repeat 0 0; }\\nbody.type-2 .steps p { color: #fff; }\\nbody.type-2 #sidebar h2 { margin-top: 10px; width: auto; color: #2e0035; }\\nbody.type-2 #content p.intro-text { font-family: \\'MuseoSlab-500\\'; font-size: 24px; line-height: 30px; width: auto; padding: 2px 0 16px 0; color: #2e0035; }\\nbody.type-2 .select-holder { margin-left: 2px; }\\nbody.type-2 .select-holder label { padding-bottom: 13px; }\\nbody.type-2 .submit-button { margin-top: 23px; }\\n\\nbody.type-3 { background: #fff url(images/body3.png) repeat-y center 0; }\\nbody.type-3 .shell { width: 874px; }\\nbody.type-3 #logo { padding-bottom: 19px; }\\nbody.type-3 #sidebar { padding-top: 29px; width: 354px; }\\nbody.type-3 #sidebar h2 { padding: 0 0 42px 0; margin-top: 9px; width: 280px; }\\nbody.type-3 #content { width: 495px; }\\nbody.type-3 #content h2.pull-up { padding-bottom: 22px; }\\nbody.type-3 #content p.intro-text { padding: 0 0 27px 10px; width: 433px; }\\nbody.type-3 .steps p { letter-spacing: 1px; }\\nbody.type-3 .select-holder { margin: 16px 30px 0 35px; padding:  13px 19px 20px 18px; }\\nbody.type-3 .submit-button { margin-top: 29px; }\\nbody.type-3 .contest-ends { padding-top: 12px; }\\nbody.type-3 .field { margin: 20px 0 17px 47px; }\\nbody.type-3 #sidebar p { font-size: 12px; line-height: 18px; color: #666666; text-align:center; padding-right: 14px; padding-left: 14px; }\\nbody.type-3 #sidebar p a { color: #666; text-decoration: underline; }\\nbody.type-3 #sidebar p a:hover { text-decoration: none; }\\n\\n#mc_embed_signup{ font:14px Helvetica,Arial,sans-serif; text-align: center; }\\n</code></pre>\\n\\n<p>FUNCTIONS.js</p>\\n\\n<pre><code>$(function () {\\n    $(document).on(\\'focusin\\', \\'.field, textarea\\', function () {\\n        if (this.title == this.value) {\\n            this.value = \\'\\';\\n        }\\n    }).on(\\'focusout\\', \\'.field, textarea\\', function () {\\n        if (this.value === \\'\\') {\\n            this.value = this.title;\\n        }\\n    });\\n\\n    $(document).on(\\'click\\', \\'.submit-button\\', function () {\\n        if ($(\\'select\\').find(\\'option:selected\\').index() === 0) {\\n            alert(\\'Select Your Answer.\\');\\n            return false;\\n        }\\n\\n        if ($(\\'select\\').find(\\'option:selected\\').index() !== 1) {\\n            alert(\\'Your guess is wrong! Please try again.\\');\\n            return false;\\n        } else {\\n            $(\\'.step-1\\').hide();\\n            $(\\'.step-2\\').fadeIn(800);\\n            return false;\\n        }\\n    });\\n\\n    $(document).on(\\'submit\\', \\'form\\', function (e) {\\n        // Check email address\\n        // if email address ok\\n            $(\\'.step-2\\').hide();\\n            $(\\'.step-3\\').fadeIn(800);\\n            e.preventDefault();\\n        // else \\n            // alert\\n            // e.preventDefault();\\n        // end if\\n    });\\n});\\n</code></pre>\\n\\n<p>Thanks and sorry for all the code. I don\\'t know if it was needed but after so many days of trying I thought perhaps the jquery was messing with the php? Not sure. At this point I have no idea.</p>\\n\\n<p>Thanks in advance.</p>\\n', 'Id': '20864427', 'Tags': '<php><jquery><html><forms>', 'LastActivityDate': '2014-01-01T01:26:43.370', 'ViewCount': '108', 'LastEditorUserId': '1415724', 'Title': 'PHP form processing issues', 'LastEditDate': '2014-01-01T00:13:42.783', 'CommentCount': '10'}\n",
      "{'CreationDate': '2014-01-01T00:03:39.953', 'PostTypeId': '1', 'OwnerUserId': '382775', 'AnswerCount': '1', 'Score': '0', 'Body': '<p>I\\'m trying to set up an app that configures my instances upon launch and I want to close down that app\\'s API access as much as possible. My current policy is as follows:</p>\\n\\n<pre><code>{\\n  \"Version\": \"2012-10-17\",\\n  \"Statement\": [\\n    {\\n      \"Sid\": \"Stmt1388183890000\",\\n      \"Effect\": \"Allow\",\\n      \"Action\": [\\n        \"ec2:AssociateAddress\",\\n        \"ec2:CreateTags\",\\n        \"ec2:DescribeInstances\",\\n        \"ec2:RebootInstances\"\\n      ],\\n      \"Resource\":\"*\"\\n    }\\n  ]\\n}\\n</code></pre>\\n\\n<p>However, this allows the app to perform any of these actions on anything in EC2. Is there a way I can lock down the actions of the app on an ec2 instance to either that specific instance, or to all of the boxes that have the same IAM role?</p>\\n', 'Id': '20864429', 'Tags': '<amazon-web-services><amazon-ec2><iam>', 'LastActivityDate': '2014-01-01T07:28:22.857', 'Title': 'IAM policy to allow EC2 instance API access only to modify itself', 'ViewCount': '686', 'CommentCount': '0'}\n"
     ]
    }
   ],
   "source": [
    "count = 0\n",
    "iterparser = etree.iterparse(xml_path)\n",
    "iterator = iter(iterparser)\n",
    "event, root = next(iterator)\n",
    "root.clear()\n",
    "\n",
    "for event, elem in iterparser:\n",
    "    print(dict(elem.items()))\n",
    "    count +=1\n",
    "    if count == 4:\n",
    "        break\n",
    "    elem.clear()"
   ]
  },
  {
   "cell_type": "code",
   "execution_count": 12,
   "metadata": {
    "collapsed": false
   },
   "outputs": [
    {
     "data": {
      "text/plain": [
       "'82956'"
      ]
     },
     "execution_count": 12,
     "metadata": {},
     "output_type": "execute_result"
    }
   ],
   "source": [
    "elem.get('Id')"
   ]
  },
  {
   "cell_type": "code",
   "execution_count": 18,
   "metadata": {
    "collapsed": false
   },
   "outputs": [
    {
     "data": {
      "text/plain": [
       "[('UserId', '652'),\n",
       " ('Id', '82956'),\n",
       " ('Date', '2008-09-15T08:55:03.957'),\n",
       " ('Name', 'Teacher')]"
      ]
     },
     "execution_count": 18,
     "metadata": {},
     "output_type": "execute_result"
    }
   ],
   "source": [
    "elem.items()"
   ]
  },
  {
   "cell_type": "code",
   "execution_count": 19,
   "metadata": {
    "collapsed": false
   },
   "outputs": [
    {
     "data": {
      "text/plain": [
       "'Teacher'"
      ]
     },
     "execution_count": 19,
     "metadata": {},
     "output_type": "execute_result"
    }
   ],
   "source": [
    "elem.get('Name')"
   ]
  },
  {
   "cell_type": "code",
   "execution_count": 20,
   "metadata": {
    "collapsed": false
   },
   "outputs": [
    {
     "data": {
      "text/plain": [
       "'row'"
      ]
     },
     "execution_count": 20,
     "metadata": {},
     "output_type": "execute_result"
    }
   ],
   "source": [
    "elem.tag"
   ]
  },
  {
   "cell_type": "code",
   "execution_count": 24,
   "metadata": {
    "collapsed": false
   },
   "outputs": [
    {
     "ename": "TypeError",
     "evalue": "'xml.etree.ElementTree.Element' object is not an iterator",
     "output_type": "error",
     "traceback": [
      "\u001b[1;31m---------------------------------------------------------------------------\u001b[0m",
      "\u001b[1;31mTypeError\u001b[0m                                 Traceback (most recent call last)",
      "\u001b[1;32m<ipython-input-24-2eb76118547a>\u001b[0m in \u001b[0;36m<module>\u001b[1;34m()\u001b[0m\n\u001b[1;32m----> 1\u001b[1;33m \u001b[0mnext\u001b[0m\u001b[1;33m(\u001b[0m\u001b[0melem\u001b[0m\u001b[1;33m)\u001b[0m\u001b[1;33m\u001b[0m\u001b[0m\n\u001b[0m",
      "\u001b[1;31mTypeError\u001b[0m: 'xml.etree.ElementTree.Element' object is not an iterator"
     ]
    }
   ],
   "source": [
    "next(elem)"
   ]
  },
  {
   "cell_type": "code",
   "execution_count": 35,
   "metadata": {
    "collapsed": false
   },
   "outputs": [
    {
     "data": {
      "text/plain": [
       "'badges'"
      ]
     },
     "execution_count": 35,
     "metadata": {},
     "output_type": "execute_result"
    }
   ],
   "source": [
    "root.tag"
   ]
  },
  {
   "cell_type": "code",
   "execution_count": 36,
   "metadata": {
    "collapsed": false
   },
   "outputs": [
    {
     "data": {
      "text/plain": [
       "<Element 'row' at 0x7f0098070368>"
      ]
     },
     "execution_count": 36,
     "metadata": {},
     "output_type": "execute_result"
    }
   ],
   "source": [
    "elem"
   ]
  },
  {
   "cell_type": "code",
   "execution_count": 38,
   "metadata": {
    "collapsed": false
   },
   "outputs": [],
   "source": [
    "root.clear()"
   ]
  },
  {
   "cell_type": "code",
   "execution_count": 40,
   "metadata": {
    "collapsed": false
   },
   "outputs": [
    {
     "data": {
      "text/plain": [
       "'badges'"
      ]
     },
     "execution_count": 40,
     "metadata": {},
     "output_type": "execute_result"
    }
   ],
   "source": [
    "root.tag"
   ]
  },
  {
   "cell_type": "code",
   "execution_count": 9,
   "metadata": {
    "collapsed": false
   },
   "outputs": [
    {
     "data": {
      "text/plain": [
       "[('LastEditDate', '2014-01-23T22:52:51.697'),\n",
       " ('LastActivityDate', '2014-01-23T22:52:51.697'),\n",
       " ('LastEditorUserId', '3052751'),\n",
       " ('Id', '20864452'),\n",
       " ('Body',\n",
       "  '<p>Is there a way to use textpath using SnapSVG? I tried using textPath as an attribute but it does not seem to add a textpath element in the text node.</p>\\n\\n<pre><code>var txtpth = s.path(\"M70 70 Q 80 90 200 150 L 200 400\").attr({\\n    fill: \"none\",\\n    stroke: \"black\"\\n });\\nvar crooked = s.text(0,0,\"lorempsum ipsum lorempsum ipsum lorempsum ipsum lorempsum   ipsum\").attr({\\n     textPath: txtpth,\\n     stroke:\"black\"\\n });\\n</code></pre>\\n\\n<p>I do not see a direct API to manipulate text paths in SVG using snap.svg.</p>\\n'),\n",
       " ('CreationDate', '2014-01-01T00:10:40.443'),\n",
       " ('AnswerCount', '3'),\n",
       " ('CommentCount', '2'),\n",
       " ('PostTypeId', '1'),\n",
       " ('Tags', '<javascript><text><svg><path><snap.svg>'),\n",
       " ('OwnerUserId', '2452938'),\n",
       " ('ViewCount', '1170'),\n",
       " ('Title', 'How to use textPath for text in snap.svg?'),\n",
       " ('Score', '1')]"
      ]
     },
     "execution_count": 9,
     "metadata": {},
     "output_type": "execute_result"
    }
   ],
   "source": [
    "elem.items()"
   ]
  },
  {
   "cell_type": "code",
   "execution_count": null,
   "metadata": {
    "collapsed": true
   },
   "outputs": [],
   "source": []
  }
 ],
 "metadata": {
  "kernelspec": {
   "display_name": "Python 3",
   "language": "python",
   "name": "python3"
  },
  "language_info": {
   "codemirror_mode": {
    "name": "ipython",
    "version": 3
   },
   "file_extension": ".py",
   "mimetype": "text/x-python",
   "name": "python",
   "nbconvert_exporter": "python",
   "pygments_lexer": "ipython3",
   "version": "3.4.0"
  }
 },
 "nbformat": 4,
 "nbformat_minor": 0
}
