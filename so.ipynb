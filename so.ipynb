{
 "cells": [
  {
   "cell_type": "markdown",
   "metadata": {},
   "source": [
    "# StackOverflow answer classifier"
   ]
  },
  {
   "cell_type": "code",
   "execution_count": 5,
   "metadata": {
    "collapsed": false
   },
   "outputs": [],
   "source": [
    "import re\n",
    "import sys\n",
    "from datetime import datetime\n",
    "from html.parser import HTMLParser\n",
    "\n",
    "import stackexchange\n",
    "import numpy as np\n",
    "import pandas as pd\n",
    "from stackexchange import Site, StackOverflow, Sort, DESC, ASC\n",
    "\n",
    "import credentials"
   ]
  },
  {
   "cell_type": "code",
   "execution_count": 252,
   "metadata": {
    "collapsed": false
   },
   "outputs": [],
   "source": [
    "class HTML2String(HTMLParser):\n",
    "    def __init__(self):\n",
    "        HTMLParser.__init__(self)\n",
    "        self.strict = False\n",
    "        self.convert_charrefs= True\n",
    "        self.text = []\n",
    "    def handle_data(self, d):\n",
    "        self.text.append(d)\n",
    "    def get_data(self):\n",
    "        return ''.join(self.text)\n",
    "\n",
    "def html_to_string(html):\n",
    "    s = HTML2String()\n",
    "    s.feed(html)\n",
    "    return s.get_data()"
   ]
  },
  {
   "cell_type": "markdown",
   "metadata": {},
   "source": [
    "##Preparing data"
   ]
  },
  {
   "cell_type": "code",
   "execution_count": 59,
   "metadata": {
    "collapsed": false
   },
   "outputs": [],
   "source": [
    "qs_columns = ['id', 'author_id', 'date', 'title', 'text', 'score', 'views', 'tags', 'url']\n",
    "as_columns = ['id', 'author_id', 'question_id', 'date', 'text', 'code_length', 'score', 'accepted', 'url']\n",
    "us_columns = ['id', 'name', 'total_questions', 'unanswered_questions', 'total_answers', 'accepted_answers', 'reputation', 'badge_total', 'url']\n",
    "qa_columns = ['id', 'text', 'q_score', 'a_score', 'qer_reputation', 'aer_reputation', 'qer_percent_answered_questions', 'aer_percent_accepted_answers', 'aer_badge_total', 'q_tag_pop', 'a_code_lenth', 'aer_subscribed_tag', 'is_qa']\n",
    "\n",
    "questions_df = pd.DataFrame(columns=qs_columns)\n",
    "answers_df = pd.DataFrame(columns=as_columns)\n",
    "users_df = pd.DataFrame(columns=us_columns)\n",
    "qas_df = pd.DataFrame(columns=qa_columns)"
   ]
  },
  {
   "cell_type": "code",
   "execution_count": 6,
   "metadata": {
    "collapsed": false
   },
   "outputs": [],
   "source": [
    "so = stackexchange.Site(stackexchange.StackOverflow, app_key=credentials.KEY)\n",
    "# so.impose_throttling = True\n",
    "# so.throttle_stop = False\n",
    "# so.be_inclusive()"
   ]
  },
  {
   "cell_type": "code",
   "execution_count": 30,
   "metadata": {
    "collapsed": true
   },
   "outputs": [],
   "source": [
    "from_date = datetime.strptime('2014-01-01', '%Y-%m-%d')\n",
    "# to_date = datetime.strptime('2014-12-31', '%Y-%m-%d')\n",
    "to_date = datetime.strptime('2014-01-02', '%Y-%m-%d')\n",
    "\n",
    "from_date_ts = int(from_date.timestamp())\n",
    "to_date_ts = int(to_date.timestamp())"
   ]
  },
  {
   "cell_type": "code",
   "execution_count": 44,
   "metadata": {
    "collapsed": false
   },
   "outputs": [],
   "source": [
    "questions = so.questions(fromdate=from_date_ts, todate=to_date_ts, sort=Sort.Creation, order=ASC, pagesize=100)"
   ]
  },
  {
   "cell_type": "code",
   "execution_count": 112,
   "metadata": {
    "collapsed": false
   },
   "outputs": [],
   "source": [
    "aa=q.answers"
   ]
  },
  {
   "cell_type": "code",
   "execution_count": 110,
   "metadata": {
    "collapsed": true
   },
   "outputs": [],
   "source": [
    "ww=so.answers(question_id=questions[6].id)"
   ]
  },
  {
   "cell_type": "code",
   "execution_count": 113,
   "metadata": {
    "collapsed": false
   },
   "outputs": [
    {
     "ename": "AttributeError",
     "evalue": "'list' object has no attribute 'total'",
     "output_type": "error",
     "traceback": [
      "\u001b[1;31m---------------------------------------------------------------------------\u001b[0m",
      "\u001b[1;31mAttributeError\u001b[0m                            Traceback (most recent call last)",
      "\u001b[1;32m<ipython-input-113-278a152187be>\u001b[0m in \u001b[0;36m<module>\u001b[1;34m()\u001b[0m\n\u001b[1;32m----> 1\u001b[1;33m \u001b[0maa\u001b[0m\u001b[1;33m.\u001b[0m\u001b[0mtotal\u001b[0m\u001b[1;33m\u001b[0m\u001b[0m\n\u001b[0m",
      "\u001b[1;31mAttributeError\u001b[0m: 'list' object has no attribute 'total'"
     ]
    }
   ],
   "source": [
    "aa."
   ]
  },
  {
   "cell_type": "code",
   "execution_count": 45,
   "metadata": {
    "collapsed": false
   },
   "outputs": [
    {
     "data": {
      "text/plain": [
       "<Question 'Chrome crashes when exporting file via Filesystem API' @ 7f1a48b570f0>"
      ]
     },
     "execution_count": 45,
     "metadata": {},
     "output_type": "execute_result"
    }
   ],
   "source": [
    "questions[0]"
   ]
  },
  {
   "cell_type": "code",
   "execution_count": 47,
   "metadata": {
    "collapsed": false
   },
   "outputs": [
    {
     "data": {
      "text/plain": [
       "<Question 'Chrome crashes when exporting file via Filesystem API' @ 7f1a48b570f0>"
      ]
     },
     "execution_count": 47,
     "metadata": {},
     "output_type": "execute_result"
    }
   ],
   "source": [
    "questions[0]"
   ]
  },
  {
   "cell_type": "code",
   "execution_count": 66,
   "metadata": {
    "collapsed": true
   },
   "outputs": [],
   "source": [
    "df = pd.DataFrame([[1,2,3,4,5,6,7,8, 9]], columns=qs_columns)"
   ]
  },
  {
   "cell_type": "code",
   "execution_count": 67,
   "metadata": {
    "collapsed": false
   },
   "outputs": [
    {
     "data": {
      "text/html": [
       "<div style=\"max-height:1000px;max-width:1500px;overflow:auto;\">\n",
       "<table border=\"1\" class=\"dataframe\">\n",
       "  <thead>\n",
       "    <tr style=\"text-align: right;\">\n",
       "      <th></th>\n",
       "      <th>id</th>\n",
       "      <th>author_id</th>\n",
       "      <th>date</th>\n",
       "      <th>title</th>\n",
       "      <th>text</th>\n",
       "      <th>score</th>\n",
       "      <th>views</th>\n",
       "      <th>tags</th>\n",
       "      <th>url</th>\n",
       "    </tr>\n",
       "  </thead>\n",
       "  <tbody>\n",
       "    <tr>\n",
       "      <th>0</th>\n",
       "      <td>1</td>\n",
       "      <td>2</td>\n",
       "      <td>3</td>\n",
       "      <td>4</td>\n",
       "      <td>5</td>\n",
       "      <td>6</td>\n",
       "      <td>7</td>\n",
       "      <td>8</td>\n",
       "      <td>9</td>\n",
       "    </tr>\n",
       "  </tbody>\n",
       "</table>\n",
       "</div>"
      ],
      "text/plain": [
       "   id  author_id  date  title  text  score  views  tags  url\n",
       "0   1          2     3      4     5      6      7     8    9"
      ]
     },
     "execution_count": 67,
     "metadata": {},
     "output_type": "execute_result"
    }
   ],
   "source": [
    "questions_df.append(df, ignore_index=True)"
   ]
  },
  {
   "cell_type": "code",
   "execution_count": 63,
   "metadata": {
    "collapsed": false
   },
   "outputs": [
    {
     "ename": "SyntaxError",
     "evalue": "invalid syntax (<ipython-input-63-8cd8234eead8>, line 13)",
     "output_type": "error",
     "traceback": [
      "\u001b[1;36m  File \u001b[1;32m\"<ipython-input-63-8cd8234eead8>\"\u001b[1;36m, line \u001b[1;32m13\u001b[0m\n\u001b[1;33m    df =\u001b[0m\n\u001b[1;37m         ^\u001b[0m\n\u001b[1;31mSyntaxError\u001b[0m\u001b[1;31m:\u001b[0m invalid syntax\n"
     ]
    }
   ],
   "source": [
    "questions = so.questions(fromdate=from_date_ts, todate=to_date_ts, sort=Sort.Creation, order=ASC, pagesize=100)\n",
    "while questions.has_more:\n",
    "    for question in questions:\n",
    "        q_id = question.id\n",
    "        author_id = question.owner_id\n",
    "        date = question.creation_date\n",
    "        title = question.title\n",
    "        text = html_to_string(question.body)\n",
    "        score = question.score\n",
    "        views = question.view_count\n",
    "        tags = question.tags\n",
    "        url = question.url\n",
    "        \n",
    "        info = [q_id, author_id, date, title, text, score, views, tags, url]\n",
    "        df = pd.DataFrame([info], columns=qs_columns)\n",
    "        questions_df = questions_df.append(df, ignore_index=True)\n",
    "        \n",
    "        answers = question.answers\n",
    "        for answer in answers:\n",
    "            \n",
    "    \n",
    "    questions = questions.fetch_next()"
   ]
  },
  {
   "cell_type": "code",
   "execution_count": 469,
   "metadata": {
    "collapsed": false
   },
   "outputs": [],
   "source": [
    "t=so.tag('php')"
   ]
  },
  {
   "cell_type": "code",
   "execution_count": 122,
   "metadata": {
    "collapsed": false
   },
   "outputs": [
    {
     "data": {
      "text/plain": [
       "[<Answer 20865938 @ 7f1a4aaea908>]"
      ]
     },
     "execution_count": 122,
     "metadata": {},
     "output_type": "execute_result"
    }
   ],
   "source": [
    "q.answers"
   ]
  },
  {
   "cell_type": "code",
   "execution_count": 37,
   "metadata": {
    "collapsed": false
   },
   "outputs": [
    {
     "data": {
      "text/plain": [
       "['javascript', 'google-chrome', 'encryption', 'html5-filesystem']"
      ]
     },
     "execution_count": 37,
     "metadata": {},
     "output_type": "execute_result"
    }
   ],
   "source": [
    "q.tags"
   ]
  },
  {
   "cell_type": "code",
   "execution_count": 462,
   "metadata": {
    "collapsed": true
   },
   "outputs": [],
   "source": [
    "question = so.questions(sort=Sort.Votes, order=DESC)[0]"
   ]
  },
  {
   "cell_type": "code",
   "execution_count": 464,
   "metadata": {
    "collapsed": false
   },
   "outputs": [
    {
     "data": {
      "text/plain": [
       "30"
      ]
     },
     "execution_count": 464,
     "metadata": {},
     "output_type": "execute_result"
    }
   ],
   "source": [
    "len(question.comments.fetch())"
   ]
  },
  {
   "cell_type": "code",
   "execution_count": 451,
   "metadata": {
    "collapsed": false
   },
   "outputs": [
    {
     "data": {
      "text/plain": [
       "<User 'user3148596' (3148596) @ 7f7257202c50>"
      ]
     },
     "execution_count": 451,
     "metadata": {},
     "output_type": "execute_result"
    }
   ],
   "source": [
    "q.owner"
   ]
  },
  {
   "cell_type": "code",
   "execution_count": 446,
   "metadata": {
    "collapsed": false
   },
   "outputs": [
    {
     "name": "stdout",
     "output_type": "stream",
     "text": [
      "Chrome crashes when exporting file via Filesystem API\n",
      "--------------------------------------------------------------------------------\n",
      "sort struct array in c++\n",
      "--------------------------------------------------------------------------------\n",
      "unsupported operand types for python classes\n",
      "--------------------------------------------------------------------------------\n",
      "Play framework \"find\" (Finder) results missing OneToMany relationship data\n",
      "--------------------------------------------------------------------------------\n",
      "Is it possible to set up Amazon EC2 auto-scaling for particular days of the week?\n",
      "--------------------------------------------------------------------------------\n",
      "What's the logic of this error?\n",
      "--------------------------------------------------------------------------------\n",
      "Multi-line header is not working.\n",
      "--------------------------------------------------------------------------------\n",
      "Codeigniter page caching: Is 24Gb of cache files too much?\n",
      "--------------------------------------------------------------------------------\n",
      "How can I use combine variables to an exit variable?\n",
      "--------------------------------------------------------------------------------\n",
      "Passing variable javascript to php in one js function\n",
      "--------------------------------------------------------------------------------\n",
      "Isn't UTF-7 possible if htmlspecialchars charset not set, despite the HTTP header charset?\n",
      "--------------------------------------------------------------------------------\n"
     ]
    }
   ],
   "source": [
    "count=0\n",
    "for q in questions:\n",
    "    print(q.title)\n",
    "    print('-' * 80)\n",
    "    if count == 10:\n",
    "        break\n",
    "    count += 1"
   ]
  },
  {
   "cell_type": "code",
   "execution_count": 441,
   "metadata": {
    "collapsed": false
   },
   "outputs": [
    {
     "data": {
      "text/plain": [
       "100"
      ]
     },
     "execution_count": 441,
     "metadata": {},
     "output_type": "execute_result"
    }
   ],
   "source": [
    "len(questions)"
   ]
  },
  {
   "cell_type": "code",
   "execution_count": 447,
   "metadata": {
    "collapsed": false
   },
   "outputs": [
    {
     "ename": "SyntaxError",
     "evalue": "invalid syntax (<ipython-input-447-bdbe80c41630>, line 1)",
     "output_type": "error",
     "traceback": [
      "\u001b[1;36m  File \u001b[1;32m\"<ipython-input-447-bdbe80c41630>\"\u001b[1;36m, line \u001b[1;32m1\u001b[0m\n\u001b[1;33m    questions.fetch()a\u001b[0m\n\u001b[1;37m                     ^\u001b[0m\n\u001b[1;31mSyntaxError\u001b[0m\u001b[1;31m:\u001b[0m invalid syntax\n"
     ]
    }
   ],
   "source": [
    "questions.fetch()a"
   ]
  },
  {
   "cell_type": "code",
   "execution_count": null,
   "metadata": {
    "collapsed": true
   },
   "outputs": [],
   "source": []
  },
  {
   "cell_type": "code",
   "execution_count": 426,
   "metadata": {
    "collapsed": false
   },
   "outputs": [
    {
     "data": {
      "text/plain": [
       "2349610"
      ]
     },
     "execution_count": 426,
     "metadata": {},
     "output_type": "execute_result"
    }
   ],
   "source": [
    "questions.total"
   ]
  },
  {
   "cell_type": "code",
   "execution_count": 422,
   "metadata": {
    "collapsed": false
   },
   "outputs": [
    {
     "data": {
      "text/plain": [
       "datetime.datetime(2014, 1, 1, 0, 13, 32)"
      ]
     },
     "execution_count": 422,
     "metadata": {},
     "output_type": "execute_result"
    }
   ],
   "source": [
    "questions[29].creation_date"
   ]
  },
  {
   "cell_type": "code",
   "execution_count": 381,
   "metadata": {
    "collapsed": false
   },
   "outputs": [],
   "source": [
    "dt = datetime.strptime('1980-06-13', '%Y-%m-%d')"
   ]
  },
  {
   "cell_type": "code",
   "execution_count": 391,
   "metadata": {
    "collapsed": false
   },
   "outputs": [
    {
     "data": {
      "text/plain": [
       "329716800.0"
      ]
     },
     "execution_count": 391,
     "metadata": {},
     "output_type": "execute_result"
    }
   ],
   "source": [
    "dt.timestamp()"
   ]
  },
  {
   "cell_type": "code",
   "execution_count": 393,
   "metadata": {
    "collapsed": false
   },
   "outputs": [
    {
     "data": {
      "text/plain": [
       "1340805096.0"
      ]
     },
     "execution_count": 393,
     "metadata": {},
     "output_type": "execute_result"
    }
   ],
   "source": [
    "q.creation_date.timestamp()"
   ]
  },
  {
   "cell_type": "code",
   "execution_count": 448,
   "metadata": {
    "collapsed": false
   },
   "outputs": [
    {
     "ename": "SyntaxError",
     "evalue": "invalid syntax (<ipython-input-448-df33aa3b509a>, line 1)",
     "output_type": "error",
     "traceback": [
      "\u001b[1;36m  File \u001b[1;32m\"<ipython-input-448-df33aa3b509a>\"\u001b[1;36m, line \u001b[1;32m1\u001b[0m\n\u001b[1;33m    qq=so.questions(todate=datetime.strptime('1980-06-13', '%Y-%m-%d').timestamp())a\u001b[0m\n\u001b[1;37m                                                                                   ^\u001b[0m\n\u001b[1;31mSyntaxError\u001b[0m\u001b[1;31m:\u001b[0m invalid syntax\n"
     ]
    }
   ],
   "source": [
    "qq=so.questions(todate=datetime.strptime('1980-06-13', '%Y-%m-%d').timestamp())a"
   ]
  },
  {
   "cell_type": "code",
   "execution_count": 354,
   "metadata": {
    "collapsed": true
   },
   "outputs": [],
   "source": [
    "df=pd.DataFrame([1,2,3])"
   ]
  },
  {
   "cell_type": "code",
   "execution_count": 357,
   "metadata": {
    "collapsed": false
   },
   "outputs": [
    {
     "data": {
      "text/html": [
       "<div style=\"max-height:1000px;max-width:1500px;overflow:auto;\">\n",
       "<table border=\"1\" class=\"dataframe\">\n",
       "  <thead>\n",
       "    <tr style=\"text-align: right;\">\n",
       "      <th></th>\n",
       "      <th>0</th>\n",
       "    </tr>\n",
       "  </thead>\n",
       "  <tbody>\n",
       "    <tr>\n",
       "      <th>0</th>\n",
       "      <td>1</td>\n",
       "    </tr>\n",
       "    <tr>\n",
       "      <th>1</th>\n",
       "      <td>2</td>\n",
       "    </tr>\n",
       "    <tr>\n",
       "      <th>2</th>\n",
       "      <td>3</td>\n",
       "    </tr>\n",
       "  </tbody>\n",
       "</table>\n",
       "</div>"
      ],
      "text/plain": [
       "   0\n",
       "0  1\n",
       "1  2\n",
       "2  3"
      ]
     },
     "execution_count": 357,
     "metadata": {},
     "output_type": "execute_result"
    }
   ],
   "source": [
    "df"
   ]
  },
  {
   "cell_type": "code",
   "execution_count": 362,
   "metadata": {
    "collapsed": false
   },
   "outputs": [
    {
     "data": {
      "text/plain": [
       "0    2\n",
       "Name: 1, dtype: int64"
      ]
     },
     "execution_count": 362,
     "metadata": {},
     "output_type": "execute_result"
    }
   ],
   "source": [
    "df.ix[1]"
   ]
  },
  {
   "cell_type": "code",
   "execution_count": 366,
   "metadata": {
    "collapsed": false
   },
   "outputs": [],
   "source": [
    "aa=np.array([1,2])"
   ]
  },
  {
   "cell_type": "code",
   "execution_count": 368,
   "metadata": {
    "collapsed": false
   },
   "outputs": [
    {
     "data": {
      "text/plain": [
       "array([1, 2])"
      ]
     },
     "execution_count": 368,
     "metadata": {},
     "output_type": "execute_result"
    }
   ],
   "source": [
    "aa.view()"
   ]
  },
  {
   "cell_type": "code",
   "execution_count": 3,
   "metadata": {
    "collapsed": false
   },
   "outputs": [],
   "source": [
    "me_id = 2055126\n",
    "user_id = 41981\n",
    "me = so.user(me_id)\n",
    "user = so.user(user_id)"
   ]
  },
  {
   "cell_type": "code",
   "execution_count": 47,
   "metadata": {
    "collapsed": false
   },
   "outputs": [],
   "source": [
    "rs=user.answers.fetch()"
   ]
  },
  {
   "cell_type": "code",
   "execution_count": 48,
   "metadata": {
    "collapsed": false
   },
   "outputs": [],
   "source": [
    "rs.pagesize = 100"
   ]
  },
  {
   "cell_type": "code",
   "execution_count": 51,
   "metadata": {
    "collapsed": false
   },
   "outputs": [
    {
     "data": {
      "text/plain": [
       "30"
      ]
     },
     "execution_count": 51,
     "metadata": {},
     "output_type": "execute_result"
    }
   ],
   "source": [
    "len(rs.fetch())"
   ]
  },
  {
   "cell_type": "code",
   "execution_count": 52,
   "metadata": {
    "collapsed": true
   },
   "outputs": [],
   "source": [
    "questions = so.questions(sort=Sort.Votes, order=DESC)"
   ]
  },
  {
   "cell_type": "code",
   "execution_count": 32,
   "metadata": {
    "collapsed": false
   },
   "outputs": [],
   "source": [
    "q=questions[0]"
   ]
  },
  {
   "cell_type": "code",
   "execution_count": 59,
   "metadata": {
    "collapsed": false
   },
   "outputs": [
    {
     "data": {
      "text/plain": [
       "<User 'GManNickG' (87234) @ 7f7267d31b38>"
      ]
     },
     "execution_count": 59,
     "metadata": {},
     "output_type": "execute_result"
    }
   ],
   "source": [
    "q.owner"
   ]
  },
  {
   "cell_type": "code",
   "execution_count": 94,
   "metadata": {
    "collapsed": false
   },
   "outputs": [
    {
     "data": {
      "text/plain": [
       "595789"
      ]
     },
     "execution_count": 94,
     "metadata": {},
     "output_type": "execute_result"
    }
   ],
   "source": [
    "q.view_count"
   ]
  },
  {
   "cell_type": "code",
   "execution_count": 3,
   "metadata": {
    "collapsed": false
   },
   "outputs": [
    {
     "ename": "NameError",
     "evalue": "name 'so' is not defined",
     "output_type": "error",
     "traceback": [
      "\u001b[1;31m---------------------------------------------------------------------------\u001b[0m",
      "\u001b[1;31mNameError\u001b[0m                                 Traceback (most recent call last)",
      "\u001b[1;32m<ipython-input-3-ab2ac3b0f02f>\u001b[0m in \u001b[0;36m<module>\u001b[1;34m()\u001b[0m\n\u001b[1;32m----> 1\u001b[1;33m \u001b[0manswers\u001b[0m\u001b[1;33m=\u001b[0m\u001b[0mso\u001b[0m\u001b[1;33m.\u001b[0m\u001b[0manswers\u001b[0m\u001b[1;33m(\u001b[0m\u001b[0msort\u001b[0m\u001b[1;33m=\u001b[0m\u001b[0mSort\u001b[0m\u001b[1;33m.\u001b[0m\u001b[0mVotes\u001b[0m\u001b[1;33m,\u001b[0m \u001b[0morder\u001b[0m\u001b[1;33m=\u001b[0m\u001b[0mDESC\u001b[0m\u001b[1;33m)\u001b[0m\u001b[1;33m\u001b[0m\u001b[0m\n\u001b[0m",
      "\u001b[1;31mNameError\u001b[0m: name 'so' is not defined"
     ]
    }
   ],
   "source": [
    "answers=so.answers(sort=Sort.Votes, order=DESC)"
   ]
  },
  {
   "cell_type": "code",
   "execution_count": 2,
   "metadata": {
    "collapsed": false
   },
   "outputs": [
    {
     "ename": "NameError",
     "evalue": "name 'answers' is not defined",
     "output_type": "error",
     "traceback": [
      "\u001b[1;31m---------------------------------------------------------------------------\u001b[0m",
      "\u001b[1;31mNameError\u001b[0m                                 Traceback (most recent call last)",
      "\u001b[1;32m<ipython-input-2-42751d76de33>\u001b[0m in \u001b[0;36m<module>\u001b[1;34m()\u001b[0m\n\u001b[1;32m----> 1\u001b[1;33m \u001b[0ma\u001b[0m\u001b[1;33m=\u001b[0m\u001b[0manswers\u001b[0m\u001b[1;33m[\u001b[0m\u001b[1;36m0\u001b[0m\u001b[1;33m]\u001b[0m\u001b[1;33m\u001b[0m\u001b[0m\n\u001b[0m",
      "\u001b[1;31mNameError\u001b[0m: name 'answers' is not defined"
     ]
    }
   ],
   "source": [
    "a=answers[0]"
   ]
  },
  {
   "cell_type": "code",
   "execution_count": 113,
   "metadata": {
    "collapsed": false
   },
   "outputs": [
    {
     "data": {
      "text/plain": [
       "11227809"
      ]
     },
     "execution_count": 113,
     "metadata": {},
     "output_type": "execute_result"
    }
   ],
   "source": [
    "a.question_id"
   ]
  },
  {
   "cell_type": "code",
   "execution_count": 260,
   "metadata": {
    "collapsed": true
   },
   "outputs": [],
   "source": [
    "import re"
   ]
  },
  {
   "cell_type": "code",
   "execution_count": 270,
   "metadata": {
    "collapsed": false
   },
   "outputs": [
    {
     "data": {
      "text/plain": [
       "['xyx', 'xzx']"
      ]
     },
     "execution_count": 270,
     "metadata": {},
     "output_type": "execute_result"
    }
   ],
   "source": [
    "re.findall(r'x.+?x', 'asxyxdasxzxdasda')"
   ]
  },
  {
   "cell_type": "code",
   "execution_count": 329,
   "metadata": {
    "collapsed": false
   },
   "outputs": [
    {
     "data": {
      "text/plain": [
       "['<code>if (data[c] &gt;= 128)\\n    sum += data[c];\\n</code>',\n",
       " '<code>T = branch taken\\nN = branch not taken\\n\\ndata[] = 0, 1, 2, 3, 4, ... 126, 127, 128, 129, 130, ... 250, 251, 252, ...\\nbranch = N  N  N  N  N  ...   N    N    T    T    T  ...   T    T    T  ...\\n\\n       = NNNNNNNNNNNN ... NNNNNNNTTTTTTTTT ... TTTTTTTTTT  (easy to predict)\\n</code>',\n",
       " '<code>data[] = 226, 185, 125, 158, 198, 144, 217, 79, 202, 118,  14, 150, 177, 182, 133, ...\\nbranch =   T,   T,   N,   T,   T,   T,   T,  N,   T,   N,   N,   T,   T,   T,   N  ...\\n\\n       = TTNTTTTNTNNTTTN ...   (completely random - hard to predict)\\n</code>',\n",
       " '<code>if (data[c] &gt;= 128)\\n    sum += data[c];\\n</code>',\n",
       " '<code>int t = (data[c] - 128) &gt;&gt; 31;\\nsum += ~t &amp; data[c];\\n</code>',\n",
       " '<code>data[]</code>',\n",
       " '<code>//  Branch - Random\\nseconds = 11.777\\n\\n//  Branch - Sorted\\nseconds = 2.352\\n\\n//  Branchless - Random\\nseconds = 2.564\\n\\n//  Branchless - Sorted\\nseconds = 2.587\\n</code>',\n",
       " '<code>//  Branch - Random\\nseconds = 10.93293813\\n\\n//  Branch - Sorted\\nseconds = 5.643797077\\n\\n//  Branchless - Random\\nseconds = 3.113581453\\n\\n//  Branchless - Sorted\\nseconds = 3.186068823\\n</code>',\n",
       " '<code>-O3</code>',\n",
       " '<code>-ftree-vectorize</code>',\n",
       " '<code>/Ox</code>']"
      ]
     },
     "execution_count": 329,
     "metadata": {},
     "output_type": "execute_result"
    }
   ],
   "source": [
    "re.findall(r'<code>.*?</code>', a.body, re.DOTALL)"
   ]
  },
  {
   "cell_type": "code",
   "execution_count": 316,
   "metadata": {
    "collapsed": true
   },
   "outputs": [],
   "source": [
    "qqq='<pre><code>if (data[c] &gt;= 128)\\n    sum += data[c];\\n</code></pre>'"
   ]
  },
  {
   "cell_type": "code",
   "execution_count": 317,
   "metadata": {
    "collapsed": false
   },
   "outputs": [
    {
     "data": {
      "text/plain": [
       "'<pre><code>if (data[c] &gt;= 128)\\n    sum += data[c];\\n</code></pre>'"
      ]
     },
     "execution_count": 317,
     "metadata": {},
     "output_type": "execute_result"
    }
   ],
   "source": [
    "qqq"
   ]
  },
  {
   "cell_type": "code",
   "execution_count": 325,
   "metadata": {
    "collapsed": false
   },
   "outputs": [
    {
     "data": {
      "text/plain": [
       "['1', '', '4', '', '7', '', '0']"
      ]
     },
     "execution_count": 325,
     "metadata": {},
     "output_type": "execute_result"
    }
   ],
   "source": [
    "'1  4  7  0'.split(' ')"
   ]
  },
  {
   "cell_type": "code",
   "execution_count": 343,
   "metadata": {
    "collapsed": false
   },
   "outputs": [],
   "source": [
    "l=['asdasd', '', 'utyutyu']\n",
    "l = filter(lambda x: len(x) > 0, l)"
   ]
  },
  {
   "cell_type": "code",
   "execution_count": 344,
   "metadata": {
    "collapsed": false
   },
   "outputs": [
    {
     "name": "stdout",
     "output_type": "stream",
     "text": [
      "asdasd\n",
      "utyutyu\n"
     ]
    }
   ],
   "source": [
    "for x in l:\n",
    "    print(x)"
   ]
  },
  {
   "cell_type": "code",
   "execution_count": 347,
   "metadata": {
    "collapsed": false
   },
   "outputs": [
    {
     "name": "stdout",
     "output_type": "stream",
     "text": [
      "34\n"
     ]
    }
   ],
   "source": [
    "codes = re.findall(r'<code>.*?</code>', a.body, re.DOTALL)\n",
    "count_lines = 0\n",
    "for code in codes:\n",
    "    text = html_to_string(code)\n",
    "    lines = text.split('\\n')\n",
    "    lines = list(filter(lambda x: len(x) > 0, lines))\n",
    "    count_lines += len(lines)\n",
    "print(count_lines)"
   ]
  },
  {
   "cell_type": "code",
   "execution_count": 323,
   "metadata": {
    "collapsed": false
   },
   "outputs": [
    {
     "data": {
      "text/plain": [
       "'<p><strong>You are the victim of <a href=\"//en.wikipedia.org/wiki/Branch_predictor\">branch predictio'"
      ]
     },
     "execution_count": 323,
     "metadata": {},
     "output_type": "execute_result"
    }
   ],
   "source": [
    "a.body[:100]"
   ]
  },
  {
   "cell_type": "code",
   "execution_count": 254,
   "metadata": {
    "collapsed": false
   },
   "outputs": [
    {
     "data": {
      "text/plain": [
       "'You are the victim of branch prediction fail.\\n\\n\\n\\nWhat is Branch Prediction?\\n\\nConsider a railroad jun'"
      ]
     },
     "execution_count": 254,
     "metadata": {},
     "output_type": "execute_result"
    }
   ],
   "source": [
    "html_to_string(a.body)[:100]"
   ]
  },
  {
   "cell_type": "code",
   "execution_count": 7,
   "metadata": {
    "collapsed": true
   },
   "outputs": [],
   "source": [
    "users=so.users()"
   ]
  },
  {
   "cell_type": "code",
   "execution_count": 8,
   "metadata": {
    "collapsed": true
   },
   "outputs": [],
   "source": [
    "u=users[0]"
   ]
  },
  {
   "cell_type": "code",
   "execution_count": 16,
   "metadata": {
    "collapsed": true
   },
   "outputs": [],
   "source": [
    "so.impose_throttling = False\n",
    "so.throttle_stop = True"
   ]
  },
  {
   "cell_type": "code",
   "execution_count": 25,
   "metadata": {
    "collapsed": false
   },
   "outputs": [
    {
     "data": {
      "text/plain": [
       "(<stackexchange.site.Site at 0x7f1a68763320>,\n",
       " 'users/22656/answers',\n",
       " stackexchange.models.Answer,\n",
       " 'answers',\n",
       " {'body': 'true', 'comments': 'true', 'site': 'stackoverflow.com'})"
      ]
     },
     "execution_count": 25,
     "metadata": {},
     "output_type": "execute_result"
    }
   ],
   "source": [
    "u.answers."
   ]
  },
  {
   "cell_type": "code",
   "execution_count": 23,
   "metadata": {
    "collapsed": false
   },
   "outputs": [],
   "source": [
    "aa=so.answers(user_id=u.id)"
   ]
  },
  {
   "cell_type": "code",
   "execution_count": 34,
   "metadata": {
    "collapsed": false
   },
   "outputs": [],
   "source": [
    "cc=so.comments(question_id=q.id)"
   ]
  },
  {
   "cell_type": "code",
   "execution_count": 36,
   "metadata": {
    "collapsed": false
   },
   "outputs": [
    {
     "data": {
      "text/plain": [
       "(<stackexchange.models.Comment at 0x7f1a682cccf8>,\n",
       " <stackexchange.models.Comment at 0x7f1a497c1b38>,\n",
       " <stackexchange.models.Comment at 0x7f1a497c1dd8>,\n",
       " <stackexchange.models.Comment at 0x7f1a497c15c0>,\n",
       " <stackexchange.models.Comment at 0x7f1a496b8a58>,\n",
       " <stackexchange.models.Comment at 0x7f1a496b8438>,\n",
       " <stackexchange.models.Comment at 0x7f1a496b8f98>,\n",
       " <stackexchange.models.Comment at 0x7f1a496b8e10>,\n",
       " <stackexchange.models.Comment at 0x7f1a49a2eeb8>,\n",
       " <stackexchange.models.Comment at 0x7f1a49a2ef28>,\n",
       " <stackexchange.models.Comment at 0x7f1a496da588>,\n",
       " <stackexchange.models.Comment at 0x7f1a496dab70>,\n",
       " <stackexchange.models.Comment at 0x7f1a496daf60>,\n",
       " <stackexchange.models.Comment at 0x7f1a496dabe0>,\n",
       " <stackexchange.models.Comment at 0x7f1a4a993be0>,\n",
       " <stackexchange.models.Comment at 0x7f1a4a993cf8>,\n",
       " <stackexchange.models.Comment at 0x7f1a4979ef98>,\n",
       " <stackexchange.models.Comment at 0x7f1a4aad6940>,\n",
       " <stackexchange.models.Comment at 0x7f1a500f3ac8>,\n",
       " <stackexchange.models.Comment at 0x7f1a49704710>,\n",
       " <stackexchange.models.Comment at 0x7f1a49704ac8>,\n",
       " <stackexchange.models.Comment at 0x7f1a49704780>,\n",
       " <stackexchange.models.Comment at 0x7f1a49704400>,\n",
       " <stackexchange.models.Comment at 0x7f1a49704080>,\n",
       " <stackexchange.models.Comment at 0x7f1a501063c8>,\n",
       " <stackexchange.models.Comment at 0x7f1a497e9dd8>,\n",
       " <stackexchange.models.Comment at 0x7f1a681ff940>,\n",
       " <stackexchange.models.Comment at 0x7f1a49777c88>,\n",
       " <stackexchange.models.Comment at 0x7f1a49777828>,\n",
       " <stackexchange.models.Comment at 0x7f1a49777be0>,\n",
       " <stackexchange.models.Comment at 0x7f1a496627b8>,\n",
       " <stackexchange.models.Comment at 0x7f1a49662da0>,\n",
       " <stackexchange.models.Comment at 0x7f1a49662eb8>,\n",
       " <stackexchange.models.Comment at 0x7f1a49662f98>,\n",
       " <stackexchange.models.Comment at 0x7f1a49662fd0>,\n",
       " <stackexchange.models.Comment at 0x7f1a4968f198>,\n",
       " <stackexchange.models.Comment at 0x7f1a4968f278>,\n",
       " <stackexchange.models.Comment at 0x7f1a497779b0>,\n",
       " <stackexchange.models.Comment at 0x7f1a49777e80>,\n",
       " <stackexchange.models.Comment at 0x7f1a49777748>,\n",
       " <stackexchange.models.Comment at 0x7f1a500dfcf8>,\n",
       " <stackexchange.models.Comment at 0x7f1a500ccb70>,\n",
       " <stackexchange.models.Comment at 0x7f1a499a3cf8>,\n",
       " <stackexchange.models.Comment at 0x7f1a4ab1c8d0>,\n",
       " <stackexchange.models.Comment at 0x7f1a4a981940>,\n",
       " <stackexchange.models.Comment at 0x7f1a49726cc0>,\n",
       " <stackexchange.models.Comment at 0x7f1a497264a8>,\n",
       " <stackexchange.models.Comment at 0x7f1a49726ba8>,\n",
       " <stackexchange.models.Comment at 0x7f1a496b8dd8>,\n",
       " <stackexchange.models.Comment at 0x7f1a496b80b8>,\n",
       " <stackexchange.models.Comment at 0x7f1a4aaea390>,\n",
       " <stackexchange.models.Comment at 0x7f1a49a0bfd0>,\n",
       " <stackexchange.models.Comment at 0x7f1a497c1e80>,\n",
       " <stackexchange.models.Comment at 0x7f1a682ad898>,\n",
       " <stackexchange.models.Comment at 0x7f1a682ad2b0>,\n",
       " <stackexchange.models.Comment at 0x7f1a497e9048>,\n",
       " <stackexchange.models.Comment at 0x7f1a4ab43e48>,\n",
       " <stackexchange.models.Comment at 0x7f1a4979e0b8>,\n",
       " <stackexchange.models.Comment at 0x7f1a496da9e8>,\n",
       " <stackexchange.models.Comment at 0x7f1a496dae80>,\n",
       " <stackexchange.models.Comment at 0x7f1a49662748>,\n",
       " <stackexchange.models.Comment at 0x7f1a496da550>,\n",
       " <stackexchange.models.Comment at 0x7f1a49704748>,\n",
       " <stackexchange.models.Comment at 0x7f1a49704be0>,\n",
       " <stackexchange.models.Comment at 0x7f1a4968f3c8>,\n",
       " <stackexchange.models.Comment at 0x7f1a4968f4a8>,\n",
       " <stackexchange.models.Comment at 0x7f1a4968f588>,\n",
       " <stackexchange.models.Comment at 0x7f1a4968f668>,\n",
       " <stackexchange.models.Comment at 0x7f1a4968f748>,\n",
       " <stackexchange.models.Comment at 0x7f1a4968f828>,\n",
       " <stackexchange.models.Comment at 0x7f1a4968f908>,\n",
       " <stackexchange.models.Comment at 0x7f1a4968f9e8>,\n",
       " <stackexchange.models.Comment at 0x7f1a4968fac8>,\n",
       " <stackexchange.models.Comment at 0x7f1a4968fba8>,\n",
       " <stackexchange.models.Comment at 0x7f1a4968fc88>,\n",
       " <stackexchange.models.Comment at 0x7f1a4968fd68>,\n",
       " <stackexchange.models.Comment at 0x7f1a4968fe48>,\n",
       " <stackexchange.models.Comment at 0x7f1a4968ff28>,\n",
       " <stackexchange.models.Comment at 0x7f1a4968ff60>,\n",
       " <stackexchange.models.Comment at 0x7f1a49953128>,\n",
       " <stackexchange.models.Comment at 0x7f1a49953208>,\n",
       " <stackexchange.models.Comment at 0x7f1a499532e8>,\n",
       " <stackexchange.models.Comment at 0x7f1a499533c8>,\n",
       " <stackexchange.models.Comment at 0x7f1a499534a8>,\n",
       " <stackexchange.models.Comment at 0x7f1a49953588>,\n",
       " <stackexchange.models.Comment at 0x7f1a49953668>,\n",
       " <stackexchange.models.Comment at 0x7f1a49953748>,\n",
       " <stackexchange.models.Comment at 0x7f1a49953828>,\n",
       " <stackexchange.models.Comment at 0x7f1a49953908>,\n",
       " <stackexchange.models.Comment at 0x7f1a499539e8>,\n",
       " <stackexchange.models.Comment at 0x7f1a4968f198>,\n",
       " <stackexchange.models.Comment at 0x7f1a4aaea390>,\n",
       " <stackexchange.models.Comment at 0x7f1a496b8470>,\n",
       " <stackexchange.models.Comment at 0x7f1a496b8978>,\n",
       " <stackexchange.models.Comment at 0x7f1a682ad2b0>,\n",
       " <stackexchange.models.Comment at 0x7f1a4ab43e48>,\n",
       " <stackexchange.models.Comment at 0x7f1a49a51d30>,\n",
       " <stackexchange.models.Comment at 0x7f1a496daf98>,\n",
       " <stackexchange.models.Comment at 0x7f1a49662898>,\n",
       " <stackexchange.models.Comment at 0x7f1a496627b8>,\n",
       " <stackexchange.models.Comment at 0x7f1a49662eb8>,\n",
       " <stackexchange.models.Comment at 0x7f1a49662fd0>,\n",
       " <stackexchange.models.Comment at 0x7f1a49662ba8>,\n",
       " <stackexchange.models.Comment at 0x7f1a49662828>,\n",
       " <stackexchange.models.Comment at 0x7f1a49953be0>,\n",
       " <stackexchange.models.Comment at 0x7f1a49953cc0>,\n",
       " <stackexchange.models.Comment at 0x7f1a49953da0>,\n",
       " <stackexchange.models.Comment at 0x7f1a49953e80>,\n",
       " <stackexchange.models.Comment at 0x7f1a49953f60>,\n",
       " <stackexchange.models.Comment at 0x7f1a49953f98>,\n",
       " <stackexchange.models.Comment at 0x7f1a4962f160>,\n",
       " <stackexchange.models.Comment at 0x7f1a4962f240>,\n",
       " <stackexchange.models.Comment at 0x7f1a4962f320>,\n",
       " <stackexchange.models.Comment at 0x7f1a4962f400>,\n",
       " <stackexchange.models.Comment at 0x7f1a4962f4e0>,\n",
       " <stackexchange.models.Comment at 0x7f1a4962f5c0>,\n",
       " <stackexchange.models.Comment at 0x7f1a4962f6a0>,\n",
       " <stackexchange.models.Comment at 0x7f1a4962f780>,\n",
       " <stackexchange.models.Comment at 0x7f1a4962f860>,\n",
       " <stackexchange.models.Comment at 0x7f1a4962f940>,\n",
       " <stackexchange.models.Comment at 0x7f1a496da0f0>,\n",
       " <stackexchange.models.Comment at 0x7f1a49953320>,\n",
       " <stackexchange.models.Comment at 0x7f1a49953668>,\n",
       " <stackexchange.models.Comment at 0x7f1a49953828>,\n",
       " <stackexchange.models.Comment at 0x7f1a49953780>,\n",
       " <stackexchange.models.Comment at 0x7f1a4968f588>,\n",
       " <stackexchange.models.Comment at 0x7f1a4968f748>,\n",
       " <stackexchange.models.Comment at 0x7f1a4968f908>,\n",
       " <stackexchange.models.Comment at 0x7f1a4968fac8>,\n",
       " <stackexchange.models.Comment at 0x7f1a4968fc88>,\n",
       " <stackexchange.models.Comment at 0x7f1a4968fe48>,\n",
       " <stackexchange.models.Comment at 0x7f1a4968ff60>,\n",
       " <stackexchange.models.Comment at 0x7f1a4968f0f0>,\n",
       " <stackexchange.models.Comment at 0x7f1a4962fb00>,\n",
       " <stackexchange.models.Comment at 0x7f1a4962fbe0>,\n",
       " <stackexchange.models.Comment at 0x7f1a4962fcc0>,\n",
       " <stackexchange.models.Comment at 0x7f1a4962fda0>,\n",
       " <stackexchange.models.Comment at 0x7f1a4962fe80>,\n",
       " <stackexchange.models.Comment at 0x7f1a4962ff60>,\n",
       " <stackexchange.models.Comment at 0x7f1a4962ff98>,\n",
       " <stackexchange.models.Comment at 0x7f1a495e1160>,\n",
       " <stackexchange.models.Comment at 0x7f1a495e1240>,\n",
       " <stackexchange.models.Comment at 0x7f1a495e1320>,\n",
       " <stackexchange.models.Comment at 0x7f1a49953a58>,\n",
       " <stackexchange.models.Comment at 0x7f1a49953898>,\n",
       " <stackexchange.models.Comment at 0x7f1a49953710>,\n",
       " <stackexchange.models.Comment at 0x7f1a49953550>,\n",
       " <stackexchange.models.Comment at 0x7f1a49953390>,\n",
       " <stackexchange.models.Comment at 0x7f1a499531d0>,\n",
       " <stackexchange.models.Comment at 0x7f1a499530b8>,\n",
       " <stackexchange.models.Comment at 0x7f1a682ad2b0>,\n",
       " <stackexchange.models.Comment at 0x7f1a4962f5c0>,\n",
       " <stackexchange.models.Comment at 0x7f1a4962f6d8>,\n",
       " <stackexchange.models.Comment at 0x7f1a4962f860>,\n",
       " <stackexchange.models.Comment at 0x7f1a49953b70>,\n",
       " <stackexchange.models.Comment at 0x7f1a49953d68>,\n",
       " <stackexchange.models.Comment at 0x7f1a49953f28>,\n",
       " <stackexchange.models.Comment at 0x7f1a49953fd0>,\n",
       " <stackexchange.models.Comment at 0x7f1a4962f2e8>,\n",
       " <stackexchange.models.Comment at 0x7f1a4962f4a8>,\n",
       " <stackexchange.models.Comment at 0x7f1a4962f668>,\n",
       " <stackexchange.models.Comment at 0x7f1a4962f828>,\n",
       " <stackexchange.models.Comment at 0x7f1a4962f9e8>,\n",
       " <stackexchange.models.Comment at 0x7f1a58022a90>,\n",
       " <stackexchange.models.Comment at 0x7f1a68769668>,\n",
       " <stackexchange.models.Comment at 0x7f1a68769e10>,\n",
       " <stackexchange.models.Comment at 0x7f1a682ad2e8>,\n",
       " <stackexchange.models.Comment at 0x7f1a682ad5c0>,\n",
       " <stackexchange.models.Comment at 0x7f1a682ad198>,\n",
       " <stackexchange.models.Comment at 0x7f1a682ad390>,\n",
       " <stackexchange.models.Comment at 0x7f1a6c047160>,\n",
       " <stackexchange.models.Comment at 0x7f1a682ccfd0>,\n",
       " <stackexchange.models.Comment at 0x7f1a680e6208>,\n",
       " <stackexchange.models.Comment at 0x7f1a4ab53710>,\n",
       " <stackexchange.models.Comment at 0x7f1a4ab539e8>,\n",
       " <stackexchange.models.Comment at 0x7f1a4ab533c8>,\n",
       " <stackexchange.models.Comment at 0x7f1a4ab53080>,\n",
       " <stackexchange.models.Comment at 0x7f1a4ab530b8>,\n",
       " <stackexchange.models.Comment at 0x7f1a4ab53278>,\n",
       " <stackexchange.models.Comment at 0x7f1a4ab53320>,\n",
       " <stackexchange.models.Comment at 0x7f1a4962fb00>,\n",
       " <stackexchange.models.Comment at 0x7f1a49953710>,\n",
       " <stackexchange.models.Comment at 0x7f1a49953390>,\n",
       " <stackexchange.models.Comment at 0x7f1a49953438>,\n",
       " <stackexchange.models.Comment at 0x7f1a4ab536d8>,\n",
       " <stackexchange.models.Comment at 0x7f1a4ab53a58>,\n",
       " <stackexchange.models.Comment at 0x7f1a4ab53a90>,\n",
       " <stackexchange.models.Comment at 0x7f1a50077080>,\n",
       " <stackexchange.models.Comment at 0x7f1a50026080>,\n",
       " <stackexchange.models.Comment at 0x7f1a50026400>,\n",
       " <stackexchange.models.Comment at 0x7f1a4aaea048>,\n",
       " <stackexchange.models.Comment at 0x7f1a50030b38>,\n",
       " <stackexchange.models.Comment at 0x7f1a4aac6c18>,\n",
       " <stackexchange.models.Comment at 0x7f1a4aac6d30>,\n",
       " <stackexchange.models.Comment at 0x7f1a68266198>,\n",
       " <stackexchange.models.Comment at 0x7f1a4a993198>,\n",
       " <stackexchange.models.Comment at 0x7f1a4a993a90>,\n",
       " <stackexchange.models.Comment at 0x7f1a4a993d68>,\n",
       " <stackexchange.models.Comment at 0x7f1a4a993518>,\n",
       " <stackexchange.models.Comment at 0x7f1a4a9937f0>,\n",
       " <stackexchange.models.Comment at 0x7f1a4a9931d0>,\n",
       " <stackexchange.models.Comment at 0x7f1a4a981978>,\n",
       " <stackexchange.models.Comment at 0x7f1a4a9818d0>,\n",
       " <stackexchange.models.Comment at 0x7f1a4a981748>,\n",
       " <stackexchange.models.Comment at 0x7f1a4a981c88>,\n",
       " <stackexchange.models.Comment at 0x7f1a4a981908>,\n",
       " <stackexchange.models.Comment at 0x7f1a4a981128>,\n",
       " <stackexchange.models.Comment at 0x7f1a4a981dd8>,\n",
       " <stackexchange.models.Comment at 0x7f1a4ab32710>,\n",
       " <stackexchange.models.Comment at 0x7f1a4ab32908>,\n",
       " <stackexchange.models.Comment at 0x7f1a49953da0>,\n",
       " <stackexchange.models.Comment at 0x7f1a4ab53320>,\n",
       " <stackexchange.models.Comment at 0x7f1a4ab53828>,\n",
       " <stackexchange.models.Comment at 0x7f1a4ab53128>,\n",
       " <stackexchange.models.Comment at 0x7f1a4ab530f0>,\n",
       " <stackexchange.models.Comment at 0x7f1a4962f6d8>,\n",
       " <stackexchange.models.Comment at 0x7f1a4962f2e8>,\n",
       " <stackexchange.models.Comment at 0x7f1a4962f668>,\n",
       " <stackexchange.models.Comment at 0x7f1a4962f9e8>,\n",
       " <stackexchange.models.Comment at 0x7f1a4962f320>,\n",
       " <stackexchange.models.Comment at 0x7f1a4962f278>,\n",
       " <stackexchange.models.Comment at 0x7f1a4ab32390>,\n",
       " <stackexchange.models.Comment at 0x7f1a4ab327b8>,\n",
       " <stackexchange.models.Comment at 0x7f1a4ab328d0>,\n",
       " <stackexchange.models.Comment at 0x7f1a4ab32080>,\n",
       " <stackexchange.models.Comment at 0x7f1a49a2ef60>,\n",
       " <stackexchange.models.Comment at 0x7f1a4a9a6470>,\n",
       " <stackexchange.models.Comment at 0x7f1a4a9a6518>,\n",
       " <stackexchange.models.Comment at 0x7f1a4ab09a20>,\n",
       " <stackexchange.models.Comment at 0x7f1a4ab09b38>,\n",
       " <stackexchange.models.Comment at 0x7f1a4ab09eb8>,\n",
       " <stackexchange.models.Comment at 0x7f1a4ab09c88>,\n",
       " <stackexchange.models.Comment at 0x7f1a4ab09c50>,\n",
       " <stackexchange.models.Comment at 0x7f1a50139da0>,\n",
       " <stackexchange.models.Comment at 0x7f1a4ab71470>,\n",
       " <stackexchange.models.Comment at 0x7f1a4ab86748>,\n",
       " <stackexchange.models.Comment at 0x7f1a4ab86278>,\n",
       " <stackexchange.models.Comment at 0x7f1a5001d8d0>,\n",
       " <stackexchange.models.Comment at 0x7f1a4aad6cc0>,\n",
       " <stackexchange.models.Comment at 0x7f1a4aad6780>,\n",
       " <stackexchange.models.Comment at 0x7f1a4962fcf8>,\n",
       " <stackexchange.models.Comment at 0x7f1a4a993c50>,\n",
       " <stackexchange.models.Comment at 0x7f1a4a993518>,\n",
       " <stackexchange.models.Comment at 0x7f1a4a9931d0>,\n",
       " <stackexchange.models.Comment at 0x7f1a4a993710>,\n",
       " <stackexchange.models.Comment at 0x7f1a4a981c88>,\n",
       " <stackexchange.models.Comment at 0x7f1a4a981128>,\n",
       " <stackexchange.models.Comment at 0x7f1a4a993588>,\n",
       " <stackexchange.models.Comment at 0x7f1a4a993e48>,\n",
       " <stackexchange.models.Comment at 0x7f1a4a993160>,\n",
       " <stackexchange.models.Comment at 0x7f1a681ffa58>,\n",
       " <stackexchange.models.Comment at 0x7f1a4aac6f98>,\n",
       " <stackexchange.models.Comment at 0x7f1a4aaea0b8>,\n",
       " <stackexchange.models.Comment at 0x7f1a50026320>,\n",
       " <stackexchange.models.Comment at 0x7f1a50077048>,\n",
       " <stackexchange.models.Comment at 0x7f1a4ab536a0>,\n",
       " <stackexchange.models.Comment at 0x7f1a4ab53390>,\n",
       " <stackexchange.models.Comment at 0x7f1a4ab53b70>,\n",
       " <stackexchange.models.Comment at 0x7f1a4ab53588>,\n",
       " <stackexchange.models.Comment at 0x7f1a4ab53550>,\n",
       " <stackexchange.models.Comment at 0x7f1a680e00b8>,\n",
       " <stackexchange.models.Comment at 0x7f1a682cceb8>,\n",
       " <stackexchange.models.Comment at 0x7f1a682ada58>,\n",
       " <stackexchange.models.Comment at 0x7f1a50139cf8>,\n",
       " <stackexchange.models.Comment at 0x7f1a4a9e5e10>,\n",
       " <stackexchange.models.Comment at 0x7f1a4ab67908>,\n",
       " <stackexchange.models.Comment at 0x7f1a4962f240>,\n",
       " <stackexchange.models.Comment at 0x7f1a4962f908>,\n",
       " <stackexchange.models.Comment at 0x7f1a4962f588>,\n",
       " <stackexchange.models.Comment at 0x7f1a4962f208>,\n",
       " <stackexchange.models.Comment at 0x7f1a4ab53320>,\n",
       " <stackexchange.models.Comment at 0x7f1a4ab09c50>,\n",
       " <stackexchange.models.Comment at 0x7f1a50139d68>,\n",
       " <stackexchange.models.Comment at 0x7f1a682ad320>,\n",
       " <stackexchange.models.Comment at 0x7f1a4ab86748>,\n",
       " <stackexchange.models.Comment at 0x7f1a5001d8d0>,\n",
       " <stackexchange.models.Comment at 0x7f1a4962f1d0>,\n",
       " <stackexchange.models.Comment at 0x7f1a4962f8d0>,\n",
       " <stackexchange.models.Comment at 0x7f1a4962f2b0>,\n",
       " <stackexchange.models.Comment at 0x7f1a4a981e80>,\n",
       " <stackexchange.models.Comment at 0x7f1a4a981b38>,\n",
       " <stackexchange.models.Comment at 0x7f1a4a981c18>,\n",
       " <stackexchange.models.Comment at 0x7f1a4a981eb8>,\n",
       " <stackexchange.models.Comment at 0x7f1a4ab328d0>,\n",
       " <stackexchange.models.Comment at 0x7f1a4ab32828>,\n",
       " <stackexchange.models.Comment at 0x7f1a4ab32198>,\n",
       " <stackexchange.models.Comment at 0x7f1a4ab32710>,\n",
       " <stackexchange.models.Comment at 0x7f1a4ab329b0>,\n",
       " <stackexchange.models.Comment at 0x7f1a49953da0>,\n",
       " <stackexchange.models.Comment at 0x7f1a49953a58>,\n",
       " <stackexchange.models.Comment at 0x7f1a49953400>,\n",
       " <stackexchange.models.Comment at 0x7f1a499531d0>,\n",
       " <stackexchange.models.Comment at 0x7f1a49953128>,\n",
       " <stackexchange.models.Comment at 0x7f1a49953dd8>,\n",
       " <stackexchange.models.Comment at 0x7f1a49953ef0>,\n",
       " <stackexchange.models.Comment at 0x7f1a49953710>,\n",
       " <stackexchange.models.Comment at 0x7f1a49953438>,\n",
       " <stackexchange.models.Comment at 0x7f1a50016ba8>,\n",
       " <stackexchange.models.Comment at 0x7f1a4aad6438>,\n",
       " <stackexchange.models.Comment at 0x7f1a4aad6978>,\n",
       " <stackexchange.models.Comment at 0x7f1a4a9818d0>,\n",
       " <stackexchange.models.Comment at 0x7f1a682ad358>,\n",
       " <stackexchange.models.Comment at 0x7f1a68769128>,\n",
       " <stackexchange.models.Comment at 0x7f1a4ab67908>,\n",
       " <stackexchange.models.Comment at 0x7f1a4aac6c18>,\n",
       " <stackexchange.models.Comment at 0x7f1a4962f630>,\n",
       " <stackexchange.models.Comment at 0x7f1a4962fc18>,\n",
       " <stackexchange.models.Comment at 0x7f1a4962f9b0>,\n",
       " <stackexchange.models.Comment at 0x7f1a4ab53b38>,\n",
       " <stackexchange.models.Comment at 0x7f1a4ab534e0>,\n",
       " <stackexchange.models.Comment at 0x7f1a4ab53748>,\n",
       " <stackexchange.models.Comment at 0x7f1a4ab53550>,\n",
       " <stackexchange.models.Comment at 0x7f1a682cceb8>,\n",
       " <stackexchange.models.Comment at 0x7f1a4aad6128>,\n",
       " <stackexchange.models.Comment at 0x7f1a4aad62e8>,\n",
       " <stackexchange.models.Comment at 0x7f1a4aad6390>,\n",
       " <stackexchange.models.Comment at 0x7f1a4aad6630>,\n",
       " <stackexchange.models.Comment at 0x7f1a4aad67f0>,\n",
       " <stackexchange.models.Comment at 0x7f1a4aad6b38>,\n",
       " <stackexchange.models.Comment at 0x7f1a4aad6f98>,\n",
       " <stackexchange.models.Comment at 0x7f1a4aad6e48>,\n",
       " <stackexchange.models.Comment at 0x7f1a4aad6dd8>,\n",
       " <stackexchange.models.Comment at 0x7f1a500b1240>,\n",
       " <stackexchange.models.Comment at 0x7f1a500b18d0>,\n",
       " <stackexchange.models.Comment at 0x7f1a4ab9af28>,\n",
       " <stackexchange.models.Comment at 0x7f1a4ab9aef0>,\n",
       " <stackexchange.models.Comment at 0x7f1a49a517f0>,\n",
       " <stackexchange.models.Comment at 0x7f1a49a512b0>,\n",
       " <stackexchange.models.Comment at 0x7f1a49a51ef0>,\n",
       " <stackexchange.models.Comment at 0x7f1a49a51320>,\n",
       " <stackexchange.models.Comment at 0x7f1a4ab53320>,\n",
       " <stackexchange.models.Comment at 0x7f1a4962f2b0>,\n",
       " <stackexchange.models.Comment at 0x7f1a4962f278>,\n",
       " <stackexchange.models.Comment at 0x7f1a4a9a63c8>,\n",
       " <stackexchange.models.Comment at 0x7f1a4ab32828>,\n",
       " <stackexchange.models.Comment at 0x7f1a4ab32710>,\n",
       " <stackexchange.models.Comment at 0x7f1a4ab32278>,\n",
       " <stackexchange.models.Comment at 0x7f1a49953fd0>,\n",
       " <stackexchange.models.Comment at 0x7f1a49953320>,\n",
       " <stackexchange.models.Comment at 0x7f1a499537b8>,\n",
       " <stackexchange.models.Comment at 0x7f1a49953c88>,\n",
       " <stackexchange.models.Comment at 0x7f1a49953438>,\n",
       " <stackexchange.models.Comment at 0x7f1a681ffa58>,\n",
       " <stackexchange.models.Comment at 0x7f1a68266198>,\n",
       " <stackexchange.models.Comment at 0x7f1a49a51710>,\n",
       " <stackexchange.models.Comment at 0x7f1a49a51240>,\n",
       " <stackexchange.models.Comment at 0x7f1a49a51400>,\n",
       " <stackexchange.models.Comment at 0x7f1a49a51160>,\n",
       " <stackexchange.models.Comment at 0x7f1a4aad6898>,\n",
       " <stackexchange.models.Comment at 0x7f1a4aad64e0>,\n",
       " <stackexchange.models.Comment at 0x7f1a4aad6cc0>,\n",
       " <stackexchange.models.Comment at 0x7f1a49953cf8>,\n",
       " <stackexchange.models.Comment at 0x7f1a499535f8>,\n",
       " <stackexchange.models.Comment at 0x7f1a49953668>,\n",
       " <stackexchange.models.Comment at 0x7f1a49953b70>,\n",
       " <stackexchange.models.Comment at 0x7f1a49953c50>,\n",
       " <stackexchange.models.Comment at 0x7f1a4a9a6470>,\n",
       " <stackexchange.models.Comment at 0x7f1a4ab322e8>,\n",
       " <stackexchange.models.Comment at 0x7f1a49a2ef60>,\n",
       " <stackexchange.models.Comment at 0x7f1a49a2eef0>,\n",
       " <stackexchange.models.Comment at 0x7f1a50077048>,\n",
       " <stackexchange.models.Comment at 0x7f1a5001df60>,\n",
       " <stackexchange.models.Comment at 0x7f1a4ab86278>,\n",
       " <stackexchange.models.Comment at 0x7f1a4ab716a0>,\n",
       " <stackexchange.models.Comment at 0x7f1a4ab09c88>,\n",
       " <stackexchange.models.Comment at 0x7f1a4ab09e10>,\n",
       " <stackexchange.models.Comment at 0x7f1a4962f908>,\n",
       " <stackexchange.models.Comment at 0x7f1a4962f320>,\n",
       " <stackexchange.models.Comment at 0x7f1a4962f048>,\n",
       " <stackexchange.models.Comment at 0x7f1a4962f748>,\n",
       " <stackexchange.models.Comment at 0x7f1a4962f400>,\n",
       " <stackexchange.models.Comment at 0x7f1a4962f198>,\n",
       " <stackexchange.models.Comment at 0x7f1a68769400>,\n",
       " <stackexchange.models.Comment at 0x7f1a50030b38>,\n",
       " <stackexchange.models.Comment at 0x7f1a682ad898>,\n",
       " <stackexchange.models.Comment at 0x7f1a6c047198>,\n",
       " <stackexchange.models.Comment at 0x7f1a682cc518>,\n",
       " <stackexchange.models.Comment at 0x7f1a4ab536a0>,\n",
       " <stackexchange.models.Comment at 0x7f1a4ab530b8>,\n",
       " <stackexchange.models.Comment at 0x7f1a4ab532e8>,\n",
       " <stackexchange.models.Comment at 0x7f1a4ab53518>,\n",
       " <stackexchange.models.Comment at 0x7f1a4ab538d0>,\n",
       " <stackexchange.models.Comment at 0x7f1a4ab53978>,\n",
       " <stackexchange.models.Comment at 0x7f1a50026240>,\n",
       " <stackexchange.models.Comment at 0x7f1a4aaea080>,\n",
       " <stackexchange.models.Comment at 0x7f1a4aac6c50>,\n",
       " <stackexchange.models.Comment at 0x7f1a681ffa20>,\n",
       " <stackexchange.models.Comment at 0x7f1a4a993c18>,\n",
       " <stackexchange.models.Comment at 0x7f1a4a993470>,\n",
       " <stackexchange.models.Comment at 0x7f1a4a993208>,\n",
       " <stackexchange.models.Comment at 0x7f1a4ab09cf8>,\n",
       " <stackexchange.models.Comment at 0x7f1a49953cf8>,\n",
       " <stackexchange.models.Comment at 0x7f1a499532e8>,\n",
       " <stackexchange.models.Comment at 0x7f1a49953b70>,\n",
       " <stackexchange.models.Comment at 0x7f1a49a2ef60>,\n",
       " <stackexchange.models.Comment at 0x7f1a4ab32898>,\n",
       " <stackexchange.models.Comment at 0x7f1a4ab32208>,\n",
       " <stackexchange.models.Comment at 0x7f1a4ab327b8>,\n",
       " <stackexchange.models.Comment at 0x7f1a4aad6860>,\n",
       " <stackexchange.models.Comment at 0x7f1a4ab67908>,\n",
       " <stackexchange.models.Comment at 0x7f1a49a51400>,\n",
       " <stackexchange.models.Comment at 0x7f1a49a512b0>,\n",
       " <stackexchange.models.Comment at 0x7f1a49a51d68>,\n",
       " <stackexchange.models.Comment at 0x7f1a49a51e48>,\n",
       " <stackexchange.models.Comment at 0x7f1a49a51748>,\n",
       " <stackexchange.models.Comment at 0x7f1a49a51b70>,\n",
       " <stackexchange.models.Comment at 0x7f1a49a51ba8>,\n",
       " <stackexchange.models.Comment at 0x7f1a50127780>,\n",
       " <stackexchange.models.Comment at 0x7f1a501277f0>,\n",
       " <stackexchange.models.Comment at 0x7f1a5018bfd0>,\n",
       " <stackexchange.models.Comment at 0x7f1a4a970080>,\n",
       " <stackexchange.models.Comment at 0x7f1a4a970358>,\n",
       " <stackexchange.models.Comment at 0x7f1a4a970b38>,\n",
       " <stackexchange.models.Comment at 0x7f1a4a9703c8>,\n",
       " <stackexchange.models.Comment at 0x7f1a4a9701d0>,\n",
       " <stackexchange.models.Comment at 0x7f1a4a970eb8>,\n",
       " <stackexchange.models.Comment at 0x7f1a4a970438>,\n",
       " <stackexchange.models.Comment at 0x7f1a4968f748>,\n",
       " <stackexchange.models.Comment at 0x7f1a4968fac8>,\n",
       " <stackexchange.models.Comment at 0x7f1a4968fe48>,\n",
       " <stackexchange.models.Comment at 0x7f1a49a51780>,\n",
       " <stackexchange.models.Comment at 0x7f1a4962f7f0>,\n",
       " <stackexchange.models.Comment at 0x7f1a50030b38>,\n",
       " <stackexchange.models.Comment at 0x7f1a682ad5c0>,\n",
       " <stackexchange.models.Comment at 0x7f1a682cc518>,\n",
       " <stackexchange.models.Comment at 0x7f1a4aaea390>,\n",
       " <stackexchange.models.Comment at 0x7f1a4aaea080>,\n",
       " <stackexchange.models.Comment at 0x7f1a4ab9aef0>,\n",
       " <stackexchange.models.Comment at 0x7f1a4a993470>,\n",
       " <stackexchange.models.Comment at 0x7f1a4a993588>,\n",
       " <stackexchange.models.Comment at 0x7f1a4ab53518>,\n",
       " <stackexchange.models.Comment at 0x7f1a4ab53978>,\n",
       " <stackexchange.models.Comment at 0x7f1a4ab53320>,\n",
       " <stackexchange.models.Comment at 0x7f1a4ab09e10>,\n",
       " <stackexchange.models.Comment at 0x7f1a4968f320>,\n",
       " <stackexchange.models.Comment at 0x7f1a4968f160>,\n",
       " <stackexchange.models.Comment at 0x7f1a4968fc18>,\n",
       " <stackexchange.models.Comment at 0x7f1a4968fa58>,\n",
       " <stackexchange.models.Comment at 0x7f1a4968f898>,\n",
       " <stackexchange.models.Comment at 0x7f1a4968f6d8>,\n",
       " <stackexchange.models.Comment at 0x7f1a4968f518>,\n",
       " <stackexchange.models.Comment at 0x7f1a4968f358>,\n",
       " <stackexchange.models.Comment at 0x7f1a4968f2b0>,\n",
       " <stackexchange.models.Comment at 0x7f1a49704cc0>,\n",
       " <stackexchange.models.Comment at 0x7f1a49704d68>,\n",
       " <stackexchange.models.Comment at 0x7f1a497049b0>,\n",
       " <stackexchange.models.Comment at 0x7f1a49704160>,\n",
       " <stackexchange.models.Comment at 0x7f1a49704550>,\n",
       " <stackexchange.models.Comment at 0x7f1a49704c88>,\n",
       " <stackexchange.models.Comment at 0x7f1a49a517f0>,\n",
       " <stackexchange.models.Comment at 0x7f1a4ab67908>,\n",
       " <stackexchange.models.Comment at 0x7f1a4a970f60>,\n",
       " <stackexchange.models.Comment at 0x7f1a4a970b38>,\n",
       " <stackexchange.models.Comment at 0x7f1a4a9701d0>,\n",
       " <stackexchange.models.Comment at 0x7f1a4a970438>,\n",
       " <stackexchange.models.Comment at 0x7f1a4968f748>,\n",
       " <stackexchange.models.Comment at 0x7f1a5001df60>,\n",
       " <stackexchange.models.Comment at 0x7f1a50077048>,\n",
       " <stackexchange.models.Comment at 0x7f1a4a9936d8>,\n",
       " <stackexchange.models.Comment at 0x7f1a4aaea400>,\n",
       " <stackexchange.models.Comment at 0x7f1a4aaea048>,\n",
       " <stackexchange.models.Comment at 0x7f1a4ab53940>,\n",
       " <stackexchange.models.Comment at 0x7f1a4ab53630>,\n",
       " <stackexchange.models.Comment at 0x7f1a4ab53550>,\n",
       " <stackexchange.models.Comment at 0x7f1a682cce80>,\n",
       " <stackexchange.models.Comment at 0x7f1a500b1208>,\n",
       " <stackexchange.models.Comment at 0x7f1a682ad358>,\n",
       " <stackexchange.models.Comment at 0x7f1a4ab71470>,\n",
       " <stackexchange.models.Comment at 0x7f1a4ab09eb8>,\n",
       " <stackexchange.models.Comment at 0x7f1a4ab86d30>,\n",
       " <stackexchange.models.Comment at 0x7f1a4a981b00>,\n",
       " <stackexchange.models.Comment at 0x7f1a4a981668>,\n",
       " <stackexchange.models.Comment at 0x7f1a4ab320b8>,\n",
       " <stackexchange.models.Comment at 0x7f1a4ab32048>,\n",
       " <stackexchange.models.Comment at 0x7f1a4a9a6518>,\n",
       " <stackexchange.models.Comment at 0x7f1a49953d30>,\n",
       " <stackexchange.models.Comment at 0x7f1a49953a90>,\n",
       " <stackexchange.models.Comment at 0x7f1a49953eb8>,\n",
       " <stackexchange.models.Comment at 0x7f1a49953cc0>,\n",
       " <stackexchange.models.Comment at 0x7f1a49953390>,\n",
       " <stackexchange.models.Comment at 0x7f1a4ab716a0>,\n",
       " <stackexchange.models.Comment at 0x7f1a4a993588>,\n",
       " <stackexchange.models.Comment at 0x7f1a4ab53160>,\n",
       " <stackexchange.models.Comment at 0x7f1a4ab53320>,\n",
       " <stackexchange.models.Comment at 0x7f1a4968f208>,\n",
       " <stackexchange.models.Comment at 0x7f1a4968fc50>,\n",
       " <stackexchange.models.Comment at 0x7f1a4968f8d0>,\n",
       " <stackexchange.models.Comment at 0x7f1a4968f550>,\n",
       " <stackexchange.models.Comment at 0x7f1a4968f2b0>,\n",
       " <stackexchange.models.Comment at 0x7f1a4962fb38>,\n",
       " <stackexchange.models.Comment at 0x7f1a4962f6d8>,\n",
       " <stackexchange.models.Comment at 0x7f1a4962f9b0>,\n",
       " <stackexchange.models.Comment at 0x7f1a4962f358>,\n",
       " <stackexchange.models.Comment at 0x7f1a4aad6898>,\n",
       " <stackexchange.models.Comment at 0x7f1a4aad6ef0>,\n",
       " <stackexchange.models.Comment at 0x7f1a4aad6b38>,\n",
       " <stackexchange.models.Comment at 0x7f1a4aad6518>,\n",
       " <stackexchange.models.Comment at 0x7f1a49704d68>,\n",
       " <stackexchange.models.Comment at 0x7f1a49704160>,\n",
       " <stackexchange.models.Comment at 0x7f1a49704c88>,\n",
       " <stackexchange.models.Comment at 0x7f1a49704908>,\n",
       " <stackexchange.models.Comment at 0x7f1a497044e0>,\n",
       " <stackexchange.models.Comment at 0x7f1a4979e5f8>,\n",
       " <stackexchange.models.Comment at 0x7f1a4979e8d0>,\n",
       " <stackexchange.models.Comment at 0x7f1a4979ee10>,\n",
       " <stackexchange.models.Comment at 0x7f1a4979e1d0>,\n",
       " <stackexchange.models.Comment at 0x7f1a4979e160>,\n",
       " <stackexchange.models.Comment at 0x7f1a4979e320>,\n",
       " <stackexchange.models.Comment at 0x7f1a4979e4e0>,\n",
       " <stackexchange.models.Comment at 0x7f1a4979e6a0>,\n",
       " <stackexchange.models.Comment at 0x7f1a4962ff98>,\n",
       " <stackexchange.models.Comment at 0x7f1a4ab53550>,\n",
       " <stackexchange.models.Comment at 0x7f1a4ab53208>,\n",
       " <stackexchange.models.Comment at 0x7f1a4ab09eb8>,\n",
       " <stackexchange.models.Comment at 0x7f1a50127780>,\n",
       " <stackexchange.models.Comment at 0x7f1a4a981668>,\n",
       " <stackexchange.models.Comment at 0x7f1a4ab32048>,\n",
       " <stackexchange.models.Comment at 0x7f1a4a9a63c8>,\n",
       " <stackexchange.models.Comment at 0x7f1a49953b70>,\n",
       " <stackexchange.models.Comment at 0x7f1a49953208>,\n",
       " <stackexchange.models.Comment at 0x7f1a49a512b0>,\n",
       " <stackexchange.models.Comment at 0x7f1a49a51748>,\n",
       " <stackexchange.models.Comment at 0x7f1a49a51780>,\n",
       " <stackexchange.models.Comment at 0x7f1a4979e9e8>,\n",
       " <stackexchange.models.Comment at 0x7f1a4979eba8>,\n",
       " <stackexchange.models.Comment at 0x7f1a4979ed68>,\n",
       " <stackexchange.models.Comment at 0x7f1a4979ef28>,\n",
       " <stackexchange.models.Comment at 0x7f1a4979ef60>,\n",
       " <stackexchange.models.Comment at 0x7f1a496da0f0>,\n",
       " <stackexchange.models.Comment at 0x7f1a496dac18>,\n",
       " <stackexchange.models.Comment at 0x7f1a496daa58>,\n",
       " <stackexchange.models.Comment at 0x7f1a496da898>,\n",
       " <stackexchange.models.Comment at 0x7f1a496da6d8>,\n",
       " <stackexchange.models.Comment at 0x7f1a496da518>,\n",
       " <stackexchange.models.Comment at 0x7f1a496da358>,\n",
       " <stackexchange.models.Comment at 0x7f1a496da198>,\n",
       " <stackexchange.models.Comment at 0x7f1a496daf98>,\n",
       " <stackexchange.models.Comment at 0x7f1a496da710>,\n",
       " <stackexchange.models.Comment at 0x7f1a496dacc0>,\n",
       " <stackexchange.models.Comment at 0x7f1a496da2e8>,\n",
       " <stackexchange.models.Comment at 0x7f1a68769128>,\n",
       " <stackexchange.models.Comment at 0x7f1a4962fb00>,\n",
       " <stackexchange.models.Comment at 0x7f1a4962f358>,\n",
       " <stackexchange.models.Comment at 0x7f1a4aad6518>,\n",
       " <stackexchange.models.Comment at 0x7f1a4aad6668>,\n",
       " <stackexchange.models.Comment at 0x7f1a49704908>,\n",
       " <stackexchange.models.Comment at 0x7f1a4aaea390>,\n",
       " <stackexchange.models.Comment at 0x7f1a4ab9aef0>,\n",
       " <stackexchange.models.Comment at 0x7f1a49704208>,\n",
       " <stackexchange.models.Comment at 0x7f1a497049b0>,\n",
       " <stackexchange.models.Comment at 0x7f1a49704e80>,\n",
       " <stackexchange.models.Comment at 0x7f1a4aad6dd8>,\n",
       " <stackexchange.models.Comment at 0x7f1a49a2ef60>,\n",
       " <stackexchange.models.Comment at 0x7f1a6c047198>,\n",
       " <stackexchange.models.Comment at 0x7f1a4962f668>,\n",
       " <stackexchange.models.Comment at 0x7f1a4962f940>,\n",
       " <stackexchange.models.Comment at 0x7f1a4962f2e8>,\n",
       " <stackexchange.models.Comment at 0x7f1a49953128>,\n",
       " <stackexchange.models.Comment at 0x7f1a4a9a64e0>,\n",
       " <stackexchange.models.Comment at 0x7f1a4a9a6400>,\n",
       " <stackexchange.models.Comment at 0x7f1a4ab326a0>,\n",
       " <stackexchange.models.Comment at 0x7f1a4a981fd0>,\n",
       " <stackexchange.models.Comment at 0x7f1a68769748>,\n",
       " <stackexchange.models.Comment at 0x7f1a682ad240>,\n",
       " <stackexchange.models.Comment at 0x7f1a682cc518>,\n",
       " <stackexchange.models.Comment at 0x7f1a682cceb8>,\n",
       " <stackexchange.models.Comment at 0x7f1a4ab531d0>,\n",
       " <stackexchange.models.Comment at 0x7f1a500264a8>,\n",
       " <stackexchange.models.Comment at 0x7f1a4aac6b00>,\n",
       " <stackexchange.models.Comment at 0x7f1a4a9930b8>,\n",
       " <stackexchange.models.Comment at 0x7f1a4ab53828>,\n",
       " <stackexchange.models.Comment at 0x7f1a496dab00>,\n",
       " <stackexchange.models.Comment at 0x7f1a496da518>,\n",
       " <stackexchange.models.Comment at 0x7f1a496da198>,\n",
       " <stackexchange.models.Comment at 0x7f1a496da710>,\n",
       " <stackexchange.models.Comment at 0x7f1a4ab716a0>,\n",
       " <stackexchange.models.Comment at 0x7f1a4a993b38>,\n",
       " <stackexchange.models.Comment at 0x7f1a4968f160>,\n",
       " <stackexchange.models.Comment at 0x7f1a4968ffd0>,\n",
       " <stackexchange.models.Comment at 0x7f1a5018bf98>,\n",
       " <stackexchange.models.Comment at 0x7f1a49a51c88>,\n",
       " <stackexchange.models.Comment at 0x7f1a49a51e80>,\n",
       " <stackexchange.models.Comment at 0x7f1a4ab9af60>,\n",
       " <stackexchange.models.Comment at 0x7f1a4979eba8>,\n",
       " <stackexchange.models.Comment at 0x7f1a4979ef28>,\n",
       " <stackexchange.models.Comment at 0x7f1a4979e9b0>,\n",
       " <stackexchange.models.Comment at 0x7f1a4979e668>,\n",
       " <stackexchange.models.Comment at 0x7f1a4979e2e8>,\n",
       " <stackexchange.models.Comment at 0x7f1a4979e438>,\n",
       " <stackexchange.models.Comment at 0x7f1a4979ed30>,\n",
       " <stackexchange.models.Comment at 0x7f1a4979ea58>,\n",
       " <stackexchange.models.Comment at 0x7f1a4979ec18>,\n",
       " <stackexchange.models.Comment at 0x7f1a4979e048>,\n",
       " <stackexchange.models.Comment at 0x7f1a4979e3c8>,\n",
       " <stackexchange.models.Comment at 0x7f1a4a9701d0>,\n",
       " <stackexchange.models.Comment at 0x7f1a4a970898>,\n",
       " <stackexchange.models.Comment at 0x7f1a4a970e48>,\n",
       " <stackexchange.models.Comment at 0x7f1a4a970f60>,\n",
       " <stackexchange.models.Comment at 0x7f1a50480be0>,\n",
       " <stackexchange.models.Comment at 0x7f1a50480c18>,\n",
       " <stackexchange.models.Comment at 0x7f1a49a517f0>,\n",
       " <stackexchange.models.Comment at 0x7f1a49953898>,\n",
       " <stackexchange.models.Comment at 0x7f1a4a9a6400>,\n",
       " <stackexchange.models.Comment at 0x7f1a4ab327b8>,\n",
       " <stackexchange.models.Comment at 0x7f1a4ab09b38>,\n",
       " <stackexchange.models.Comment at 0x7f1a68769048>,\n",
       " <stackexchange.models.Comment at 0x7f1a682cceb8>,\n",
       " <stackexchange.models.Comment at 0x7f1a4aaea080>,\n",
       " <stackexchange.models.Comment at 0x7f1a4ab534e0>,\n",
       " <stackexchange.models.Comment at 0x7f1a4ab53550>,\n",
       " <stackexchange.models.Comment at 0x7f1a4962f358>,\n",
       " <stackexchange.models.Comment at 0x7f1a4962f940>,\n",
       " <stackexchange.models.Comment at 0x7f1a4962f7f0>,\n",
       " <stackexchange.models.Comment at 0x7f1a50480550>,\n",
       " <stackexchange.models.Comment at 0x7f1a50480f98>,\n",
       " <stackexchange.models.Comment at 0x7f1a50480630>,\n",
       " <stackexchange.models.Comment at 0x7f1a4ab43f28>,\n",
       " <stackexchange.models.Comment at 0x7f1a4ab43c18>,\n",
       " <stackexchange.models.Comment at 0x7f1a4ab43630>,\n",
       " <stackexchange.models.Comment at 0x7f1a4ab43278>,\n",
       " <stackexchange.models.Comment at 0x7f1a4ab43240>,\n",
       " <stackexchange.models.Comment at 0x7f1a4ab43eb8>,\n",
       " <stackexchange.models.Comment at 0x7f1a4ab43d30>,\n",
       " <stackexchange.models.Comment at 0x7f1a4ab43588>,\n",
       " <stackexchange.models.Comment at 0x7f1a4ab43e48>,\n",
       " <stackexchange.models.Comment at 0x7f1a497e93c8>,\n",
       " <stackexchange.models.Comment at 0x7f1a497e9be0>,\n",
       " <stackexchange.models.Comment at 0x7f1a497e9710>,\n",
       " <stackexchange.models.Comment at 0x7f1a497e9860>,\n",
       " <stackexchange.models.Comment at 0x7f1a497e9e10>,\n",
       " <stackexchange.models.Comment at 0x7f1a4ab09eb8>,\n",
       " <stackexchange.models.Comment at 0x7f1a496da940>,\n",
       " <stackexchange.models.Comment at 0x7f1a496da710>,\n",
       " <stackexchange.models.Comment at 0x7f1a496da240>,\n",
       " <stackexchange.models.Comment at 0x7f1a4a970e48>,\n",
       " <stackexchange.models.Comment at 0x7f1a4a9703c8>,\n",
       " <stackexchange.models.Comment at 0x7f1a50480278>,\n",
       " <stackexchange.models.Comment at 0x7f1a4979e9b0>,\n",
       " <stackexchange.models.Comment at 0x7f1a4979e2e8>,\n",
       " <stackexchange.models.Comment at 0x7f1a4979ed30>,\n",
       " <stackexchange.models.Comment at 0x7f1a4979ec18>,\n",
       " <stackexchange.models.Comment at 0x7f1a4979e3c8>,\n",
       " <stackexchange.models.Comment at 0x7f1a4ab9aef0>,\n",
       " <stackexchange.models.Comment at 0x7f1a497e9f60>,\n",
       " <stackexchange.models.Comment at 0x7f1a497e9898>,\n",
       " <stackexchange.models.Comment at 0x7f1a497e9518>,\n",
       " <stackexchange.models.Comment at 0x7f1a497e90b8>,\n",
       " <stackexchange.models.Comment at 0x7f1a497e9940>,\n",
       " <stackexchange.models.Comment at 0x7f1a50106438>,\n",
       " <stackexchange.models.Comment at 0x7f1a50106710>,\n",
       " <stackexchange.models.Comment at 0x7f1a4ab67908>,\n",
       " <stackexchange.models.Comment at 0x7f1a50480358>,\n",
       " <stackexchange.models.Comment at 0x7f1a50480a90>,\n",
       " <stackexchange.models.Comment at 0x7f1a4a970080>,\n",
       " <stackexchange.models.Comment at 0x7f1a4979e160>,\n",
       " <stackexchange.models.Comment at 0x7f1a4979e0b8>,\n",
       " <stackexchange.models.Comment at 0x7f1a4979e550>,\n",
       " <stackexchange.models.Comment at 0x7f1a4979e5c0>,\n",
       " <stackexchange.models.Comment at 0x7f1a4979ebe0>,\n",
       " <stackexchange.models.Comment at 0x7f1a4979e9e8>,\n",
       " <stackexchange.models.Comment at 0x7f1a68769048>,\n",
       " <stackexchange.models.Comment at 0x7f1a4ab43e48>,\n",
       " <stackexchange.models.Comment at 0x7f1a497e9828>,\n",
       " <stackexchange.models.Comment at 0x7f1a497e98d0>,\n",
       " <stackexchange.models.Comment at 0x7f1a497e9860>,\n",
       " <stackexchange.models.Comment at 0x7f1a49a51710>,\n",
       " <stackexchange.models.Comment at 0x7f1a496dacc0>,\n",
       " <stackexchange.models.Comment at 0x7f1a496da358>,\n",
       " <stackexchange.models.Comment at 0x7f1a496dae80>,\n",
       " <stackexchange.models.Comment at 0x7f1a496daa58>,\n",
       " <stackexchange.models.Comment at 0x7f1a4a9934a8>,\n",
       " <stackexchange.models.Comment at 0x7f1a500264a8>,\n",
       " <stackexchange.models.Comment at 0x7f1a50026470>,\n",
       " <stackexchange.models.Comment at 0x7f1a4ab53b70>,\n",
       " <stackexchange.models.Comment at 0x7f1a500b18d0>,\n",
       " <stackexchange.models.Comment at 0x7f1a682ad5c0>,\n",
       " <stackexchange.models.Comment at 0x7f1a4ab099e8>,\n",
       " <stackexchange.models.Comment at 0x7f1a4ab09a20>,\n",
       " <stackexchange.models.Comment at 0x7f1a4a981668>,\n",
       " <stackexchange.models.Comment at 0x7f1a4ab32080>,\n",
       " <stackexchange.models.Comment at 0x7f1a4ab32470>,\n",
       " <stackexchange.models.Comment at 0x7f1a49953438>,\n",
       " <stackexchange.models.Comment at 0x7f1a49953828>,\n",
       " <stackexchange.models.Comment at 0x7f1a50127780>,\n",
       " <stackexchange.models.Comment at 0x7f1a4962f7f0>,\n",
       " <stackexchange.models.Comment at 0x7f1a4962f2b0>,\n",
       " <stackexchange.models.Comment at 0x7f1a4962feb8>,\n",
       " <stackexchange.models.Comment at 0x7f1a4962f630>,\n",
       " <stackexchange.models.Comment at 0x7f1a4aad6828>,\n",
       " <stackexchange.models.Comment at 0x7f1a4968f6d8>,\n",
       " <stackexchange.models.Comment at 0x7f1a4ab716a0>,\n",
       " <stackexchange.models.Comment at 0x7f1a50480278>,\n",
       " <stackexchange.models.Comment at 0x7f1a50480240>,\n",
       " <stackexchange.models.Comment at 0x7f1a4a970358>,\n",
       " <stackexchange.models.Comment at 0x7f1a49a51ba8>,\n",
       " <stackexchange.models.Comment at 0x7f1a4979e908>,\n",
       " <stackexchange.models.Comment at 0x7f1a4979e400>,\n",
       " <stackexchange.models.Comment at 0x7f1a4979e588>,\n",
       " <stackexchange.models.Comment at 0x7f1a4979e0b8>,\n",
       " <stackexchange.models.Comment at 0x7f1a4979e5c0>,\n",
       " <stackexchange.models.Comment at 0x7f1a682cceb8>,\n",
       " <stackexchange.models.Comment at 0x7f1a4a9a63c8>,\n",
       " <stackexchange.models.Comment at 0x7f1a4968f8d0>,\n",
       " <stackexchange.models.Comment at 0x7f1a4968f208>,\n",
       " <stackexchange.models.Comment at 0x7f1a49704cc0>,\n",
       " <stackexchange.models.Comment at 0x7f1a497045f8>,\n",
       " <stackexchange.models.Comment at 0x7f1a50106198>,\n",
       " <stackexchange.models.Comment at 0x7f1a50106160>,\n",
       " <stackexchange.models.Comment at 0x7f1a50106208>,\n",
       " <stackexchange.models.Comment at 0x7f1a500f3ba8>,\n",
       " <stackexchange.models.Comment at 0x7f1a500f31d0>,\n",
       " <stackexchange.models.Comment at 0x7f1a500f3f60>,\n",
       " <stackexchange.models.Comment at 0x7f1a500f3908>,\n",
       " <stackexchange.models.Comment at 0x7f1a500f3438>,\n",
       " <stackexchange.models.Comment at 0x7f1a500f3470>,\n",
       " <stackexchange.models.Comment at 0x7f1a500f3898>,\n",
       " <stackexchange.models.Comment at 0x7f1a500f3a58>,\n",
       " <stackexchange.models.Comment at 0x7f1a500f3c18>,\n",
       " <stackexchange.models.Comment at 0x7f1a500f3550>,\n",
       " <stackexchange.models.Comment at 0x7f1a500f3278>,\n",
       " <stackexchange.models.Comment at 0x7f1a50480940>,\n",
       " <stackexchange.models.Comment at 0x7f1a4ab53550>,\n",
       " <stackexchange.models.Comment at 0x7f1a500b18d0>,\n",
       " <stackexchange.models.Comment at 0x7f1a500b1240>,\n",
       " <stackexchange.models.Comment at 0x7f1a4ab32080>,\n",
       " <stackexchange.models.Comment at 0x7f1a499535f8>,\n",
       " <stackexchange.models.Comment at 0x7f1a50127780>,\n",
       " <stackexchange.models.Comment at 0x7f1a4ab43ba8>,\n",
       " <stackexchange.models.Comment at 0x7f1a4962feb8>,\n",
       " <stackexchange.models.Comment at 0x7f1a4aad6828>,\n",
       " <stackexchange.models.Comment at 0x7f1a4968f6d8>,\n",
       " <stackexchange.models.Comment at 0x7f1a4a9934a8>,\n",
       " <stackexchange.models.Comment at 0x7f1a4ab09a20>,\n",
       " <stackexchange.models.Comment at 0x7f1a500f3fd0>,\n",
       " <stackexchange.models.Comment at 0x7f1a500f3d30>,\n",
       " <stackexchange.models.Comment at 0x7f1a497c1be0>,\n",
       " <stackexchange.models.Comment at 0x7f1a497c1518>,\n",
       " <stackexchange.models.Comment at 0x7f1a497c1860>,\n",
       " <stackexchange.models.Comment at 0x7f1a497c1240>,\n",
       " <stackexchange.models.Comment at 0x7f1a497c13c8>,\n",
       " <stackexchange.models.Comment at 0x7f1a497c1588>,\n",
       " <stackexchange.models.Comment at 0x7f1a497c1748>,\n",
       " <stackexchange.models.Comment at 0x7f1a497c1908>,\n",
       " <stackexchange.models.Comment at 0x7f1a497c1ac8>,\n",
       " <stackexchange.models.Comment at 0x7f1a497c1c88>,\n",
       " <stackexchange.models.Comment at 0x7f1a497c1e48>,\n",
       " <stackexchange.models.Comment at 0x7f1a497c1fd0>,\n",
       " <stackexchange.models.Comment at 0x7f1a497c1358>,\n",
       " <stackexchange.models.Comment at 0x7f1a497c1320>,\n",
       " <stackexchange.models.Comment at 0x7f1a49a0b898>,\n",
       " <stackexchange.models.Comment at 0x7f1a50077048>,\n",
       " <stackexchange.models.Comment at 0x7f1a500f3390>,\n",
       " <stackexchange.models.Comment at 0x7f1a500f3c18>,\n",
       " <stackexchange.models.Comment at 0x7f1a68769048>,\n",
       " <stackexchange.models.Comment at 0x7f1a4968f208>,\n",
       " <stackexchange.models.Comment at 0x7f1a4968fa58>,\n",
       " <stackexchange.models.Comment at 0x7f1a4aad66d8>,\n",
       " <stackexchange.models.Comment at 0x7f1a4aad6b70>,\n",
       " <stackexchange.models.Comment at 0x7f1a50127438>,\n",
       " <stackexchange.models.Comment at 0x7f1a50030b38>,\n",
       " <stackexchange.models.Comment at 0x7f1a4ab32898>,\n",
       " <stackexchange.models.Comment at 0x7f1a4a9816a0>,\n",
       " <stackexchange.models.Comment at 0x7f1a4a981400>,\n",
       " <stackexchange.models.Comment at 0x7f1a682adc18>,\n",
       " <stackexchange.models.Comment at 0x7f1a4ab53828>,\n",
       " <stackexchange.models.Comment at 0x7f1a4aaea3c8>,\n",
       " <stackexchange.models.Comment at 0x7f1a4a993470>,\n",
       " <stackexchange.models.Comment at 0x7f1a4a993588>,\n",
       " <stackexchange.models.Comment at 0x7f1a496dae48>,\n",
       " <stackexchange.models.Comment at 0x7f1a496da2e8>,\n",
       " <stackexchange.models.Comment at 0x7f1a497e9710>,\n",
       " <stackexchange.models.Comment at 0x7f1a497e9588>,\n",
       " <stackexchange.models.Comment at 0x7f1a4ab43278>,\n",
       " <stackexchange.models.Comment at 0x7f1a4ab43f28>,\n",
       " <stackexchange.models.Comment at 0x7f1a4ab43588>,\n",
       " <stackexchange.models.Comment at 0x7f1a4979e588>,\n",
       " <stackexchange.models.Comment at 0x7f1a4979e5c0>,\n",
       " <stackexchange.models.Comment at 0x7f1a4979e8d0>,\n",
       " <stackexchange.models.Comment at 0x7f1a4979eeb8>,\n",
       " <stackexchange.models.Comment at 0x7f1a4979e4e0>,\n",
       " <stackexchange.models.Comment at 0x7f1a4ab53550>,\n",
       " <stackexchange.models.Comment at 0x7f1a496da400>,\n",
       " <stackexchange.models.Comment at 0x7f1a497c1978>,\n",
       " <stackexchange.models.Comment at 0x7f1a497c1128>,\n",
       " <stackexchange.models.Comment at 0x7f1a497c1470>,\n",
       " <stackexchange.models.Comment at 0x7f1a497c17f0>,\n",
       " <stackexchange.models.Comment at 0x7f1a497c1b70>,\n",
       " <stackexchange.models.Comment at 0x7f1a497c1ef0>,\n",
       " <stackexchange.models.Comment at 0x7f1a497c15f8>,\n",
       " <stackexchange.models.Comment at 0x7f1a682cceb8>,\n",
       " <stackexchange.models.Comment at 0x7f1a49a514a8>,\n",
       " <stackexchange.models.Comment at 0x7f1a49a51e80>,\n",
       " <stackexchange.models.Comment at 0x7f1a4a970eb8>,\n",
       " <stackexchange.models.Comment at 0x7f1a4a970668>,\n",
       " <stackexchange.models.Comment at 0x7f1a50480278>,\n",
       " <stackexchange.models.Comment at 0x7f1a50480710>,\n",
       " <stackexchange.models.Comment at 0x7f1a50480c50>,\n",
       " <stackexchange.models.Comment at 0x7f1a49a0bcc0>,\n",
       " <stackexchange.models.Comment at 0x7f1a49a0b978>,\n",
       " <stackexchange.models.Comment at 0x7f1a49a0bcf8>,\n",
       " <stackexchange.models.Comment at 0x7f1a49a0b2e8>,\n",
       " <stackexchange.models.Comment at 0x7f1a49a0bb38>,\n",
       " <stackexchange.models.Comment at 0x7f1a49a0b048>,\n",
       " <stackexchange.models.Comment at 0x7f1a49a0b470>,\n",
       " <stackexchange.models.Comment at 0x7f1a49a0bef0>,\n",
       " <stackexchange.models.Comment at 0x7f1a49a0bd30>,\n",
       " <stackexchange.models.Comment at 0x7f1a49a0bc88>,\n",
       " <stackexchange.models.Comment at 0x7f1a49a0ba90>,\n",
       " <stackexchange.models.Comment at 0x7f1a49a0b9e8>,\n",
       " <stackexchange.models.Comment at 0x7f1a6825d4a8>,\n",
       " <stackexchange.models.Comment at 0x7f1a49704908>,\n",
       " <stackexchange.models.Comment at 0x7f1a4a993470>,\n",
       " <stackexchange.models.Comment at 0x7f1a496da2e8>,\n",
       " <stackexchange.models.Comment at 0x7f1a497e9588>,\n",
       " <stackexchange.models.Comment at 0x7f1a4ab43f28>,\n",
       " <stackexchange.models.Comment at 0x7f1a4ab437f0>,\n",
       " <stackexchange.models.Comment at 0x7f1a500f3b00>,\n",
       " <stackexchange.models.Comment at 0x7f1a500f3908>,\n",
       " <stackexchange.models.Comment at 0x7f1a4979e588>,\n",
       " <stackexchange.models.Comment at 0x7f1a4979e8d0>,\n",
       " <stackexchange.models.Comment at 0x7f1a4979eef0>,\n",
       " <stackexchange.models.Comment at 0x7f1a4ab531d0>,\n",
       " <stackexchange.models.Comment at 0x7f1a4aaea3c8>,\n",
       " <stackexchange.models.Comment at 0x7f1a499e9898>,\n",
       " <stackexchange.models.Comment at 0x7f1a499e9198>,\n",
       " <stackexchange.models.Comment at 0x7f1a499e9fd0>,\n",
       " <stackexchange.models.Comment at 0x7f1a499e9048>,\n",
       " <stackexchange.models.Comment at 0x7f1a499e9208>,\n",
       " <stackexchange.models.Comment at 0x7f1a499e93c8>,\n",
       " <stackexchange.models.Comment at 0x7f1a499e9588>,\n",
       " <stackexchange.models.Comment at 0x7f1a499e9748>,\n",
       " <stackexchange.models.Comment at 0x7f1a499e9908>,\n",
       " <stackexchange.models.Comment at 0x7f1a499e9ac8>,\n",
       " <stackexchange.models.Comment at 0x7f1a499e9c88>,\n",
       " <stackexchange.models.Comment at 0x7f1a499e9e48>,\n",
       " <stackexchange.models.Comment at 0x7f1a499e9a90>,\n",
       " <stackexchange.models.Comment at 0x7f1a496b8080>,\n",
       " <stackexchange.models.Comment at 0x7f1a496b8240>,\n",
       " <stackexchange.models.Comment at 0x7f1a496b8400>,\n",
       " <stackexchange.models.Comment at 0x7f1a496b85c0>,\n",
       " <stackexchange.models.Comment at 0x7f1a49953128>,\n",
       " <stackexchange.models.Comment at 0x7f1a49a514a8>,\n",
       " <stackexchange.models.Comment at 0x7f1a4a970358>,\n",
       " <stackexchange.models.Comment at 0x7f1a4a970668>,\n",
       " <stackexchange.models.Comment at 0x7f1a4962f198>,\n",
       " <stackexchange.models.Comment at 0x7f1a4ab09a20>,\n",
       " <stackexchange.models.Comment at 0x7f1a49a0bcf8>,\n",
       " <stackexchange.models.Comment at 0x7f1a49a0bb38>,\n",
       " <stackexchange.models.Comment at 0x7f1a499e97b8>,\n",
       " <stackexchange.models.Comment at 0x7f1a50480240>,\n",
       " <stackexchange.models.Comment at 0x7f1a50480630>,\n",
       " <stackexchange.models.Comment at 0x7f1a50127780>,\n",
       " <stackexchange.models.Comment at 0x7f1a497c1fd0>,\n",
       " <stackexchange.models.Comment at 0x7f1a497c1908>,\n",
       " <stackexchange.models.Comment at 0x7f1a497c1240>,\n",
       " <stackexchange.models.Comment at 0x7f1a497c1eb8>,\n",
       " <stackexchange.models.Comment at 0x7f1a49a51ba8>,\n",
       " <stackexchange.models.Comment at 0x7f1a49a51320>,\n",
       " <stackexchange.models.Comment at 0x7f1a4979e860>,\n",
       " <stackexchange.models.Comment at 0x7f1a4979e2e8>,\n",
       " <stackexchange.models.Comment at 0x7f1a5018bfd0>,\n",
       " <stackexchange.models.Comment at 0x7f1a4ab43d30>,\n",
       " <stackexchange.models.Comment at 0x7f1a497e9a20>,\n",
       " <stackexchange.models.Comment at 0x7f1a497e9198>,\n",
       " <stackexchange.models.Comment at 0x7f1a497e9eb8>,\n",
       " <stackexchange.models.Comment at 0x7f1a496da940>,\n",
       " <stackexchange.models.Comment at 0x7f1a4a993208>,\n",
       " <stackexchange.models.Comment at 0x7f1a682ad160>,\n",
       " <stackexchange.models.Comment at 0x7f1a4a981128>,\n",
       " <stackexchange.models.Comment at 0x7f1a4a981f98>,\n",
       " <stackexchange.models.Comment at 0x7f1a4a9a63c8>,\n",
       " <stackexchange.models.Comment at 0x7f1a499e9438>,\n",
       " <stackexchange.models.Comment at 0x7f1a499e9588>,\n",
       " <stackexchange.models.Comment at 0x7f1a499e9908>,\n",
       " <stackexchange.models.Comment at 0x7f1a499e9c88>,\n",
       " <stackexchange.models.Comment at 0x7f1a499e9a90>,\n",
       " <stackexchange.models.Comment at 0x7f1a499532e8>,\n",
       " <stackexchange.models.Comment at 0x7f1a4962f1d0>,\n",
       " <stackexchange.models.Comment at 0x7f1a4aad6828>,\n",
       " <stackexchange.models.Comment at 0x7f1a4aad60f0>,\n",
       " <stackexchange.models.Comment at 0x7f1a50106048>,\n",
       " <stackexchange.models.Comment at 0x7f1a4968f2b0>,\n",
       " <stackexchange.models.Comment at 0x7f1a4968f8d0>,\n",
       " <stackexchange.models.Comment at 0x7f1a500f3fd0>,\n",
       " <stackexchange.models.Comment at 0x7f1a500f32e8>,\n",
       " <stackexchange.models.Comment at 0x7f1a500f3d68>,\n",
       " <stackexchange.models.Comment at 0x7f1a500f3a58>,\n",
       " <stackexchange.models.Comment at 0x7f1a500f3940>,\n",
       " <stackexchange.models.Comment at 0x7f1a49a0bac8>,\n",
       " <stackexchange.models.Comment at 0x7f1a49a0bd68>,\n",
       " <stackexchange.models.Comment at 0x7f1a49a0b550>,\n",
       " <stackexchange.models.Comment at 0x7f1a49a0b828>,\n",
       " <stackexchange.models.Comment at 0x7f1a49a0be80>,\n",
       " <stackexchange.models.Comment at 0x7f1a49a0b0b8>,\n",
       " <stackexchange.models.Comment at 0x7f1a49a0b4e0>,\n",
       " <stackexchange.models.Comment at 0x7f1a49a0bf28>,\n",
       " <stackexchange.models.Comment at 0x7f1a49a0bb70>,\n",
       " <stackexchange.models.Comment at 0x7f1a49704cc0>,\n",
       " <stackexchange.models.Comment at 0x7f1a497045f8>,\n",
       " <stackexchange.models.Comment at 0x7f1a496b8128>,\n",
       " <stackexchange.models.Comment at 0x7f1a500b1240>,\n",
       " <stackexchange.models.Comment at 0x7f1a49a51c88>,\n",
       " <stackexchange.models.Comment at 0x7f1a4979e2e8>,\n",
       " <stackexchange.models.Comment at 0x7f1a4ab43d30>,\n",
       " <stackexchange.models.Comment at 0x7f1a4ab43080>,\n",
       " <stackexchange.models.Comment at 0x7f1a496da080>,\n",
       " <stackexchange.models.Comment at 0x7f1a496da940>,\n",
       " <stackexchange.models.Comment at 0x7f1a497c11d0>,\n",
       " <stackexchange.models.Comment at 0x7f1a4a9930b8>,\n",
       " <stackexchange.models.Comment at 0x7f1a4ab53748>,\n",
       " <stackexchange.models.Comment at 0x7f1a4ab09b38>,\n",
       " <stackexchange.models.Comment at 0x7f1a68769048>,\n",
       " <stackexchange.models.Comment at 0x7f1a496b8908>,\n",
       " <stackexchange.models.Comment at 0x7f1a496b8ac8>,\n",
       " <stackexchange.models.Comment at 0x7f1a496b8c88>,\n",
       " <stackexchange.models.Comment at 0x7f1a496b8f28>,\n",
       " <stackexchange.models.Comment at 0x7f1a496b8e80>,\n",
       " <stackexchange.models.Comment at 0x7f1a496b8978>,\n",
       " <stackexchange.models.Comment at 0x7f1a496b8278>,\n",
       " <stackexchange.models.Comment at 0x7f1a496b87b8>,\n",
       " <stackexchange.models.Comment at 0x7f1a4a976f98>,\n",
       " <stackexchange.models.Comment at 0x7f1a4a976080>,\n",
       " <stackexchange.models.Comment at 0x7f1a4a976438>,\n",
       " <stackexchange.models.Comment at 0x7f1a4a976c50>,\n",
       " <stackexchange.models.Comment at 0x7f1a4a976dd8>,\n",
       " <stackexchange.models.Comment at 0x7f1a4a976358>,\n",
       " <stackexchange.models.Comment at 0x7f1a4a9764a8>,\n",
       " <stackexchange.models.Comment at 0x7f1a4a9764e0>,\n",
       " <stackexchange.models.Comment at 0x7f1a49726cc0>,\n",
       " <stackexchange.models.Comment at 0x7f1a49726240>,\n",
       " <stackexchange.models.Comment at 0x7f1a4a993470>,\n",
       " <stackexchange.models.Comment at 0x7f1a49a0be80>,\n",
       " <stackexchange.models.Comment at 0x7f1a49a0bf60>,\n",
       " <stackexchange.models.Comment at 0x7f1a49a0bc88>,\n",
       " <stackexchange.models.Comment at 0x7f1a49a0b9e8>,\n",
       " <stackexchange.models.Comment at 0x7f1a499e9208>,\n",
       " <stackexchange.models.Comment at 0x7f1a499e9780>,\n",
       " <stackexchange.models.Comment at 0x7f1a499e9c50>,\n",
       " <stackexchange.models.Comment at 0x7f1a496b84a8>,\n",
       " <stackexchange.models.Comment at 0x7f1a4ab327b8>,\n",
       " <stackexchange.models.Comment at 0x7f1a500f3f60>,\n",
       " <stackexchange.models.Comment at 0x7f1a500f3048>,\n",
       " <stackexchange.models.Comment at 0x7f1a49726198>,\n",
       " <stackexchange.models.Comment at 0x7f1a49726358>,\n",
       " <stackexchange.models.Comment at 0x7f1a49726518>,\n",
       " <stackexchange.models.Comment at 0x7f1a497266d8>,\n",
       " <stackexchange.models.Comment at 0x7f1a49726898>,\n",
       " <stackexchange.models.Comment at 0x7f1a49726a58>,\n",
       " <stackexchange.models.Comment at 0x7f1a49726e80>,\n",
       " <stackexchange.models.Comment at 0x7f1a49726b00>,\n",
       " <stackexchange.models.Comment at 0x7f1a496b82e8>,\n",
       " <stackexchange.models.Comment at 0x7f1a496b85c0>,\n",
       " <stackexchange.models.Comment at 0x7f1a49704908>,\n",
       " <stackexchange.models.Comment at 0x7f1a49a0b1d0>,\n",
       " <stackexchange.models.Comment at 0x7f1a49a0ba20>,\n",
       " <stackexchange.models.Comment at 0x7f1a49a0be10>,\n",
       " <stackexchange.models.Comment at 0x7f1a49a0b160>,\n",
       " <stackexchange.models.Comment at 0x7f1a49a0ba58>,\n",
       " <stackexchange.models.Comment at 0x7f1a500f3d30>,\n",
       " <stackexchange.models.Comment at 0x7f1a500f3390>,\n",
       " <stackexchange.models.Comment at 0x7f1a49a0bcc0>,\n",
       " <stackexchange.models.Comment at 0x7f1a4a976c50>,\n",
       " <stackexchange.models.Comment at 0x7f1a4a976eb8>,\n",
       " <stackexchange.models.Comment at 0x7f1a4a976470>,\n",
       " <stackexchange.models.Comment at 0x7f1a4a9a63c8>,\n",
       " <stackexchange.models.Comment at 0x7f1a6825d4a8>,\n",
       " <stackexchange.models.Comment at 0x7f1a499e9e48>,\n",
       " <stackexchange.models.Comment at 0x7f1a499e9748>,\n",
       " <stackexchange.models.Comment at 0x7f1a499e96d8>,\n",
       " <stackexchange.models.Comment at 0x7f1a499e9048>,\n",
       " <stackexchange.models.Comment at 0x7f1a4962f940>,\n",
       " <stackexchange.models.Comment at 0x7f1a49953898>,\n",
       " <stackexchange.models.Comment at 0x7f1a682ad240>,\n",
       " <stackexchange.models.Comment at 0x7f1a4ab53978>,\n",
       " <stackexchange.models.Comment at 0x7f1a4ab534e0>,\n",
       " <stackexchange.models.Comment at 0x7f1a4a993a90>,\n",
       " <stackexchange.models.Comment at 0x7f1a496daf98>,\n",
       " <stackexchange.models.Comment at 0x7f1a497e95c0>,\n",
       " <stackexchange.models.Comment at 0x7f1a497e9e10>,\n",
       " <stackexchange.models.Comment at 0x7f1a4ab43ba8>,\n",
       " <stackexchange.models.Comment at 0x7f1a4ab43d68>,\n",
       " <stackexchange.models.Comment at 0x7f1a4979e400>,\n",
       " <stackexchange.models.Comment at 0x7f1a4979ee10>,\n",
       " <stackexchange.models.Comment at 0x7f1a49a517b8>,\n",
       " <stackexchange.models.Comment at 0x7f1a49a51b70>,\n",
       " <stackexchange.models.Comment at 0x7f1a4a970630>,\n",
       " <stackexchange.models.Comment at 0x7f1a497c1358>,\n",
       " <stackexchange.models.Comment at 0x7f1a497c1748>,\n",
       " <stackexchange.models.Comment at 0x7f1a497c1c88>,\n",
       " <stackexchange.models.Comment at 0x7f1a497c13c8>,\n",
       " <stackexchange.models.Comment at 0x7f1a499532e8>,\n",
       " <stackexchange.models.Comment at 0x7f1a500f3518>,\n",
       " <stackexchange.models.Comment at 0x7f1a500f3550>,\n",
       " <stackexchange.models.Comment at 0x7f1a500f3d30>,\n",
       " <stackexchange.models.Comment at 0x7f1a49a0b748>,\n",
       " <stackexchange.models.Comment at 0x7f1a49a0b080>,\n",
       " <stackexchange.models.Comment at 0x7f1a49a0ba90>,\n",
       " <stackexchange.models.Comment at 0x7f1a49a0bc18>,\n",
       " <stackexchange.models.Comment at 0x7f1a49a0bfd0>,\n",
       " <stackexchange.models.Comment at 0x7f1a497c1d30>,\n",
       " ...)"
      ]
     },
     "execution_count": 36,
     "metadata": {},
     "output_type": "execute_result"
    }
   ],
   "source": [
    "cc."
   ]
  },
  {
   "cell_type": "code",
   "execution_count": 26,
   "metadata": {
    "collapsed": false
   },
   "outputs": [
    {
     "data": {
      "text/plain": [
       "31668"
      ]
     },
     "execution_count": 26,
     "metadata": {},
     "output_type": "execute_result"
    }
   ],
   "source": [
    "aa.total"
   ]
  },
  {
   "cell_type": "code",
   "execution_count": 237,
   "metadata": {
    "collapsed": false
   },
   "outputs": [],
   "source": [
    "tags=so.tags()"
   ]
  },
  {
   "cell_type": "code",
   "execution_count": 242,
   "metadata": {
    "collapsed": true
   },
   "outputs": [],
   "source": [
    "t=tags[0]"
   ]
  },
  {
   "cell_type": "code",
   "execution_count": 248,
   "metadata": {
    "collapsed": false
   },
   "outputs": [
    {
     "data": {
      "text/plain": [
       "109957"
      ]
     },
     "execution_count": 248,
     "metadata": {},
     "output_type": "execute_result"
    }
   ],
   "source": [
    "t."
   ]
  },
  {
   "cell_type": "code",
   "execution_count": 232,
   "metadata": {
    "collapsed": false
   },
   "outputs": [
    {
     "data": {
      "text/plain": [
       "stackexchange.core.StackExchangeResultset"
      ]
     },
     "execution_count": 232,
     "metadata": {},
     "output_type": "execute_result"
    }
   ],
   "source": [
    "type(questions)"
   ]
  },
  {
   "cell_type": "markdown",
   "metadata": {},
   "source": [
    "####Experience"
   ]
  },
  {
   "cell_type": "code",
   "execution_count": 4,
   "metadata": {
    "collapsed": false
   },
   "outputs": [
    {
     "name": "stdout",
     "output_type": "stream",
     "text": [
      "StackOverflow user 41981's experience:\n",
      "Most experienced on css.\n",
      "Most curious about .net.\n",
      "Accept rate is 84.62%.\n"
     ]
    }
   ],
   "source": [
    "print('StackOverflow user %d\\'s experience:' % user_id)\n",
    "\n",
    "print('Most experienced on %s.' % user.top_answer_tags.fetch()[0].tag_name)\n",
    "print('Most curious about %s.' % user.top_question_tags.fetch()[0].tag_name)\n",
    "\n",
    "total_questions = len(user.questions.fetch())\n",
    "unaccepted_questions = len(user.unaccepted_questions.fetch())\n",
    "accepted = total_questions - unaccepted_questions\n",
    "rate = accepted / float(total_questions) * 100\n",
    "print('Accept rate is %.2f%%.' % rate)"
   ]
  },
  {
   "cell_type": "markdown",
   "metadata": {},
   "source": [
    "####Highest voted"
   ]
  },
  {
   "cell_type": "code",
   "execution_count": 5,
   "metadata": {
    "collapsed": false
   },
   "outputs": [
    {
     "name": "stdout",
     "output_type": "stream",
     "text": [
      "The highest voted question on StackOverflow is:\n",
      "\t11227809\tWhy is processing a sorted array faster than an unsorted array?\t10693\n",
      "\n",
      "Look, see: http://stackoverflow.com/questions/11227809\n"
     ]
    }
   ],
   "source": [
    "print('The highest voted question on StackOverflow is:')\n",
    "question = so.questions(sort=Sort.Votes, order=DESC)[0]\n",
    "print('\\t%8d\\t%s\\t%d' % (question.id, question.title, question.score))\n",
    "print()\n",
    "print('Look, see:', question.url)"
   ]
  },
  {
   "cell_type": "markdown",
   "metadata": {},
   "source": [
    "####Question"
   ]
  },
  {
   "cell_type": "code",
   "execution_count": 6,
   "metadata": {
    "collapsed": false
   },
   "outputs": [
    {
     "name": "stdout",
     "output_type": "stream",
     "text": [
      "--- Why is processing a sorted array faster than an unsorted array? ---\n",
      "<p>Here is a piece of <strong>C++</strong> code that seems very peculiar. For some strange reason, sorting the data miraculously makes the code almost six times faster.</p>\n",
      "\n",
      "<pre class=\"lang-cpp prettyprint-override\"><code>#include &lt;algorithm&gt;\n",
      "#include &lt;ctime&gt;\n",
      "#include &lt;iostream&gt;\n",
      "\n",
      "int main()\n",
      "{\n",
      "    // Generate data\n",
      "    const unsigned arraySize = 32768;\n",
      "    int data[arraySize];\n",
      "\n",
      "    for (unsigned c = 0; c &lt; arraySize; ++c)\n",
      "        data[c] = std::rand() % 256;\n",
      "\n",
      "    // !!! With this, the next loop runs faster\n",
      "    std::sort(data, data + arraySize);\n",
      "\n",
      "    // Test\n",
      "    clock_t start = clock();\n",
      "    long long sum = 0;\n",
      "\n",
      "    for (unsigned i = 0; i &lt; 100000; ++i)\n",
      "    {\n",
      "        // Primary loop\n",
      "        for (unsigned c = 0; c &lt; arraySize; ++c)\n",
      "        {\n",
      "            if (data[c] &gt;= 128)\n",
      "                sum += data[c];\n",
      "        }\n",
      "    }\n",
      "\n",
      "    double elapsedTime = static_cast&lt;double&gt;(clock() - start) / CLOCKS_PER_SEC;\n",
      "\n",
      "    std::cout &lt;&lt; elapsedTime &lt;&lt; std::endl;\n",
      "    std::cout &lt;&lt; \"sum = \" &lt;&lt; sum &lt;&lt; std::endl;\n",
      "}\n",
      "</code></pre>\n",
      "\n",
      "<ul>\n",
      "<li>Without <code>std::sort(data, data + arraySize);</code>, the code runs in <strong>11.54</strong> seconds.</li>\n",
      "<li>With the sorted data, the code runs in <strong>1.93</strong> seconds.</li>\n",
      "</ul>\n",
      "\n",
      "<p>Initially, I thought this might be just a language or compiler anomaly. So I tried it in <strong>Java</strong>.</p>\n",
      "\n",
      "<pre class=\"lang-java prettyprint-override\"><code>import java.util.Arrays;\n",
      "import java.util.Random;\n",
      "\n",
      "public class Main\n",
      "{\n",
      "    public static void main(String[] args)\n",
      "    {\n",
      "        // Generate data\n",
      "        int arraySize = 32768;\n",
      "        int data[] = new int[arraySize];\n",
      "\n",
      "        Random rnd = new Random(0);\n",
      "        for (int c = 0; c &lt; arraySize; ++c)\n",
      "            data[c] = rnd.nextInt() % 256;\n",
      "\n",
      "        // !!! With this, the next loop runs faster\n",
      "        Arrays.sort(data);\n",
      "\n",
      "        // Test\n",
      "        long start = System.nanoTime();\n",
      "        long sum = 0;\n",
      "\n",
      "        for (int i = 0; i &lt; 100000; ++i)\n",
      "        {\n",
      "            // Primary loop\n",
      "            for (int c = 0; c &lt; arraySize; ++c)\n",
      "            {\n",
      "                if (data[c] &gt;= 128)\n",
      "                    sum += data[c];\n",
      "            }\n",
      "        }\n",
      "\n",
      "        System.out.println((System.nanoTime() - start) / 1000000000.0);\n",
      "        System.out.println(\"sum = \" + sum);\n",
      "    }\n",
      "}\n",
      "</code></pre>\n",
      "\n",
      "<p>With a somewhat similar, but less extreme result.</p>\n",
      "\n",
      "<hr>\n",
      "\n",
      "<p>My first thought was that sorting brings the data into the cache, but my next thought was how silly that is, because the array was just generated.</p>\n",
      "\n",
      "<ul>\n",
      "<li>What is going on?</li>\n",
      "<li>Why is a sorted array faster than an unsorted array?</li>\n",
      "<li>The code is summing up some independent terms, and the order should not matter.</li>\n",
      "</ul>\n",
      "\n",
      "\n",
      "9 answers.\n"
     ]
    }
   ],
   "source": [
    "#id = int(get_input(\"Enter a question ID: \"))\n",
    "id = 11227809\n",
    "question = so.question(id)\n",
    "\n",
    "print('--- %s ---' % question.title)\n",
    "print(question.body)\n",
    "print()\n",
    "print('%d answers.' % len(question.answers))"
   ]
  },
  {
   "cell_type": "markdown",
   "metadata": {},
   "source": [
    "####Recent questions"
   ]
  },
  {
   "cell_type": "code",
   "execution_count": 7,
   "metadata": {
    "collapsed": false
   },
   "outputs": [
    {
     "name": "stdout",
     "output_type": "stream",
     "text": [
      " #  vote ans view\n",
      " 1  11    0  9633 \tSystem versus user PATH environmental variable...winmerge works only if I add the path to the user PATH\n",
      " 2   0    0    4 \tReferencing unbounded function in Clojure REPL\n",
      " 3   0    0    2 \tMake bootstrap column touch the bottom of the div\n",
      " 4   0    0    2 \tSelect to Return Multiple Rows from Single Row\n",
      " 5   0    0    7 \tWhat is the best way to incrementally build a numpy array?\n",
      " 6   0    0   12 \tWhy is my sanitized img tags coming up empty?\n",
      " 7   1    0  597 \tHighcharts - Force plot lines to consume available width?\n",
      " 8   0    0    2 \tStrange behaviour when I trying to override protected static variable of Abstract class\n",
      " 9   0    0    8 \tRequesting data from Form using Jquery - have to refresh to resubmit\n",
      "10   0    0   30 \tUpload images PHP to MySQL and retrieve correct images to each form\n",
      "\n",
      "--- TITLE: System versus user PATH environmental variable...winmerge works only if I add the path to the user PATH\n",
      "11 votes, 0 answers, 9633 views.\n",
      "Tagged: windows, path, environment-variables, winmerge\n",
      "\n",
      "<p>If I add <code>C:\\Program Files (x86)\\WinMerge</code> to the User <code>PATH</code> variable(by right click on computer -> advanced system settings -> environmental variables), once I open a new cmd shell WinmergeU.exe is not recognized. If I add ...\n"
     ]
    }
   ],
   "source": [
    "sys.stdout.write('Loading...')\n",
    "sys.stdout.flush()\n",
    "\n",
    "questions = so.recent_questions(pagesize=10, filter='_b')\n",
    "print('\\r #  vote ans view')\n",
    "\n",
    "cur = 1\n",
    "for question in questions[:10]:\n",
    "    print('%2d %3d  %3d  %3d \\t%s' % (cur, question.score, len(question.answers), question.view_count, question.title))\n",
    "    cur += 1\n",
    "\n",
    "#num = int(get_input('Question no.: '))\n",
    "num = 1\n",
    "qu  = questions[num - 1]\n",
    "print()\n",
    "print('--- TITLE: %s' % qu.title)\n",
    "print('%d votes, %d answers, %d views.' % (qu.score, len(qu.answers), qu.view_count))\n",
    "print('Tagged: ' + ', '.join(qu.tags))\n",
    "print()\n",
    "print(qu.body[:250] + ('...' if len(qu.body) > 250 else ''))"
   ]
  },
  {
   "cell_type": "markdown",
   "metadata": {},
   "source": [
    "####Search"
   ]
  },
  {
   "cell_type": "code",
   "execution_count": 8,
   "metadata": {
    "collapsed": false
   },
   "outputs": [
    {
     "name": "stdout",
     "output_type": "stream",
     "text": [
      "Searching for python...\n",
      "--- questions with \"python\" in title ---\n",
      "30468555 List index out of range error (Python 2.7)\n",
      "30468977 Why does Python String concatination work with Russian text but string.format() dose not\n",
      "30469120 Python Django migrate_schemas --shared TypeError: hasattr(): attribute name must be string upon\n",
      "30426935 Reassign rows and columns in Python csv\n",
      "30468920 Python-linkedin Return URL?\n",
      "30468371 How to convert python timestamp string to epoch?\n",
      "30468593 Adding Buffer Protocol to Python Class (Not at C Level)\n",
      "30468461 Finding combinations in a list (Python)\n",
      "30467495 mysql installer fails to recognize python 3.4\n",
      "30468902 How can I control access to a Wiifi Router using Python-Flask?\n"
     ]
    }
   ],
   "source": [
    "term = 'python'\n",
    "print('Searching for %s...' % term,)\n",
    "sys.stdout.flush()\n",
    "\n",
    "qs = so.search(intitle=term)\n",
    "\n",
    "print('\\r--- questions with \"%s\" in title ---' % (term))\n",
    "\n",
    "for q in qs[:10]:\n",
    "    print('%8d %s' % (q.id, q.title))"
   ]
  },
  {
   "cell_type": "markdown",
   "metadata": {},
   "source": [
    "####Stats"
   ]
  },
  {
   "cell_type": "code",
   "execution_count": 9,
   "metadata": {
    "collapsed": false
   },
   "outputs": [
    {
     "name": "stdout",
     "output_type": "stream",
     "text": [
      "Total questions:\t9470823\n",
      "\tAnswered:\t7000654\n",
      "\tUnanswered:\t2470169\n",
      "26.08% unanswered. (73.92% answered!)\n"
     ]
    }
   ],
   "source": [
    "stats = so.stats()\n",
    "\n",
    "print('Total questions:\\t%d' % stats.total_questions)\n",
    "print('\\tAnswered:\\t%d' % (stats.total_questions - stats.total_unanswered))\n",
    "print('\\tUnanswered:\\t%d' % (stats.total_unanswered))\n",
    "\n",
    "percent = (stats.total_unanswered / float(stats.total_questions)) * 100\n",
    "print('%.2f%% unanswered. (%.2f%% answered!)' % (percent, 100 - percent))"
   ]
  }
 ],
 "metadata": {
  "kernelspec": {
   "display_name": "Python 3",
   "language": "python",
   "name": "python3"
  },
  "language_info": {
   "codemirror_mode": {
    "name": "ipython",
    "version": 3
   },
   "file_extension": ".py",
   "mimetype": "text/x-python",
   "name": "python",
   "nbconvert_exporter": "python",
   "pygments_lexer": "ipython3",
   "version": "3.4.0"
  }
 },
 "nbformat": 4,
 "nbformat_minor": 0
}
