{
 "cells": [
  {
   "cell_type": "markdown",
   "metadata": {},
   "source": [
    "# StackOverflow answer classifier"
   ]
  },
  {
   "cell_type": "code",
   "execution_count": 1,
   "metadata": {
    "collapsed": false
   },
   "outputs": [],
   "source": [
    "import re\n",
    "import sys\n",
    "from datetime import datetime\n",
    "from html.parser import HTMLParser\n",
    "\n",
    "import stackexchange\n",
    "import numpy as np\n",
    "import pandas as pd\n",
    "from stackexchange import Site, StackOverflow, Sort, DESC, ASC\n",
    "\n",
    "import credentials"
   ]
  },
  {
   "cell_type": "code",
   "execution_count": 2,
   "metadata": {
    "collapsed": false
   },
   "outputs": [],
   "source": [
    "class HTML2String(HTMLParser):\n",
    "    def __init__(self):\n",
    "        HTMLParser.__init__(self)\n",
    "        self.strict = False\n",
    "        self.convert_charrefs= True\n",
    "        self.text = []\n",
    "    def handle_data(self, d):\n",
    "        self.text.append(d)\n",
    "    def get_data(self):\n",
    "        return ''.join(self.text)\n",
    "\n",
    "def html_to_string(html):\n",
    "    s = HTML2String()\n",
    "    s.feed(html)\n",
    "    return s.get_data()\n",
    "\n",
    "def code_line_count(html):\n",
    "    count_lines = 0\n",
    "    codes = re.findall(r'<code>.*?</code>', html, re.DOTALL)\n",
    "    for code in codes:\n",
    "        text = html_to_string(code)\n",
    "        lines = text.split('\\n')\n",
    "        lines = list(filter(lambda x: len(x) > 0, lines))\n",
    "        count_lines += len(lines)\n",
    "    return count_lines"
   ]
  },
  {
   "cell_type": "markdown",
   "metadata": {},
   "source": [
    "##Preparing data"
   ]
  },
  {
   "cell_type": "code",
   "execution_count": 12,
   "metadata": {
    "collapsed": false
   },
   "outputs": [],
   "source": [
    "qs_columns = ['id', 'author_id', 'date', 'title', 'text', 'score', 'views', 'url']\n",
    "as_columns = ['id', 'author_id', 'question_id', 'date', 'text', 'code_lines', 'score', 'accepted', 'url']\n",
    "us_columns = ['id', 'name', 'total_questions', 'unanswered_questions', 'total_answers', 'accepted_answers', 'reputation', 'badge_total', 'url']\n",
    "qa_columns = ['id', 'text', 'q_score', 'a_score', 'qer_reputation', 'aer_reputation', 'qer_percent_answered_questions', 'aer_percent_accepted_answers', 'aer_badge_total', 'a_code_lenth', 'is_qa']\n",
    "\n",
    "questions_df = pd.DataFrame(columns=qs_columns)\n",
    "answers_df = pd.DataFrame(columns=as_columns)\n",
    "users_df = pd.DataFrame(columns=us_columns)\n",
    "qas_df = pd.DataFrame(columns=qa_columns)"
   ]
  },
  {
   "cell_type": "code",
   "execution_count": 16,
   "metadata": {
    "collapsed": false
   },
   "outputs": [],
   "source": [
    "so = stackexchange.Site(stackexchange.StackOverflow, app_key=credentials.KEY)\n",
    "# so.impose_throttling = True\n",
    "# so.throttle_stop = False\n",
    "so.be_inclusive()"
   ]
  },
  {
   "cell_type": "code",
   "execution_count": 5,
   "metadata": {
    "collapsed": true
   },
   "outputs": [],
   "source": [
    "from_date = datetime.strptime('2014-01-01', '%Y-%m-%d')\n",
    "# to_date = datetime.strptime('2014-12-31', '%Y-%m-%d')\n",
    "to_date = datetime.strptime('2014-01-02', '%Y-%m-%d')\n",
    "\n",
    "from_date_ts = int(from_date.timestamp())\n",
    "to_date_ts = int(to_date.timestamp())"
   ]
  },
  {
   "cell_type": "code",
   "execution_count": 6,
   "metadata": {
    "collapsed": false
   },
   "outputs": [],
   "source": [
    "def count_unanswered_questions(user):\n",
    "    count = 0\n",
    "    unanswered_questions = user.unanswered_questions.fetch()\n",
    "    count += len(unanswered_questions)\n",
    "    while unanswered_questions.has_more:\n",
    "        unanswered_questions = unanswered_questions.fetch_next()\n",
    "        count += len(unanswered_questions)\n",
    "    return count\n",
    "\n",
    "def count_accepted_answers(user):\n",
    "    count = 0\n",
    "    answers = user.answers.fetch()\n",
    "    accepted_answers = list(filter(lambda x: x.accepted, answers))\n",
    "    count += len(accepted_answers)\n",
    "    while answers.has_more:\n",
    "        print('x')\n",
    "        answers = answers.fetch_next()\n",
    "        accepted_answers = list(filter(lambda x: x.accepted, answers))\n",
    "        count += len(accepted_answers)\n",
    "    return count"
   ]
  },
  {
   "cell_type": "code",
   "execution_count": 7,
   "metadata": {
    "collapsed": false
   },
   "outputs": [],
   "source": [
    "def question_to_df(question):\n",
    "    print('a')\n",
    "    q_id = question.id\n",
    "    author_id = question.owner_id\n",
    "    date = question.creation_date\n",
    "    title = question.title\n",
    "    text = html_to_string(question.body)\n",
    "    score = question.score\n",
    "    views = question.view_count\n",
    "    url = question.url\n",
    "\n",
    "    info = [q_id, author_id, date, title, text, score, views, url]\n",
    "    q_df = pd.DataFrame([info], columns=qs_columns)\n",
    "    return q_df\n",
    "\n",
    "def answer_to_df(answer):\n",
    "    print('b')\n",
    "    a_id = answer.id\n",
    "    author_id = answer.owner_id\n",
    "    question_id = answer.question_id\n",
    "    date = answer.creation_date\n",
    "    text = html_to_string(answer.body)\n",
    "    code_lines = code_line_count(answer.body)\n",
    "    score = answer.score\n",
    "    accepted = answer.accepted\n",
    "    url = answer.url\n",
    "\n",
    "    info = [a_id, author_id, question_id, date, text, code_lines, score, accepted, url]\n",
    "    a_df = pd.DataFrame([info], columns=as_columns)\n",
    "    return a_df\n",
    "\n",
    "def user_to_df(user):\n",
    "    print('c')\n",
    "    u_id = user.id\n",
    "    name = user.display_name\n",
    "    total_questions = so.questions(user_id=user.id).total\n",
    "    unanswered_questions = count_unanswered_questions(user)\n",
    "    total_answers = so.answers(user_id=user.id).total\n",
    "    accepted_answers = count_accepted_answers(user)\n",
    "    reputation = user.reputation.real\n",
    "    badge_total = user.badge_total\n",
    "    url = user.url\n",
    "\n",
    "    info = [u_id, name, total_questions, unanswered_questions, total_answers, accepted_answers, reputation, badge_total, url]\n",
    "    u_df = pd.DataFrame([info], columns=us_columns)\n",
    "    return u_df"
   ]
  },
  {
   "cell_type": "code",
   "execution_count": 17,
   "metadata": {
    "collapsed": false
   },
   "outputs": [
    {
     "name": "stdout",
     "output_type": "stream",
     "text": [
      "1\n",
      "2\n",
      "a\n",
      "4\n",
      "b\n",
      "6\n",
      "2\n",
      "a\n",
      "4\n",
      "b\n",
      "4\n",
      "b\n",
      "6\n",
      "2\n",
      "a\n",
      "4\n",
      "b\n",
      "4\n",
      "b\n",
      "6\n",
      "2\n",
      "a\n",
      "4\n",
      "b\n",
      "5\n",
      "c\n",
      "x\n",
      "4\n",
      "b\n",
      "4\n",
      "b\n",
      "5\n",
      "c\n",
      "6\n",
      "2\n",
      "a\n",
      "3\n",
      "c\n",
      "4\n",
      "b\n",
      "5\n",
      "c\n",
      "6\n",
      "2\n",
      "a\n",
      "3\n",
      "c\n",
      "4\n",
      "b\n",
      "5\n",
      "c\n",
      "x\n",
      "4\n",
      "b\n",
      "5\n",
      "c\n",
      "x\n",
      "x\n",
      "x\n",
      "x\n",
      "x\n",
      "x\n",
      "x\n",
      "x\n",
      "6\n",
      "2\n",
      "a\n",
      "3\n",
      "c\n",
      "4\n",
      "b\n",
      "5\n",
      "c\n"
     ]
    },
    {
     "ename": "BadStatusLine",
     "evalue": "''",
     "output_type": "error",
     "traceback": [
      "\u001b[1;31m---------------------------------------------------------------------------\u001b[0m",
      "\u001b[1;31mBadStatusLine\u001b[0m                             Traceback (most recent call last)",
      "\u001b[1;32m<ipython-input-17-e29c5aa80914>\u001b[0m in \u001b[0;36m<module>\u001b[1;34m()\u001b[0m\n\u001b[0;32m     24\u001b[0m                 \u001b[0mprint\u001b[0m\u001b[1;33m(\u001b[0m\u001b[1;36m5\u001b[0m\u001b[1;33m)\u001b[0m\u001b[1;33m\u001b[0m\u001b[0m\n\u001b[0;32m     25\u001b[0m                 \u001b[0maer\u001b[0m \u001b[1;33m=\u001b[0m \u001b[0mso\u001b[0m\u001b[1;33m.\u001b[0m\u001b[0muser\u001b[0m\u001b[1;33m(\u001b[0m\u001b[0mauthor_id\u001b[0m\u001b[1;33m)\u001b[0m\u001b[1;33m\u001b[0m\u001b[0m\n\u001b[1;32m---> 26\u001b[1;33m                 \u001b[0mu_df\u001b[0m \u001b[1;33m=\u001b[0m \u001b[0muser_to_df\u001b[0m\u001b[1;33m(\u001b[0m\u001b[0maer\u001b[0m\u001b[1;33m)\u001b[0m\u001b[1;33m\u001b[0m\u001b[0m\n\u001b[0m\u001b[0;32m     27\u001b[0m                 \u001b[0musers_df\u001b[0m \u001b[1;33m=\u001b[0m \u001b[0musers_df\u001b[0m\u001b[1;33m.\u001b[0m\u001b[0mappend\u001b[0m\u001b[1;33m(\u001b[0m\u001b[0mu_df\u001b[0m\u001b[1;33m,\u001b[0m \u001b[0mignore_index\u001b[0m\u001b[1;33m=\u001b[0m\u001b[1;32mTrue\u001b[0m\u001b[1;33m)\u001b[0m\u001b[1;33m\u001b[0m\u001b[0m\n\u001b[0;32m     28\u001b[0m \u001b[1;33m\u001b[0m\u001b[0m\n",
      "\u001b[1;32m<ipython-input-7-443b1df285d5>\u001b[0m in \u001b[0;36muser_to_df\u001b[1;34m(user)\u001b[0m\n\u001b[0;32m     37\u001b[0m     \u001b[0munanswered_questions\u001b[0m \u001b[1;33m=\u001b[0m \u001b[0mcount_unanswered_questions\u001b[0m\u001b[1;33m(\u001b[0m\u001b[0muser\u001b[0m\u001b[1;33m)\u001b[0m\u001b[1;33m\u001b[0m\u001b[0m\n\u001b[0;32m     38\u001b[0m     \u001b[0mtotal_answers\u001b[0m \u001b[1;33m=\u001b[0m \u001b[0mso\u001b[0m\u001b[1;33m.\u001b[0m\u001b[0manswers\u001b[0m\u001b[1;33m(\u001b[0m\u001b[0muser_id\u001b[0m\u001b[1;33m=\u001b[0m\u001b[0muser\u001b[0m\u001b[1;33m.\u001b[0m\u001b[0mid\u001b[0m\u001b[1;33m)\u001b[0m\u001b[1;33m.\u001b[0m\u001b[0mtotal\u001b[0m\u001b[1;33m\u001b[0m\u001b[0m\n\u001b[1;32m---> 39\u001b[1;33m     \u001b[0maccepted_answers\u001b[0m \u001b[1;33m=\u001b[0m \u001b[0mcount_accepted_answers\u001b[0m\u001b[1;33m(\u001b[0m\u001b[0muser\u001b[0m\u001b[1;33m)\u001b[0m\u001b[1;33m\u001b[0m\u001b[0m\n\u001b[0m\u001b[0;32m     40\u001b[0m     \u001b[0mreputation\u001b[0m \u001b[1;33m=\u001b[0m \u001b[0muser\u001b[0m\u001b[1;33m.\u001b[0m\u001b[0mreputation\u001b[0m\u001b[1;33m.\u001b[0m\u001b[0mreal\u001b[0m\u001b[1;33m\u001b[0m\u001b[0m\n\u001b[0;32m     41\u001b[0m     \u001b[0mbadge_total\u001b[0m \u001b[1;33m=\u001b[0m \u001b[0muser\u001b[0m\u001b[1;33m.\u001b[0m\u001b[0mbadge_total\u001b[0m\u001b[1;33m\u001b[0m\u001b[0m\n",
      "\u001b[1;32m<ipython-input-6-fd4e28209fe4>\u001b[0m in \u001b[0;36mcount_accepted_answers\u001b[1;34m(user)\u001b[0m\n\u001b[0;32m     11\u001b[0m     \u001b[0mcount\u001b[0m \u001b[1;33m=\u001b[0m \u001b[1;36m0\u001b[0m\u001b[1;33m\u001b[0m\u001b[0m\n\u001b[0;32m     12\u001b[0m     \u001b[0manswers\u001b[0m \u001b[1;33m=\u001b[0m \u001b[0muser\u001b[0m\u001b[1;33m.\u001b[0m\u001b[0manswers\u001b[0m\u001b[1;33m.\u001b[0m\u001b[0mfetch\u001b[0m\u001b[1;33m(\u001b[0m\u001b[1;33m)\u001b[0m\u001b[1;33m\u001b[0m\u001b[0m\n\u001b[1;32m---> 13\u001b[1;33m     \u001b[0maccepted_answers\u001b[0m \u001b[1;33m=\u001b[0m \u001b[0mlist\u001b[0m\u001b[1;33m(\u001b[0m\u001b[0mfilter\u001b[0m\u001b[1;33m(\u001b[0m\u001b[1;32mlambda\u001b[0m \u001b[0mx\u001b[0m\u001b[1;33m:\u001b[0m \u001b[0mx\u001b[0m\u001b[1;33m.\u001b[0m\u001b[0maccepted\u001b[0m\u001b[1;33m,\u001b[0m \u001b[0manswers\u001b[0m\u001b[1;33m)\u001b[0m\u001b[1;33m)\u001b[0m\u001b[1;33m\u001b[0m\u001b[0m\n\u001b[0m\u001b[0;32m     14\u001b[0m     \u001b[0mcount\u001b[0m \u001b[1;33m+=\u001b[0m \u001b[0mlen\u001b[0m\u001b[1;33m(\u001b[0m\u001b[0maccepted_answers\u001b[0m\u001b[1;33m)\u001b[0m\u001b[1;33m\u001b[0m\u001b[0m\n\u001b[0;32m     15\u001b[0m     \u001b[1;32mwhile\u001b[0m \u001b[0manswers\u001b[0m\u001b[1;33m.\u001b[0m\u001b[0mhas_more\u001b[0m\u001b[1;33m:\u001b[0m\u001b[1;33m\u001b[0m\u001b[0m\n",
      "\u001b[1;32m/home/antonio/git/so/stackexchange/core.py\u001b[0m in \u001b[0;36mnext\u001b[1;34m(self)\u001b[0m\n\u001b[0;32m    252\u001b[0m \u001b[1;33m\u001b[0m\u001b[0m\n\u001b[0;32m    253\u001b[0m             \u001b[1;32mtry\u001b[0m\u001b[1;33m:\u001b[0m\u001b[1;33m\u001b[0m\u001b[0m\n\u001b[1;32m--> 254\u001b[1;33m                 \u001b[0mcurrent\u001b[0m \u001b[1;33m=\u001b[0m \u001b[0mcurrent\u001b[0m\u001b[1;33m.\u001b[0m\u001b[0mfetch_next\u001b[0m\u001b[1;33m(\u001b[0m\u001b[1;33m)\u001b[0m\u001b[1;33m\u001b[0m\u001b[0m\n\u001b[0m\u001b[0;32m    255\u001b[0m                 \u001b[1;32mif\u001b[0m \u001b[0mlen\u001b[0m\u001b[1;33m(\u001b[0m\u001b[0mcurrent\u001b[0m\u001b[1;33m)\u001b[0m \u001b[1;33m==\u001b[0m \u001b[1;36m0\u001b[0m\u001b[1;33m:\u001b[0m\u001b[1;33m\u001b[0m\u001b[0m\n\u001b[0;32m    256\u001b[0m                     \u001b[1;32mreturn\u001b[0m\u001b[1;33m\u001b[0m\u001b[0m\n",
      "\u001b[1;32m/home/antonio/git/so/stackexchange/core.py\u001b[0m in \u001b[0;36mfetch_next\u001b[1;34m(self)\u001b[0m\n\u001b[0;32m    230\u001b[0m     \u001b[1;32mdef\u001b[0m \u001b[0mfetch_next\u001b[0m\u001b[1;33m(\u001b[0m\u001b[0mself\u001b[0m\u001b[1;33m)\u001b[0m\u001b[1;33m:\u001b[0m\u001b[1;33m\u001b[0m\u001b[0m\n\u001b[0;32m    231\u001b[0m         \u001b[1;34m\"\"\"Returns the resultset of the data in the next page.\"\"\"\u001b[0m\u001b[1;33m\u001b[0m\u001b[0m\n\u001b[1;32m--> 232\u001b[1;33m         \u001b[1;32mreturn\u001b[0m \u001b[0mself\u001b[0m\u001b[1;33m.\u001b[0m\u001b[0mfetch_page\u001b[0m\u001b[1;33m(\u001b[0m\u001b[0mself\u001b[0m\u001b[1;33m.\u001b[0m\u001b[0mpage\u001b[0m \u001b[1;33m+\u001b[0m \u001b[1;36m1\u001b[0m\u001b[1;33m)\u001b[0m\u001b[1;33m\u001b[0m\u001b[0m\n\u001b[0m\u001b[0;32m    233\u001b[0m \u001b[1;33m\u001b[0m\u001b[0m\n\u001b[0;32m    234\u001b[0m     \u001b[1;32mdef\u001b[0m \u001b[0mextend_next\u001b[0m\u001b[1;33m(\u001b[0m\u001b[0mself\u001b[0m\u001b[1;33m)\u001b[0m\u001b[1;33m:\u001b[0m\u001b[1;33m\u001b[0m\u001b[0m\n",
      "\u001b[1;32m/home/antonio/git/so/stackexchange/core.py\u001b[0m in \u001b[0;36mfetch_page\u001b[1;34m(self, page, **kw)\u001b[0m\n\u001b[0;32m    216\u001b[0m         \u001b[0mnew_params\u001b[0m\u001b[1;33m[\u001b[0m\u001b[1;36m4\u001b[0m\u001b[1;33m]\u001b[0m\u001b[1;33m[\u001b[0m\u001b[1;34m'page'\u001b[0m\u001b[1;33m]\u001b[0m \u001b[1;33m=\u001b[0m \u001b[0mpage\u001b[0m\u001b[1;33m\u001b[0m\u001b[0m\n\u001b[0;32m    217\u001b[0m \u001b[1;33m\u001b[0m\u001b[0m\n\u001b[1;32m--> 218\u001b[1;33m         \u001b[0mnew_set\u001b[0m \u001b[1;33m=\u001b[0m \u001b[0mnew_params\u001b[0m\u001b[1;33m[\u001b[0m\u001b[1;36m0\u001b[0m\u001b[1;33m]\u001b[0m\u001b[1;33m.\u001b[0m\u001b[0mbuild\u001b[0m\u001b[1;33m(\u001b[0m\u001b[1;33m*\u001b[0m\u001b[0mnew_params\u001b[0m\u001b[1;33m[\u001b[0m\u001b[1;36m1\u001b[0m\u001b[1;33m:\u001b[0m\u001b[1;33m]\u001b[0m\u001b[1;33m)\u001b[0m\u001b[1;33m\u001b[0m\u001b[0m\n\u001b[0m\u001b[0;32m    219\u001b[0m         \u001b[0mnew_set\u001b[0m\u001b[1;33m.\u001b[0m\u001b[0mpage\u001b[0m \u001b[1;33m=\u001b[0m \u001b[0mpage\u001b[0m\u001b[1;33m\u001b[0m\u001b[0m\n\u001b[0;32m    220\u001b[0m         \u001b[1;32mreturn\u001b[0m \u001b[0mnew_set\u001b[0m\u001b[1;33m\u001b[0m\u001b[0m\n",
      "\u001b[1;32m/home/antonio/git/so/stackexchange/site.py\u001b[0m in \u001b[0;36mbuild\u001b[1;34m(self, url, typ, collection, kw)\u001b[0m\n\u001b[0;32m    187\u001b[0m             \u001b[0mkw\u001b[0m\u001b[1;33m[\u001b[0m\u001b[1;34m'comments'\u001b[0m\u001b[1;33m]\u001b[0m \u001b[1;33m=\u001b[0m \u001b[0mstr\u001b[0m\u001b[1;33m(\u001b[0m\u001b[0mself\u001b[0m\u001b[1;33m.\u001b[0m\u001b[0minclude_comments\u001b[0m\u001b[1;33m)\u001b[0m\u001b[1;33m.\u001b[0m\u001b[0mlower\u001b[0m\u001b[1;33m(\u001b[0m\u001b[1;33m)\u001b[0m\u001b[1;33m\u001b[0m\u001b[0m\n\u001b[0;32m    188\u001b[0m \u001b[1;33m\u001b[0m\u001b[0m\n\u001b[1;32m--> 189\u001b[1;33m         \u001b[0mjson\u001b[0m \u001b[1;33m=\u001b[0m \u001b[0mself\u001b[0m\u001b[1;33m.\u001b[0m\u001b[0m_request\u001b[0m\u001b[1;33m(\u001b[0m\u001b[0murl\u001b[0m\u001b[1;33m,\u001b[0m \u001b[0mkw\u001b[0m\u001b[1;33m)\u001b[0m\u001b[1;33m\u001b[0m\u001b[0m\n\u001b[0m\u001b[0;32m    190\u001b[0m         \u001b[1;32mreturn\u001b[0m \u001b[0mJSONMangler\u001b[0m\u001b[1;33m.\u001b[0m\u001b[0mjson_to_resultset\u001b[0m\u001b[1;33m(\u001b[0m\u001b[0mself\u001b[0m\u001b[1;33m,\u001b[0m \u001b[0mjson\u001b[0m\u001b[1;33m,\u001b[0m \u001b[0mtyp\u001b[0m\u001b[1;33m,\u001b[0m \u001b[0mcollection\u001b[0m\u001b[1;33m,\u001b[0m \u001b[1;33m(\u001b[0m\u001b[0mself\u001b[0m\u001b[1;33m,\u001b[0m \u001b[0murl\u001b[0m\u001b[1;33m,\u001b[0m \u001b[0mtyp\u001b[0m\u001b[1;33m,\u001b[0m \u001b[0mcollection\u001b[0m\u001b[1;33m,\u001b[0m \u001b[0mkw\u001b[0m\u001b[1;33m)\u001b[0m\u001b[1;33m)\u001b[0m\u001b[1;33m\u001b[0m\u001b[0m\n\u001b[0;32m    191\u001b[0m \u001b[1;33m\u001b[0m\u001b[0m\n",
      "\u001b[1;32m/home/antonio/git/so/stackexchange/site.py\u001b[0m in \u001b[0;36m_request\u001b[1;34m(self, to, params)\u001b[0m\n\u001b[0;32m    158\u001b[0m         \u001b[0mrequest_mgr\u001b[0m \u001b[1;33m=\u001b[0m \u001b[0mWebRequestManager\u001b[0m\u001b[1;33m(\u001b[0m\u001b[1;33m**\u001b[0m\u001b[0mrequest_properties\u001b[0m\u001b[1;33m)\u001b[0m\u001b[1;33m\u001b[0m\u001b[0m\n\u001b[0;32m    159\u001b[0m \u001b[1;33m\u001b[0m\u001b[0m\n\u001b[1;32m--> 160\u001b[1;33m         \u001b[0mjson\u001b[0m\u001b[1;33m,\u001b[0m \u001b[0minfo\u001b[0m \u001b[1;33m=\u001b[0m \u001b[0mrequest_mgr\u001b[0m\u001b[1;33m.\u001b[0m\u001b[0mjson_request\u001b[0m\u001b[1;33m(\u001b[0m\u001b[0murl\u001b[0m\u001b[1;33m,\u001b[0m \u001b[0mnew_params\u001b[0m\u001b[1;33m)\u001b[0m\u001b[1;33m\u001b[0m\u001b[0m\n\u001b[0m\u001b[0;32m    161\u001b[0m \u001b[1;33m\u001b[0m\u001b[0m\n\u001b[0;32m    162\u001b[0m         \u001b[1;32mif\u001b[0m \u001b[1;34m'quota_remaining'\u001b[0m \u001b[1;32min\u001b[0m \u001b[0mjson\u001b[0m \u001b[1;32mand\u001b[0m \u001b[1;34m'quota_max'\u001b[0m \u001b[1;32min\u001b[0m \u001b[0mjson\u001b[0m\u001b[1;33m:\u001b[0m\u001b[1;33m\u001b[0m\u001b[0m\n",
      "\u001b[1;32m/home/antonio/git/so/stackexchange/web.py\u001b[0m in \u001b[0;36mjson_request\u001b[1;34m(self, to, params)\u001b[0m\n\u001b[0;32m    157\u001b[0m \u001b[1;33m\u001b[0m\u001b[0m\n\u001b[0;32m    158\u001b[0m     \u001b[1;32mdef\u001b[0m \u001b[0mjson_request\u001b[0m\u001b[1;33m(\u001b[0m\u001b[0mself\u001b[0m\u001b[1;33m,\u001b[0m \u001b[0mto\u001b[0m\u001b[1;33m,\u001b[0m \u001b[0mparams\u001b[0m\u001b[1;33m)\u001b[0m\u001b[1;33m:\u001b[0m\u001b[1;33m\u001b[0m\u001b[0m\n\u001b[1;32m--> 159\u001b[1;33m         \u001b[0mreq\u001b[0m \u001b[1;33m=\u001b[0m \u001b[0mself\u001b[0m\u001b[1;33m.\u001b[0m\u001b[0mrequest\u001b[0m\u001b[1;33m(\u001b[0m\u001b[0mto\u001b[0m\u001b[1;33m,\u001b[0m \u001b[0mparams\u001b[0m\u001b[1;33m)\u001b[0m\u001b[1;33m\u001b[0m\u001b[0m\n\u001b[0m\u001b[0;32m    160\u001b[0m         \u001b[0mparsed_result\u001b[0m \u001b[1;33m=\u001b[0m \u001b[0mjson\u001b[0m\u001b[1;33m.\u001b[0m\u001b[0mloads\u001b[0m\u001b[1;33m(\u001b[0m\u001b[0mreq\u001b[0m\u001b[1;33m.\u001b[0m\u001b[0mdata\u001b[0m\u001b[1;33m.\u001b[0m\u001b[0mdecode\u001b[0m\u001b[1;33m(\u001b[0m\u001b[1;34m'utf8'\u001b[0m\u001b[1;33m)\u001b[0m\u001b[1;33m)\u001b[0m\u001b[1;33m\u001b[0m\u001b[0m\n\u001b[0;32m    161\u001b[0m \u001b[1;33m\u001b[0m\u001b[0m\n",
      "\u001b[1;32m/home/antonio/git/so/stackexchange/web.py\u001b[0m in \u001b[0;36mrequest\u001b[1;34m(self, url, params)\u001b[0m\n\u001b[0;32m    114\u001b[0m \u001b[1;33m\u001b[0m\u001b[0m\n\u001b[0;32m    115\u001b[0m         \u001b[1;32mtry\u001b[0m\u001b[1;33m:\u001b[0m\u001b[1;33m\u001b[0m\u001b[0m\n\u001b[1;32m--> 116\u001b[1;33m             \u001b[0mconn\u001b[0m \u001b[1;33m=\u001b[0m \u001b[0mreq_open\u001b[0m\u001b[1;33m.\u001b[0m\u001b[0mopen\u001b[0m\u001b[1;33m(\u001b[0m\u001b[0mrequest\u001b[0m\u001b[1;33m)\u001b[0m\u001b[1;33m\u001b[0m\u001b[0m\n\u001b[0m\u001b[0;32m    117\u001b[0m             \u001b[0minfo\u001b[0m \u001b[1;33m=\u001b[0m \u001b[0mconn\u001b[0m\u001b[1;33m.\u001b[0m\u001b[0minfo\u001b[0m\u001b[1;33m(\u001b[0m\u001b[1;33m)\u001b[0m\u001b[1;33m\u001b[0m\u001b[0m\n\u001b[0;32m    118\u001b[0m             \u001b[0mreq_data\u001b[0m \u001b[1;33m=\u001b[0m \u001b[0mconn\u001b[0m\u001b[1;33m.\u001b[0m\u001b[0mread\u001b[0m\u001b[1;33m(\u001b[0m\u001b[1;33m)\u001b[0m\u001b[1;33m\u001b[0m\u001b[0m\n",
      "\u001b[1;32m/usr/lib/python3.4/urllib/request.py\u001b[0m in \u001b[0;36mopen\u001b[1;34m(self, fullurl, data, timeout)\u001b[0m\n\u001b[0;32m    453\u001b[0m             \u001b[0mreq\u001b[0m \u001b[1;33m=\u001b[0m \u001b[0mmeth\u001b[0m\u001b[1;33m(\u001b[0m\u001b[0mreq\u001b[0m\u001b[1;33m)\u001b[0m\u001b[1;33m\u001b[0m\u001b[0m\n\u001b[0;32m    454\u001b[0m \u001b[1;33m\u001b[0m\u001b[0m\n\u001b[1;32m--> 455\u001b[1;33m         \u001b[0mresponse\u001b[0m \u001b[1;33m=\u001b[0m \u001b[0mself\u001b[0m\u001b[1;33m.\u001b[0m\u001b[0m_open\u001b[0m\u001b[1;33m(\u001b[0m\u001b[0mreq\u001b[0m\u001b[1;33m,\u001b[0m \u001b[0mdata\u001b[0m\u001b[1;33m)\u001b[0m\u001b[1;33m\u001b[0m\u001b[0m\n\u001b[0m\u001b[0;32m    456\u001b[0m \u001b[1;33m\u001b[0m\u001b[0m\n\u001b[0;32m    457\u001b[0m         \u001b[1;31m# post-process response\u001b[0m\u001b[1;33m\u001b[0m\u001b[1;33m\u001b[0m\u001b[0m\n",
      "\u001b[1;32m/usr/lib/python3.4/urllib/request.py\u001b[0m in \u001b[0;36m_open\u001b[1;34m(self, req, data)\u001b[0m\n\u001b[0;32m    471\u001b[0m         \u001b[0mprotocol\u001b[0m \u001b[1;33m=\u001b[0m \u001b[0mreq\u001b[0m\u001b[1;33m.\u001b[0m\u001b[0mtype\u001b[0m\u001b[1;33m\u001b[0m\u001b[0m\n\u001b[0;32m    472\u001b[0m         result = self._call_chain(self.handle_open, protocol, protocol +\n\u001b[1;32m--> 473\u001b[1;33m                                   '_open', req)\n\u001b[0m\u001b[0;32m    474\u001b[0m         \u001b[1;32mif\u001b[0m \u001b[0mresult\u001b[0m\u001b[1;33m:\u001b[0m\u001b[1;33m\u001b[0m\u001b[0m\n\u001b[0;32m    475\u001b[0m             \u001b[1;32mreturn\u001b[0m \u001b[0mresult\u001b[0m\u001b[1;33m\u001b[0m\u001b[0m\n",
      "\u001b[1;32m/usr/lib/python3.4/urllib/request.py\u001b[0m in \u001b[0;36m_call_chain\u001b[1;34m(self, chain, kind, meth_name, *args)\u001b[0m\n\u001b[0;32m    431\u001b[0m         \u001b[1;32mfor\u001b[0m \u001b[0mhandler\u001b[0m \u001b[1;32min\u001b[0m \u001b[0mhandlers\u001b[0m\u001b[1;33m:\u001b[0m\u001b[1;33m\u001b[0m\u001b[0m\n\u001b[0;32m    432\u001b[0m             \u001b[0mfunc\u001b[0m \u001b[1;33m=\u001b[0m \u001b[0mgetattr\u001b[0m\u001b[1;33m(\u001b[0m\u001b[0mhandler\u001b[0m\u001b[1;33m,\u001b[0m \u001b[0mmeth_name\u001b[0m\u001b[1;33m)\u001b[0m\u001b[1;33m\u001b[0m\u001b[0m\n\u001b[1;32m--> 433\u001b[1;33m             \u001b[0mresult\u001b[0m \u001b[1;33m=\u001b[0m \u001b[0mfunc\u001b[0m\u001b[1;33m(\u001b[0m\u001b[1;33m*\u001b[0m\u001b[0margs\u001b[0m\u001b[1;33m)\u001b[0m\u001b[1;33m\u001b[0m\u001b[0m\n\u001b[0m\u001b[0;32m    434\u001b[0m             \u001b[1;32mif\u001b[0m \u001b[0mresult\u001b[0m \u001b[1;32mis\u001b[0m \u001b[1;32mnot\u001b[0m \u001b[1;32mNone\u001b[0m\u001b[1;33m:\u001b[0m\u001b[1;33m\u001b[0m\u001b[0m\n\u001b[0;32m    435\u001b[0m                 \u001b[1;32mreturn\u001b[0m \u001b[0mresult\u001b[0m\u001b[1;33m\u001b[0m\u001b[0m\n",
      "\u001b[1;32m/usr/lib/python3.4/urllib/request.py\u001b[0m in \u001b[0;36mhttp_open\u001b[1;34m(self, req)\u001b[0m\n\u001b[0;32m   1256\u001b[0m \u001b[1;33m\u001b[0m\u001b[0m\n\u001b[0;32m   1257\u001b[0m     \u001b[1;32mdef\u001b[0m \u001b[0mhttp_open\u001b[0m\u001b[1;33m(\u001b[0m\u001b[0mself\u001b[0m\u001b[1;33m,\u001b[0m \u001b[0mreq\u001b[0m\u001b[1;33m)\u001b[0m\u001b[1;33m:\u001b[0m\u001b[1;33m\u001b[0m\u001b[0m\n\u001b[1;32m-> 1258\u001b[1;33m         \u001b[1;32mreturn\u001b[0m \u001b[0mself\u001b[0m\u001b[1;33m.\u001b[0m\u001b[0mdo_open\u001b[0m\u001b[1;33m(\u001b[0m\u001b[0mhttp\u001b[0m\u001b[1;33m.\u001b[0m\u001b[0mclient\u001b[0m\u001b[1;33m.\u001b[0m\u001b[0mHTTPConnection\u001b[0m\u001b[1;33m,\u001b[0m \u001b[0mreq\u001b[0m\u001b[1;33m)\u001b[0m\u001b[1;33m\u001b[0m\u001b[0m\n\u001b[0m\u001b[0;32m   1259\u001b[0m \u001b[1;33m\u001b[0m\u001b[0m\n\u001b[0;32m   1260\u001b[0m     \u001b[0mhttp_request\u001b[0m \u001b[1;33m=\u001b[0m \u001b[0mAbstractHTTPHandler\u001b[0m\u001b[1;33m.\u001b[0m\u001b[0mdo_request_\u001b[0m\u001b[1;33m\u001b[0m\u001b[0m\n",
      "\u001b[1;32m/usr/lib/python3.4/urllib/request.py\u001b[0m in \u001b[0;36mdo_open\u001b[1;34m(self, http_class, req, **http_conn_args)\u001b[0m\n\u001b[0;32m   1235\u001b[0m             \u001b[1;32mraise\u001b[0m \u001b[0mURLError\u001b[0m\u001b[1;33m(\u001b[0m\u001b[0merr\u001b[0m\u001b[1;33m)\u001b[0m\u001b[1;33m\u001b[0m\u001b[0m\n\u001b[0;32m   1236\u001b[0m         \u001b[1;32melse\u001b[0m\u001b[1;33m:\u001b[0m\u001b[1;33m\u001b[0m\u001b[0m\n\u001b[1;32m-> 1237\u001b[1;33m             \u001b[0mr\u001b[0m \u001b[1;33m=\u001b[0m \u001b[0mh\u001b[0m\u001b[1;33m.\u001b[0m\u001b[0mgetresponse\u001b[0m\u001b[1;33m(\u001b[0m\u001b[1;33m)\u001b[0m\u001b[1;33m\u001b[0m\u001b[0m\n\u001b[0m\u001b[0;32m   1238\u001b[0m             \u001b[1;31m# If the server does not send us a 'Connection: close' header,\u001b[0m\u001b[1;33m\u001b[0m\u001b[1;33m\u001b[0m\u001b[0m\n\u001b[0;32m   1239\u001b[0m             \u001b[1;31m# HTTPConnection assumes the socket should be left open. Manually\u001b[0m\u001b[1;33m\u001b[0m\u001b[1;33m\u001b[0m\u001b[0m\n",
      "\u001b[1;32m/usr/lib/python3.4/http/client.py\u001b[0m in \u001b[0;36mgetresponse\u001b[1;34m(self)\u001b[0m\n\u001b[0;32m   1145\u001b[0m             \u001b[0mresponse\u001b[0m \u001b[1;33m=\u001b[0m \u001b[0mself\u001b[0m\u001b[1;33m.\u001b[0m\u001b[0mresponse_class\u001b[0m\u001b[1;33m(\u001b[0m\u001b[0mself\u001b[0m\u001b[1;33m.\u001b[0m\u001b[0msock\u001b[0m\u001b[1;33m,\u001b[0m \u001b[0mmethod\u001b[0m\u001b[1;33m=\u001b[0m\u001b[0mself\u001b[0m\u001b[1;33m.\u001b[0m\u001b[0m_method\u001b[0m\u001b[1;33m)\u001b[0m\u001b[1;33m\u001b[0m\u001b[0m\n\u001b[0;32m   1146\u001b[0m \u001b[1;33m\u001b[0m\u001b[0m\n\u001b[1;32m-> 1147\u001b[1;33m         \u001b[0mresponse\u001b[0m\u001b[1;33m.\u001b[0m\u001b[0mbegin\u001b[0m\u001b[1;33m(\u001b[0m\u001b[1;33m)\u001b[0m\u001b[1;33m\u001b[0m\u001b[0m\n\u001b[0m\u001b[0;32m   1148\u001b[0m         \u001b[1;32massert\u001b[0m \u001b[0mresponse\u001b[0m\u001b[1;33m.\u001b[0m\u001b[0mwill_close\u001b[0m \u001b[1;33m!=\u001b[0m \u001b[0m_UNKNOWN\u001b[0m\u001b[1;33m\u001b[0m\u001b[0m\n\u001b[0;32m   1149\u001b[0m         \u001b[0mself\u001b[0m\u001b[1;33m.\u001b[0m\u001b[0m__state\u001b[0m \u001b[1;33m=\u001b[0m \u001b[0m_CS_IDLE\u001b[0m\u001b[1;33m\u001b[0m\u001b[0m\n",
      "\u001b[1;32m/usr/lib/python3.4/http/client.py\u001b[0m in \u001b[0;36mbegin\u001b[1;34m(self)\u001b[0m\n\u001b[0;32m    349\u001b[0m         \u001b[1;31m# read until we get a non-100 response\u001b[0m\u001b[1;33m\u001b[0m\u001b[1;33m\u001b[0m\u001b[0m\n\u001b[0;32m    350\u001b[0m         \u001b[1;32mwhile\u001b[0m \u001b[1;32mTrue\u001b[0m\u001b[1;33m:\u001b[0m\u001b[1;33m\u001b[0m\u001b[0m\n\u001b[1;32m--> 351\u001b[1;33m             \u001b[0mversion\u001b[0m\u001b[1;33m,\u001b[0m \u001b[0mstatus\u001b[0m\u001b[1;33m,\u001b[0m \u001b[0mreason\u001b[0m \u001b[1;33m=\u001b[0m \u001b[0mself\u001b[0m\u001b[1;33m.\u001b[0m\u001b[0m_read_status\u001b[0m\u001b[1;33m(\u001b[0m\u001b[1;33m)\u001b[0m\u001b[1;33m\u001b[0m\u001b[0m\n\u001b[0m\u001b[0;32m    352\u001b[0m             \u001b[1;32mif\u001b[0m \u001b[0mstatus\u001b[0m \u001b[1;33m!=\u001b[0m \u001b[0mCONTINUE\u001b[0m\u001b[1;33m:\u001b[0m\u001b[1;33m\u001b[0m\u001b[0m\n\u001b[0;32m    353\u001b[0m                 \u001b[1;32mbreak\u001b[0m\u001b[1;33m\u001b[0m\u001b[0m\n",
      "\u001b[1;32m/usr/lib/python3.4/http/client.py\u001b[0m in \u001b[0;36m_read_status\u001b[1;34m(self)\u001b[0m\n\u001b[0;32m    319\u001b[0m             \u001b[1;31m# Presumably, the server closed the connection before\u001b[0m\u001b[1;33m\u001b[0m\u001b[1;33m\u001b[0m\u001b[0m\n\u001b[0;32m    320\u001b[0m             \u001b[1;31m# sending a valid response.\u001b[0m\u001b[1;33m\u001b[0m\u001b[1;33m\u001b[0m\u001b[0m\n\u001b[1;32m--> 321\u001b[1;33m             \u001b[1;32mraise\u001b[0m \u001b[0mBadStatusLine\u001b[0m\u001b[1;33m(\u001b[0m\u001b[0mline\u001b[0m\u001b[1;33m)\u001b[0m\u001b[1;33m\u001b[0m\u001b[0m\n\u001b[0m\u001b[0;32m    322\u001b[0m         \u001b[1;32mtry\u001b[0m\u001b[1;33m:\u001b[0m\u001b[1;33m\u001b[0m\u001b[0m\n\u001b[0;32m    323\u001b[0m             \u001b[0mversion\u001b[0m\u001b[1;33m,\u001b[0m \u001b[0mstatus\u001b[0m\u001b[1;33m,\u001b[0m \u001b[0mreason\u001b[0m \u001b[1;33m=\u001b[0m \u001b[0mline\u001b[0m\u001b[1;33m.\u001b[0m\u001b[0msplit\u001b[0m\u001b[1;33m(\u001b[0m\u001b[1;32mNone\u001b[0m\u001b[1;33m,\u001b[0m \u001b[1;36m2\u001b[0m\u001b[1;33m)\u001b[0m\u001b[1;33m\u001b[0m\u001b[0m\n",
      "\u001b[1;31mBadStatusLine\u001b[0m: ''"
     ]
    }
   ],
   "source": [
    "questions = so.questions(fromdate=from_date_ts, todate=to_date_ts, sort=Sort.Creation, order=ASC, pagesize=100)\n",
    "while questions.has_more:\n",
    "    print(1)\n",
    "    for question in questions:\n",
    "        print(2)\n",
    "        q_df = question_to_df(question)\n",
    "        questions_df = questions_df.append(q_df, ignore_index=True)\n",
    "        \n",
    "        author_id = question.owner_id\n",
    "        if author_id not in users_df.id.values:\n",
    "            print(3)\n",
    "            qer = so.user(author_id)\n",
    "            u_df = user_to_df(qer)\n",
    "            users_df = users_df.append(u_df, ignore_index=True)\n",
    "        \n",
    "        answers = question.answers\n",
    "        for answer in answers:\n",
    "            print(4)\n",
    "            a_df = answer_to_df(answer)\n",
    "            answers_df = answers_df.append(a_df, ignore_index=True)\n",
    "            \n",
    "            author_id = answer.owner_id\n",
    "            if author_id not in users_df.id.values:\n",
    "                print(5)\n",
    "                aer = so.user(author_id)\n",
    "                u_df = user_to_df(aer)\n",
    "                users_df = users_df.append(u_df, ignore_index=True)\n",
    "    \n",
    "        print(6)\n",
    "    print(7)\n",
    "    questions = questions.fetch_next()"
   ]
  },
  {
   "cell_type": "code",
   "execution_count": 18,
   "metadata": {
    "collapsed": false
   },
   "outputs": [
    {
     "data": {
      "text/html": [
       "<div style=\"max-height:1000px;max-width:1500px;overflow:auto;\">\n",
       "<table border=\"1\" class=\"dataframe\">\n",
       "  <thead>\n",
       "    <tr style=\"text-align: right;\">\n",
       "      <th></th>\n",
       "      <th>id</th>\n",
       "      <th>author_id</th>\n",
       "      <th>date</th>\n",
       "      <th>title</th>\n",
       "      <th>text</th>\n",
       "      <th>score</th>\n",
       "      <th>views</th>\n",
       "      <th>url</th>\n",
       "    </tr>\n",
       "  </thead>\n",
       "  <tbody>\n",
       "    <tr>\n",
       "      <th>0</th>\n",
       "      <td>20865681</td>\n",
       "      <td>3126248</td>\n",
       "      <td>2014-01-01 00:00:42</td>\n",
       "      <td>Chrome crashes when exporting file via Filesys...</td>\n",
       "      <td>Im trying to run in-browser encryption applica...</td>\n",
       "      <td>3</td>\n",
       "      <td>360</td>\n",
       "      <td>http://stackoverflow.com/questions/20865681</td>\n",
       "    </tr>\n",
       "    <tr>\n",
       "      <th>1</th>\n",
       "      <td>20865682</td>\n",
       "      <td>1961216</td>\n",
       "      <td>2014-01-01 00:00:43</td>\n",
       "      <td>sort struct array in c++</td>\n",
       "      <td>I have an array of a Struct and trying to sort...</td>\n",
       "      <td>0</td>\n",
       "      <td>1369</td>\n",
       "      <td>http://stackoverflow.com/questions/20865682</td>\n",
       "    </tr>\n",
       "    <tr>\n",
       "      <th>2</th>\n",
       "      <td>20865685</td>\n",
       "      <td>3150635</td>\n",
       "      <td>2014-01-01 00:01:11</td>\n",
       "      <td>unsupported operand types for python classes</td>\n",
       "      <td>I'm trying to make a mock pokemon game, but ev...</td>\n",
       "      <td>0</td>\n",
       "      <td>120</td>\n",
       "      <td>http://stackoverflow.com/questions/20865685</td>\n",
       "    </tr>\n",
       "    <tr>\n",
       "      <th>3</th>\n",
       "      <td>20865686</td>\n",
       "      <td>554807</td>\n",
       "      <td>2014-01-01 00:01:19</td>\n",
       "      <td>Play framework \"find\" (Finder) results missing...</td>\n",
       "      <td>Executive summary:\\n\\nWhen I get an object bac...</td>\n",
       "      <td>3</td>\n",
       "      <td>1364</td>\n",
       "      <td>http://stackoverflow.com/questions/20865686</td>\n",
       "    </tr>\n",
       "    <tr>\n",
       "      <th>4</th>\n",
       "      <td>20865681</td>\n",
       "      <td>3126248</td>\n",
       "      <td>2014-01-01 00:00:42</td>\n",
       "      <td>Chrome crashes when exporting file via Filesys...</td>\n",
       "      <td>Im trying to run in-browser encryption applica...</td>\n",
       "      <td>3</td>\n",
       "      <td>360</td>\n",
       "      <td>http://stackoverflow.com/questions/20865681</td>\n",
       "    </tr>\n",
       "    <tr>\n",
       "      <th>5</th>\n",
       "      <td>20865682</td>\n",
       "      <td>1961216</td>\n",
       "      <td>2014-01-01 00:00:43</td>\n",
       "      <td>sort struct array in c++</td>\n",
       "      <td>I have an array of a Struct and trying to sort...</td>\n",
       "      <td>0</td>\n",
       "      <td>1369</td>\n",
       "      <td>http://stackoverflow.com/questions/20865682</td>\n",
       "    </tr>\n",
       "    <tr>\n",
       "      <th>6</th>\n",
       "      <td>20865685</td>\n",
       "      <td>3150635</td>\n",
       "      <td>2014-01-01 00:01:11</td>\n",
       "      <td>unsupported operand types for python classes</td>\n",
       "      <td>I'm trying to make a mock pokemon game, but ev...</td>\n",
       "      <td>0</td>\n",
       "      <td>120</td>\n",
       "      <td>http://stackoverflow.com/questions/20865685</td>\n",
       "    </tr>\n",
       "    <tr>\n",
       "      <th>7</th>\n",
       "      <td>20865686</td>\n",
       "      <td>554807</td>\n",
       "      <td>2014-01-01 00:01:19</td>\n",
       "      <td>Play framework \"find\" (Finder) results missing...</td>\n",
       "      <td>Executive summary:\\n\\nWhen I get an object bac...</td>\n",
       "      <td>3</td>\n",
       "      <td>1364</td>\n",
       "      <td>http://stackoverflow.com/questions/20865686</td>\n",
       "    </tr>\n",
       "    <tr>\n",
       "      <th>8</th>\n",
       "      <td>20865688</td>\n",
       "      <td>247794</td>\n",
       "      <td>2014-01-01 00:01:41</td>\n",
       "      <td>Is it possible to set up Amazon EC2 auto-scali...</td>\n",
       "      <td>I need to have a different auto-scaling policy...</td>\n",
       "      <td>1</td>\n",
       "      <td>165</td>\n",
       "      <td>http://stackoverflow.com/questions/20865688</td>\n",
       "    </tr>\n",
       "    <tr>\n",
       "      <th>9</th>\n",
       "      <td>20865689</td>\n",
       "      <td>3127791</td>\n",
       "      <td>2014-01-01 00:01:51</td>\n",
       "      <td>What's the logic of this error?</td>\n",
       "      <td>While declaring DATABASE_VERSION  I declared a...</td>\n",
       "      <td>0</td>\n",
       "      <td>56</td>\n",
       "      <td>http://stackoverflow.com/questions/20865689</td>\n",
       "    </tr>\n",
       "    <tr>\n",
       "      <th>10</th>\n",
       "      <td>20865690</td>\n",
       "      <td>3011638</td>\n",
       "      <td>2014-01-01 00:02:47</td>\n",
       "      <td>Multi-line header is not working.</td>\n",
       "      <td>I drag jtabel from palette and  i try to custo...</td>\n",
       "      <td>1</td>\n",
       "      <td>102</td>\n",
       "      <td>http://stackoverflow.com/questions/20865690</td>\n",
       "    </tr>\n",
       "  </tbody>\n",
       "</table>\n",
       "</div>"
      ],
      "text/plain": [
       "          id  author_id                date  \\\n",
       "0   20865681    3126248 2014-01-01 00:00:42   \n",
       "1   20865682    1961216 2014-01-01 00:00:43   \n",
       "2   20865685    3150635 2014-01-01 00:01:11   \n",
       "3   20865686     554807 2014-01-01 00:01:19   \n",
       "4   20865681    3126248 2014-01-01 00:00:42   \n",
       "5   20865682    1961216 2014-01-01 00:00:43   \n",
       "6   20865685    3150635 2014-01-01 00:01:11   \n",
       "7   20865686     554807 2014-01-01 00:01:19   \n",
       "8   20865688     247794 2014-01-01 00:01:41   \n",
       "9   20865689    3127791 2014-01-01 00:01:51   \n",
       "10  20865690    3011638 2014-01-01 00:02:47   \n",
       "\n",
       "                                                title  \\\n",
       "0   Chrome crashes when exporting file via Filesys...   \n",
       "1                            sort struct array in c++   \n",
       "2        unsupported operand types for python classes   \n",
       "3   Play framework \"find\" (Finder) results missing...   \n",
       "4   Chrome crashes when exporting file via Filesys...   \n",
       "5                            sort struct array in c++   \n",
       "6        unsupported operand types for python classes   \n",
       "7   Play framework \"find\" (Finder) results missing...   \n",
       "8   Is it possible to set up Amazon EC2 auto-scali...   \n",
       "9                     What's the logic of this error?   \n",
       "10                  Multi-line header is not working.   \n",
       "\n",
       "                                                 text  score  views  \\\n",
       "0   Im trying to run in-browser encryption applica...      3    360   \n",
       "1   I have an array of a Struct and trying to sort...      0   1369   \n",
       "2   I'm trying to make a mock pokemon game, but ev...      0    120   \n",
       "3   Executive summary:\\n\\nWhen I get an object bac...      3   1364   \n",
       "4   Im trying to run in-browser encryption applica...      3    360   \n",
       "5   I have an array of a Struct and trying to sort...      0   1369   \n",
       "6   I'm trying to make a mock pokemon game, but ev...      0    120   \n",
       "7   Executive summary:\\n\\nWhen I get an object bac...      3   1364   \n",
       "8   I need to have a different auto-scaling policy...      1    165   \n",
       "9   While declaring DATABASE_VERSION  I declared a...      0     56   \n",
       "10  I drag jtabel from palette and  i try to custo...      1    102   \n",
       "\n",
       "                                            url  \n",
       "0   http://stackoverflow.com/questions/20865681  \n",
       "1   http://stackoverflow.com/questions/20865682  \n",
       "2   http://stackoverflow.com/questions/20865685  \n",
       "3   http://stackoverflow.com/questions/20865686  \n",
       "4   http://stackoverflow.com/questions/20865681  \n",
       "5   http://stackoverflow.com/questions/20865682  \n",
       "6   http://stackoverflow.com/questions/20865685  \n",
       "7   http://stackoverflow.com/questions/20865686  \n",
       "8   http://stackoverflow.com/questions/20865688  \n",
       "9   http://stackoverflow.com/questions/20865689  \n",
       "10  http://stackoverflow.com/questions/20865690  "
      ]
     },
     "execution_count": 18,
     "metadata": {},
     "output_type": "execute_result"
    }
   ],
   "source": [
    "questions_df"
   ]
  },
  {
   "cell_type": "code",
   "execution_count": 19,
   "metadata": {
    "collapsed": false
   },
   "outputs": [
    {
     "data": {
      "text/html": [
       "<div style=\"max-height:1000px;max-width:1500px;overflow:auto;\">\n",
       "<table border=\"1\" class=\"dataframe\">\n",
       "  <thead>\n",
       "    <tr style=\"text-align: right;\">\n",
       "      <th></th>\n",
       "      <th>id</th>\n",
       "      <th>name</th>\n",
       "      <th>total_questions</th>\n",
       "      <th>unanswered_questions</th>\n",
       "      <th>total_answers</th>\n",
       "      <th>accepted_answers</th>\n",
       "      <th>reputation</th>\n",
       "      <th>badge_total</th>\n",
       "      <th>url</th>\n",
       "    </tr>\n",
       "  </thead>\n",
       "  <tbody>\n",
       "    <tr>\n",
       "      <th>0</th>\n",
       "      <td>3126248</td>\n",
       "      <td>Second Last</td>\n",
       "      <td>2</td>\n",
       "      <td>1</td>\n",
       "      <td>0</td>\n",
       "      <td>0</td>\n",
       "      <td>21</td>\n",
       "      <td>2</td>\n",
       "      <td>http://stackoverflow.com/users/3126248</td>\n",
       "    </tr>\n",
       "    <tr>\n",
       "      <th>1</th>\n",
       "      <td>2183827</td>\n",
       "      <td>Deepsy</td>\n",
       "      <td>81</td>\n",
       "      <td>23</td>\n",
       "      <td>42</td>\n",
       "      <td>23</td>\n",
       "      <td>1004</td>\n",
       "      <td>39</td>\n",
       "      <td>http://stackoverflow.com/users/2183827</td>\n",
       "    </tr>\n",
       "    <tr>\n",
       "      <th>2</th>\n",
       "      <td>1961216</td>\n",
       "      <td>J .A</td>\n",
       "      <td>9</td>\n",
       "      <td>4</td>\n",
       "      <td>6</td>\n",
       "      <td>0</td>\n",
       "      <td>30</td>\n",
       "      <td>8</td>\n",
       "      <td>http://stackoverflow.com/users/1961216</td>\n",
       "    </tr>\n",
       "    <tr>\n",
       "      <th>3</th>\n",
       "      <td>2231098</td>\n",
       "      <td>CodeDreamer</td>\n",
       "      <td>1</td>\n",
       "      <td>0</td>\n",
       "      <td>68</td>\n",
       "      <td>45</td>\n",
       "      <td>1188</td>\n",
       "      <td>20</td>\n",
       "      <td>http://stackoverflow.com/users/2231098</td>\n",
       "    </tr>\n",
       "    <tr>\n",
       "      <th>4</th>\n",
       "      <td>2307626</td>\n",
       "      <td>Kamran Khan</td>\n",
       "      <td>5</td>\n",
       "      <td>4</td>\n",
       "      <td>20</td>\n",
       "      <td>2</td>\n",
       "      <td>545</td>\n",
       "      <td>16</td>\n",
       "      <td>http://stackoverflow.com/users/2307626</td>\n",
       "    </tr>\n",
       "    <tr>\n",
       "      <th>5</th>\n",
       "      <td>3150635</td>\n",
       "      <td>user3150635</td>\n",
       "      <td>17</td>\n",
       "      <td>2</td>\n",
       "      <td>0</td>\n",
       "      <td>0</td>\n",
       "      <td>43</td>\n",
       "      <td>5</td>\n",
       "      <td>http://stackoverflow.com/users/3150635</td>\n",
       "    </tr>\n",
       "    <tr>\n",
       "      <th>6</th>\n",
       "      <td>3044692</td>\n",
       "      <td>Torrinos</td>\n",
       "      <td>0</td>\n",
       "      <td>0</td>\n",
       "      <td>3</td>\n",
       "      <td>0</td>\n",
       "      <td>21</td>\n",
       "      <td>2</td>\n",
       "      <td>http://stackoverflow.com/users/3044692</td>\n",
       "    </tr>\n",
       "    <tr>\n",
       "      <th>7</th>\n",
       "      <td>263399</td>\n",
       "      <td>norlesh</td>\n",
       "      <td>5</td>\n",
       "      <td>1</td>\n",
       "      <td>50</td>\n",
       "      <td>18</td>\n",
       "      <td>857</td>\n",
       "      <td>13</td>\n",
       "      <td>http://stackoverflow.com/users/263399</td>\n",
       "    </tr>\n",
       "    <tr>\n",
       "      <th>8</th>\n",
       "      <td>554807</td>\n",
       "      <td>GreenAsJade</td>\n",
       "      <td>59</td>\n",
       "      <td>8</td>\n",
       "      <td>170</td>\n",
       "      <td>204</td>\n",
       "      <td>3217</td>\n",
       "      <td>60</td>\n",
       "      <td>http://stackoverflow.com/users/554807</td>\n",
       "    </tr>\n",
       "    <tr>\n",
       "      <th>9</th>\n",
       "      <td>2722959</td>\n",
       "      <td>SpartanElite</td>\n",
       "      <td>11</td>\n",
       "      <td>7</td>\n",
       "      <td>32</td>\n",
       "      <td>5</td>\n",
       "      <td>442</td>\n",
       "      <td>11</td>\n",
       "      <td>http://stackoverflow.com/users/2722959</td>\n",
       "    </tr>\n",
       "    <tr>\n",
       "      <th>10</th>\n",
       "      <td>1824529</td>\n",
       "      <td>The Zaporozhian</td>\n",
       "      <td>2</td>\n",
       "      <td>1</td>\n",
       "      <td>3</td>\n",
       "      <td>1</td>\n",
       "      <td>103</td>\n",
       "      <td>4</td>\n",
       "      <td>http://stackoverflow.com/users/1824529</td>\n",
       "    </tr>\n",
       "    <tr>\n",
       "      <th>11</th>\n",
       "      <td>247794</td>\n",
       "      <td>mkvakin</td>\n",
       "      <td>13</td>\n",
       "      <td>5</td>\n",
       "      <td>3</td>\n",
       "      <td>0</td>\n",
       "      <td>79</td>\n",
       "      <td>10</td>\n",
       "      <td>http://stackoverflow.com/users/247794</td>\n",
       "    </tr>\n",
       "    <tr>\n",
       "      <th>12</th>\n",
       "      <td>2851013</td>\n",
       "      <td>andreobrown</td>\n",
       "      <td>2</td>\n",
       "      <td>1</td>\n",
       "      <td>3</td>\n",
       "      <td>2</td>\n",
       "      <td>71</td>\n",
       "      <td>8</td>\n",
       "      <td>http://stackoverflow.com/users/2851013</td>\n",
       "    </tr>\n",
       "    <tr>\n",
       "      <th>13</th>\n",
       "      <td>3127791</td>\n",
       "      <td>user3127791</td>\n",
       "      <td>6</td>\n",
       "      <td>2</td>\n",
       "      <td>0</td>\n",
       "      <td>0</td>\n",
       "      <td>21</td>\n",
       "      <td>7</td>\n",
       "      <td>http://stackoverflow.com/users/3127791</td>\n",
       "    </tr>\n",
       "    <tr>\n",
       "      <th>14</th>\n",
       "      <td>1595795</td>\n",
       "      <td>Renjith Krishnan</td>\n",
       "      <td>21</td>\n",
       "      <td>9</td>\n",
       "      <td>47</td>\n",
       "      <td>13</td>\n",
       "      <td>1016</td>\n",
       "      <td>40</td>\n",
       "      <td>http://stackoverflow.com/users/1595795</td>\n",
       "    </tr>\n",
       "    <tr>\n",
       "      <th>15</th>\n",
       "      <td>2869772</td>\n",
       "      <td>Jitesh Upadhyay</td>\n",
       "      <td>28</td>\n",
       "      <td>8</td>\n",
       "      <td>266</td>\n",
       "      <td>162</td>\n",
       "      <td>2979</td>\n",
       "      <td>30</td>\n",
       "      <td>http://stackoverflow.com/users/2869772</td>\n",
       "    </tr>\n",
       "    <tr>\n",
       "      <th>16</th>\n",
       "      <td>3011638</td>\n",
       "      <td>Sanshai28</td>\n",
       "      <td>6</td>\n",
       "      <td>1</td>\n",
       "      <td>7</td>\n",
       "      <td>0</td>\n",
       "      <td>106</td>\n",
       "      <td>8</td>\n",
       "      <td>http://stackoverflow.com/users/3011638</td>\n",
       "    </tr>\n",
       "  </tbody>\n",
       "</table>\n",
       "</div>"
      ],
      "text/plain": [
       "         id              name  total_questions  unanswered_questions  \\\n",
       "0   3126248       Second Last                2                     1   \n",
       "1   2183827            Deepsy               81                    23   \n",
       "2   1961216              J .A                9                     4   \n",
       "3   2231098       CodeDreamer                1                     0   \n",
       "4   2307626       Kamran Khan                5                     4   \n",
       "5   3150635       user3150635               17                     2   \n",
       "6   3044692          Torrinos                0                     0   \n",
       "7    263399           norlesh                5                     1   \n",
       "8    554807       GreenAsJade               59                     8   \n",
       "9   2722959      SpartanElite               11                     7   \n",
       "10  1824529   The Zaporozhian                2                     1   \n",
       "11   247794           mkvakin               13                     5   \n",
       "12  2851013       andreobrown                2                     1   \n",
       "13  3127791       user3127791                6                     2   \n",
       "14  1595795  Renjith Krishnan               21                     9   \n",
       "15  2869772   Jitesh Upadhyay               28                     8   \n",
       "16  3011638         Sanshai28                6                     1   \n",
       "\n",
       "    total_answers  accepted_answers  reputation  badge_total  \\\n",
       "0               0                 0          21            2   \n",
       "1              42                23        1004           39   \n",
       "2               6                 0          30            8   \n",
       "3              68                45        1188           20   \n",
       "4              20                 2         545           16   \n",
       "5               0                 0          43            5   \n",
       "6               3                 0          21            2   \n",
       "7              50                18         857           13   \n",
       "8             170               204        3217           60   \n",
       "9              32                 5         442           11   \n",
       "10              3                 1         103            4   \n",
       "11              3                 0          79           10   \n",
       "12              3                 2          71            8   \n",
       "13              0                 0          21            7   \n",
       "14             47                13        1016           40   \n",
       "15            266               162        2979           30   \n",
       "16              7                 0         106            8   \n",
       "\n",
       "                                       url  \n",
       "0   http://stackoverflow.com/users/3126248  \n",
       "1   http://stackoverflow.com/users/2183827  \n",
       "2   http://stackoverflow.com/users/1961216  \n",
       "3   http://stackoverflow.com/users/2231098  \n",
       "4   http://stackoverflow.com/users/2307626  \n",
       "5   http://stackoverflow.com/users/3150635  \n",
       "6   http://stackoverflow.com/users/3044692  \n",
       "7    http://stackoverflow.com/users/263399  \n",
       "8    http://stackoverflow.com/users/554807  \n",
       "9   http://stackoverflow.com/users/2722959  \n",
       "10  http://stackoverflow.com/users/1824529  \n",
       "11   http://stackoverflow.com/users/247794  \n",
       "12  http://stackoverflow.com/users/2851013  \n",
       "13  http://stackoverflow.com/users/3127791  \n",
       "14  http://stackoverflow.com/users/1595795  \n",
       "15  http://stackoverflow.com/users/2869772  \n",
       "16  http://stackoverflow.com/users/3011638  "
      ]
     },
     "execution_count": 19,
     "metadata": {},
     "output_type": "execute_result"
    }
   ],
   "source": [
    "users_df"
   ]
  },
  {
   "cell_type": "code",
   "execution_count": 20,
   "metadata": {
    "collapsed": false
   },
   "outputs": [
    {
     "data": {
      "text/html": [
       "<div style=\"max-height:1000px;max-width:1500px;overflow:auto;\">\n",
       "<table border=\"1\" class=\"dataframe\">\n",
       "  <thead>\n",
       "    <tr style=\"text-align: right;\">\n",
       "      <th></th>\n",
       "      <th>id</th>\n",
       "      <th>author_id</th>\n",
       "      <th>question_id</th>\n",
       "      <th>date</th>\n",
       "      <th>text</th>\n",
       "      <th>code_lines</th>\n",
       "      <th>score</th>\n",
       "      <th>accepted</th>\n",
       "      <th>url</th>\n",
       "    </tr>\n",
       "  </thead>\n",
       "  <tbody>\n",
       "    <tr>\n",
       "      <th>0</th>\n",
       "      <td>20865938</td>\n",
       "      <td>2183827</td>\n",
       "      <td>20865681</td>\n",
       "      <td>2014-01-01 00:49:50</td>\n",
       "      <td>With a little research I found out that 1.99MB...</td>\n",
       "      <td>18</td>\n",
       "      <td>2</td>\n",
       "      <td>False</td>\n",
       "      <td>http://stackoverflow.com/questions/20865681/20...</td>\n",
       "    </tr>\n",
       "    <tr>\n",
       "      <th>1</th>\n",
       "      <td>20866049</td>\n",
       "      <td>2231098</td>\n",
       "      <td>20865682</td>\n",
       "      <td>2014-01-01 01:10:39</td>\n",
       "      <td>This code just can be one method among many go...</td>\n",
       "      <td>5</td>\n",
       "      <td>5</td>\n",
       "      <td>False</td>\n",
       "      <td>http://stackoverflow.com/questions/20865682/20...</td>\n",
       "    </tr>\n",
       "    <tr>\n",
       "      <th>2</th>\n",
       "      <td>20866117</td>\n",
       "      <td>2307626</td>\n",
       "      <td>20865682</td>\n",
       "      <td>2014-01-01 01:23:35</td>\n",
       "      <td>#include &lt;iostream&gt;\\n#include &lt;algorithm&gt;\\n\\nu...</td>\n",
       "      <td>56</td>\n",
       "      <td>1</td>\n",
       "      <td>False</td>\n",
       "      <td>http://stackoverflow.com/questions/20865682/20...</td>\n",
       "    </tr>\n",
       "    <tr>\n",
       "      <th>3</th>\n",
       "      <td>20865722</td>\n",
       "      <td>3044692</td>\n",
       "      <td>20865685</td>\n",
       "      <td>2014-01-01 00:09:01</td>\n",
       "      <td>I guess you want to pass a property of the cla...</td>\n",
       "      <td>1</td>\n",
       "      <td>2</td>\n",
       "      <td>False</td>\n",
       "      <td>http://stackoverflow.com/questions/20865685/20...</td>\n",
       "    </tr>\n",
       "    <tr>\n",
       "      <th>4</th>\n",
       "      <td>20865731</td>\n",
       "      <td>263399</td>\n",
       "      <td>20865685</td>\n",
       "      <td>2014-01-01 00:11:40</td>\n",
       "      <td>with enemyUnit.getHit(tackle,unit) your passin...</td>\n",
       "      <td>2</td>\n",
       "      <td>1</td>\n",
       "      <td>False</td>\n",
       "      <td>http://stackoverflow.com/questions/20865685/20...</td>\n",
       "    </tr>\n",
       "    <tr>\n",
       "      <th>5</th>\n",
       "      <td>20908782</td>\n",
       "      <td>2722959</td>\n",
       "      <td>20865686</td>\n",
       "      <td>2014-01-03 11:56:28</td>\n",
       "      <td>What is happening is that you are not letting ...</td>\n",
       "      <td>23</td>\n",
       "      <td>3</td>\n",
       "      <td>False</td>\n",
       "      <td>http://stackoverflow.com/questions/20865686/20...</td>\n",
       "    </tr>\n",
       "    <tr>\n",
       "      <th>6</th>\n",
       "      <td>20865938</td>\n",
       "      <td>2183827</td>\n",
       "      <td>20865681</td>\n",
       "      <td>2014-01-01 00:49:50</td>\n",
       "      <td>With a little research I found out that 1.99MB...</td>\n",
       "      <td>18</td>\n",
       "      <td>2</td>\n",
       "      <td>False</td>\n",
       "      <td>http://stackoverflow.com/questions/20865681/20...</td>\n",
       "    </tr>\n",
       "    <tr>\n",
       "      <th>7</th>\n",
       "      <td>20866049</td>\n",
       "      <td>2231098</td>\n",
       "      <td>20865682</td>\n",
       "      <td>2014-01-01 01:10:39</td>\n",
       "      <td>This code just can be one method among many go...</td>\n",
       "      <td>5</td>\n",
       "      <td>5</td>\n",
       "      <td>False</td>\n",
       "      <td>http://stackoverflow.com/questions/20865682/20...</td>\n",
       "    </tr>\n",
       "    <tr>\n",
       "      <th>8</th>\n",
       "      <td>20866117</td>\n",
       "      <td>2307626</td>\n",
       "      <td>20865682</td>\n",
       "      <td>2014-01-01 01:23:35</td>\n",
       "      <td>#include &lt;iostream&gt;\\n#include &lt;algorithm&gt;\\n\\nu...</td>\n",
       "      <td>56</td>\n",
       "      <td>1</td>\n",
       "      <td>False</td>\n",
       "      <td>http://stackoverflow.com/questions/20865682/20...</td>\n",
       "    </tr>\n",
       "    <tr>\n",
       "      <th>9</th>\n",
       "      <td>20865722</td>\n",
       "      <td>3044692</td>\n",
       "      <td>20865685</td>\n",
       "      <td>2014-01-01 00:09:01</td>\n",
       "      <td>I guess you want to pass a property of the cla...</td>\n",
       "      <td>1</td>\n",
       "      <td>2</td>\n",
       "      <td>False</td>\n",
       "      <td>http://stackoverflow.com/questions/20865685/20...</td>\n",
       "    </tr>\n",
       "    <tr>\n",
       "      <th>10</th>\n",
       "      <td>20865731</td>\n",
       "      <td>263399</td>\n",
       "      <td>20865685</td>\n",
       "      <td>2014-01-01 00:11:40</td>\n",
       "      <td>with enemyUnit.getHit(tackle,unit) your passin...</td>\n",
       "      <td>2</td>\n",
       "      <td>1</td>\n",
       "      <td>False</td>\n",
       "      <td>http://stackoverflow.com/questions/20865685/20...</td>\n",
       "    </tr>\n",
       "    <tr>\n",
       "      <th>11</th>\n",
       "      <td>20908782</td>\n",
       "      <td>2722959</td>\n",
       "      <td>20865686</td>\n",
       "      <td>2014-01-03 11:56:28</td>\n",
       "      <td>What is happening is that you are not letting ...</td>\n",
       "      <td>23</td>\n",
       "      <td>3</td>\n",
       "      <td>False</td>\n",
       "      <td>http://stackoverflow.com/questions/20865686/20...</td>\n",
       "    </tr>\n",
       "    <tr>\n",
       "      <th>12</th>\n",
       "      <td>20994062</td>\n",
       "      <td>554807</td>\n",
       "      <td>20865686</td>\n",
       "      <td>2014-01-08 06:16:11</td>\n",
       "      <td>I found the answer, in the play frameworks goo...</td>\n",
       "      <td>1</td>\n",
       "      <td>2</td>\n",
       "      <td>True</td>\n",
       "      <td>http://stackoverflow.com/questions/20865686/20...</td>\n",
       "    </tr>\n",
       "    <tr>\n",
       "      <th>13</th>\n",
       "      <td>21057633</td>\n",
       "      <td>1824529</td>\n",
       "      <td>20865686</td>\n",
       "      <td>2014-01-10 20:56:08</td>\n",
       "      <td>[info] application - checking scenario's game'...</td>\n",
       "      <td>13</td>\n",
       "      <td>0</td>\n",
       "      <td>False</td>\n",
       "      <td>http://stackoverflow.com/questions/20865686/21...</td>\n",
       "    </tr>\n",
       "    <tr>\n",
       "      <th>14</th>\n",
       "      <td>20866042</td>\n",
       "      <td>2851013</td>\n",
       "      <td>20865688</td>\n",
       "      <td>2014-01-01 01:08:57</td>\n",
       "      <td>I think the problem is with your cron string. ...</td>\n",
       "      <td>0</td>\n",
       "      <td>1</td>\n",
       "      <td>False</td>\n",
       "      <td>http://stackoverflow.com/questions/20865688/20...</td>\n",
       "    </tr>\n",
       "    <tr>\n",
       "      <th>15</th>\n",
       "      <td>20865707</td>\n",
       "      <td>1595795</td>\n",
       "      <td>20865689</td>\n",
       "      <td>2014-01-01 00:05:46</td>\n",
       "      <td>public static final int DATABASE_VERSION = 1;\\...</td>\n",
       "      <td>1</td>\n",
       "      <td>1</td>\n",
       "      <td>False</td>\n",
       "      <td>http://stackoverflow.com/questions/20865689/20...</td>\n",
       "    </tr>\n",
       "    <tr>\n",
       "      <th>16</th>\n",
       "      <td>20865921</td>\n",
       "      <td>2869772</td>\n",
       "      <td>20865689</td>\n",
       "      <td>2014-01-01 00:46:02</td>\n",
       "      <td>public static final int CURRENT_DATABASE_VERSI...</td>\n",
       "      <td>13</td>\n",
       "      <td>0</td>\n",
       "      <td>False</td>\n",
       "      <td>http://stackoverflow.com/questions/20865689/20...</td>\n",
       "    </tr>\n",
       "    <tr>\n",
       "      <th>17</th>\n",
       "      <td>20865708</td>\n",
       "      <td>131872</td>\n",
       "      <td>20865690</td>\n",
       "      <td>2014-01-01 00:05:48</td>\n",
       "      <td>The default renderers in Swing use a JLabel to...</td>\n",
       "      <td>0</td>\n",
       "      <td>4</td>\n",
       "      <td>True</td>\n",
       "      <td>http://stackoverflow.com/questions/20865690/20...</td>\n",
       "    </tr>\n",
       "  </tbody>\n",
       "</table>\n",
       "</div>"
      ],
      "text/plain": [
       "          id  author_id  question_id                date  \\\n",
       "0   20865938    2183827     20865681 2014-01-01 00:49:50   \n",
       "1   20866049    2231098     20865682 2014-01-01 01:10:39   \n",
       "2   20866117    2307626     20865682 2014-01-01 01:23:35   \n",
       "3   20865722    3044692     20865685 2014-01-01 00:09:01   \n",
       "4   20865731     263399     20865685 2014-01-01 00:11:40   \n",
       "5   20908782    2722959     20865686 2014-01-03 11:56:28   \n",
       "6   20865938    2183827     20865681 2014-01-01 00:49:50   \n",
       "7   20866049    2231098     20865682 2014-01-01 01:10:39   \n",
       "8   20866117    2307626     20865682 2014-01-01 01:23:35   \n",
       "9   20865722    3044692     20865685 2014-01-01 00:09:01   \n",
       "10  20865731     263399     20865685 2014-01-01 00:11:40   \n",
       "11  20908782    2722959     20865686 2014-01-03 11:56:28   \n",
       "12  20994062     554807     20865686 2014-01-08 06:16:11   \n",
       "13  21057633    1824529     20865686 2014-01-10 20:56:08   \n",
       "14  20866042    2851013     20865688 2014-01-01 01:08:57   \n",
       "15  20865707    1595795     20865689 2014-01-01 00:05:46   \n",
       "16  20865921    2869772     20865689 2014-01-01 00:46:02   \n",
       "17  20865708     131872     20865690 2014-01-01 00:05:48   \n",
       "\n",
       "                                                 text  code_lines  score  \\\n",
       "0   With a little research I found out that 1.99MB...          18      2   \n",
       "1   This code just can be one method among many go...           5      5   \n",
       "2   #include <iostream>\\n#include <algorithm>\\n\\nu...          56      1   \n",
       "3   I guess you want to pass a property of the cla...           1      2   \n",
       "4   with enemyUnit.getHit(tackle,unit) your passin...           2      1   \n",
       "5   What is happening is that you are not letting ...          23      3   \n",
       "6   With a little research I found out that 1.99MB...          18      2   \n",
       "7   This code just can be one method among many go...           5      5   \n",
       "8   #include <iostream>\\n#include <algorithm>\\n\\nu...          56      1   \n",
       "9   I guess you want to pass a property of the cla...           1      2   \n",
       "10  with enemyUnit.getHit(tackle,unit) your passin...           2      1   \n",
       "11  What is happening is that you are not letting ...          23      3   \n",
       "12  I found the answer, in the play frameworks goo...           1      2   \n",
       "13  [info] application - checking scenario's game'...          13      0   \n",
       "14  I think the problem is with your cron string. ...           0      1   \n",
       "15  public static final int DATABASE_VERSION = 1;\\...           1      1   \n",
       "16  public static final int CURRENT_DATABASE_VERSI...          13      0   \n",
       "17  The default renderers in Swing use a JLabel to...           0      4   \n",
       "\n",
       "   accepted                                                url  \n",
       "0     False  http://stackoverflow.com/questions/20865681/20...  \n",
       "1     False  http://stackoverflow.com/questions/20865682/20...  \n",
       "2     False  http://stackoverflow.com/questions/20865682/20...  \n",
       "3     False  http://stackoverflow.com/questions/20865685/20...  \n",
       "4     False  http://stackoverflow.com/questions/20865685/20...  \n",
       "5     False  http://stackoverflow.com/questions/20865686/20...  \n",
       "6     False  http://stackoverflow.com/questions/20865681/20...  \n",
       "7     False  http://stackoverflow.com/questions/20865682/20...  \n",
       "8     False  http://stackoverflow.com/questions/20865682/20...  \n",
       "9     False  http://stackoverflow.com/questions/20865685/20...  \n",
       "10    False  http://stackoverflow.com/questions/20865685/20...  \n",
       "11    False  http://stackoverflow.com/questions/20865686/20...  \n",
       "12     True  http://stackoverflow.com/questions/20865686/20...  \n",
       "13    False  http://stackoverflow.com/questions/20865686/21...  \n",
       "14    False  http://stackoverflow.com/questions/20865688/20...  \n",
       "15    False  http://stackoverflow.com/questions/20865689/20...  \n",
       "16    False  http://stackoverflow.com/questions/20865689/20...  \n",
       "17     True  http://stackoverflow.com/questions/20865690/20...  "
      ]
     },
     "execution_count": 20,
     "metadata": {},
     "output_type": "execute_result"
    }
   ],
   "source": [
    "answers_df"
   ]
  },
  {
   "cell_type": "code",
   "execution_count": 21,
   "metadata": {
    "collapsed": true
   },
   "outputs": [],
   "source": [
    "w=so.user(22656)"
   ]
  },
  {
   "cell_type": "code",
   "execution_count": 25,
   "metadata": {
    "collapsed": true
   },
   "outputs": [],
   "source": [
    "anss=w.answers.fetch()"
   ]
  },
  {
   "cell_type": "code",
   "execution_count": 26,
   "metadata": {
    "collapsed": false
   },
   "outputs": [
    {
     "data": {
      "text/plain": [
       "30"
      ]
     },
     "execution_count": 26,
     "metadata": {},
     "output_type": "execute_result"
    }
   ],
   "source": [
    "len(anss)"
   ]
  },
  {
   "cell_type": "code",
   "execution_count": 27,
   "metadata": {
    "collapsed": false
   },
   "outputs": [
    {
     "ename": "StackExchangeError",
     "evalue": "502 [throttle_violation]: Violation of backoff parameter",
     "output_type": "error",
     "traceback": [
      "\u001b[1;31m---------------------------------------------------------------------------\u001b[0m",
      "\u001b[1;31mStackExchangeError\u001b[0m                        Traceback (most recent call last)",
      "\u001b[1;32m<ipython-input-27-cd493cbe34f5>\u001b[0m in \u001b[0;36m<module>\u001b[1;34m()\u001b[0m\n\u001b[1;32m----> 1\u001b[1;33m \u001b[0mlist\u001b[0m\u001b[1;33m(\u001b[0m\u001b[0mfilter\u001b[0m\u001b[1;33m(\u001b[0m\u001b[1;32mlambda\u001b[0m \u001b[0mx\u001b[0m\u001b[1;33m:\u001b[0m \u001b[0mx\u001b[0m\u001b[1;33m.\u001b[0m\u001b[0maccepted\u001b[0m\u001b[1;33m,\u001b[0m \u001b[0manss\u001b[0m\u001b[1;33m)\u001b[0m\u001b[1;33m)\u001b[0m\u001b[1;33m\u001b[0m\u001b[0m\n\u001b[0m",
      "\u001b[1;32m/home/antonio/git/so/stackexchange/core.py\u001b[0m in \u001b[0;36mnext\u001b[1;34m(self)\u001b[0m\n\u001b[0;32m    252\u001b[0m \u001b[1;33m\u001b[0m\u001b[0m\n\u001b[0;32m    253\u001b[0m             \u001b[1;32mtry\u001b[0m\u001b[1;33m:\u001b[0m\u001b[1;33m\u001b[0m\u001b[0m\n\u001b[1;32m--> 254\u001b[1;33m                 \u001b[0mcurrent\u001b[0m \u001b[1;33m=\u001b[0m \u001b[0mcurrent\u001b[0m\u001b[1;33m.\u001b[0m\u001b[0mfetch_next\u001b[0m\u001b[1;33m(\u001b[0m\u001b[1;33m)\u001b[0m\u001b[1;33m\u001b[0m\u001b[0m\n\u001b[0m\u001b[0;32m    255\u001b[0m                 \u001b[1;32mif\u001b[0m \u001b[0mlen\u001b[0m\u001b[1;33m(\u001b[0m\u001b[0mcurrent\u001b[0m\u001b[1;33m)\u001b[0m \u001b[1;33m==\u001b[0m \u001b[1;36m0\u001b[0m\u001b[1;33m:\u001b[0m\u001b[1;33m\u001b[0m\u001b[0m\n\u001b[0;32m    256\u001b[0m                     \u001b[1;32mreturn\u001b[0m\u001b[1;33m\u001b[0m\u001b[0m\n",
      "\u001b[1;32m/home/antonio/git/so/stackexchange/core.py\u001b[0m in \u001b[0;36mfetch_next\u001b[1;34m(self)\u001b[0m\n\u001b[0;32m    230\u001b[0m     \u001b[1;32mdef\u001b[0m \u001b[0mfetch_next\u001b[0m\u001b[1;33m(\u001b[0m\u001b[0mself\u001b[0m\u001b[1;33m)\u001b[0m\u001b[1;33m:\u001b[0m\u001b[1;33m\u001b[0m\u001b[0m\n\u001b[0;32m    231\u001b[0m         \u001b[1;34m\"\"\"Returns the resultset of the data in the next page.\"\"\"\u001b[0m\u001b[1;33m\u001b[0m\u001b[0m\n\u001b[1;32m--> 232\u001b[1;33m         \u001b[1;32mreturn\u001b[0m \u001b[0mself\u001b[0m\u001b[1;33m.\u001b[0m\u001b[0mfetch_page\u001b[0m\u001b[1;33m(\u001b[0m\u001b[0mself\u001b[0m\u001b[1;33m.\u001b[0m\u001b[0mpage\u001b[0m \u001b[1;33m+\u001b[0m \u001b[1;36m1\u001b[0m\u001b[1;33m)\u001b[0m\u001b[1;33m\u001b[0m\u001b[0m\n\u001b[0m\u001b[0;32m    233\u001b[0m \u001b[1;33m\u001b[0m\u001b[0m\n\u001b[0;32m    234\u001b[0m     \u001b[1;32mdef\u001b[0m \u001b[0mextend_next\u001b[0m\u001b[1;33m(\u001b[0m\u001b[0mself\u001b[0m\u001b[1;33m)\u001b[0m\u001b[1;33m:\u001b[0m\u001b[1;33m\u001b[0m\u001b[0m\n",
      "\u001b[1;32m/home/antonio/git/so/stackexchange/core.py\u001b[0m in \u001b[0;36mfetch_page\u001b[1;34m(self, page, **kw)\u001b[0m\n\u001b[0;32m    216\u001b[0m         \u001b[0mnew_params\u001b[0m\u001b[1;33m[\u001b[0m\u001b[1;36m4\u001b[0m\u001b[1;33m]\u001b[0m\u001b[1;33m[\u001b[0m\u001b[1;34m'page'\u001b[0m\u001b[1;33m]\u001b[0m \u001b[1;33m=\u001b[0m \u001b[0mpage\u001b[0m\u001b[1;33m\u001b[0m\u001b[0m\n\u001b[0;32m    217\u001b[0m \u001b[1;33m\u001b[0m\u001b[0m\n\u001b[1;32m--> 218\u001b[1;33m         \u001b[0mnew_set\u001b[0m \u001b[1;33m=\u001b[0m \u001b[0mnew_params\u001b[0m\u001b[1;33m[\u001b[0m\u001b[1;36m0\u001b[0m\u001b[1;33m]\u001b[0m\u001b[1;33m.\u001b[0m\u001b[0mbuild\u001b[0m\u001b[1;33m(\u001b[0m\u001b[1;33m*\u001b[0m\u001b[0mnew_params\u001b[0m\u001b[1;33m[\u001b[0m\u001b[1;36m1\u001b[0m\u001b[1;33m:\u001b[0m\u001b[1;33m]\u001b[0m\u001b[1;33m)\u001b[0m\u001b[1;33m\u001b[0m\u001b[0m\n\u001b[0m\u001b[0;32m    219\u001b[0m         \u001b[0mnew_set\u001b[0m\u001b[1;33m.\u001b[0m\u001b[0mpage\u001b[0m \u001b[1;33m=\u001b[0m \u001b[0mpage\u001b[0m\u001b[1;33m\u001b[0m\u001b[0m\n\u001b[0;32m    220\u001b[0m         \u001b[1;32mreturn\u001b[0m \u001b[0mnew_set\u001b[0m\u001b[1;33m\u001b[0m\u001b[0m\n",
      "\u001b[1;32m/home/antonio/git/so/stackexchange/site.py\u001b[0m in \u001b[0;36mbuild\u001b[1;34m(self, url, typ, collection, kw)\u001b[0m\n\u001b[0;32m    187\u001b[0m             \u001b[0mkw\u001b[0m\u001b[1;33m[\u001b[0m\u001b[1;34m'comments'\u001b[0m\u001b[1;33m]\u001b[0m \u001b[1;33m=\u001b[0m \u001b[0mstr\u001b[0m\u001b[1;33m(\u001b[0m\u001b[0mself\u001b[0m\u001b[1;33m.\u001b[0m\u001b[0minclude_comments\u001b[0m\u001b[1;33m)\u001b[0m\u001b[1;33m.\u001b[0m\u001b[0mlower\u001b[0m\u001b[1;33m(\u001b[0m\u001b[1;33m)\u001b[0m\u001b[1;33m\u001b[0m\u001b[0m\n\u001b[0;32m    188\u001b[0m \u001b[1;33m\u001b[0m\u001b[0m\n\u001b[1;32m--> 189\u001b[1;33m         \u001b[0mjson\u001b[0m \u001b[1;33m=\u001b[0m \u001b[0mself\u001b[0m\u001b[1;33m.\u001b[0m\u001b[0m_request\u001b[0m\u001b[1;33m(\u001b[0m\u001b[0murl\u001b[0m\u001b[1;33m,\u001b[0m \u001b[0mkw\u001b[0m\u001b[1;33m)\u001b[0m\u001b[1;33m\u001b[0m\u001b[0m\n\u001b[0m\u001b[0;32m    190\u001b[0m         \u001b[1;32mreturn\u001b[0m \u001b[0mJSONMangler\u001b[0m\u001b[1;33m.\u001b[0m\u001b[0mjson_to_resultset\u001b[0m\u001b[1;33m(\u001b[0m\u001b[0mself\u001b[0m\u001b[1;33m,\u001b[0m \u001b[0mjson\u001b[0m\u001b[1;33m,\u001b[0m \u001b[0mtyp\u001b[0m\u001b[1;33m,\u001b[0m \u001b[0mcollection\u001b[0m\u001b[1;33m,\u001b[0m \u001b[1;33m(\u001b[0m\u001b[0mself\u001b[0m\u001b[1;33m,\u001b[0m \u001b[0murl\u001b[0m\u001b[1;33m,\u001b[0m \u001b[0mtyp\u001b[0m\u001b[1;33m,\u001b[0m \u001b[0mcollection\u001b[0m\u001b[1;33m,\u001b[0m \u001b[0mkw\u001b[0m\u001b[1;33m)\u001b[0m\u001b[1;33m)\u001b[0m\u001b[1;33m\u001b[0m\u001b[0m\n\u001b[0;32m    191\u001b[0m \u001b[1;33m\u001b[0m\u001b[0m\n",
      "\u001b[1;32m/home/antonio/git/so/stackexchange/site.py\u001b[0m in \u001b[0;36m_request\u001b[1;34m(self, to, params)\u001b[0m\n\u001b[0;32m    158\u001b[0m         \u001b[0mrequest_mgr\u001b[0m \u001b[1;33m=\u001b[0m \u001b[0mWebRequestManager\u001b[0m\u001b[1;33m(\u001b[0m\u001b[1;33m**\u001b[0m\u001b[0mrequest_properties\u001b[0m\u001b[1;33m)\u001b[0m\u001b[1;33m\u001b[0m\u001b[0m\n\u001b[0;32m    159\u001b[0m \u001b[1;33m\u001b[0m\u001b[0m\n\u001b[1;32m--> 160\u001b[1;33m         \u001b[0mjson\u001b[0m\u001b[1;33m,\u001b[0m \u001b[0minfo\u001b[0m \u001b[1;33m=\u001b[0m \u001b[0mrequest_mgr\u001b[0m\u001b[1;33m.\u001b[0m\u001b[0mjson_request\u001b[0m\u001b[1;33m(\u001b[0m\u001b[0murl\u001b[0m\u001b[1;33m,\u001b[0m \u001b[0mnew_params\u001b[0m\u001b[1;33m)\u001b[0m\u001b[1;33m\u001b[0m\u001b[0m\n\u001b[0m\u001b[0;32m    161\u001b[0m \u001b[1;33m\u001b[0m\u001b[0m\n\u001b[0;32m    162\u001b[0m         \u001b[1;32mif\u001b[0m \u001b[1;34m'quota_remaining'\u001b[0m \u001b[1;32min\u001b[0m \u001b[0mjson\u001b[0m \u001b[1;32mand\u001b[0m \u001b[1;34m'quota_max'\u001b[0m \u001b[1;32min\u001b[0m \u001b[0mjson\u001b[0m\u001b[1;33m:\u001b[0m\u001b[1;33m\u001b[0m\u001b[0m\n",
      "\u001b[1;32m/home/antonio/git/so/stackexchange/web.py\u001b[0m in \u001b[0;36mjson_request\u001b[1;34m(self, to, params)\u001b[0m\n\u001b[0;32m    157\u001b[0m \u001b[1;33m\u001b[0m\u001b[0m\n\u001b[0;32m    158\u001b[0m     \u001b[1;32mdef\u001b[0m \u001b[0mjson_request\u001b[0m\u001b[1;33m(\u001b[0m\u001b[0mself\u001b[0m\u001b[1;33m,\u001b[0m \u001b[0mto\u001b[0m\u001b[1;33m,\u001b[0m \u001b[0mparams\u001b[0m\u001b[1;33m)\u001b[0m\u001b[1;33m:\u001b[0m\u001b[1;33m\u001b[0m\u001b[0m\n\u001b[1;32m--> 159\u001b[1;33m         \u001b[0mreq\u001b[0m \u001b[1;33m=\u001b[0m \u001b[0mself\u001b[0m\u001b[1;33m.\u001b[0m\u001b[0mrequest\u001b[0m\u001b[1;33m(\u001b[0m\u001b[0mto\u001b[0m\u001b[1;33m,\u001b[0m \u001b[0mparams\u001b[0m\u001b[1;33m)\u001b[0m\u001b[1;33m\u001b[0m\u001b[0m\n\u001b[0m\u001b[0;32m    160\u001b[0m         \u001b[0mparsed_result\u001b[0m \u001b[1;33m=\u001b[0m \u001b[0mjson\u001b[0m\u001b[1;33m.\u001b[0m\u001b[0mloads\u001b[0m\u001b[1;33m(\u001b[0m\u001b[0mreq\u001b[0m\u001b[1;33m.\u001b[0m\u001b[0mdata\u001b[0m\u001b[1;33m.\u001b[0m\u001b[0mdecode\u001b[0m\u001b[1;33m(\u001b[0m\u001b[1;34m'utf8'\u001b[0m\u001b[1;33m)\u001b[0m\u001b[1;33m)\u001b[0m\u001b[1;33m\u001b[0m\u001b[0m\n\u001b[0;32m    161\u001b[0m \u001b[1;33m\u001b[0m\u001b[0m\n",
      "\u001b[1;32m/home/antonio/git/so/stackexchange/web.py\u001b[0m in \u001b[0;36mrequest\u001b[1;34m(self, url, params)\u001b[0m\n\u001b[0;32m    144\u001b[0m                 \u001b[1;32mraise\u001b[0m\u001b[1;33m\u001b[0m\u001b[0m\n\u001b[0;32m    145\u001b[0m             \u001b[1;32melse\u001b[0m\u001b[1;33m:\u001b[0m\u001b[1;33m\u001b[0m\u001b[0m\n\u001b[1;32m--> 146\u001b[1;33m                 \u001b[1;32mraise\u001b[0m \u001b[0mStackExchangeError\u001b[0m\u001b[1;33m(\u001b[0m\u001b[0merror_ob\u001b[0m\u001b[1;33m.\u001b[0m\u001b[0mget\u001b[0m\u001b[1;33m(\u001b[0m\u001b[1;34m'error_id'\u001b[0m\u001b[1;33m,\u001b[0m \u001b[0mStackExchangeError\u001b[0m\u001b[1;33m.\u001b[0m\u001b[0mUNKNOWN\u001b[0m\u001b[1;33m)\u001b[0m\u001b[1;33m,\u001b[0m \u001b[0merror_ob\u001b[0m\u001b[1;33m.\u001b[0m\u001b[0mget\u001b[0m\u001b[1;33m(\u001b[0m\u001b[1;34m'error_name'\u001b[0m\u001b[1;33m)\u001b[0m\u001b[1;33m,\u001b[0m \u001b[0merror_ob\u001b[0m\u001b[1;33m.\u001b[0m\u001b[0mget\u001b[0m\u001b[1;33m(\u001b[0m\u001b[1;34m'error_message'\u001b[0m\u001b[1;33m)\u001b[0m\u001b[1;33m)\u001b[0m\u001b[1;33m\u001b[0m\u001b[0m\n\u001b[0m\u001b[0;32m    147\u001b[0m \u001b[1;33m\u001b[0m\u001b[0m\n\u001b[0;32m    148\u001b[0m         \u001b[0mconn\u001b[0m\u001b[1;33m.\u001b[0m\u001b[0mclose\u001b[0m\u001b[1;33m(\u001b[0m\u001b[1;33m)\u001b[0m\u001b[1;33m\u001b[0m\u001b[0m\n",
      "\u001b[1;31mStackExchangeError\u001b[0m: 502 [throttle_violation]: Violation of backoff parameter"
     ]
    }
   ],
   "source": [
    "list(filter(lambda x: x.accepted, anss))"
   ]
  },
  {
   "cell_type": "code",
   "execution_count": 62,
   "metadata": {
    "collapsed": false
   },
   "outputs": [
    {
     "data": {
      "text/plain": [
       "0"
      ]
     },
     "execution_count": 62,
     "metadata": {},
     "output_type": "execute_result"
    }
   ],
   "source": [
    "uq.pagesize"
   ]
  },
  {
   "cell_type": "code",
   "execution_count": 274,
   "metadata": {
    "collapsed": false
   },
   "outputs": [
    {
     "data": {
      "text/plain": [
       "[<Answer 20865938 @ 7f1a48be1b70>]"
      ]
     },
     "execution_count": 274,
     "metadata": {},
     "output_type": "execute_result"
    }
   ],
   "source": [
    "questions[0].answers"
   ]
  },
  {
   "cell_type": "code",
   "execution_count": 275,
   "metadata": {
    "collapsed": false
   },
   "outputs": [],
   "source": [
    "t=so.tag('php')"
   ]
  },
  {
   "cell_type": "code",
   "execution_count": 276,
   "metadata": {
    "collapsed": false
   },
   "outputs": [
    {
     "data": {
      "text/plain": [
       "[<Answer 20865938 @ 7f1a4aaea908>]"
      ]
     },
     "execution_count": 276,
     "metadata": {},
     "output_type": "execute_result"
    }
   ],
   "source": [
    "q.answers"
   ]
  },
  {
   "cell_type": "code",
   "execution_count": 277,
   "metadata": {
    "collapsed": false
   },
   "outputs": [
    {
     "data": {
      "text/plain": [
       "['javascript', 'google-chrome', 'encryption', 'html5-filesystem']"
      ]
     },
     "execution_count": 277,
     "metadata": {},
     "output_type": "execute_result"
    }
   ],
   "source": [
    "q.tags"
   ]
  },
  {
   "cell_type": "code",
   "execution_count": 278,
   "metadata": {
    "collapsed": true
   },
   "outputs": [],
   "source": [
    "question = so.questions(sort=Sort.Votes, order=DESC)[0]"
   ]
  },
  {
   "cell_type": "code",
   "execution_count": 280,
   "metadata": {
    "collapsed": false
   },
   "outputs": [],
   "source": [
    "comments=question.comments"
   ]
  },
  {
   "cell_type": "code",
   "execution_count": 28,
   "metadata": {
    "collapsed": false
   },
   "outputs": [],
   "source": [
    "u=q.owner"
   ]
  },
  {
   "cell_type": "code",
   "execution_count": 158,
   "metadata": {
    "collapsed": false
   },
   "outputs": [],
   "source": [
    "v=users[0]"
   ]
  },
  {
   "cell_type": "code",
   "execution_count": 25,
   "metadata": {
    "collapsed": false
   },
   "outputs": [],
   "source": [
    "w=so.user(22656)"
   ]
  },
  {
   "cell_type": "code",
   "execution_count": 26,
   "metadata": {
    "collapsed": false
   },
   "outputs": [
    {
     "data": {
      "text/plain": [
       "<User 'Jon Skeet' (22656) @ 7f8f90959ac8>"
      ]
     },
     "execution_count": 26,
     "metadata": {},
     "output_type": "execute_result"
    }
   ],
   "source": [
    "w."
   ]
  },
  {
   "cell_type": "code",
   "execution_count": 63,
   "metadata": {
    "collapsed": true
   },
   "outputs": [],
   "source": [
    "users=so.users()"
   ]
  },
  {
   "cell_type": "code",
   "execution_count": 69,
   "metadata": {
    "collapsed": false
   },
   "outputs": [
    {
     "data": {
      "text/plain": [
       "1"
      ]
     },
     "execution_count": 69,
     "metadata": {},
     "output_type": "execute_result"
    }
   ],
   "source": [
    "count_unanswered_questions(users[1])"
   ]
  },
  {
   "cell_type": "code",
   "execution_count": 27,
   "metadata": {
    "collapsed": false
   },
   "outputs": [
    {
     "ename": "StackExchangeError",
     "evalue": "502 [throttle_violation]: Violation of backoff parameter",
     "output_type": "error",
     "traceback": [
      "\u001b[1;31m---------------------------------------------------------------------------\u001b[0m",
      "\u001b[1;31mStackExchangeError\u001b[0m                        Traceback (most recent call last)",
      "\u001b[1;32m/home/antonio/.virtualenvs/so3/lib/python3.4/site-packages/IPython/core/formatters.py\u001b[0m in \u001b[0;36m__call__\u001b[1;34m(self, obj)\u001b[0m\n\u001b[0;32m    688\u001b[0m                 \u001b[0mtype_pprinters\u001b[0m\u001b[1;33m=\u001b[0m\u001b[0mself\u001b[0m\u001b[1;33m.\u001b[0m\u001b[0mtype_printers\u001b[0m\u001b[1;33m,\u001b[0m\u001b[1;33m\u001b[0m\u001b[0m\n\u001b[0;32m    689\u001b[0m                 deferred_pprinters=self.deferred_printers)\n\u001b[1;32m--> 690\u001b[1;33m             \u001b[0mprinter\u001b[0m\u001b[1;33m.\u001b[0m\u001b[0mpretty\u001b[0m\u001b[1;33m(\u001b[0m\u001b[0mobj\u001b[0m\u001b[1;33m)\u001b[0m\u001b[1;33m\u001b[0m\u001b[0m\n\u001b[0m\u001b[0;32m    691\u001b[0m             \u001b[0mprinter\u001b[0m\u001b[1;33m.\u001b[0m\u001b[0mflush\u001b[0m\u001b[1;33m(\u001b[0m\u001b[1;33m)\u001b[0m\u001b[1;33m\u001b[0m\u001b[0m\n\u001b[0;32m    692\u001b[0m             \u001b[1;32mreturn\u001b[0m \u001b[0mstream\u001b[0m\u001b[1;33m.\u001b[0m\u001b[0mgetvalue\u001b[0m\u001b[1;33m(\u001b[0m\u001b[1;33m)\u001b[0m\u001b[1;33m\u001b[0m\u001b[0m\n",
      "\u001b[1;32m/home/antonio/.virtualenvs/so3/lib/python3.4/site-packages/IPython/lib/pretty.py\u001b[0m in \u001b[0;36mpretty\u001b[1;34m(self, obj)\u001b[0m\n\u001b[0;32m    390\u001b[0m                 \u001b[1;32mif\u001b[0m \u001b[0mcls\u001b[0m \u001b[1;32min\u001b[0m \u001b[0mself\u001b[0m\u001b[1;33m.\u001b[0m\u001b[0mtype_pprinters\u001b[0m\u001b[1;33m:\u001b[0m\u001b[1;33m\u001b[0m\u001b[0m\n\u001b[0;32m    391\u001b[0m                     \u001b[1;31m# printer registered in self.type_pprinters\u001b[0m\u001b[1;33m\u001b[0m\u001b[1;33m\u001b[0m\u001b[0m\n\u001b[1;32m--> 392\u001b[1;33m                     \u001b[1;32mreturn\u001b[0m \u001b[0mself\u001b[0m\u001b[1;33m.\u001b[0m\u001b[0mtype_pprinters\u001b[0m\u001b[1;33m[\u001b[0m\u001b[0mcls\u001b[0m\u001b[1;33m]\u001b[0m\u001b[1;33m(\u001b[0m\u001b[0mobj\u001b[0m\u001b[1;33m,\u001b[0m \u001b[0mself\u001b[0m\u001b[1;33m,\u001b[0m \u001b[0mcycle\u001b[0m\u001b[1;33m)\u001b[0m\u001b[1;33m\u001b[0m\u001b[0m\n\u001b[0m\u001b[0;32m    393\u001b[0m                 \u001b[1;32melse\u001b[0m\u001b[1;33m:\u001b[0m\u001b[1;33m\u001b[0m\u001b[0m\n\u001b[0;32m    394\u001b[0m                     \u001b[1;31m# deferred printer\u001b[0m\u001b[1;33m\u001b[0m\u001b[1;33m\u001b[0m\u001b[0m\n",
      "\u001b[1;32m/home/antonio/.virtualenvs/so3/lib/python3.4/site-packages/IPython/lib/pretty.py\u001b[0m in \u001b[0;36minner\u001b[1;34m(obj, p, cycle)\u001b[0m\n\u001b[0;32m    570\u001b[0m         \u001b[0mstep\u001b[0m \u001b[1;33m=\u001b[0m \u001b[0mlen\u001b[0m\u001b[1;33m(\u001b[0m\u001b[0mstart\u001b[0m\u001b[1;33m)\u001b[0m\u001b[1;33m\u001b[0m\u001b[0m\n\u001b[0;32m    571\u001b[0m         \u001b[0mp\u001b[0m\u001b[1;33m.\u001b[0m\u001b[0mbegin_group\u001b[0m\u001b[1;33m(\u001b[0m\u001b[0mstep\u001b[0m\u001b[1;33m,\u001b[0m \u001b[0mstart\u001b[0m\u001b[1;33m)\u001b[0m\u001b[1;33m\u001b[0m\u001b[0m\n\u001b[1;32m--> 572\u001b[1;33m         \u001b[1;32mfor\u001b[0m \u001b[0midx\u001b[0m\u001b[1;33m,\u001b[0m \u001b[0mx\u001b[0m \u001b[1;32min\u001b[0m \u001b[0mp\u001b[0m\u001b[1;33m.\u001b[0m\u001b[0m_enumerate\u001b[0m\u001b[1;33m(\u001b[0m\u001b[0mobj\u001b[0m\u001b[1;33m)\u001b[0m\u001b[1;33m:\u001b[0m\u001b[1;33m\u001b[0m\u001b[0m\n\u001b[0m\u001b[0;32m    573\u001b[0m             \u001b[1;32mif\u001b[0m \u001b[0midx\u001b[0m\u001b[1;33m:\u001b[0m\u001b[1;33m\u001b[0m\u001b[0m\n\u001b[0;32m    574\u001b[0m                 \u001b[0mp\u001b[0m\u001b[1;33m.\u001b[0m\u001b[0mtext\u001b[0m\u001b[1;33m(\u001b[0m\u001b[1;34m','\u001b[0m\u001b[1;33m)\u001b[0m\u001b[1;33m\u001b[0m\u001b[0m\n",
      "\u001b[1;32m/home/antonio/.virtualenvs/so3/lib/python3.4/site-packages/IPython/lib/pretty.py\u001b[0m in \u001b[0;36m_enumerate\u001b[1;34m(self, seq)\u001b[0m\n\u001b[0;32m    293\u001b[0m     \u001b[1;32mdef\u001b[0m \u001b[0m_enumerate\u001b[0m\u001b[1;33m(\u001b[0m\u001b[0mself\u001b[0m\u001b[1;33m,\u001b[0m \u001b[0mseq\u001b[0m\u001b[1;33m)\u001b[0m\u001b[1;33m:\u001b[0m\u001b[1;33m\u001b[0m\u001b[0m\n\u001b[0;32m    294\u001b[0m         \u001b[1;34m\"\"\"like enumerate, but with an upper limit on the number of items\"\"\"\u001b[0m\u001b[1;33m\u001b[0m\u001b[0m\n\u001b[1;32m--> 295\u001b[1;33m         \u001b[1;32mfor\u001b[0m \u001b[0midx\u001b[0m\u001b[1;33m,\u001b[0m \u001b[0mx\u001b[0m \u001b[1;32min\u001b[0m \u001b[0menumerate\u001b[0m\u001b[1;33m(\u001b[0m\u001b[0mseq\u001b[0m\u001b[1;33m)\u001b[0m\u001b[1;33m:\u001b[0m\u001b[1;33m\u001b[0m\u001b[0m\n\u001b[0m\u001b[0;32m    296\u001b[0m             \u001b[1;32mif\u001b[0m \u001b[0mself\u001b[0m\u001b[1;33m.\u001b[0m\u001b[0mmax_seq_length\u001b[0m \u001b[1;32mand\u001b[0m \u001b[0midx\u001b[0m \u001b[1;33m>=\u001b[0m \u001b[0mself\u001b[0m\u001b[1;33m.\u001b[0m\u001b[0mmax_seq_length\u001b[0m\u001b[1;33m:\u001b[0m\u001b[1;33m\u001b[0m\u001b[0m\n\u001b[0;32m    297\u001b[0m                 \u001b[0mself\u001b[0m\u001b[1;33m.\u001b[0m\u001b[0mtext\u001b[0m\u001b[1;33m(\u001b[0m\u001b[1;34m','\u001b[0m\u001b[1;33m)\u001b[0m\u001b[1;33m\u001b[0m\u001b[0m\n",
      "\u001b[1;32m/home/antonio/git/so/stackexchange/core.py\u001b[0m in \u001b[0;36mnext\u001b[1;34m(self)\u001b[0m\n\u001b[0;32m    252\u001b[0m \u001b[1;33m\u001b[0m\u001b[0m\n\u001b[0;32m    253\u001b[0m             \u001b[1;32mtry\u001b[0m\u001b[1;33m:\u001b[0m\u001b[1;33m\u001b[0m\u001b[0m\n\u001b[1;32m--> 254\u001b[1;33m                 \u001b[0mcurrent\u001b[0m \u001b[1;33m=\u001b[0m \u001b[0mcurrent\u001b[0m\u001b[1;33m.\u001b[0m\u001b[0mfetch_next\u001b[0m\u001b[1;33m(\u001b[0m\u001b[1;33m)\u001b[0m\u001b[1;33m\u001b[0m\u001b[0m\n\u001b[0m\u001b[0;32m    255\u001b[0m                 \u001b[1;32mif\u001b[0m \u001b[0mlen\u001b[0m\u001b[1;33m(\u001b[0m\u001b[0mcurrent\u001b[0m\u001b[1;33m)\u001b[0m \u001b[1;33m==\u001b[0m \u001b[1;36m0\u001b[0m\u001b[1;33m:\u001b[0m\u001b[1;33m\u001b[0m\u001b[0m\n\u001b[0;32m    256\u001b[0m                     \u001b[1;32mreturn\u001b[0m\u001b[1;33m\u001b[0m\u001b[0m\n",
      "\u001b[1;32m/home/antonio/git/so/stackexchange/core.py\u001b[0m in \u001b[0;36mfetch_next\u001b[1;34m(self)\u001b[0m\n\u001b[0;32m    230\u001b[0m     \u001b[1;32mdef\u001b[0m \u001b[0mfetch_next\u001b[0m\u001b[1;33m(\u001b[0m\u001b[0mself\u001b[0m\u001b[1;33m)\u001b[0m\u001b[1;33m:\u001b[0m\u001b[1;33m\u001b[0m\u001b[0m\n\u001b[0;32m    231\u001b[0m         \u001b[1;34m\"\"\"Returns the resultset of the data in the next page.\"\"\"\u001b[0m\u001b[1;33m\u001b[0m\u001b[0m\n\u001b[1;32m--> 232\u001b[1;33m         \u001b[1;32mreturn\u001b[0m \u001b[0mself\u001b[0m\u001b[1;33m.\u001b[0m\u001b[0mfetch_page\u001b[0m\u001b[1;33m(\u001b[0m\u001b[0mself\u001b[0m\u001b[1;33m.\u001b[0m\u001b[0mpage\u001b[0m \u001b[1;33m+\u001b[0m \u001b[1;36m1\u001b[0m\u001b[1;33m)\u001b[0m\u001b[1;33m\u001b[0m\u001b[0m\n\u001b[0m\u001b[0;32m    233\u001b[0m \u001b[1;33m\u001b[0m\u001b[0m\n\u001b[0;32m    234\u001b[0m     \u001b[1;32mdef\u001b[0m \u001b[0mextend_next\u001b[0m\u001b[1;33m(\u001b[0m\u001b[0mself\u001b[0m\u001b[1;33m)\u001b[0m\u001b[1;33m:\u001b[0m\u001b[1;33m\u001b[0m\u001b[0m\n",
      "\u001b[1;32m/home/antonio/git/so/stackexchange/core.py\u001b[0m in \u001b[0;36mfetch_page\u001b[1;34m(self, page, **kw)\u001b[0m\n\u001b[0;32m    216\u001b[0m         \u001b[0mnew_params\u001b[0m\u001b[1;33m[\u001b[0m\u001b[1;36m4\u001b[0m\u001b[1;33m]\u001b[0m\u001b[1;33m[\u001b[0m\u001b[1;34m'page'\u001b[0m\u001b[1;33m]\u001b[0m \u001b[1;33m=\u001b[0m \u001b[0mpage\u001b[0m\u001b[1;33m\u001b[0m\u001b[0m\n\u001b[0;32m    217\u001b[0m \u001b[1;33m\u001b[0m\u001b[0m\n\u001b[1;32m--> 218\u001b[1;33m         \u001b[0mnew_set\u001b[0m \u001b[1;33m=\u001b[0m \u001b[0mnew_params\u001b[0m\u001b[1;33m[\u001b[0m\u001b[1;36m0\u001b[0m\u001b[1;33m]\u001b[0m\u001b[1;33m.\u001b[0m\u001b[0mbuild\u001b[0m\u001b[1;33m(\u001b[0m\u001b[1;33m*\u001b[0m\u001b[0mnew_params\u001b[0m\u001b[1;33m[\u001b[0m\u001b[1;36m1\u001b[0m\u001b[1;33m:\u001b[0m\u001b[1;33m]\u001b[0m\u001b[1;33m)\u001b[0m\u001b[1;33m\u001b[0m\u001b[0m\n\u001b[0m\u001b[0;32m    219\u001b[0m         \u001b[0mnew_set\u001b[0m\u001b[1;33m.\u001b[0m\u001b[0mpage\u001b[0m \u001b[1;33m=\u001b[0m \u001b[0mpage\u001b[0m\u001b[1;33m\u001b[0m\u001b[0m\n\u001b[0;32m    220\u001b[0m         \u001b[1;32mreturn\u001b[0m \u001b[0mnew_set\u001b[0m\u001b[1;33m\u001b[0m\u001b[0m\n",
      "\u001b[1;32m/home/antonio/git/so/stackexchange/site.py\u001b[0m in \u001b[0;36mbuild\u001b[1;34m(self, url, typ, collection, kw)\u001b[0m\n\u001b[0;32m    187\u001b[0m             \u001b[0mkw\u001b[0m\u001b[1;33m[\u001b[0m\u001b[1;34m'comments'\u001b[0m\u001b[1;33m]\u001b[0m \u001b[1;33m=\u001b[0m \u001b[0mstr\u001b[0m\u001b[1;33m(\u001b[0m\u001b[0mself\u001b[0m\u001b[1;33m.\u001b[0m\u001b[0minclude_comments\u001b[0m\u001b[1;33m)\u001b[0m\u001b[1;33m.\u001b[0m\u001b[0mlower\u001b[0m\u001b[1;33m(\u001b[0m\u001b[1;33m)\u001b[0m\u001b[1;33m\u001b[0m\u001b[0m\n\u001b[0;32m    188\u001b[0m \u001b[1;33m\u001b[0m\u001b[0m\n\u001b[1;32m--> 189\u001b[1;33m         \u001b[0mjson\u001b[0m \u001b[1;33m=\u001b[0m \u001b[0mself\u001b[0m\u001b[1;33m.\u001b[0m\u001b[0m_request\u001b[0m\u001b[1;33m(\u001b[0m\u001b[0murl\u001b[0m\u001b[1;33m,\u001b[0m \u001b[0mkw\u001b[0m\u001b[1;33m)\u001b[0m\u001b[1;33m\u001b[0m\u001b[0m\n\u001b[0m\u001b[0;32m    190\u001b[0m         \u001b[1;32mreturn\u001b[0m \u001b[0mJSONMangler\u001b[0m\u001b[1;33m.\u001b[0m\u001b[0mjson_to_resultset\u001b[0m\u001b[1;33m(\u001b[0m\u001b[0mself\u001b[0m\u001b[1;33m,\u001b[0m \u001b[0mjson\u001b[0m\u001b[1;33m,\u001b[0m \u001b[0mtyp\u001b[0m\u001b[1;33m,\u001b[0m \u001b[0mcollection\u001b[0m\u001b[1;33m,\u001b[0m \u001b[1;33m(\u001b[0m\u001b[0mself\u001b[0m\u001b[1;33m,\u001b[0m \u001b[0murl\u001b[0m\u001b[1;33m,\u001b[0m \u001b[0mtyp\u001b[0m\u001b[1;33m,\u001b[0m \u001b[0mcollection\u001b[0m\u001b[1;33m,\u001b[0m \u001b[0mkw\u001b[0m\u001b[1;33m)\u001b[0m\u001b[1;33m)\u001b[0m\u001b[1;33m\u001b[0m\u001b[0m\n\u001b[0;32m    191\u001b[0m \u001b[1;33m\u001b[0m\u001b[0m\n",
      "\u001b[1;32m/home/antonio/git/so/stackexchange/site.py\u001b[0m in \u001b[0;36m_request\u001b[1;34m(self, to, params)\u001b[0m\n\u001b[0;32m    158\u001b[0m         \u001b[0mrequest_mgr\u001b[0m \u001b[1;33m=\u001b[0m \u001b[0mWebRequestManager\u001b[0m\u001b[1;33m(\u001b[0m\u001b[1;33m**\u001b[0m\u001b[0mrequest_properties\u001b[0m\u001b[1;33m)\u001b[0m\u001b[1;33m\u001b[0m\u001b[0m\n\u001b[0;32m    159\u001b[0m \u001b[1;33m\u001b[0m\u001b[0m\n\u001b[1;32m--> 160\u001b[1;33m         \u001b[0mjson\u001b[0m\u001b[1;33m,\u001b[0m \u001b[0minfo\u001b[0m \u001b[1;33m=\u001b[0m \u001b[0mrequest_mgr\u001b[0m\u001b[1;33m.\u001b[0m\u001b[0mjson_request\u001b[0m\u001b[1;33m(\u001b[0m\u001b[0murl\u001b[0m\u001b[1;33m,\u001b[0m \u001b[0mnew_params\u001b[0m\u001b[1;33m)\u001b[0m\u001b[1;33m\u001b[0m\u001b[0m\n\u001b[0m\u001b[0;32m    161\u001b[0m \u001b[1;33m\u001b[0m\u001b[0m\n\u001b[0;32m    162\u001b[0m         \u001b[1;32mif\u001b[0m \u001b[1;34m'quota_remaining'\u001b[0m \u001b[1;32min\u001b[0m \u001b[0mjson\u001b[0m \u001b[1;32mand\u001b[0m \u001b[1;34m'quota_max'\u001b[0m \u001b[1;32min\u001b[0m \u001b[0mjson\u001b[0m\u001b[1;33m:\u001b[0m\u001b[1;33m\u001b[0m\u001b[0m\n",
      "\u001b[1;32m/home/antonio/git/so/stackexchange/web.py\u001b[0m in \u001b[0;36mjson_request\u001b[1;34m(self, to, params)\u001b[0m\n\u001b[0;32m    157\u001b[0m \u001b[1;33m\u001b[0m\u001b[0m\n\u001b[0;32m    158\u001b[0m     \u001b[1;32mdef\u001b[0m \u001b[0mjson_request\u001b[0m\u001b[1;33m(\u001b[0m\u001b[0mself\u001b[0m\u001b[1;33m,\u001b[0m \u001b[0mto\u001b[0m\u001b[1;33m,\u001b[0m \u001b[0mparams\u001b[0m\u001b[1;33m)\u001b[0m\u001b[1;33m:\u001b[0m\u001b[1;33m\u001b[0m\u001b[0m\n\u001b[1;32m--> 159\u001b[1;33m         \u001b[0mreq\u001b[0m \u001b[1;33m=\u001b[0m \u001b[0mself\u001b[0m\u001b[1;33m.\u001b[0m\u001b[0mrequest\u001b[0m\u001b[1;33m(\u001b[0m\u001b[0mto\u001b[0m\u001b[1;33m,\u001b[0m \u001b[0mparams\u001b[0m\u001b[1;33m)\u001b[0m\u001b[1;33m\u001b[0m\u001b[0m\n\u001b[0m\u001b[0;32m    160\u001b[0m         \u001b[0mparsed_result\u001b[0m \u001b[1;33m=\u001b[0m \u001b[0mjson\u001b[0m\u001b[1;33m.\u001b[0m\u001b[0mloads\u001b[0m\u001b[1;33m(\u001b[0m\u001b[0mreq\u001b[0m\u001b[1;33m.\u001b[0m\u001b[0mdata\u001b[0m\u001b[1;33m.\u001b[0m\u001b[0mdecode\u001b[0m\u001b[1;33m(\u001b[0m\u001b[1;34m'utf8'\u001b[0m\u001b[1;33m)\u001b[0m\u001b[1;33m)\u001b[0m\u001b[1;33m\u001b[0m\u001b[0m\n\u001b[0;32m    161\u001b[0m \u001b[1;33m\u001b[0m\u001b[0m\n",
      "\u001b[1;32m/home/antonio/git/so/stackexchange/web.py\u001b[0m in \u001b[0;36mrequest\u001b[1;34m(self, url, params)\u001b[0m\n\u001b[0;32m    144\u001b[0m                 \u001b[1;32mraise\u001b[0m\u001b[1;33m\u001b[0m\u001b[0m\n\u001b[0;32m    145\u001b[0m             \u001b[1;32melse\u001b[0m\u001b[1;33m:\u001b[0m\u001b[1;33m\u001b[0m\u001b[0m\n\u001b[1;32m--> 146\u001b[1;33m                 \u001b[1;32mraise\u001b[0m \u001b[0mStackExchangeError\u001b[0m\u001b[1;33m(\u001b[0m\u001b[0merror_ob\u001b[0m\u001b[1;33m.\u001b[0m\u001b[0mget\u001b[0m\u001b[1;33m(\u001b[0m\u001b[1;34m'error_id'\u001b[0m\u001b[1;33m,\u001b[0m \u001b[0mStackExchangeError\u001b[0m\u001b[1;33m.\u001b[0m\u001b[0mUNKNOWN\u001b[0m\u001b[1;33m)\u001b[0m\u001b[1;33m,\u001b[0m \u001b[0merror_ob\u001b[0m\u001b[1;33m.\u001b[0m\u001b[0mget\u001b[0m\u001b[1;33m(\u001b[0m\u001b[1;34m'error_name'\u001b[0m\u001b[1;33m)\u001b[0m\u001b[1;33m,\u001b[0m \u001b[0merror_ob\u001b[0m\u001b[1;33m.\u001b[0m\u001b[0mget\u001b[0m\u001b[1;33m(\u001b[0m\u001b[1;34m'error_message'\u001b[0m\u001b[1;33m)\u001b[0m\u001b[1;33m)\u001b[0m\u001b[1;33m\u001b[0m\u001b[0m\n\u001b[0m\u001b[0;32m    147\u001b[0m \u001b[1;33m\u001b[0m\u001b[0m\n\u001b[0;32m    148\u001b[0m         \u001b[0mconn\u001b[0m\u001b[1;33m.\u001b[0m\u001b[0mclose\u001b[0m\u001b[1;33m(\u001b[0m\u001b[1;33m)\u001b[0m\u001b[1;33m\u001b[0m\u001b[0m\n",
      "\u001b[1;31mStackExchangeError\u001b[0m: 502 [throttle_violation]: Violation of backoff parameter"
     ]
    }
   ],
   "source": [
    "w.tags.fetch()"
   ]
  },
  {
   "cell_type": "code",
   "execution_count": 283,
   "metadata": {
    "collapsed": false
   },
   "outputs": [],
   "source": [
    "tt=u.tags"
   ]
  },
  {
   "cell_type": "code",
   "execution_count": 287,
   "metadata": {
    "collapsed": false
   },
   "outputs": [
    {
     "ename": "StackExchangeError",
     "evalue": "404 [no_method]: no method found with this name",
     "output_type": "error",
     "traceback": [
      "\u001b[1;31m---------------------------------------------------------------------------\u001b[0m",
      "\u001b[1;31mStackExchangeError\u001b[0m                        Traceback (most recent call last)",
      "\u001b[1;32m<ipython-input-287-a633ffbf87a9>\u001b[0m in \u001b[0;36m<module>\u001b[1;34m()\u001b[0m\n\u001b[1;32m----> 1\u001b[1;33m \u001b[0mtt\u001b[0m\u001b[1;33m.\u001b[0m\u001b[0mfetch\u001b[0m\u001b[1;33m(\u001b[0m\u001b[1;33m)\u001b[0m\u001b[1;33m\u001b[0m\u001b[0m\n\u001b[0m",
      "\u001b[1;32m/home/antonio/git/so/stackexchange/core.py\u001b[0m in \u001b[0;36mfetch\u001b[1;34m(self, **direct_kw)\u001b[0m\n\u001b[0;32m    302\u001b[0m         \u001b[0mkw\u001b[0m\u001b[1;33m.\u001b[0m\u001b[0mupdate\u001b[0m\u001b[1;33m(\u001b[0m\u001b[0mdirect_kw\u001b[0m\u001b[1;33m)\u001b[0m\u001b[1;33m\u001b[0m\u001b[0m\n\u001b[0;32m    303\u001b[0m \u001b[1;33m\u001b[0m\u001b[0m\n\u001b[1;32m--> 304\u001b[1;33m         \u001b[0mres\u001b[0m \u001b[1;33m=\u001b[0m \u001b[0mself\u001b[0m\u001b[1;33m.\u001b[0m\u001b[0msite\u001b[0m\u001b[1;33m.\u001b[0m\u001b[0mbuild\u001b[0m\u001b[1;33m(\u001b[0m\u001b[0mself\u001b[0m\u001b[1;33m.\u001b[0m\u001b[0murl\u001b[0m\u001b[1;33m,\u001b[0m \u001b[0mself\u001b[0m\u001b[1;33m.\u001b[0m\u001b[0mm_type\u001b[0m\u001b[1;33m,\u001b[0m \u001b[0mself\u001b[0m\u001b[1;33m.\u001b[0m\u001b[0mcollection\u001b[0m\u001b[1;33m,\u001b[0m \u001b[0mkw\u001b[0m\u001b[1;33m)\u001b[0m\u001b[1;33m\u001b[0m\u001b[0m\n\u001b[0m\u001b[0;32m    305\u001b[0m         \u001b[1;32mif\u001b[0m \u001b[0mself\u001b[0m\u001b[1;33m.\u001b[0m\u001b[0mfetch_callback\u001b[0m \u001b[1;33m!=\u001b[0m \u001b[1;32mNone\u001b[0m\u001b[1;33m:\u001b[0m\u001b[1;33m\u001b[0m\u001b[0m\n\u001b[0;32m    306\u001b[0m             \u001b[0mself\u001b[0m\u001b[1;33m.\u001b[0m\u001b[0mfetch_callback\u001b[0m\u001b[1;33m(\u001b[0m\u001b[0mres\u001b[0m\u001b[1;33m)\u001b[0m\u001b[1;33m\u001b[0m\u001b[0m\n",
      "\u001b[1;32m/home/antonio/git/so/stackexchange/site.py\u001b[0m in \u001b[0;36mbuild\u001b[1;34m(self, url, typ, collection, kw)\u001b[0m\n\u001b[0;32m    187\u001b[0m             \u001b[0mkw\u001b[0m\u001b[1;33m[\u001b[0m\u001b[1;34m'comments'\u001b[0m\u001b[1;33m]\u001b[0m \u001b[1;33m=\u001b[0m \u001b[0mstr\u001b[0m\u001b[1;33m(\u001b[0m\u001b[0mself\u001b[0m\u001b[1;33m.\u001b[0m\u001b[0minclude_comments\u001b[0m\u001b[1;33m)\u001b[0m\u001b[1;33m.\u001b[0m\u001b[0mlower\u001b[0m\u001b[1;33m(\u001b[0m\u001b[1;33m)\u001b[0m\u001b[1;33m\u001b[0m\u001b[0m\n\u001b[0;32m    188\u001b[0m \u001b[1;33m\u001b[0m\u001b[0m\n\u001b[1;32m--> 189\u001b[1;33m         \u001b[0mjson\u001b[0m \u001b[1;33m=\u001b[0m \u001b[0mself\u001b[0m\u001b[1;33m.\u001b[0m\u001b[0m_request\u001b[0m\u001b[1;33m(\u001b[0m\u001b[0murl\u001b[0m\u001b[1;33m,\u001b[0m \u001b[0mkw\u001b[0m\u001b[1;33m)\u001b[0m\u001b[1;33m\u001b[0m\u001b[0m\n\u001b[0m\u001b[0;32m    190\u001b[0m         \u001b[1;32mreturn\u001b[0m \u001b[0mJSONMangler\u001b[0m\u001b[1;33m.\u001b[0m\u001b[0mjson_to_resultset\u001b[0m\u001b[1;33m(\u001b[0m\u001b[0mself\u001b[0m\u001b[1;33m,\u001b[0m \u001b[0mjson\u001b[0m\u001b[1;33m,\u001b[0m \u001b[0mtyp\u001b[0m\u001b[1;33m,\u001b[0m \u001b[0mcollection\u001b[0m\u001b[1;33m,\u001b[0m \u001b[1;33m(\u001b[0m\u001b[0mself\u001b[0m\u001b[1;33m,\u001b[0m \u001b[0murl\u001b[0m\u001b[1;33m,\u001b[0m \u001b[0mtyp\u001b[0m\u001b[1;33m,\u001b[0m \u001b[0mcollection\u001b[0m\u001b[1;33m,\u001b[0m \u001b[0mkw\u001b[0m\u001b[1;33m)\u001b[0m\u001b[1;33m)\u001b[0m\u001b[1;33m\u001b[0m\u001b[0m\n\u001b[0;32m    191\u001b[0m \u001b[1;33m\u001b[0m\u001b[0m\n",
      "\u001b[1;32m/home/antonio/git/so/stackexchange/site.py\u001b[0m in \u001b[0;36m_request\u001b[1;34m(self, to, params)\u001b[0m\n\u001b[0;32m    158\u001b[0m         \u001b[0mrequest_mgr\u001b[0m \u001b[1;33m=\u001b[0m \u001b[0mWebRequestManager\u001b[0m\u001b[1;33m(\u001b[0m\u001b[1;33m**\u001b[0m\u001b[0mrequest_properties\u001b[0m\u001b[1;33m)\u001b[0m\u001b[1;33m\u001b[0m\u001b[0m\n\u001b[0;32m    159\u001b[0m \u001b[1;33m\u001b[0m\u001b[0m\n\u001b[1;32m--> 160\u001b[1;33m         \u001b[0mjson\u001b[0m\u001b[1;33m,\u001b[0m \u001b[0minfo\u001b[0m \u001b[1;33m=\u001b[0m \u001b[0mrequest_mgr\u001b[0m\u001b[1;33m.\u001b[0m\u001b[0mjson_request\u001b[0m\u001b[1;33m(\u001b[0m\u001b[0murl\u001b[0m\u001b[1;33m,\u001b[0m \u001b[0mnew_params\u001b[0m\u001b[1;33m)\u001b[0m\u001b[1;33m\u001b[0m\u001b[0m\n\u001b[0m\u001b[0;32m    161\u001b[0m \u001b[1;33m\u001b[0m\u001b[0m\n\u001b[0;32m    162\u001b[0m         \u001b[1;32mif\u001b[0m \u001b[1;34m'quota_remaining'\u001b[0m \u001b[1;32min\u001b[0m \u001b[0mjson\u001b[0m \u001b[1;32mand\u001b[0m \u001b[1;34m'quota_max'\u001b[0m \u001b[1;32min\u001b[0m \u001b[0mjson\u001b[0m\u001b[1;33m:\u001b[0m\u001b[1;33m\u001b[0m\u001b[0m\n",
      "\u001b[1;32m/home/antonio/git/so/stackexchange/web.py\u001b[0m in \u001b[0;36mjson_request\u001b[1;34m(self, to, params)\u001b[0m\n\u001b[0;32m    157\u001b[0m \u001b[1;33m\u001b[0m\u001b[0m\n\u001b[0;32m    158\u001b[0m     \u001b[1;32mdef\u001b[0m \u001b[0mjson_request\u001b[0m\u001b[1;33m(\u001b[0m\u001b[0mself\u001b[0m\u001b[1;33m,\u001b[0m \u001b[0mto\u001b[0m\u001b[1;33m,\u001b[0m \u001b[0mparams\u001b[0m\u001b[1;33m)\u001b[0m\u001b[1;33m:\u001b[0m\u001b[1;33m\u001b[0m\u001b[0m\n\u001b[1;32m--> 159\u001b[1;33m         \u001b[0mreq\u001b[0m \u001b[1;33m=\u001b[0m \u001b[0mself\u001b[0m\u001b[1;33m.\u001b[0m\u001b[0mrequest\u001b[0m\u001b[1;33m(\u001b[0m\u001b[0mto\u001b[0m\u001b[1;33m,\u001b[0m \u001b[0mparams\u001b[0m\u001b[1;33m)\u001b[0m\u001b[1;33m\u001b[0m\u001b[0m\n\u001b[0m\u001b[0;32m    160\u001b[0m         \u001b[0mparsed_result\u001b[0m \u001b[1;33m=\u001b[0m \u001b[0mjson\u001b[0m\u001b[1;33m.\u001b[0m\u001b[0mloads\u001b[0m\u001b[1;33m(\u001b[0m\u001b[0mreq\u001b[0m\u001b[1;33m.\u001b[0m\u001b[0mdata\u001b[0m\u001b[1;33m.\u001b[0m\u001b[0mdecode\u001b[0m\u001b[1;33m(\u001b[0m\u001b[1;34m'utf8'\u001b[0m\u001b[1;33m)\u001b[0m\u001b[1;33m)\u001b[0m\u001b[1;33m\u001b[0m\u001b[0m\n\u001b[0;32m    161\u001b[0m \u001b[1;33m\u001b[0m\u001b[0m\n",
      "\u001b[1;32m/home/antonio/git/so/stackexchange/web.py\u001b[0m in \u001b[0;36mrequest\u001b[1;34m(self, url, params)\u001b[0m\n\u001b[0;32m    144\u001b[0m                 \u001b[1;32mraise\u001b[0m\u001b[1;33m\u001b[0m\u001b[0m\n\u001b[0;32m    145\u001b[0m             \u001b[1;32melse\u001b[0m\u001b[1;33m:\u001b[0m\u001b[1;33m\u001b[0m\u001b[0m\n\u001b[1;32m--> 146\u001b[1;33m                 \u001b[1;32mraise\u001b[0m \u001b[0mStackExchangeError\u001b[0m\u001b[1;33m(\u001b[0m\u001b[0merror_ob\u001b[0m\u001b[1;33m.\u001b[0m\u001b[0mget\u001b[0m\u001b[1;33m(\u001b[0m\u001b[1;34m'error_id'\u001b[0m\u001b[1;33m,\u001b[0m \u001b[0mStackExchangeError\u001b[0m\u001b[1;33m.\u001b[0m\u001b[0mUNKNOWN\u001b[0m\u001b[1;33m)\u001b[0m\u001b[1;33m,\u001b[0m \u001b[0merror_ob\u001b[0m\u001b[1;33m.\u001b[0m\u001b[0mget\u001b[0m\u001b[1;33m(\u001b[0m\u001b[1;34m'error_name'\u001b[0m\u001b[1;33m)\u001b[0m\u001b[1;33m,\u001b[0m \u001b[0merror_ob\u001b[0m\u001b[1;33m.\u001b[0m\u001b[0mget\u001b[0m\u001b[1;33m(\u001b[0m\u001b[1;34m'error_message'\u001b[0m\u001b[1;33m)\u001b[0m\u001b[1;33m)\u001b[0m\u001b[1;33m\u001b[0m\u001b[0m\n\u001b[0m\u001b[0;32m    147\u001b[0m \u001b[1;33m\u001b[0m\u001b[0m\n\u001b[0;32m    148\u001b[0m         \u001b[0mconn\u001b[0m\u001b[1;33m.\u001b[0m\u001b[0mclose\u001b[0m\u001b[1;33m(\u001b[0m\u001b[1;33m)\u001b[0m\u001b[1;33m\u001b[0m\u001b[0m\n",
      "\u001b[1;31mStackExchangeError\u001b[0m: 404 [no_method]: no method found with this name"
     ]
    }
   ],
   "source": [
    "tt.fetch()"
   ]
  },
  {
   "cell_type": "code",
   "execution_count": 272,
   "metadata": {
    "collapsed": false
   },
   "outputs": [],
   "source": [
    "wt=w.tags"
   ]
  },
  {
   "cell_type": "code",
   "execution_count": 29,
   "metadata": {
    "collapsed": false
   },
   "outputs": [
    {
     "ename": "SyntaxError",
     "evalue": "invalid syntax (<ipython-input-29-4799122e29be>, line 1)",
     "output_type": "error",
     "traceback": [
      "\u001b[1;36m  File \u001b[1;32m\"<ipython-input-29-4799122e29be>\"\u001b[1;36m, line \u001b[1;32m1\u001b[0m\n\u001b[1;33m    wt.fetch().\u001b[0m\n\u001b[1;37m               ^\u001b[0m\n\u001b[1;31mSyntaxError\u001b[0m\u001b[1;31m:\u001b[0m invalid syntax\n"
     ]
    }
   ],
   "source": [
    "wt.fetch()."
   ]
  },
  {
   "cell_type": "code",
   "execution_count": 30,
   "metadata": {
    "collapsed": false
   },
   "outputs": [
    {
     "ename": "SyntaxError",
     "evalue": "invalid syntax (<ipython-input-30-02b7525c8a5c>, line 2)",
     "output_type": "error",
     "traceback": [
      "\u001b[1;36m  File \u001b[1;32m\"<ipython-input-30-02b7525c8a5c>\"\u001b[1;36m, line \u001b[1;32m2\u001b[0m\n\u001b[1;33m    wt=wt.fetch_next().\u001b[0m\n\u001b[1;37m                       ^\u001b[0m\n\u001b[1;31mSyntaxError\u001b[0m\u001b[1;31m:\u001b[0m invalid syntax\n"
     ]
    }
   ],
   "source": [
    "\n",
    "wt=wt.fetch_next()."
   ]
  },
  {
   "cell_type": "code",
   "execution_count": 233,
   "metadata": {
    "collapsed": true
   },
   "outputs": [],
   "source": [
    "ttt=so.tags(user_id=22656)"
   ]
  },
  {
   "cell_type": "code",
   "execution_count": 235,
   "metadata": {
    "collapsed": false
   },
   "outputs": [
    {
     "data": {
      "text/plain": [
       "(<stackexchange.site.Site at 0x7f1a68763320>,\n",
       " 'tags',\n",
       " stackexchange.models.Tag,\n",
       " 'tags',\n",
       " {'body': 'true',\n",
       "  'comments': 'true',\n",
       "  'site': 'stackoverflow.com',\n",
       "  'user_id': 22656})"
      ]
     },
     "execution_count": 235,
     "metadata": {},
     "output_type": "execute_result"
    }
   ],
   "source": [
    "ttt.build_info"
   ]
  },
  {
   "cell_type": "code",
   "execution_count": 217,
   "metadata": {
    "collapsed": false
   },
   "outputs": [
    {
     "data": {
      "text/plain": [
       "30"
      ]
     },
     "execution_count": 217,
     "metadata": {},
     "output_type": "execute_result"
    }
   ],
   "source": [
    "len(wt)"
   ]
  },
  {
   "cell_type": "code",
   "execution_count": 212,
   "metadata": {
    "collapsed": false
   },
   "outputs": [
    {
     "data": {
      "text/plain": [
       "778965"
      ]
     },
     "execution_count": 212,
     "metadata": {},
     "output_type": "execute_result"
    }
   ],
   "source": [
    "w.reputation"
   ]
  },
  {
   "cell_type": "code",
   "execution_count": 184,
   "metadata": {
    "collapsed": true
   },
   "outputs": [],
   "source": [
    "tt=w.top_answer_tags.fetch()[0]"
   ]
  },
  {
   "cell_type": "code",
   "execution_count": 37,
   "metadata": {
    "collapsed": false
   },
   "outputs": [
    {
     "ename": "StackExchangeError",
     "evalue": "502 [throttle_violation]: Violation of backoff parameter",
     "output_type": "error",
     "traceback": [
      "\u001b[1;31m---------------------------------------------------------------------------\u001b[0m",
      "\u001b[1;31mStackExchangeError\u001b[0m                        Traceback (most recent call last)",
      "\u001b[1;32m/home/antonio/.virtualenvs/so3/lib/python3.4/site-packages/IPython/core/formatters.py\u001b[0m in \u001b[0;36m__call__\u001b[1;34m(self, obj)\u001b[0m\n\u001b[0;32m    688\u001b[0m                 \u001b[0mtype_pprinters\u001b[0m\u001b[1;33m=\u001b[0m\u001b[0mself\u001b[0m\u001b[1;33m.\u001b[0m\u001b[0mtype_printers\u001b[0m\u001b[1;33m,\u001b[0m\u001b[1;33m\u001b[0m\u001b[0m\n\u001b[0;32m    689\u001b[0m                 deferred_pprinters=self.deferred_printers)\n\u001b[1;32m--> 690\u001b[1;33m             \u001b[0mprinter\u001b[0m\u001b[1;33m.\u001b[0m\u001b[0mpretty\u001b[0m\u001b[1;33m(\u001b[0m\u001b[0mobj\u001b[0m\u001b[1;33m)\u001b[0m\u001b[1;33m\u001b[0m\u001b[0m\n\u001b[0m\u001b[0;32m    691\u001b[0m             \u001b[0mprinter\u001b[0m\u001b[1;33m.\u001b[0m\u001b[0mflush\u001b[0m\u001b[1;33m(\u001b[0m\u001b[1;33m)\u001b[0m\u001b[1;33m\u001b[0m\u001b[0m\n\u001b[0;32m    692\u001b[0m             \u001b[1;32mreturn\u001b[0m \u001b[0mstream\u001b[0m\u001b[1;33m.\u001b[0m\u001b[0mgetvalue\u001b[0m\u001b[1;33m(\u001b[0m\u001b[1;33m)\u001b[0m\u001b[1;33m\u001b[0m\u001b[0m\n",
      "\u001b[1;32m/home/antonio/.virtualenvs/so3/lib/python3.4/site-packages/IPython/lib/pretty.py\u001b[0m in \u001b[0;36mpretty\u001b[1;34m(self, obj)\u001b[0m\n\u001b[0;32m    390\u001b[0m                 \u001b[1;32mif\u001b[0m \u001b[0mcls\u001b[0m \u001b[1;32min\u001b[0m \u001b[0mself\u001b[0m\u001b[1;33m.\u001b[0m\u001b[0mtype_pprinters\u001b[0m\u001b[1;33m:\u001b[0m\u001b[1;33m\u001b[0m\u001b[0m\n\u001b[0;32m    391\u001b[0m                     \u001b[1;31m# printer registered in self.type_pprinters\u001b[0m\u001b[1;33m\u001b[0m\u001b[1;33m\u001b[0m\u001b[0m\n\u001b[1;32m--> 392\u001b[1;33m                     \u001b[1;32mreturn\u001b[0m \u001b[0mself\u001b[0m\u001b[1;33m.\u001b[0m\u001b[0mtype_pprinters\u001b[0m\u001b[1;33m[\u001b[0m\u001b[0mcls\u001b[0m\u001b[1;33m]\u001b[0m\u001b[1;33m(\u001b[0m\u001b[0mobj\u001b[0m\u001b[1;33m,\u001b[0m \u001b[0mself\u001b[0m\u001b[1;33m,\u001b[0m \u001b[0mcycle\u001b[0m\u001b[1;33m)\u001b[0m\u001b[1;33m\u001b[0m\u001b[0m\n\u001b[0m\u001b[0;32m    393\u001b[0m                 \u001b[1;32melse\u001b[0m\u001b[1;33m:\u001b[0m\u001b[1;33m\u001b[0m\u001b[0m\n\u001b[0;32m    394\u001b[0m                     \u001b[1;31m# deferred printer\u001b[0m\u001b[1;33m\u001b[0m\u001b[1;33m\u001b[0m\u001b[0m\n",
      "\u001b[1;32m/home/antonio/.virtualenvs/so3/lib/python3.4/site-packages/IPython/lib/pretty.py\u001b[0m in \u001b[0;36minner\u001b[1;34m(obj, p, cycle)\u001b[0m\n\u001b[0;32m    570\u001b[0m         \u001b[0mstep\u001b[0m \u001b[1;33m=\u001b[0m \u001b[0mlen\u001b[0m\u001b[1;33m(\u001b[0m\u001b[0mstart\u001b[0m\u001b[1;33m)\u001b[0m\u001b[1;33m\u001b[0m\u001b[0m\n\u001b[0;32m    571\u001b[0m         \u001b[0mp\u001b[0m\u001b[1;33m.\u001b[0m\u001b[0mbegin_group\u001b[0m\u001b[1;33m(\u001b[0m\u001b[0mstep\u001b[0m\u001b[1;33m,\u001b[0m \u001b[0mstart\u001b[0m\u001b[1;33m)\u001b[0m\u001b[1;33m\u001b[0m\u001b[0m\n\u001b[1;32m--> 572\u001b[1;33m         \u001b[1;32mfor\u001b[0m \u001b[0midx\u001b[0m\u001b[1;33m,\u001b[0m \u001b[0mx\u001b[0m \u001b[1;32min\u001b[0m \u001b[0mp\u001b[0m\u001b[1;33m.\u001b[0m\u001b[0m_enumerate\u001b[0m\u001b[1;33m(\u001b[0m\u001b[0mobj\u001b[0m\u001b[1;33m)\u001b[0m\u001b[1;33m:\u001b[0m\u001b[1;33m\u001b[0m\u001b[0m\n\u001b[0m\u001b[0;32m    573\u001b[0m             \u001b[1;32mif\u001b[0m \u001b[0midx\u001b[0m\u001b[1;33m:\u001b[0m\u001b[1;33m\u001b[0m\u001b[0m\n\u001b[0;32m    574\u001b[0m                 \u001b[0mp\u001b[0m\u001b[1;33m.\u001b[0m\u001b[0mtext\u001b[0m\u001b[1;33m(\u001b[0m\u001b[1;34m','\u001b[0m\u001b[1;33m)\u001b[0m\u001b[1;33m\u001b[0m\u001b[0m\n",
      "\u001b[1;32m/home/antonio/.virtualenvs/so3/lib/python3.4/site-packages/IPython/lib/pretty.py\u001b[0m in \u001b[0;36m_enumerate\u001b[1;34m(self, seq)\u001b[0m\n\u001b[0;32m    293\u001b[0m     \u001b[1;32mdef\u001b[0m \u001b[0m_enumerate\u001b[0m\u001b[1;33m(\u001b[0m\u001b[0mself\u001b[0m\u001b[1;33m,\u001b[0m \u001b[0mseq\u001b[0m\u001b[1;33m)\u001b[0m\u001b[1;33m:\u001b[0m\u001b[1;33m\u001b[0m\u001b[0m\n\u001b[0;32m    294\u001b[0m         \u001b[1;34m\"\"\"like enumerate, but with an upper limit on the number of items\"\"\"\u001b[0m\u001b[1;33m\u001b[0m\u001b[0m\n\u001b[1;32m--> 295\u001b[1;33m         \u001b[1;32mfor\u001b[0m \u001b[0midx\u001b[0m\u001b[1;33m,\u001b[0m \u001b[0mx\u001b[0m \u001b[1;32min\u001b[0m \u001b[0menumerate\u001b[0m\u001b[1;33m(\u001b[0m\u001b[0mseq\u001b[0m\u001b[1;33m)\u001b[0m\u001b[1;33m:\u001b[0m\u001b[1;33m\u001b[0m\u001b[0m\n\u001b[0m\u001b[0;32m    296\u001b[0m             \u001b[1;32mif\u001b[0m \u001b[0mself\u001b[0m\u001b[1;33m.\u001b[0m\u001b[0mmax_seq_length\u001b[0m \u001b[1;32mand\u001b[0m \u001b[0midx\u001b[0m \u001b[1;33m>=\u001b[0m \u001b[0mself\u001b[0m\u001b[1;33m.\u001b[0m\u001b[0mmax_seq_length\u001b[0m\u001b[1;33m:\u001b[0m\u001b[1;33m\u001b[0m\u001b[0m\n\u001b[0;32m    297\u001b[0m                 \u001b[0mself\u001b[0m\u001b[1;33m.\u001b[0m\u001b[0mtext\u001b[0m\u001b[1;33m(\u001b[0m\u001b[1;34m','\u001b[0m\u001b[1;33m)\u001b[0m\u001b[1;33m\u001b[0m\u001b[0m\n",
      "\u001b[1;32m/home/antonio/git/so/stackexchange/core.py\u001b[0m in \u001b[0;36mnext\u001b[1;34m(self)\u001b[0m\n\u001b[0;32m    252\u001b[0m \u001b[1;33m\u001b[0m\u001b[0m\n\u001b[0;32m    253\u001b[0m             \u001b[1;32mtry\u001b[0m\u001b[1;33m:\u001b[0m\u001b[1;33m\u001b[0m\u001b[0m\n\u001b[1;32m--> 254\u001b[1;33m                 \u001b[0mcurrent\u001b[0m \u001b[1;33m=\u001b[0m \u001b[0mcurrent\u001b[0m\u001b[1;33m.\u001b[0m\u001b[0mfetch_next\u001b[0m\u001b[1;33m(\u001b[0m\u001b[1;33m)\u001b[0m\u001b[1;33m\u001b[0m\u001b[0m\n\u001b[0m\u001b[0;32m    255\u001b[0m                 \u001b[1;32mif\u001b[0m \u001b[0mlen\u001b[0m\u001b[1;33m(\u001b[0m\u001b[0mcurrent\u001b[0m\u001b[1;33m)\u001b[0m \u001b[1;33m==\u001b[0m \u001b[1;36m0\u001b[0m\u001b[1;33m:\u001b[0m\u001b[1;33m\u001b[0m\u001b[0m\n\u001b[0;32m    256\u001b[0m                     \u001b[1;32mreturn\u001b[0m\u001b[1;33m\u001b[0m\u001b[0m\n",
      "\u001b[1;32m/home/antonio/git/so/stackexchange/core.py\u001b[0m in \u001b[0;36mfetch_next\u001b[1;34m(self)\u001b[0m\n\u001b[0;32m    230\u001b[0m     \u001b[1;32mdef\u001b[0m \u001b[0mfetch_next\u001b[0m\u001b[1;33m(\u001b[0m\u001b[0mself\u001b[0m\u001b[1;33m)\u001b[0m\u001b[1;33m:\u001b[0m\u001b[1;33m\u001b[0m\u001b[0m\n\u001b[0;32m    231\u001b[0m         \u001b[1;34m\"\"\"Returns the resultset of the data in the next page.\"\"\"\u001b[0m\u001b[1;33m\u001b[0m\u001b[0m\n\u001b[1;32m--> 232\u001b[1;33m         \u001b[1;32mreturn\u001b[0m \u001b[0mself\u001b[0m\u001b[1;33m.\u001b[0m\u001b[0mfetch_page\u001b[0m\u001b[1;33m(\u001b[0m\u001b[0mself\u001b[0m\u001b[1;33m.\u001b[0m\u001b[0mpage\u001b[0m \u001b[1;33m+\u001b[0m \u001b[1;36m1\u001b[0m\u001b[1;33m)\u001b[0m\u001b[1;33m\u001b[0m\u001b[0m\n\u001b[0m\u001b[0;32m    233\u001b[0m \u001b[1;33m\u001b[0m\u001b[0m\n\u001b[0;32m    234\u001b[0m     \u001b[1;32mdef\u001b[0m \u001b[0mextend_next\u001b[0m\u001b[1;33m(\u001b[0m\u001b[0mself\u001b[0m\u001b[1;33m)\u001b[0m\u001b[1;33m:\u001b[0m\u001b[1;33m\u001b[0m\u001b[0m\n",
      "\u001b[1;32m/home/antonio/git/so/stackexchange/core.py\u001b[0m in \u001b[0;36mfetch_page\u001b[1;34m(self, page, **kw)\u001b[0m\n\u001b[0;32m    216\u001b[0m         \u001b[0mnew_params\u001b[0m\u001b[1;33m[\u001b[0m\u001b[1;36m4\u001b[0m\u001b[1;33m]\u001b[0m\u001b[1;33m[\u001b[0m\u001b[1;34m'page'\u001b[0m\u001b[1;33m]\u001b[0m \u001b[1;33m=\u001b[0m \u001b[0mpage\u001b[0m\u001b[1;33m\u001b[0m\u001b[0m\n\u001b[0;32m    217\u001b[0m \u001b[1;33m\u001b[0m\u001b[0m\n\u001b[1;32m--> 218\u001b[1;33m         \u001b[0mnew_set\u001b[0m \u001b[1;33m=\u001b[0m \u001b[0mnew_params\u001b[0m\u001b[1;33m[\u001b[0m\u001b[1;36m0\u001b[0m\u001b[1;33m]\u001b[0m\u001b[1;33m.\u001b[0m\u001b[0mbuild\u001b[0m\u001b[1;33m(\u001b[0m\u001b[1;33m*\u001b[0m\u001b[0mnew_params\u001b[0m\u001b[1;33m[\u001b[0m\u001b[1;36m1\u001b[0m\u001b[1;33m:\u001b[0m\u001b[1;33m]\u001b[0m\u001b[1;33m)\u001b[0m\u001b[1;33m\u001b[0m\u001b[0m\n\u001b[0m\u001b[0;32m    219\u001b[0m         \u001b[0mnew_set\u001b[0m\u001b[1;33m.\u001b[0m\u001b[0mpage\u001b[0m \u001b[1;33m=\u001b[0m \u001b[0mpage\u001b[0m\u001b[1;33m\u001b[0m\u001b[0m\n\u001b[0;32m    220\u001b[0m         \u001b[1;32mreturn\u001b[0m \u001b[0mnew_set\u001b[0m\u001b[1;33m\u001b[0m\u001b[0m\n",
      "\u001b[1;32m/home/antonio/git/so/stackexchange/site.py\u001b[0m in \u001b[0;36mbuild\u001b[1;34m(self, url, typ, collection, kw)\u001b[0m\n\u001b[0;32m    187\u001b[0m             \u001b[0mkw\u001b[0m\u001b[1;33m[\u001b[0m\u001b[1;34m'comments'\u001b[0m\u001b[1;33m]\u001b[0m \u001b[1;33m=\u001b[0m \u001b[0mstr\u001b[0m\u001b[1;33m(\u001b[0m\u001b[0mself\u001b[0m\u001b[1;33m.\u001b[0m\u001b[0minclude_comments\u001b[0m\u001b[1;33m)\u001b[0m\u001b[1;33m.\u001b[0m\u001b[0mlower\u001b[0m\u001b[1;33m(\u001b[0m\u001b[1;33m)\u001b[0m\u001b[1;33m\u001b[0m\u001b[0m\n\u001b[0;32m    188\u001b[0m \u001b[1;33m\u001b[0m\u001b[0m\n\u001b[1;32m--> 189\u001b[1;33m         \u001b[0mjson\u001b[0m \u001b[1;33m=\u001b[0m \u001b[0mself\u001b[0m\u001b[1;33m.\u001b[0m\u001b[0m_request\u001b[0m\u001b[1;33m(\u001b[0m\u001b[0murl\u001b[0m\u001b[1;33m,\u001b[0m \u001b[0mkw\u001b[0m\u001b[1;33m)\u001b[0m\u001b[1;33m\u001b[0m\u001b[0m\n\u001b[0m\u001b[0;32m    190\u001b[0m         \u001b[1;32mreturn\u001b[0m \u001b[0mJSONMangler\u001b[0m\u001b[1;33m.\u001b[0m\u001b[0mjson_to_resultset\u001b[0m\u001b[1;33m(\u001b[0m\u001b[0mself\u001b[0m\u001b[1;33m,\u001b[0m \u001b[0mjson\u001b[0m\u001b[1;33m,\u001b[0m \u001b[0mtyp\u001b[0m\u001b[1;33m,\u001b[0m \u001b[0mcollection\u001b[0m\u001b[1;33m,\u001b[0m \u001b[1;33m(\u001b[0m\u001b[0mself\u001b[0m\u001b[1;33m,\u001b[0m \u001b[0murl\u001b[0m\u001b[1;33m,\u001b[0m \u001b[0mtyp\u001b[0m\u001b[1;33m,\u001b[0m \u001b[0mcollection\u001b[0m\u001b[1;33m,\u001b[0m \u001b[0mkw\u001b[0m\u001b[1;33m)\u001b[0m\u001b[1;33m)\u001b[0m\u001b[1;33m\u001b[0m\u001b[0m\n\u001b[0;32m    191\u001b[0m \u001b[1;33m\u001b[0m\u001b[0m\n",
      "\u001b[1;32m/home/antonio/git/so/stackexchange/site.py\u001b[0m in \u001b[0;36m_request\u001b[1;34m(self, to, params)\u001b[0m\n\u001b[0;32m    158\u001b[0m         \u001b[0mrequest_mgr\u001b[0m \u001b[1;33m=\u001b[0m \u001b[0mWebRequestManager\u001b[0m\u001b[1;33m(\u001b[0m\u001b[1;33m**\u001b[0m\u001b[0mrequest_properties\u001b[0m\u001b[1;33m)\u001b[0m\u001b[1;33m\u001b[0m\u001b[0m\n\u001b[0;32m    159\u001b[0m \u001b[1;33m\u001b[0m\u001b[0m\n\u001b[1;32m--> 160\u001b[1;33m         \u001b[0mjson\u001b[0m\u001b[1;33m,\u001b[0m \u001b[0minfo\u001b[0m \u001b[1;33m=\u001b[0m \u001b[0mrequest_mgr\u001b[0m\u001b[1;33m.\u001b[0m\u001b[0mjson_request\u001b[0m\u001b[1;33m(\u001b[0m\u001b[0murl\u001b[0m\u001b[1;33m,\u001b[0m \u001b[0mnew_params\u001b[0m\u001b[1;33m)\u001b[0m\u001b[1;33m\u001b[0m\u001b[0m\n\u001b[0m\u001b[0;32m    161\u001b[0m \u001b[1;33m\u001b[0m\u001b[0m\n\u001b[0;32m    162\u001b[0m         \u001b[1;32mif\u001b[0m \u001b[1;34m'quota_remaining'\u001b[0m \u001b[1;32min\u001b[0m \u001b[0mjson\u001b[0m \u001b[1;32mand\u001b[0m \u001b[1;34m'quota_max'\u001b[0m \u001b[1;32min\u001b[0m \u001b[0mjson\u001b[0m\u001b[1;33m:\u001b[0m\u001b[1;33m\u001b[0m\u001b[0m\n",
      "\u001b[1;32m/home/antonio/git/so/stackexchange/web.py\u001b[0m in \u001b[0;36mjson_request\u001b[1;34m(self, to, params)\u001b[0m\n\u001b[0;32m    157\u001b[0m \u001b[1;33m\u001b[0m\u001b[0m\n\u001b[0;32m    158\u001b[0m     \u001b[1;32mdef\u001b[0m \u001b[0mjson_request\u001b[0m\u001b[1;33m(\u001b[0m\u001b[0mself\u001b[0m\u001b[1;33m,\u001b[0m \u001b[0mto\u001b[0m\u001b[1;33m,\u001b[0m \u001b[0mparams\u001b[0m\u001b[1;33m)\u001b[0m\u001b[1;33m:\u001b[0m\u001b[1;33m\u001b[0m\u001b[0m\n\u001b[1;32m--> 159\u001b[1;33m         \u001b[0mreq\u001b[0m \u001b[1;33m=\u001b[0m \u001b[0mself\u001b[0m\u001b[1;33m.\u001b[0m\u001b[0mrequest\u001b[0m\u001b[1;33m(\u001b[0m\u001b[0mto\u001b[0m\u001b[1;33m,\u001b[0m \u001b[0mparams\u001b[0m\u001b[1;33m)\u001b[0m\u001b[1;33m\u001b[0m\u001b[0m\n\u001b[0m\u001b[0;32m    160\u001b[0m         \u001b[0mparsed_result\u001b[0m \u001b[1;33m=\u001b[0m \u001b[0mjson\u001b[0m\u001b[1;33m.\u001b[0m\u001b[0mloads\u001b[0m\u001b[1;33m(\u001b[0m\u001b[0mreq\u001b[0m\u001b[1;33m.\u001b[0m\u001b[0mdata\u001b[0m\u001b[1;33m.\u001b[0m\u001b[0mdecode\u001b[0m\u001b[1;33m(\u001b[0m\u001b[1;34m'utf8'\u001b[0m\u001b[1;33m)\u001b[0m\u001b[1;33m)\u001b[0m\u001b[1;33m\u001b[0m\u001b[0m\n\u001b[0;32m    161\u001b[0m \u001b[1;33m\u001b[0m\u001b[0m\n",
      "\u001b[1;32m/home/antonio/git/so/stackexchange/web.py\u001b[0m in \u001b[0;36mrequest\u001b[1;34m(self, url, params)\u001b[0m\n\u001b[0;32m    144\u001b[0m                 \u001b[1;32mraise\u001b[0m\u001b[1;33m\u001b[0m\u001b[0m\n\u001b[0;32m    145\u001b[0m             \u001b[1;32melse\u001b[0m\u001b[1;33m:\u001b[0m\u001b[1;33m\u001b[0m\u001b[0m\n\u001b[1;32m--> 146\u001b[1;33m                 \u001b[1;32mraise\u001b[0m \u001b[0mStackExchangeError\u001b[0m\u001b[1;33m(\u001b[0m\u001b[0merror_ob\u001b[0m\u001b[1;33m.\u001b[0m\u001b[0mget\u001b[0m\u001b[1;33m(\u001b[0m\u001b[1;34m'error_id'\u001b[0m\u001b[1;33m,\u001b[0m \u001b[0mStackExchangeError\u001b[0m\u001b[1;33m.\u001b[0m\u001b[0mUNKNOWN\u001b[0m\u001b[1;33m)\u001b[0m\u001b[1;33m,\u001b[0m \u001b[0merror_ob\u001b[0m\u001b[1;33m.\u001b[0m\u001b[0mget\u001b[0m\u001b[1;33m(\u001b[0m\u001b[1;34m'error_name'\u001b[0m\u001b[1;33m)\u001b[0m\u001b[1;33m,\u001b[0m \u001b[0merror_ob\u001b[0m\u001b[1;33m.\u001b[0m\u001b[0mget\u001b[0m\u001b[1;33m(\u001b[0m\u001b[1;34m'error_message'\u001b[0m\u001b[1;33m)\u001b[0m\u001b[1;33m)\u001b[0m\u001b[1;33m\u001b[0m\u001b[0m\n\u001b[0m\u001b[0;32m    147\u001b[0m \u001b[1;33m\u001b[0m\u001b[0m\n\u001b[0;32m    148\u001b[0m         \u001b[0mconn\u001b[0m\u001b[1;33m.\u001b[0m\u001b[0mclose\u001b[0m\u001b[1;33m(\u001b[0m\u001b[1;33m)\u001b[0m\u001b[1;33m\u001b[0m\u001b[0m\n",
      "\u001b[1;31mStackExchangeError\u001b[0m: 502 [throttle_violation]: Violation of backoff parameter"
     ]
    }
   ],
   "source": [
    "w."
   ]
  },
  {
   "cell_type": "code",
   "execution_count": 34,
   "metadata": {
    "collapsed": false
   },
   "outputs": [
    {
     "data": {
      "text/plain": [
       "(<TopTag 'c#' Q:1179 A:143932>,\n",
       " <TopTag 'java' Q:0 A:84782>,\n",
       " <TopTag '.net' Q:528 A:49755>,\n",
       " <TopTag 'linq' Q:0 A:20028>,\n",
       " <TopTag 'string' Q:91 A:11850>,\n",
       " <TopTag 'generics' Q:71 A:11393>,\n",
       " <TopTag 'date' Q:0 A:8897>,\n",
       " <TopTag 'multithreading' Q:0 A:7856>,\n",
       " <TopTag 'timezone' Q:0 A:7468>,\n",
       " <TopTag 'arrays' Q:0 A:5866>,\n",
       " <TopTag 'reflection' Q:157 A:5730>,\n",
       " <TopTag 'asp.net' Q:163 A:5447>,\n",
       " <TopTag 'xml' Q:0 A:5081>,\n",
       " <TopTag 'performance' Q:204 A:4619>,\n",
       " <TopTag 'datetime' Q:0 A:4579>,\n",
       " <TopTag 'list' Q:0 A:4502>,\n",
       " <TopTag 'constructor' Q:0 A:4153>,\n",
       " <TopTag 'c#-4.0' Q:222 A:4148>,\n",
       " <TopTag 'collections' Q:0 A:4021>,\n",
       " <TopTag 'lambda' Q:0 A:3939>,\n",
       " <TopTag 'vb.net' Q:0 A:3869>,\n",
       " <TopTag 'static' Q:0 A:3467>,\n",
       " <TopTag 'visual-studio' Q:0 A:3441>,\n",
       " <TopTag 'delegates' Q:0 A:3265>,\n",
       " <TopTag 'casting' Q:0 A:3124>,\n",
       " <TopTag 'oop' Q:0 A:3065>,\n",
       " <TopTag 'inheritance' Q:0 A:2991>,\n",
       " <TopTag 'enums' Q:0 A:2948>,\n",
       " <TopTag 'floating-point' Q:0 A:2793>,\n",
       " <TopTag 'exception' Q:71 A:2727>,\n",
       " <TopTag 'android' Q:0 A:2724>,\n",
       " <TopTag 'dictionary' Q:0 A:2600>,\n",
       " <TopTag '.net-3.5' Q:118 A:2446>,\n",
       " <TopTag 'interface' Q:0 A:2386>,\n",
       " <TopTag 'double' Q:0 A:2373>,\n",
       " <TopTag 'ienumerable' Q:0 A:2347>,\n",
       " <TopTag 'char' Q:0 A:2318>,\n",
       " <TopTag 'clr' Q:300 A:2212>,\n",
       " <TopTag 'winforms' Q:0 A:2197>,\n",
       " <TopTag 'decimal' Q:0 A:2157>,\n",
       " <TopTag 'types' Q:0 A:2138>,\n",
       " <TopTag 'algorithm' Q:0 A:2129>,\n",
       " <TopTag 'linq-to-xml' Q:0 A:2115>,\n",
       " <TopTag 'events' Q:85 A:2044>,\n",
       " <TopTag 'loops' Q:0 A:2044>,\n",
       " <TopTag 'sql' Q:24 A:2022>,\n",
       " <TopTag 'security' Q:0 A:1991>,\n",
       " <TopTag 'extension-methods' Q:0 A:1982>,\n",
       " <TopTag 'unit-testing' Q:0 A:1941>,\n",
       " <TopTag 'eclipse' Q:0 A:1900>,\n",
       " <TopTag 'passwords' Q:0 A:1877>,\n",
       " <TopTag 'foreach' Q:0 A:1827>,\n",
       " <TopTag 'visual-studio-2010' Q:0 A:1821>,\n",
       " <TopTag 'linq-to-sql' Q:0 A:1784>,\n",
       " <TopTag 'syntax' Q:0 A:1747>,\n",
       " <TopTag 'arraylist' Q:0 A:1736>,\n",
       " <TopTag 'properties' Q:0 A:1735>,\n",
       " <TopTag 'class' Q:0 A:1731>,\n",
       " <TopTag 'serialization' Q:0 A:1712>,\n",
       " <TopTag 'file' Q:0 A:1702>,\n",
       " <TopTag '.net-4.0' Q:117 A:1693>,\n",
       " <TopTag 'design-patterns' Q:0 A:1604>,\n",
       " <TopTag 'hashcode' Q:0 A:1559>,\n",
       " <TopTag 'object' Q:0 A:1492>,\n",
       " <TopTag 'null' Q:0 A:1483>,\n",
       " <TopTag 'regex' Q:0 A:1446>,\n",
       " <TopTag 'math' Q:28 A:1443>,\n",
       " <TopTag 'garbage-collection' Q:0 A:1419>,\n",
       " <TopTag 'c#-3.0' Q:0 A:1380>,\n",
       " <TopTag 'c++' Q:0 A:1367>,\n",
       " <TopTag 'sql-server' Q:24 A:1365>,\n",
       " <TopTag 'asynchronous' Q:165 A:1363>,\n",
       " <TopTag 'coding-style' Q:0 A:1351>,\n",
       " <TopTag 'singleton' Q:0 A:1337>,\n",
       " <TopTag 'exception-handling' Q:0 A:1304>,\n",
       " <TopTag 'methods' Q:0 A:1296>,\n",
       " <TopTag 'nullable' Q:204 A:1267>,\n",
       " <TopTag 'sorting' Q:0 A:1261>,\n",
       " <TopTag 'encoding' Q:0 A:1229>,\n",
       " <TopTag 'file-io' Q:0 A:1211>,\n",
       " <TopTag 'entity-framework' Q:0 A:1210>,\n",
       " <TopTag 'windows' Q:0 A:1183>,\n",
       " <TopTag 'async-await' Q:0 A:1170>,\n",
       " <TopTag 'wpf' Q:37 A:1144>,\n",
       " <TopTag 'event-handling' Q:0 A:1143>,\n",
       " <TopTag 'optimization' Q:0 A:1134>,\n",
       " <TopTag 'hash' Q:0 A:1127>,\n",
       " <TopTag 'for-loop' Q:0 A:1120>,\n",
       " <TopTag 'stream' Q:0 A:1114>,\n",
       " <TopTag 'random' Q:0 A:1111>,\n",
       " <TopTag 'try-catch' Q:0 A:1095>,\n",
       " <TopTag 'gethashcode' Q:0 A:1093>,\n",
       " <TopTag 'jodatime' Q:0 A:1087>,\n",
       " <TopTag 'reference' Q:0 A:1083>,\n",
       " <TopTag 'hashmap' Q:0 A:1073>,\n",
       " <TopTag 'compiler-construction' Q:134 A:1073>,\n",
       " <TopTag 'group-by' Q:0 A:1073>,\n",
       " <TopTag 'javascript' Q:0 A:1038>,\n",
       " <TopTag 'if-statement' Q:0 A:1029>,\n",
       " <TopTag 'parsing' Q:0 A:1025>,\n",
       " <TopTag 'visual-studio-2008' Q:0 A:1010>,\n",
       " <TopTag 'polymorphism' Q:0 A:1010>,\n",
       " <TopTag 'asp.net-mvc' Q:0 A:994>,\n",
       " <TopTag 'resharper' Q:0 A:990>,\n",
       " <TopTag 'database' Q:0 A:956>,\n",
       " <TopTag 'operators' Q:0 A:945>,\n",
       " <TopTag 'memory-management' Q:0 A:937>,\n",
       " <TopTag 'initialization' Q:0 A:933>,\n",
       " <TopTag 'data-structures' Q:0 A:929>,\n",
       " <TopTag 'time' Q:0 A:920>,\n",
       " <TopTag 'language-agnostic' Q:0 A:920>,\n",
       " <TopTag 'task-parallel-library' Q:0 A:915>,\n",
       " <TopTag 'serialversionuid' Q:0 A:912>,\n",
       " <TopTag 'http' Q:0 A:909>,\n",
       " <TopTag 'thread-safety' Q:0 A:907>,\n",
       " <TopTag 'utf-8' Q:0 A:907>,\n",
       " <TopTag 'design' Q:0 A:900>,\n",
       " <TopTag 'concurrency' Q:0 A:895>,\n",
       " <TopTag 'unicode' Q:91 A:881>,\n",
       " <TopTag 'struct' Q:96 A:877>,\n",
       " <TopTag 'parameters' Q:0 A:864>,\n",
       " <TopTag 'anonymous-types' Q:0 A:858>,\n",
       " <TopTag 'byte' Q:0 A:853>,\n",
       " <TopTag 'character-encoding' Q:0 A:850>,\n",
       " <TopTag 'calendar' Q:0 A:847>,\n",
       " <TopTag 'variables' Q:0 A:846>,\n",
       " <TopTag 'inputstream' Q:0 A:839>,\n",
       " <TopTag 'svn' Q:0 A:838>,\n",
       " <TopTag 'md5' Q:0 A:837>,\n",
       " <TopTag 'overloading' Q:0 A:837>,\n",
       " <TopTag 'locking' Q:0 A:823>,\n",
       " <TopTag 'mysql' Q:0 A:823>,\n",
       " <TopTag 'stringbuilder' Q:0 A:807>,\n",
       " <TopTag '.net-2.0' Q:0 A:792>,\n",
       " <TopTag 'dynamic' Q:65 A:792>,\n",
       " <TopTag 'stack' Q:0 A:780>,\n",
       " <TopTag 'final' Q:0 A:774>,\n",
       " <TopTag 'equals' Q:0 A:762>,\n",
       " <TopTag 'type-conversion' Q:0 A:759>,\n",
       " <TopTag 'bytearray' Q:0 A:757>,\n",
       " <TopTag 'invoke' Q:0 A:753>,\n",
       " <TopTag 'url' Q:0 A:753>,\n",
       " <TopTag 'linq-to-entities' Q:0 A:748>,\n",
       " <TopTag 'jvm' Q:0 A:737>,\n",
       " <TopTag 'closures' Q:0 A:734>,\n",
       " <TopTag 'covariance' Q:0 A:715>,\n",
       " <TopTag 'debugging' Q:0 A:707>,\n",
       " <TopTag 'uri' Q:0 A:698>,\n",
       " <TopTag 'sockets' Q:0 A:691>,\n",
       " <TopTag 'iterator' Q:0 A:690>,\n",
       " <TopTag 'io' Q:0 A:684>,\n",
       " <TopTag 'java-threads' Q:0 A:675>,\n",
       " <TopTag 'switch-statement' Q:0 A:667>,\n",
       " <TopTag 'windows-phone-7' Q:85 A:665>,\n",
       " <TopTag 'python' Q:0 A:658>,\n",
       " <TopTag 'c' Q:0 A:644>,\n",
       " <TopTag 'urn' Q:0 A:644>,\n",
       " <TopTag 'rounding' Q:0 A:643>,\n",
       " <TopTag 'nhibernate' Q:0 A:636>,\n",
       " <TopTag 'synchronization' Q:0 A:631>,\n",
       " <TopTag 'memory' Q:0 A:628>,\n",
       " <TopTag 'linq-to-objects' Q:0 A:621>,\n",
       " <TopTag 'set' Q:0 A:620>,\n",
       " <TopTag 'attributes' Q:0 A:614>,\n",
       " <TopTag 'naming-conventions' Q:0 A:609>,\n",
       " <TopTag 'parallel-processing' Q:0 A:606>,\n",
       " <TopTag 'programming-languages' Q:0 A:604>,\n",
       " <TopTag 'immutability' Q:0 A:603>,\n",
       " <TopTag 'asp.net-mvc-3' Q:0 A:601>,\n",
       " <TopTag 'classpath' Q:0 A:587>,\n",
       " <TopTag 'boolean' Q:0 A:586>,\n",
       " <TopTag 'task' Q:0 A:586>,\n",
       " <TopTag 'performance-testing' Q:0 A:583>,\n",
       " <TopTag 'jar' Q:0 A:574>,\n",
       " <TopTag 'comparison' Q:0 A:570>,\n",
       " <TopTag 'integer' Q:0 A:568>,\n",
       " <TopTag 'php' Q:0 A:561>,\n",
       " <TopTag 'abstract-class' Q:0 A:558>,\n",
       " <TopTag 'hibernate' Q:0 A:554>,\n",
       " <TopTag 'testing' Q:0 A:551>,\n",
       " <TopTag 'httpwebrequest' Q:0 A:550>,\n",
       " <TopTag 'override' Q:0 A:547>,\n",
       " <TopTag 'json' Q:0 A:541>,\n",
       " <TopTag 'namespaces' Q:0 A:537>,\n",
       " <TopTag 'vector' Q:0 A:537>,\n",
       " <TopTag 'encryption' Q:0 A:536>,\n",
       " <TopTag 'formatting' Q:0 A:532>,\n",
       " <TopTag 'compiler-errors' Q:0 A:526>,\n",
       " <TopTag 'pass-by-reference' Q:0 A:526>,\n",
       " <TopTag 'junit' Q:0 A:511>,\n",
       " <TopTag 'yield' Q:0 A:505>,\n",
       " <TopTag 'private' Q:0 A:504>,\n",
       " <TopTag 'refactoring' Q:0 A:502>,\n",
       " <TopTag 'null-coalescing-operator' Q:365 A:499>,\n",
       " <TopTag 'base64' Q:0 A:494>,\n",
       " <TopTag 'int' Q:0 A:493>,\n",
       " <TopTag 'idisposable' Q:0 A:493>,\n",
       " <TopTag 'function' Q:0 A:491>,\n",
       " <TopTag 'image' Q:0 A:491>,\n",
       " <TopTag 'guava' Q:0 A:488>,\n",
       " <TopTag 'path' Q:0 A:486>,\n",
       " <TopTag 'optional-parameters' Q:0 A:477>,\n",
       " <TopTag 'compare' Q:0 A:473>,\n",
       " <TopTag 'dispose' Q:0 A:470>,\n",
       " <TopTag 'deprecated' Q:0 A:467>,\n",
       " <TopTag 'directory' Q:0 A:466>,\n",
       " <TopTag 'mono' Q:0 A:465>,\n",
       " <TopTag 'obsolete' Q:0 A:465>,\n",
       " <TopTag 'anonymous-class' Q:0 A:459>,\n",
       " <TopTag 'spring' Q:0 A:458>,\n",
       " <TopTag 'superclass' Q:0 A:457>,\n",
       " <TopTag 'backport' Q:0 A:457>,\n",
       " <TopTag 'map' Q:0 A:454>,\n",
       " <TopTag 'ascii' Q:0 A:451>,\n",
       " <TopTag 'expression-trees' Q:0 A:447>,\n",
       " <TopTag 'nunit' Q:0 A:445>,\n",
       " <TopTag 'access-modifiers' Q:0 A:444>,\n",
       " <TopTag 'complexity-theory' Q:0 A:441>,\n",
       " <TopTag 'split' Q:0 A:439>,\n",
       " <TopTag 'jdbc' Q:0 A:439>,\n",
       " <TopTag 'static-methods' Q:0 A:436>,\n",
       " <TopTag 'contravariance' Q:0 A:435>,\n",
       " <TopTag 'scope' Q:0 A:432>,\n",
       " <TopTag 'c#-5.0' Q:165 A:428>,\n",
       " <TopTag 'inner-classes' Q:0 A:427>,\n",
       " <TopTag 'begininvoke' Q:0 A:426>,\n",
       " <TopTag 'recursion' Q:0 A:420>,\n",
       " <TopTag '.net-4.5' Q:157 A:417>,\n",
       " <TopTag 'unchecked' Q:0 A:416>,\n",
       " <TopTag 'instantiation' Q:0 A:415>,\n",
       " <TopTag 'xml-serialization' Q:0 A:414>,\n",
       " <TopTag 'value-type' Q:0 A:411>,\n",
       " <TopTag 'text' Q:0 A:410>,\n",
       " <TopTag 'command-line' Q:0 A:405>,\n",
       " <TopTag 'resources' Q:0 A:401>,\n",
       " <TopTag 'while-loop' Q:0 A:400>,\n",
       " <TopTag 'nullpointerexception' Q:0 A:398>,\n",
       " <TopTag 'precision' Q:0 A:395>,\n",
       " <TopTag 'simpledateformat' Q:0 A:392>,\n",
       " <TopTag 'hashset' Q:0 A:387>,\n",
       " <TopTag 'replace' Q:0 A:386>,\n",
       " <TopTag 'java-ee' Q:0 A:383>,\n",
       " <TopTag 'compilation' Q:0 A:381>,\n",
       " <TopTag 'streamreader' Q:0 A:380>,\n",
       " <TopTag 'hilo' Q:0 A:376>,\n",
       " <TopTag 'xmldocument' Q:0 A:374>,\n",
       " <TopTag 'order' Q:0 A:373>,\n",
       " <TopTag 'silverlight' Q:122 A:369>,\n",
       " <TopTag 'c#-2.0' Q:0 A:368>,\n",
       " <TopTag 'datatable' Q:0 A:368>,\n",
       " <TopTag 'timer' Q:0 A:365>,\n",
       " <TopTag 'method-overloading' Q:0 A:360>,\n",
       " <TopTag 'tostring' Q:0 A:358>,\n",
       " <TopTag 'memory-leaks' Q:0 A:356>,\n",
       " <TopTag 'swing' Q:0 A:354>,\n",
       " <TopTag 'servlets' Q:0 A:352>,\n",
       " <TopTag 'grammar' Q:0 A:352>,\n",
       " <TopTag 'language-lawyer' Q:0 A:348>,\n",
       " <TopTag 'format' Q:0 A:343>,\n",
       " <TopTag 'distinct' Q:0 A:341>,\n",
       " <TopTag 'conditional-operator' Q:0 A:339>,\n",
       " <TopTag 'xpath' Q:0 A:339>,\n",
       " <TopTag 'localization' Q:0 A:337>,\n",
       " <TopTag 'join' Q:0 A:336>,\n",
       " <TopTag 'escaping' Q:0 A:335>,\n",
       " <TopTag 'dll' Q:0 A:334>,\n",
       " <TopTag 'web-services' Q:0 A:332>,\n",
       " <TopTag 'long-integer' Q:0 A:331>,\n",
       " <TopTag 'cil' Q:0 A:329>,\n",
       " <TopTag 'expression' Q:0 A:327>,\n",
       " <TopTag 'process' Q:0 A:325>,\n",
       " <TopTag 'api' Q:0 A:324>,\n",
       " <TopTag 'volatile' Q:0 A:320>,\n",
       " <TopTag 'bigdecimal' Q:0 A:318>,\n",
       " <TopTag 'ienumerator' Q:0 A:316>,\n",
       " <TopTag 'computer-science' Q:0 A:312>,\n",
       " <TopTag 'memorystream' Q:0 A:311>,\n",
       " <TopTag 'bit-manipulation' Q:0 A:310>,\n",
       " <TopTag 'instance' Q:0 A:307>,\n",
       " <TopTag 'binary' Q:0 A:307>,\n",
       " <TopTag 'multidimensional-array' Q:0 A:306>,\n",
       " <TopTag 'literals' Q:0 A:306>,\n",
       " <TopTag 'big-o' Q:0 A:305>,\n",
       " <TopTag 'search' Q:0 A:305>,\n",
       " <TopTag 'static-classes' Q:0 A:304>,\n",
       " <TopTag 'operator-overloading' Q:0 A:304>,\n",
       " <TopTag 'using-statement' Q:0 A:303>,\n",
       " <TopTag 'ilist' Q:0 A:303>,\n",
       " <TopTag 'iteration' Q:0 A:301>,\n",
       " <TopTag 'stack-overflow' Q:0 A:298>,\n",
       " <TopTag 'abstract' Q:0 A:296>,\n",
       " <TopTag 'special-characters' Q:0 A:294>,\n",
       " <TopTag 'java-8' Q:0 A:291>,\n",
       " <TopTag 'f#' Q:0 A:288>,\n",
       " <TopTag 'classloader' Q:0 A:288>,\n",
       " <TopTag 'terminology' Q:0 A:288>,\n",
       " <TopTag 'func' Q:0 A:287>,\n",
       " <TopTag 'primitive-types' Q:0 A:286>,\n",
       " <TopTag 'language-features' Q:0 A:286>,\n",
       " <TopTag 'primitive' Q:0 A:285>,\n",
       " <TopTag 'ado.net' Q:0 A:285>,\n",
       " <TopTag 'linked-list' Q:0 A:281>,\n",
       " <TopTag 'field' Q:0 A:281>,\n",
       " <TopTag 'hashtable' Q:0 A:281>,\n",
       " <TopTag 'ant' Q:0 A:280>,\n",
       " <TopTag 'language-design' Q:0 A:280>,\n",
       " <TopTag 'user-interface' Q:0 A:279>,\n",
       " <TopTag 'copy' Q:0 A:279>,\n",
       " <TopTag 'shorthand' Q:0 A:279>,\n",
       " <TopTag 'hex' Q:0 A:278>,\n",
       " <TopTag 'utc' Q:0 A:278>,\n",
       " <TopTag 'declaration' Q:0 A:278>,\n",
       " <TopTag 'generic-list' Q:0 A:277>,\n",
       " <TopTag 'return' Q:0 A:276>,\n",
       " <TopTag 'console' Q:0 A:274>,\n",
       " <TopTag 'scala' Q:0 A:274>,\n",
       " <TopTag 'enumeration' Q:0 A:273>,\n",
       " <TopTag 'using' Q:0 A:273>,\n",
       " <TopTag 'string-formatting' Q:0 A:272>,\n",
       " <TopTag 'code-contracts' Q:73 A:270>,\n",
       " <TopTag 'assemblies' Q:0 A:270>,\n",
       " <TopTag 'xml-parsing' Q:0 A:270>,\n",
       " <TopTag 'comments' Q:0 A:269>,\n",
       " <TopTag 'ruby' Q:0 A:268>,\n",
       " <TopTag 'automatic-properties' Q:0 A:266>,\n",
       " <TopTag 'cryptography' Q:0 A:265>,\n",
       " <TopTag 'constants' Q:0 A:264>,\n",
       " <TopTag 'keyword' Q:0 A:262>,\n",
       " <TopTag 'protocol-buffers' Q:0 A:260>,\n",
       " <TopTag 'type-inference' Q:0 A:259>,\n",
       " <TopTag 'git' Q:85 A:258>,\n",
       " <TopTag 'setter' Q:0 A:257>,\n",
       " <TopTag 'tdd' Q:0 A:257>,\n",
       " <TopTag 'numbers' Q:0 A:257>,\n",
       " <TopTag 'autoboxing' Q:0 A:256>,\n",
       " <TopTag 'filestream' Q:0 A:254>,\n",
       " <TopTag 'nullreferenceexception' Q:157 A:253>,\n",
       " <TopTag 'queue' Q:0 A:251>,\n",
       " <TopTag 'tcp' Q:0 A:251>,\n",
       " <TopTag 'getter' Q:0 A:250>,\n",
       " <TopTag 'readonly' Q:0 A:250>,\n",
       " <TopTag 'reference-type' Q:0 A:248>,\n",
       " <TopTag 'new-operator' Q:0 A:247>,\n",
       " <TopTag 'networking' Q:0 A:244>,\n",
       " <TopTag 'workspace' Q:0 A:244>,\n",
       " <TopTag 'xelement' Q:0 A:242>,\n",
       " <TopTag 'iqueryable' Q:0 A:242>,\n",
       " <TopTag 'substring' Q:0 A:242>,\n",
       " <TopTag 'timespan' Q:0 A:239>,\n",
       " <TopTag 'shuffle' Q:0 A:239>,\n",
       " <TopTag 'return-value' Q:0 A:238>,\n",
       " <TopTag 'mocking' Q:0 A:237>,\n",
       " <TopTag 'equals-operator' Q:0 A:237>,\n",
       " <TopTag 'wow64' Q:0 A:237>,\n",
       " <TopTag 'digest' Q:0 A:236>,\n",
       " <TopTag 'threadpool' Q:0 A:236>,\n",
       " <TopTag 'mstest' Q:0 A:236>,\n",
       " <TopTag 'validation' Q:0 A:234>,\n",
       " <TopTag 'priority-queue' Q:0 A:234>,\n",
       " <TopTag 'functional-programming' Q:0 A:233>,\n",
       " <TopTag 'nodatime' Q:0 A:233>,\n",
       " <TopTag 'encapsulation' Q:0 A:232>,\n",
       " <TopTag 'tsql' Q:0 A:231>,\n",
       " <TopTag 'oracle' Q:0 A:231>,\n",
       " <TopTag 'dependency-injection' Q:0 A:230>,\n",
       " <TopTag 'do-while' Q:0 A:230>,\n",
       " <TopTag 'idictionary' Q:0 A:229>,\n",
       " <TopTag 'annotations' Q:0 A:228>,\n",
       " <TopTag 'predicate' Q:0 A:226>,\n",
       " <TopTag 'iterable' Q:0 A:226>,\n",
       " <TopTag 'documentation' Q:43 A:225>,\n",
       " <TopTag 'suppress-warnings' Q:0 A:224>,\n",
       " <TopTag 'tortoisesvn' Q:0 A:224>,\n",
       " <TopTag 'async-ctp' Q:0 A:223>,\n",
       " <TopTag 'sql-order-by' Q:0 A:222>,\n",
       " <TopTag 'bufferedreader' Q:0 A:222>,\n",
       " <TopTag 'boxing' Q:0 A:221>,\n",
       " <TopTag 'gmt' Q:0 A:219>,\n",
       " <TopTag 'enumerable' Q:0 A:218>,\n",
       " <TopTag 'heap' Q:0 A:218>,\n",
       " <TopTag 'text-files' Q:0 A:216>,\n",
       " <TopTag 'dst' Q:0 A:216>,\n",
       " <TopTag 'concatenation' Q:0 A:216>,\n",
       " <TopTag 'console-application' Q:0 A:215>,\n",
       " <TopTag 'anonymous-methods' Q:0 A:215>,\n",
       " <TopTag 'version-control' Q:0 A:215>,\n",
       " <TopTag 'html' Q:22 A:215>,\n",
       " <TopTag 'scjp' Q:0 A:214>,\n",
       " <TopTag 'compression' Q:0 A:213>,\n",
       " <TopTag 'ansi' Q:0 A:213>,\n",
       " <TopTag 'filewriter' Q:0 A:211>,\n",
       " <TopTag 'moq' Q:0 A:208>,\n",
       " <TopTag 'return-type' Q:0 A:208>,\n",
       " <TopTag 'eclipse-plugin' Q:0 A:208>,\n",
       " <TopTag 'type-safety' Q:0 A:208>,\n",
       " <TopTag 'assert' Q:0 A:207>,\n",
       " <TopTag 'ternary-operator' Q:0 A:206>,\n",
       " <TopTag 'clone' Q:0 A:206>,\n",
       " <TopTag 'bcl' Q:0 A:205>,\n",
       " <TopTag 'ref' Q:0 A:205>,\n",
       " <TopTag 'subclass' Q:0 A:205>,\n",
       " <TopTag 'comparator' Q:0 A:204>,\n",
       " <TopTag 'logging' Q:0 A:204>,\n",
       " <TopTag 'jit' Q:0 A:204>,\n",
       " <TopTag 'atomic' Q:0 A:204>,\n",
       " <TopTag 'yield-return' Q:0 A:201>,\n",
       " <TopTag 'templates' Q:0 A:200>,\n",
       " <TopTag 'javac' Q:0 A:200>,\n",
       " <TopTag '.net-attributes' Q:0 A:199>,\n",
       " <TopTag 'time-complexity' Q:0 A:198>,\n",
       " <TopTag 'pointers' Q:0 A:198>,\n",
       " <TopTag 'linux' Q:0 A:198>,\n",
       " <TopTag 'streamwriter' Q:0 A:196>,\n",
       " <TopTag 'indexoutofboundsexception' Q:0 A:195>,\n",
       " <TopTag 'json.net' Q:0 A:193>,\n",
       " <TopTag 'merge' Q:0 A:193>,\n",
       " <TopTag 'groovy' Q:0 A:192>,\n",
       " <TopTag 'finalizer' Q:0 A:191>,\n",
       " <TopTag 'bitwise-operators' Q:0 A:191>,\n",
       " <TopTag 'virtual' Q:0 A:190>,\n",
       " <TopTag 'objective-c' Q:0 A:189>,\n",
       " <TopTag 'bytecode' Q:0 A:189>,\n",
       " <TopTag 'public-method' Q:0 A:189>,\n",
       " <TopTag 'line-endings' Q:0 A:189>,\n",
       " <TopTag 'session' Q:0 A:188>,\n",
       " <TopTag 'unsigned' Q:0 A:188>,\n",
       " <TopTag 'sqlite' Q:0 A:188>,\n",
       " <TopTag 'synchronized' Q:0 A:187>,\n",
       " <TopTag 'windows-phone-8' Q:0 A:185>,\n",
       " <TopTag 'typedef' Q:0 A:185>,\n",
       " <TopTag 'timestamp' Q:0 A:183>,\n",
       " <TopTag 'runtime' Q:0 A:182>,\n",
       " <TopTag 'character' Q:0 A:182>,\n",
       " <TopTag 'guid' Q:0 A:182>,\n",
       " <TopTag 'editor' Q:0 A:182>,\n",
       " <TopTag 'flags' Q:0 A:180>,\n",
       " <TopTag 'conditional-execution' Q:0 A:180>,\n",
       " <TopTag 'hotkeys' Q:0 A:180>,\n",
       " <TopTag 'code-analysis' Q:0 A:179>,\n",
       " <TopTag 'bit-shift' Q:0 A:179>,\n",
       " <TopTag 'xmlreader' Q:0 A:178>,\n",
       " <TopTag 'wcf' Q:0 A:178>,\n",
       " <TopTag 'datareader' Q:0 A:177>,\n",
       " <TopTag 'negative-number' Q:0 A:177>,\n",
       " <TopTag 'utf' Q:0 A:176>,\n",
       " <TopTag 'newline' Q:0 A:176>,\n",
       " <TopTag 'destructor' Q:0 A:176>,\n",
       " <TopTag 'colors' Q:0 A:174>,\n",
       " <TopTag 'java-7' Q:0 A:173>,\n",
       " <TopTag 'equality' Q:0 A:173>,\n",
       " <TopTag 'specifications' Q:0 A:171>,\n",
       " <TopTag 'multimap' Q:0 A:171>,\n",
       " <TopTag 'binary-search' Q:0 A:170>,\n",
       " <TopTag 'caching' Q:0 A:169>,\n",
       " <TopTag 'sql-server-2008' Q:0 A:168>,\n",
       " <TopTag 'interop' Q:71 A:168>,\n",
       " <TopTag 'startswith' Q:0 A:166>,\n",
       " <TopTag 'static-members' Q:0 A:165>,\n",
       " <TopTag 'package' Q:0 A:165>,\n",
       " <TopTag 'architecture' Q:0 A:164>,\n",
       " <TopTag 'error-handling' Q:0 A:164>,\n",
       " <TopTag 'date-format' Q:0 A:164>,\n",
       " <TopTag 'webrequest' Q:0 A:163>,\n",
       " <TopTag 'disposable' Q:0 A:162>,\n",
       " <TopTag 'byte-order-mark' Q:0 A:160>,\n",
       " <TopTag 'sortedlist' Q:0 A:159>,\n",
       " <TopTag 'logic' Q:0 A:159>,\n",
       " <TopTag 'nested-class' Q:0 A:158>,\n",
       " <TopTag 'history' Q:0 A:158>,\n",
       " <TopTag 'datetime-format' Q:0 A:158>,\n",
       " <TopTag 'contains' Q:0 A:158>,\n",
       " <TopTag 'varargs' Q:0 A:157>,\n",
       " <TopTag 'puzzle' Q:0 A:157>,\n",
       " <TopTag 'swap' Q:0 A:157>,\n",
       " <TopTag 'counter' Q:0 A:156>,\n",
       " <TopTag 'increment' Q:0 A:156>,\n",
       " <TopTag 'windows-store-apps' Q:0 A:155>,\n",
       " <TopTag 'batch-file' Q:0 A:155>,\n",
       " <TopTag 'lookup' Q:0 A:154>,\n",
       " <TopTag 'generic-variance' Q:0 A:153>,\n",
       " <TopTag 'sql-server-2005' Q:0 A:152>,\n",
       " <TopTag 'msbuild' Q:32 A:151>,\n",
       " <TopTag 'default-constructor' Q:0 A:151>,\n",
       " <TopTag 'compiler-optimization' Q:0 A:150>,\n",
       " <TopTag 'mockito' Q:0 A:150>,\n",
       " <TopTag 'backgroundworker' Q:0 A:150>,\n",
       " <TopTag 'milliseconds' Q:0 A:149>,\n",
       " <TopTag 'warnings' Q:0 A:148>,\n",
       " <TopTag 'out' Q:0 A:148>,\n",
       " <TopTag 'implicit-conversion' Q:0 A:148>,\n",
       " <TopTag 'version' Q:0 A:146>,\n",
       " <TopTag 'xna' Q:0 A:145>,\n",
       " <TopTag 'cultureinfo' Q:0 A:142>,\n",
       " <TopTag 'zip' Q:0 A:142>,\n",
       " <TopTag 'email' Q:0 A:142>,\n",
       " <TopTag 'windows-runtime' Q:0 A:142>,\n",
       " <TopTag 'this' Q:0 A:142>,\n",
       " <TopTag 'string-comparison' Q:0 A:142>,\n",
       " <TopTag 'unix-timestamp' Q:0 A:140>,\n",
       " <TopTag 'netbeans' Q:0 A:140>,\n",
       " <TopTag 'iequalitycomparer' Q:0 A:139>,\n",
       " <TopTag 'action' Q:0 A:138>,\n",
       " <TopTag 'globalization' Q:0 A:137>,\n",
       " <TopTag 'database-design' Q:0 A:137>,\n",
       " <TopTag 'definition' Q:0 A:136>,\n",
       " <TopTag 'methodinfo' Q:0 A:135>,\n",
       " <TopTag 'visual-studio-2012' Q:0 A:135>,\n",
       " <TopTag 'webclient' Q:0 A:135>,\n",
       " <TopTag 'entity-framework-4' Q:0 A:134>,\n",
       " <TopTag 'xor' Q:0 A:134>,\n",
       " <TopTag 'sorteddictionary' Q:0 A:134>,\n",
       " <TopTag 'dynamic-languages' Q:0 A:133>,\n",
       " <TopTag 'c#-6.0' Q:0 A:133>,\n",
       " <TopTag 'pass-by-value' Q:0 A:133>,\n",
       " <TopTag 'out-of-memory' Q:0 A:133>,\n",
       " <TopTag 'nio' Q:0 A:132>,\n",
       " <TopTag 'gettype' Q:0 A:131>,\n",
       " <TopTag 'select' Q:0 A:130>,\n",
       " <TopTag 'input' Q:0 A:129>,\n",
       " <TopTag 'derived-class' Q:0 A:129>,\n",
       " <TopTag 'member' Q:0 A:129>,\n",
       " <TopTag 'idioms' Q:0 A:129>,\n",
       " <TopTag 'variable-assignment' Q:0 A:127>,\n",
       " <TopTag 'log4j' Q:0 A:127>,\n",
       " <TopTag 'params' Q:0 A:126>,\n",
       " <TopTag 'finally' Q:0 A:125>,\n",
       " <TopTag 'comparable' Q:0 A:125>,\n",
       " <TopTag 'java.util.scanner' Q:0 A:124>,\n",
       " <TopTag 'stringbuffer' Q:0 A:124>,\n",
       " <TopTag 'forms' Q:0 A:123>,\n",
       " <TopTag 'auto-generate' Q:0 A:123>,\n",
       " <TopTag 'bit' Q:0 A:122>,\n",
       " <TopTag 'postgresql' Q:0 A:121>,\n",
       " <TopTag 'private-members' Q:0 A:121>,\n",
       " <TopTag 'anti-patterns' Q:0 A:121>,\n",
       " <TopTag 'inversion-of-control' Q:0 A:120>,\n",
       " <TopTag 'tuples' Q:0 A:120>,\n",
       " <TopTag 'sqlcommand' Q:0 A:120>,\n",
       " <TopTag 'visual-studio-2005' Q:0 A:120>,\n",
       " <TopTag 'iis' Q:0 A:120>,\n",
       " <TopTag '.net-assembly' Q:0 A:119>,\n",
       " <TopTag 'type-erasure' Q:0 A:119>,\n",
       " <TopTag 'open-source' Q:85 A:118>,\n",
       " <TopTag 'csv' Q:0 A:118>,\n",
       " <TopTag 'nested' Q:0 A:118>,\n",
       " <TopTag 'reflector' Q:0 A:118>,\n",
       " <TopTag 'observer-pattern' Q:0 A:117>,\n",
       " <TopTag 'line-breaks' Q:0 A:116>,\n",
       " <TopTag 'multicore' Q:0 A:115>,\n",
       " <TopTag 'class-design' Q:0 A:115>,\n",
       " <TopTag 'dataset' Q:0 A:115>,\n",
       " <TopTag 'multiplication' Q:0 A:115>,\n",
       " <TopTag 'keyboard-shortcuts' Q:0 A:115>,\n",
       " <TopTag 'storage' Q:0 A:115>,\n",
       " <TopTag 'max' Q:0 A:114>,\n",
       " <TopTag 'modifier' Q:0 A:114>,\n",
       " <TopTag 'outputstream' Q:0 A:114>,\n",
       " <TopTag 'xmlwriter' Q:0 A:114>,\n",
       " <TopTag 'ftp' Q:0 A:114>,\n",
       " <TopTag 'internal' Q:0 A:114>,\n",
       " <TopTag 'constraints' Q:0 A:113>,\n",
       " <TopTag 'xaml' Q:37 A:113>,\n",
       " <TopTag 'tomcat' Q:0 A:113>,\n",
       " <TopTag 'web-applications' Q:0 A:112>,\n",
       " <TopTag 'count' Q:0 A:112>,\n",
       " <TopTag 'frameworks' Q:0 A:112>,\n",
       " <TopTag 'sha256' Q:0 A:112>,\n",
       " <TopTag 'object-initializers' Q:0 A:112>,\n",
       " <TopTag 'virtual-functions' Q:0 A:112>,\n",
       " <TopTag 'main' Q:0 A:111>,\n",
       " <TopTag 'delphi' Q:0 A:110>,\n",
       " <TopTag 'java-me' Q:0 A:110>,\n",
       " <TopTag 'instanceof' Q:0 A:110>,\n",
       " <TopTag 'infinite-loop' Q:0 A:110>,\n",
       " <TopTag '64bit' Q:0 A:109>,\n",
       " <TopTag 'void' Q:0 A:109>,\n",
       " <TopTag 'default' Q:0 A:109>,\n",
       " <TopTag 'compact-framework' Q:0 A:109>,\n",
       " <TopTag 'jsp' Q:0 A:109>,\n",
       " <TopTag 'variable-scope' Q:0 A:109>,\n",
       " <TopTag 'asp.net-mvc-4' Q:0 A:108>,\n",
       " <TopTag 'perl' Q:0 A:108>,\n",
       " <TopTag 'naming' Q:0 A:108>,\n",
       " <TopTag 'break' Q:0 A:108>,\n",
       " <TopTag 'sqlconnection' Q:0 A:107>,\n",
       " <TopTag 'lazy-evaluation' Q:0 A:107>,\n",
       " <TopTag 'code-review' Q:0 A:107>,\n",
       " <TopTag 'implementation' Q:0 A:106>,\n",
       " <TopTag 'filereader' Q:0 A:106>,\n",
       " <TopTag 'csproj' Q:0 A:106>,\n",
       " <TopTag 'reverse' Q:0 A:105>,\n",
       " <TopTag 'anonymous-objects' Q:0 A:105>,\n",
       " <TopTag 'goto' Q:0 A:105>,\n",
       " <TopTag 'indexer' Q:0 A:105>,\n",
       " <TopTag 'biginteger' Q:0 A:105>,\n",
       " <TopTag 'silverlight-4.0' Q:0 A:105>,\n",
       " <TopTag 'protected' Q:0 A:105>,\n",
       " <TopTag 'uppercase' Q:0 A:105>,\n",
       " <TopTag 'anonymous-function' Q:0 A:104>,\n",
       " <TopTag 'getter-setter' Q:0 A:104>,\n",
       " <TopTag 'const' Q:0 A:104>,\n",
       " <TopTag 'overflow' Q:0 A:104>,\n",
       " <TopTag 'out-parameters' Q:0 A:104>,\n",
       " <TopTag 'gdi+' Q:0 A:104>,\n",
       " <TopTag 'interlocked' Q:0 A:104>,\n",
       " <TopTag 'add' Q:0 A:103>,\n",
       " <TopTag 'where' Q:0 A:103>,\n",
       " <TopTag 'unique' Q:0 A:102>,\n",
       " <TopTag 'sequences' Q:0 A:102>,\n",
       " <TopTag 'integer-overflow' Q:0 A:102>,\n",
       " <TopTag 'readonlycollection' Q:0 A:102>,\n",
       " <TopTag 'assembly-signing' Q:0 A:102>,\n",
       " <TopTag 'gdi' Q:0 A:101>,\n",
       " <TopTag 'whitespace' Q:0 A:101>,\n",
       " <TopTag 'log4net' Q:0 A:101>,\n",
       " <TopTag 'explicit' Q:0 A:99>,\n",
       " <TopTag 'system.reactive' Q:0 A:98>,\n",
       " <TopTag 'floating-accuracy' Q:0 A:98>,\n",
       " <TopTag 'utf-16' Q:0 A:98>,\n",
       " <TopTag 'import' Q:0 A:97>,\n",
       " <TopTag 'arguments' Q:0 A:97>,\n",
       " <TopTag 'ieee-754' Q:0 A:97>,\n",
       " <TopTag 'premature-optimization' Q:0 A:97>,\n",
       " <TopTag 'source-code' Q:0 A:96>,\n",
       " <TopTag 'wait' Q:0 A:96>,\n",
       " <TopTag 'profiling' Q:0 A:96>,\n",
       " <TopTag 'msdn' Q:0 A:96>,\n",
       " <TopTag 'timeout' Q:0 A:95>,\n",
       " <TopTag 'build-process' Q:0 A:95>,\n",
       " <TopTag 'rest' Q:0 A:95>,\n",
       " <TopTag 'gzip' Q:0 A:94>,\n",
       " <TopTag 'textbox' Q:85 A:94>,\n",
       " <TopTag 'theory' Q:0 A:94>,\n",
       " <TopTag 'short' Q:0 A:94>,\n",
       " <TopTag 'stack-trace' Q:0 A:94>,\n",
       " <TopTag 'classcastexception' Q:0 A:93>,\n",
       " <TopTag 'ide' Q:0 A:93>,\n",
       " <TopTag 'unary-operator' Q:0 A:93>,\n",
       " <TopTag 'windows-store' Q:0 A:92>,\n",
       " <TopTag 'datetimeoffset' Q:0 A:92>,\n",
       " <TopTag 'partial' Q:0 A:92>,\n",
       " <TopTag 'registry' Q:0 A:92>,\n",
       " <TopTag 'conditional' Q:0 A:92>,\n",
       " <TopTag 'trim' Q:0 A:92>,\n",
       " <TopTag 'like-operator' Q:0 A:91>,\n",
       " <TopTag 'try-catch-finally' Q:0 A:91>,\n",
       " <TopTag 'guice' Q:0 A:90>,\n",
       " <TopTag 'plinq' Q:0 A:90>,\n",
       " <TopTag 'build' Q:0 A:90>,\n",
       " <TopTag 'excel' Q:48 A:90>,\n",
       " <TopTag 'aes' Q:0 A:89>,\n",
       " <TopTag 'dispatcher' Q:0 A:89>,\n",
       " <TopTag 'number-formatting' Q:0 A:89>,\n",
       " <TopTag 'tcpclient' Q:0 A:89>,\n",
       " <TopTag 'mutable' Q:0 A:89>,\n",
       " <TopTag 'static-block' Q:0 A:89>,\n",
       " <TopTag 'iequatable' Q:0 A:88>,\n",
       " <TopTag 'system.reflection' Q:0 A:88>,\n",
       " <TopTag 'rhino-mocks' Q:0 A:88>,\n",
       " <TopTag 'indexing' Q:0 A:88>,\n",
       " <TopTag 'service' Q:0 A:88>,\n",
       " <TopTag 'constructor-overloading' Q:0 A:88>,\n",
       " <TopTag 'winapi' Q:0 A:87>,\n",
       " <TopTag 'union' Q:0 A:87>,\n",
       " <TopTag 'factory' Q:0 A:87>,\n",
       " <TopTag 'icomparable' Q:0 A:87>,\n",
       " <TopTag 'deadlock' Q:0 A:87>,\n",
       " <TopTag 'local-variables' Q:0 A:86>,\n",
       " <TopTag 'stored-procedures' Q:0 A:86>,\n",
       " <TopTag 'endianness' Q:0 A:86>,\n",
       " <TopTag 'propertyinfo' Q:0 A:86>,\n",
       " <TopTag 'invocation' Q:0 A:85>,\n",
       " <TopTag 'super' Q:0 A:85>,\n",
       " <TopTag 'deployment' Q:0 A:85>,\n",
       " <TopTag 'networkstream' Q:0 A:85>,\n",
       " <TopTag 'key' Q:0 A:85>,\n",
       " <TopTag 'icollection' Q:0 A:84>,\n",
       " <TopTag 'system.type' Q:0 A:84>,\n",
       " <TopTag 'sealed' Q:0 A:84>,\n",
       " <TopTag 'vsts2008' Q:0 A:84>,\n",
       " <TopTag 'floor' Q:0 A:84>,\n",
       " <TopTag 'benchmarking' Q:0 A:83>,\n",
       " <TopTag 'plugins' Q:0 A:83>,\n",
       " <TopTag 'com' Q:205 A:83>,\n",
       " <TopTag 'protobuf-net' Q:0 A:83>,\n",
       " <TopTag 'sum' Q:0 A:83>,\n",
       " <TopTag 'download' Q:0 A:82>,\n",
       " <TopTag 'ios' Q:0 A:82>,\n",
       " <TopTag 'treemap' Q:0 A:82>,\n",
       " <TopTag 'windows-8' Q:0 A:82>,\n",
       " <TopTag 'monodevelop' Q:0 A:82>,\n",
       " <TopTag 'javabeans' Q:0 A:81>,\n",
       " <TopTag 'double-checked-locking' Q:0 A:81>,\n",
       " <TopTag 'vb6' Q:0 A:81>,\n",
       " <TopTag 'compiler-warnings' Q:0 A:81>,\n",
       " <TopTag 'sha1' Q:0 A:81>,\n",
       " <TopTag 'c++-cli' Q:0 A:81>,\n",
       " <TopTag 'webforms' Q:0 A:80>,\n",
       " <TopTag 'duplicates' Q:0 A:80>,\n",
       " <TopTag 'monitor' Q:0 A:80>,\n",
       " <TopTag 'nsdate' Q:0 A:80>,\n",
       " <TopTag 'readline' Q:0 A:80>,\n",
       " <TopTag 'nsdateformatter' Q:0 A:80>,\n",
       " <TopTag 'automation' Q:0 A:80>,\n",
       " <TopTag 'getresource' Q:0 A:80>,\n",
       " <TopTag 'linear' Q:0 A:80>,\n",
       " <TopTag 'crtp' Q:0 A:79>,\n",
       " <TopTag 'manifest' Q:0 A:79>,\n",
       " <TopTag 'linqpad' Q:0 A:79>,\n",
       " <TopTag 'project-management' Q:85 A:79>,\n",
       " <TopTag 'restriction' Q:0 A:79>,\n",
       " <TopTag 'sleep' Q:0 A:79>,\n",
       " <TopTag 'indexof' Q:0 A:79>,\n",
       " <TopTag 'gregorian-calendar' Q:0 A:79>,\n",
       " <TopTag 'overriding' Q:0 A:79>,\n",
       " <TopTag 'data' Q:0 A:79>,\n",
       " <TopTag 'custom-attributes' Q:0 A:79>,\n",
       " <TopTag 'java-io' Q:0 A:78>,\n",
       " <TopTag 'mvvm' Q:0 A:78>,\n",
       " <TopTag 'conventions' Q:0 A:78>,\n",
       " <TopTag 'string.format' Q:0 A:77>,\n",
       " <TopTag 'response' Q:0 A:77>,\n",
       " <TopTag 'encode' Q:0 A:77>,\n",
       " <TopTag 'projects-and-solutions' Q:0 A:77>,\n",
       " <TopTag 'size' Q:0 A:77>,\n",
       " <TopTag 'transparency' Q:0 A:77>,\n",
       " <TopTag 'code-coverage' Q:0 A:76>,\n",
       " <TopTag 'typeof' Q:0 A:76>,\n",
       " <TopTag 'initializer' Q:0 A:76>,\n",
       " <TopTag 'currency' Q:0 A:76>,\n",
       " <TopTag 'byref' Q:0 A:76>,\n",
       " <TopTag 'string-length' Q:0 A:76>,\n",
       " <TopTag 'division' Q:0 A:75>,\n",
       " <TopTag 'buffer' Q:0 A:75>,\n",
       " <TopTag 'unboxing' Q:204 A:75>,\n",
       " <TopTag 'il' Q:0 A:75>,\n",
       " <TopTag 'iphone' Q:0 A:75>,\n",
       " <TopTag 'argumentnullexception' Q:0 A:75>,\n",
       " <TopTag 'windows-phone' Q:0 A:74>,\n",
       " <TopTag 'delete' Q:0 A:74>,\n",
       " <TopTag 'base-class' Q:0 A:74>,\n",
       " <TopTag 'lazy-loading' Q:0 A:74>,\n",
       " <TopTag 'int64' Q:0 A:73>,\n",
       " <TopTag 'dbnull' Q:0 A:73>,\n",
       " <TopTag 'uml' Q:0 A:73>,\n",
       " <TopTag 'appdomain' Q:0 A:73>,\n",
       " <TopTag 'progress-bar' Q:0 A:73>,\n",
       " <TopTag 'unsafe' Q:0 A:73>,\n",
       " <TopTag 'concrete' Q:0 A:73>,\n",
       " <TopTag 'trivia' Q:0 A:73>,\n",
       " <TopTag 'pdb-files' Q:0 A:73>,\n",
       " <TopTag 'string-concatenation' Q:0 A:72>,\n",
       " <TopTag 'windows-services' Q:0 A:72>,\n",
       " <TopTag 'udp' Q:0 A:72>,\n",
       " <TopTag 'filter' Q:0 A:72>,\n",
       " <TopTag 'binary-tree' Q:0 A:72>,\n",
       " <TopTag 'visual-studio-2013' Q:0 A:72>,\n",
       " <TopTag 'pfx' Q:0 A:72>,\n",
       " <TopTag 'java-stream' Q:0 A:72>,\n",
       " <TopTag 'runtime-error' Q:0 A:71>,\n",
       " <TopTag 'nant' Q:0 A:71>,\n",
       " <TopTag 'iso-8859-1' Q:0 A:70>,\n",
       " <TopTag 'embedded-resource' Q:0 A:70>,\n",
       " <TopTag 'var' Q:0 A:70>,\n",
       " <TopTag 'compareto' Q:0 A:70>,\n",
       " <TopTag 'network-programming' Q:0 A:70>,\n",
       " <TopTag 'ms-access' Q:0 A:70>,\n",
       " <TopTag 'httpwebresponse' Q:0 A:70>,\n",
       " <TopTag 'typechecking' Q:0 A:70>,\n",
       " <TopTag 'type-parameter' Q:0 A:70>,\n",
       " <TopTag 'shell' Q:0 A:70>,\n",
       " <TopTag 'cpu' Q:0 A:70>,\n",
       " <TopTag 'date-range' Q:0 A:70>,\n",
       " <TopTag 'header' Q:0 A:69>,\n",
       " <TopTag 'jvm-hotspot' Q:0 A:69>,\n",
       " <TopTag 'generator' Q:0 A:69>,\n",
       " <TopTag 'icomparer' Q:0 A:69>,\n",
       " <TopTag 'partial-classes' Q:0 A:69>,\n",
       " <TopTag 'get' Q:0 A:69>,\n",
       " <TopTag 'xsd' Q:0 A:69>,\n",
       " <TopTag 'marshalling' Q:0 A:68>,\n",
       " <TopTag 'type-constraints' Q:0 A:68>,\n",
       " <TopTag 'release' Q:0 A:68>,\n",
       " <TopTag 'entity' Q:0 A:68>,\n",
       " <TopTag 'group' Q:0 A:68>,\n",
       " <TopTag 'observablecollection' Q:0 A:68>,\n",
       " <TopTag 'sql-injection' Q:0 A:68>,\n",
       " <TopTag 'vb.net-to-c#' Q:0 A:68>,\n",
       " <TopTag '.net-micro-framework' Q:0 A:68>,\n",
       " <TopTag 'variance' Q:0 A:68>,\n",
       " <TopTag 'hash-function' Q:0 A:68>,\n",
       " <TopTag 'raw-types' Q:0 A:68>,\n",
       " <TopTag 'lifted-operators' Q:0 A:68>,\n",
       " <TopTag 'mixins' Q:0 A:68>,\n",
       " <TopTag 'text-formatting' Q:0 A:67>,\n",
       " <TopTag 'multilinestring' Q:0 A:67>,\n",
       " <TopTag 'string-literals' Q:0 A:67>,\n",
       " <TopTag 'try-with-resources' Q:0 A:67>,\n",
       " <TopTag 'modulo' Q:0 A:67>,\n",
       " <TopTag 'execution' Q:0 A:67>,\n",
       " <TopTag 'bitmap' Q:0 A:67>,\n",
       " <TopTag 'intellisense' Q:0 A:67>,\n",
       " <TopTag 'fxcop' Q:0 A:67>,\n",
       " <TopTag 'google-calendar' Q:0 A:66>,\n",
       " <TopTag 'non-nullable' Q:0 A:66>,\n",
       " <TopTag 'unassigned-variable' Q:0 A:66>,\n",
       " <TopTag 'synchronized-block' Q:0 A:66>,\n",
       " <TopTag 'weak-references' Q:0 A:65>,\n",
       " <TopTag 'inline' Q:0 A:65>,\n",
       " <TopTag 'implicit' Q:0 A:65>,\n",
       " <TopTag 'floating-point-precision' Q:0 A:65>,\n",
       " <TopTag 'razor' Q:0 A:65>,\n",
       " <TopTag 'post' Q:0 A:65>,\n",
       " <TopTag 'static-constructor' Q:0 A:65>,\n",
       " <TopTag 'consumer' Q:0 A:65>,\n",
       " <TopTag 'producer' Q:0 A:65>,\n",
       " <TopTag 'visual-c++' Q:0 A:64>,\n",
       " <TopTag 'java-6' Q:0 A:64>,\n",
       " <TopTag 'audio' Q:0 A:64>,\n",
       " <TopTag 'prepared-statement' Q:0 A:64>,\n",
       " <TopTag 'method-overriding' Q:0 A:64>,\n",
       " <TopTag 'case-insensitive' Q:0 A:63>,\n",
       " <TopTag 'hardware' Q:0 A:63>,\n",
       " <TopTag 'listbox' Q:0 A:63>,\n",
       " <TopTag 'label' Q:0 A:63>,\n",
       " <TopTag 'ironpython' Q:0 A:63>,\n",
       " <TopTag 'urldecode' Q:0 A:63>,\n",
       " <TopTag 'margin' Q:0 A:62>,\n",
       " <TopTag 'captured-variable' Q:0 A:62>,\n",
       " <TopTag 'wrapper' Q:0 A:62>,\n",
       " <TopTag 'linq-expressions' Q:0 A:62>,\n",
       " <TopTag 'culture' Q:0 A:62>,\n",
       " <TopTag 'jquery' Q:0 A:62>,\n",
       " <TopTag 'currying' Q:0 A:62>,\n",
       " <TopTag 'decode' Q:0 A:62>,\n",
       " <TopTag 'dependencies' Q:0 A:62>,\n",
       " <TopTag 'xml-documentation' Q:42 A:62>,\n",
       " <TopTag 'icalendar' Q:0 A:62>,\n",
       " <TopTag 'ios6' Q:0 A:62>,\n",
       " <TopTag 'invalidoperationexception' Q:0 A:61>,\n",
       " <TopTag 'software-engineering' Q:0 A:61>,\n",
       " <TopTag 'licensing' Q:0 A:61>,\n",
       " <TopTag 'base' Q:0 A:61>,\n",
       " <TopTag 'extends' Q:0 A:61>,\n",
       " <TopTag 'blackberry' Q:0 A:61>,\n",
       " <TopTag 'public' Q:0 A:60>,\n",
       " <TopTag 'design-by-contract' Q:0 A:60>,\n",
       " <TopTag 'callback' Q:0 A:60>,\n",
       " <TopTag 'operator-keyword' Q:0 A:60>,\n",
       " <TopTag 'conditional-compilation' Q:0 A:60>,\n",
       " <TopTag 'diagram' Q:0 A:60>,\n",
       " <TopTag 'perfect-square' Q:0 A:59>,\n",
       " <TopTag 'jls' Q:0 A:59>,\n",
       " <TopTag 'try-finally' Q:0 A:59>,\n",
       " <TopTag 'guidelines' Q:0 A:59>,\n",
       " <TopTag 'igrouping' Q:0 A:59>,\n",
       " <TopTag 'connection' Q:0 A:59>,\n",
       " <TopTag 'reflection.emit' Q:0 A:59>,\n",
       " <TopTag 'instance-variables' Q:0 A:59>,\n",
       " <TopTag 'settings' Q:0 A:59>,\n",
       " <TopTag 'condition' Q:0 A:58>,\n",
       " <TopTag 'cmd' Q:0 A:58>,\n",
       " <TopTag 'code-quality' Q:0 A:58>,\n",
       " <TopTag 'backslash' Q:0 A:58>,\n",
       " <TopTag 'combinations' Q:0 A:58>,\n",
       " <TopTag 'class-structure' Q:0 A:58>,\n",
       " <TopTag 'paradigms' Q:0 A:58>,\n",
       " <TopTag 'wildcard' Q:0 A:57>,\n",
       " <TopTag 'jaxb' Q:0 A:57>,\n",
       " <TopTag 'binaryreader' Q:0 A:57>,\n",
       " <TopTag 'byval' Q:0 A:57>,\n",
       " <TopTag 'tryparse' Q:0 A:57>,\n",
       " <TopTag 'internationalization' Q:0 A:57>,\n",
       " <TopTag 'filesystems' Q:0 A:56>,\n",
       " <TopTag 'data-binding' Q:0 A:56>,\n",
       " <TopTag 'concurrent-programming' Q:0 A:56>,\n",
       " <TopTag 'private-methods' Q:0 A:56>,\n",
       " <TopTag 'binaryformatter' Q:0 A:56>,\n",
       " <TopTag 'syntactic-sugar' Q:0 A:56>,\n",
       " <TopTag 'exe' Q:0 A:56>,\n",
       " <TopTag 'cls-compliant' Q:0 A:56>,\n",
       " <TopTag 'qr-code' Q:0 A:56>,\n",
       " <TopTag 'barcode' Q:0 A:56>,\n",
       " <TopTag 'julian' Q:0 A:56>,\n",
       " <TopTag 'visual-studio-2015' Q:18 A:55>,\n",
       " <TopTag 'visual-studio-2014' Q:0 A:55>,\n",
       " <TopTag 'visual-studio-2014-ctp' Q:0 A:55>,\n",
       " <TopTag 'connection-pooling' Q:0 A:55>,\n",
       " <TopTag 'abstraction' Q:0 A:55>,\n",
       " <TopTag 'noclassdeffounderror' Q:0 A:55>,\n",
       " <TopTag 'javadoc' Q:0 A:55>,\n",
       " <TopTag 'accessor' Q:0 A:55>,\n",
       " <TopTag 'configuration' Q:0 A:55>,\n",
       " <TopTag 'command-line-arguments' Q:0 A:55>,\n",
       " <TopTag 'asp.net-mvc-2' Q:0 A:54>,\n",
       " <TopTag 'unity3d' Q:0 A:54>,\n",
       " <TopTag 'dynamic-language-runtime' Q:65 A:54>,\n",
       " <TopTag 'obfuscation' Q:0 A:54>,\n",
       " <TopTag 'intellij-idea' Q:0 A:54>,\n",
       " <TopTag 'pdf' Q:0 A:54>,\n",
       " <TopTag 'applet' Q:0 A:54>,\n",
       " <TopTag 'code-smell' Q:0 A:54>,\n",
       " <TopTag 'ilookup' Q:0 A:54>,\n",
       " <TopTag 'itemcollection' Q:0 A:54>,\n",
       " <TopTag 'datarow' Q:0 A:53>,\n",
       " <TopTag 'streaming' Q:0 A:53>,\n",
       " <TopTag 'go' Q:0 A:53>,\n",
       " <TopTag 'doevents' Q:0 A:53>,\n",
       " <TopTag 'contract' Q:0 A:53>,\n",
       " <TopTag 'brackets' Q:0 A:53>,\n",
       " <TopTag 'java.util.date' Q:0 A:53>,\n",
       " <TopTag 'range' Q:0 A:53>,\n",
       " <TopTag 'formatexception' Q:0 A:53>,\n",
       " <TopTag 'parameter-passing' Q:0 A:53>,\n",
       " <TopTag 'executable-jar' Q:0 A:53>,\n",
       " <TopTag 'structure' Q:0 A:53>,\n",
       " <TopTag 'unix' Q:0 A:53>,\n",
       " <TopTag 'image-processing' Q:0 A:52>,\n",
       " <TopTag 'default-value' Q:0 A:52>,\n",
       " <TopTag 'multiple-inheritance' Q:0 A:52>,\n",
       " <TopTag 'roslyn' Q:62 A:52>,\n",
       " <TopTag 'osx' Q:0 A:52>,\n",
       " <TopTag 'inlining' Q:0 A:52>,\n",
       " <TopTag 'thread-local' Q:0 A:52>,\n",
       " <TopTag 'helper' Q:0 A:52>,\n",
       " <TopTag 'scheduled-tasks' Q:0 A:52>,\n",
       " <TopTag 'coalesce' Q:0 A:52>,\n",
       " <TopTag 'installation-path' Q:0 A:52>,\n",
       " <TopTag 'yield-keyword' Q:0 A:51>,\n",
       " <TopTag 'task-manager' Q:0 A:51>,\n",
       " <TopTag 'wpf-controls' Q:0 A:51>,\n",
       " <TopTag 'find' Q:0 A:51>,\n",
       " <TopTag 'trace' Q:0 A:51>,\n",
       " <TopTag 'pmd' Q:0 A:51>,\n",
       " <TopTag 'tilde' Q:0 A:51>,\n",
       " <TopTag 'windows-7' Q:0 A:51>,\n",
       " <TopTag 'resultset' Q:0 A:51>,\n",
       " <TopTag 'sqldatareader' Q:0 A:51>,\n",
       " <TopTag 'sql-server-ce' Q:0 A:50>,\n",
       " <TopTag 'unreachable-code' Q:0 A:50>,\n",
       " <TopTag 'bash' Q:0 A:50>,\n",
       " <TopTag 'data-type-conversion' Q:0 A:50>,\n",
       " <TopTag 'exit' Q:0 A:50>,\n",
       " <TopTag 'static-indexers' Q:0 A:50>,\n",
       " <TopTag 'conditional-expressions' Q:0 A:50>,\n",
       " <TopTag 'evaluation' Q:0 A:49>,\n",
       " <TopTag 'xmlserializer' Q:0 A:49>,\n",
       " <TopTag 'interpreter' Q:0 A:49>,\n",
       " <TopTag 'shallow-copy' Q:0 A:49>,\n",
       " <TopTag 'intersection' Q:0 A:49>,\n",
       " <TopTag 'case' Q:0 A:49>,\n",
       " <TopTag 'bitarray' Q:0 A:49>,\n",
       " <TopTag 'compiler-bug' Q:0 A:49>,\n",
       " <TopTag 'separator' Q:0 A:49>,\n",
       " <TopTag 'java.util.concurrent' Q:0 A:49>,\n",
       " <TopTag 'user-controls' Q:0 A:49>,\n",
       " <TopTag 'soap' Q:0 A:49>,\n",
       " <TopTag 'graphics' Q:0 A:48>,\n",
       " <TopTag 'button' Q:0 A:48>,\n",
       " <TopTag 'converter' Q:0 A:48>,\n",
       " <TopTag 'windows-mobile' Q:0 A:48>,\n",
       " <TopTag 'binaryfiles' Q:0 A:48>,\n",
       " <TopTag 'bufferedwriter' Q:0 A:48>,\n",
       " <TopTag 'grouping' Q:0 A:48>,\n",
       " <TopTag 'ioexception' Q:0 A:48>,\n",
       " <TopTag 'client-server' Q:0 A:48>,\n",
       " <TopTag '32-bit' Q:0 A:48>,\n",
       " <TopTag 'keep-alive' Q:0 A:48>,\n",
       " <TopTag 'string-interning' Q:0 A:48>,\n",
       " <TopTag 'datainputstream' Q:0 A:48>,\n",
       " <TopTag 'ends-with' Q:0 A:48>,\n",
       " <TopTag 'web-deployment' Q:0 A:48>,\n",
       " <TopTag 'pure-virtual' Q:0 A:48>,\n",
       " <TopTag 'construct' Q:0 A:47>,\n",
       " <TopTag 'cycle' Q:0 A:47>,\n",
       " <TopTag 'linkedhashmap' Q:0 A:47>,\n",
       " <TopTag 'findbugs' Q:0 A:47>,\n",
       " <TopTag 'data-modeling' Q:0 A:47>,\n",
       " <TopTag 'datagridview' Q:0 A:47>,\n",
       " <TopTag 'dom' Q:0 A:47>,\n",
       " <TopTag 'xml-namespaces' Q:0 A:46>,\n",
       " <TopTag 'tcplistener' Q:0 A:46>,\n",
       " <TopTag 'ajax' Q:0 A:46>,\n",
       " <TopTag 'printwriter' Q:0 A:46>,\n",
       " <TopTag 'visibility' Q:0 A:46>,\n",
       " <TopTag 'threadstatic' Q:0 A:46>,\n",
       " <TopTag 'key-value' Q:0 A:46>,\n",
       " <TopTag 'code-duplication' Q:0 A:45>,\n",
       " <TopTag 'iostream' Q:0 A:45>,\n",
       " <TopTag 'office-interop' Q:0 A:45>,\n",
       " <TopTag 'rgb' Q:0 A:45>,\n",
       " <TopTag 'wcf-data-services' Q:0 A:45>,\n",
       " <TopTag 'printf' Q:0 A:45>,\n",
       " <TopTag 'overload-resolution' Q:0 A:45>,\n",
       " <TopTag 'downcasting' Q:0 A:45>,\n",
       " <TopTag 'inline-method' Q:0 A:45>,\n",
       " <TopTag 'keynotfoundexception' Q:0 A:45>,\n",
       " <TopTag 'ceil' Q:0 A:45>,\n",
       " <TopTag 'rownumber' Q:0 A:45>,\n",
       " <TopTag 'tfs' Q:0 A:44>,\n",
       " ...)"
      ]
     },
     "execution_count": 34,
     "metadata": {},
     "output_type": "execute_result"
    }
   ],
   "source": [
    "w.top_answer_tags.fetch()"
   ]
  },
  {
   "cell_type": "code",
   "execution_count": 164,
   "metadata": {
    "collapsed": false
   },
   "outputs": [
    {
     "data": {
      "text/plain": [
       "stackexchange.models.User"
      ]
     },
     "execution_count": 164,
     "metadata": {},
     "output_type": "execute_result"
    }
   ],
   "source": [
    "type(u)"
   ]
  },
  {
   "cell_type": "code",
   "execution_count": 165,
   "metadata": {
    "collapsed": false
   },
   "outputs": [
    {
     "data": {
      "text/plain": [
       "stackexchange.models.User"
      ]
     },
     "execution_count": 165,
     "metadata": {},
     "output_type": "execute_result"
    }
   ],
   "source": [
    "type(v)"
   ]
  },
  {
   "cell_type": "code",
   "execution_count": 166,
   "metadata": {
    "collapsed": false
   },
   "outputs": [
    {
     "data": {
      "text/plain": [
       "stackexchange.models.User"
      ]
     },
     "execution_count": 166,
     "metadata": {},
     "output_type": "execute_result"
    }
   ],
   "source": [
    "type(w)"
   ]
  },
  {
   "cell_type": "code",
   "execution_count": 169,
   "metadata": {
    "collapsed": false
   },
   "outputs": [],
   "source": [
    "qq=so.questions(user_id=22656)"
   ]
  },
  {
   "cell_type": "code",
   "execution_count": 181,
   "metadata": {
    "collapsed": false
   },
   "outputs": [
    {
     "data": {
      "text/plain": [
       "34"
      ]
     },
     "execution_count": 181,
     "metadata": {},
     "output_type": "execute_result"
    }
   ],
   "source": [
    "qqq.total"
   ]
  },
  {
   "cell_type": "code",
   "execution_count": 180,
   "metadata": {
    "collapsed": false
   },
   "outputs": [],
   "source": [
    "qqq=so.questions(user_id=22656, answered=False)"
   ]
  },
  {
   "cell_type": "code",
   "execution_count": 176,
   "metadata": {
    "collapsed": false
   },
   "outputs": [
    {
     "data": {
      "text/plain": [
       "4"
      ]
     },
     "execution_count": 176,
     "metadata": {},
     "output_type": "execute_result"
    }
   ],
   "source": [
    "len(w.questions.fetch_next())"
   ]
  },
  {
   "cell_type": "code",
   "execution_count": 446,
   "metadata": {
    "collapsed": false
   },
   "outputs": [
    {
     "name": "stdout",
     "output_type": "stream",
     "text": [
      "Chrome crashes when exporting file via Filesystem API\n",
      "--------------------------------------------------------------------------------\n",
      "sort struct array in c++\n",
      "--------------------------------------------------------------------------------\n",
      "unsupported operand types for python classes\n",
      "--------------------------------------------------------------------------------\n",
      "Play framework \"find\" (Finder) results missing OneToMany relationship data\n",
      "--------------------------------------------------------------------------------\n",
      "Is it possible to set up Amazon EC2 auto-scaling for particular days of the week?\n",
      "--------------------------------------------------------------------------------\n",
      "What's the logic of this error?\n",
      "--------------------------------------------------------------------------------\n",
      "Multi-line header is not working.\n",
      "--------------------------------------------------------------------------------\n",
      "Codeigniter page caching: Is 24Gb of cache files too much?\n",
      "--------------------------------------------------------------------------------\n",
      "How can I use combine variables to an exit variable?\n",
      "--------------------------------------------------------------------------------\n",
      "Passing variable javascript to php in one js function\n",
      "--------------------------------------------------------------------------------\n",
      "Isn't UTF-7 possible if htmlspecialchars charset not set, despite the HTTP header charset?\n",
      "--------------------------------------------------------------------------------\n"
     ]
    }
   ],
   "source": [
    "count=0\n",
    "for q in questions:\n",
    "    print(q.title)\n",
    "    print('-' * 80)\n",
    "    if count == 10:\n",
    "        break\n",
    "    count += 1"
   ]
  },
  {
   "cell_type": "code",
   "execution_count": 441,
   "metadata": {
    "collapsed": false
   },
   "outputs": [
    {
     "data": {
      "text/plain": [
       "100"
      ]
     },
     "execution_count": 441,
     "metadata": {},
     "output_type": "execute_result"
    }
   ],
   "source": [
    "len(questions)"
   ]
  },
  {
   "cell_type": "code",
   "execution_count": 447,
   "metadata": {
    "collapsed": false
   },
   "outputs": [
    {
     "ename": "SyntaxError",
     "evalue": "invalid syntax (<ipython-input-447-bdbe80c41630>, line 1)",
     "output_type": "error",
     "traceback": [
      "\u001b[1;36m  File \u001b[1;32m\"<ipython-input-447-bdbe80c41630>\"\u001b[1;36m, line \u001b[1;32m1\u001b[0m\n\u001b[1;33m    questions.fetch()a\u001b[0m\n\u001b[1;37m                     ^\u001b[0m\n\u001b[1;31mSyntaxError\u001b[0m\u001b[1;31m:\u001b[0m invalid syntax\n"
     ]
    }
   ],
   "source": [
    "questions.fetch()a"
   ]
  },
  {
   "cell_type": "code",
   "execution_count": null,
   "metadata": {
    "collapsed": true
   },
   "outputs": [],
   "source": []
  },
  {
   "cell_type": "code",
   "execution_count": 426,
   "metadata": {
    "collapsed": false
   },
   "outputs": [
    {
     "data": {
      "text/plain": [
       "2349610"
      ]
     },
     "execution_count": 426,
     "metadata": {},
     "output_type": "execute_result"
    }
   ],
   "source": [
    "questions.total"
   ]
  },
  {
   "cell_type": "code",
   "execution_count": 422,
   "metadata": {
    "collapsed": false
   },
   "outputs": [
    {
     "data": {
      "text/plain": [
       "datetime.datetime(2014, 1, 1, 0, 13, 32)"
      ]
     },
     "execution_count": 422,
     "metadata": {},
     "output_type": "execute_result"
    }
   ],
   "source": [
    "questions[29].creation_date"
   ]
  },
  {
   "cell_type": "code",
   "execution_count": 381,
   "metadata": {
    "collapsed": false
   },
   "outputs": [],
   "source": [
    "dt = datetime.strptime('1980-06-13', '%Y-%m-%d')"
   ]
  },
  {
   "cell_type": "code",
   "execution_count": 391,
   "metadata": {
    "collapsed": false
   },
   "outputs": [
    {
     "data": {
      "text/plain": [
       "329716800.0"
      ]
     },
     "execution_count": 391,
     "metadata": {},
     "output_type": "execute_result"
    }
   ],
   "source": [
    "dt.timestamp()"
   ]
  },
  {
   "cell_type": "code",
   "execution_count": 393,
   "metadata": {
    "collapsed": false
   },
   "outputs": [
    {
     "data": {
      "text/plain": [
       "1340805096.0"
      ]
     },
     "execution_count": 393,
     "metadata": {},
     "output_type": "execute_result"
    }
   ],
   "source": [
    "q.creation_date.timestamp()"
   ]
  },
  {
   "cell_type": "code",
   "execution_count": 448,
   "metadata": {
    "collapsed": false
   },
   "outputs": [
    {
     "ename": "SyntaxError",
     "evalue": "invalid syntax (<ipython-input-448-df33aa3b509a>, line 1)",
     "output_type": "error",
     "traceback": [
      "\u001b[1;36m  File \u001b[1;32m\"<ipython-input-448-df33aa3b509a>\"\u001b[1;36m, line \u001b[1;32m1\u001b[0m\n\u001b[1;33m    qq=so.questions(todate=datetime.strptime('1980-06-13', '%Y-%m-%d').timestamp())a\u001b[0m\n\u001b[1;37m                                                                                   ^\u001b[0m\n\u001b[1;31mSyntaxError\u001b[0m\u001b[1;31m:\u001b[0m invalid syntax\n"
     ]
    }
   ],
   "source": [
    "qq=so.questions(todate=datetime.strptime('1980-06-13', '%Y-%m-%d').timestamp())a"
   ]
  },
  {
   "cell_type": "code",
   "execution_count": 354,
   "metadata": {
    "collapsed": true
   },
   "outputs": [],
   "source": [
    "df=pd.DataFrame([1,2,3])"
   ]
  },
  {
   "cell_type": "code",
   "execution_count": 357,
   "metadata": {
    "collapsed": false
   },
   "outputs": [
    {
     "data": {
      "text/html": [
       "<div style=\"max-height:1000px;max-width:1500px;overflow:auto;\">\n",
       "<table border=\"1\" class=\"dataframe\">\n",
       "  <thead>\n",
       "    <tr style=\"text-align: right;\">\n",
       "      <th></th>\n",
       "      <th>0</th>\n",
       "    </tr>\n",
       "  </thead>\n",
       "  <tbody>\n",
       "    <tr>\n",
       "      <th>0</th>\n",
       "      <td>1</td>\n",
       "    </tr>\n",
       "    <tr>\n",
       "      <th>1</th>\n",
       "      <td>2</td>\n",
       "    </tr>\n",
       "    <tr>\n",
       "      <th>2</th>\n",
       "      <td>3</td>\n",
       "    </tr>\n",
       "  </tbody>\n",
       "</table>\n",
       "</div>"
      ],
      "text/plain": [
       "   0\n",
       "0  1\n",
       "1  2\n",
       "2  3"
      ]
     },
     "execution_count": 357,
     "metadata": {},
     "output_type": "execute_result"
    }
   ],
   "source": [
    "df"
   ]
  },
  {
   "cell_type": "code",
   "execution_count": 362,
   "metadata": {
    "collapsed": false
   },
   "outputs": [
    {
     "data": {
      "text/plain": [
       "0    2\n",
       "Name: 1, dtype: int64"
      ]
     },
     "execution_count": 362,
     "metadata": {},
     "output_type": "execute_result"
    }
   ],
   "source": [
    "df.ix[1]"
   ]
  },
  {
   "cell_type": "code",
   "execution_count": 366,
   "metadata": {
    "collapsed": false
   },
   "outputs": [],
   "source": [
    "aa=np.array([1,2])"
   ]
  },
  {
   "cell_type": "code",
   "execution_count": 368,
   "metadata": {
    "collapsed": false
   },
   "outputs": [
    {
     "data": {
      "text/plain": [
       "array([1, 2])"
      ]
     },
     "execution_count": 368,
     "metadata": {},
     "output_type": "execute_result"
    }
   ],
   "source": [
    "aa.view()"
   ]
  },
  {
   "cell_type": "code",
   "execution_count": 3,
   "metadata": {
    "collapsed": false
   },
   "outputs": [],
   "source": [
    "me_id = 2055126\n",
    "user_id = 41981\n",
    "me = so.user(me_id)\n",
    "user = so.user(user_id)"
   ]
  },
  {
   "cell_type": "code",
   "execution_count": 47,
   "metadata": {
    "collapsed": false
   },
   "outputs": [],
   "source": [
    "rs=user.answers.fetch()"
   ]
  },
  {
   "cell_type": "code",
   "execution_count": 48,
   "metadata": {
    "collapsed": false
   },
   "outputs": [],
   "source": [
    "rs.pagesize = 100"
   ]
  },
  {
   "cell_type": "code",
   "execution_count": 51,
   "metadata": {
    "collapsed": false
   },
   "outputs": [
    {
     "data": {
      "text/plain": [
       "30"
      ]
     },
     "execution_count": 51,
     "metadata": {},
     "output_type": "execute_result"
    }
   ],
   "source": [
    "len(rs.fetch())"
   ]
  },
  {
   "cell_type": "code",
   "execution_count": 52,
   "metadata": {
    "collapsed": true
   },
   "outputs": [],
   "source": [
    "questions = so.questions(sort=Sort.Votes, order=DESC)"
   ]
  },
  {
   "cell_type": "code",
   "execution_count": 32,
   "metadata": {
    "collapsed": false
   },
   "outputs": [],
   "source": [
    "q=questions[0]"
   ]
  },
  {
   "cell_type": "code",
   "execution_count": 59,
   "metadata": {
    "collapsed": false
   },
   "outputs": [
    {
     "data": {
      "text/plain": [
       "<User 'GManNickG' (87234) @ 7f7267d31b38>"
      ]
     },
     "execution_count": 59,
     "metadata": {},
     "output_type": "execute_result"
    }
   ],
   "source": [
    "q.owner"
   ]
  },
  {
   "cell_type": "code",
   "execution_count": 94,
   "metadata": {
    "collapsed": false
   },
   "outputs": [
    {
     "data": {
      "text/plain": [
       "595789"
      ]
     },
     "execution_count": 94,
     "metadata": {},
     "output_type": "execute_result"
    }
   ],
   "source": [
    "q.view_count"
   ]
  },
  {
   "cell_type": "code",
   "execution_count": 3,
   "metadata": {
    "collapsed": false
   },
   "outputs": [
    {
     "ename": "NameError",
     "evalue": "name 'so' is not defined",
     "output_type": "error",
     "traceback": [
      "\u001b[1;31m---------------------------------------------------------------------------\u001b[0m",
      "\u001b[1;31mNameError\u001b[0m                                 Traceback (most recent call last)",
      "\u001b[1;32m<ipython-input-3-ab2ac3b0f02f>\u001b[0m in \u001b[0;36m<module>\u001b[1;34m()\u001b[0m\n\u001b[1;32m----> 1\u001b[1;33m \u001b[0manswers\u001b[0m\u001b[1;33m=\u001b[0m\u001b[0mso\u001b[0m\u001b[1;33m.\u001b[0m\u001b[0manswers\u001b[0m\u001b[1;33m(\u001b[0m\u001b[0msort\u001b[0m\u001b[1;33m=\u001b[0m\u001b[0mSort\u001b[0m\u001b[1;33m.\u001b[0m\u001b[0mVotes\u001b[0m\u001b[1;33m,\u001b[0m \u001b[0morder\u001b[0m\u001b[1;33m=\u001b[0m\u001b[0mDESC\u001b[0m\u001b[1;33m)\u001b[0m\u001b[1;33m\u001b[0m\u001b[0m\n\u001b[0m",
      "\u001b[1;31mNameError\u001b[0m: name 'so' is not defined"
     ]
    }
   ],
   "source": [
    "answers=so.answers(sort=Sort.Votes, order=DESC)"
   ]
  },
  {
   "cell_type": "code",
   "execution_count": 2,
   "metadata": {
    "collapsed": false
   },
   "outputs": [
    {
     "ename": "NameError",
     "evalue": "name 'answers' is not defined",
     "output_type": "error",
     "traceback": [
      "\u001b[1;31m---------------------------------------------------------------------------\u001b[0m",
      "\u001b[1;31mNameError\u001b[0m                                 Traceback (most recent call last)",
      "\u001b[1;32m<ipython-input-2-42751d76de33>\u001b[0m in \u001b[0;36m<module>\u001b[1;34m()\u001b[0m\n\u001b[1;32m----> 1\u001b[1;33m \u001b[0ma\u001b[0m\u001b[1;33m=\u001b[0m\u001b[0manswers\u001b[0m\u001b[1;33m[\u001b[0m\u001b[1;36m0\u001b[0m\u001b[1;33m]\u001b[0m\u001b[1;33m\u001b[0m\u001b[0m\n\u001b[0m",
      "\u001b[1;31mNameError\u001b[0m: name 'answers' is not defined"
     ]
    }
   ],
   "source": [
    "a=answers[0]"
   ]
  },
  {
   "cell_type": "code",
   "execution_count": 113,
   "metadata": {
    "collapsed": false
   },
   "outputs": [
    {
     "data": {
      "text/plain": [
       "11227809"
      ]
     },
     "execution_count": 113,
     "metadata": {},
     "output_type": "execute_result"
    }
   ],
   "source": [
    "a.question_id"
   ]
  },
  {
   "cell_type": "code",
   "execution_count": 260,
   "metadata": {
    "collapsed": true
   },
   "outputs": [],
   "source": [
    "import re"
   ]
  },
  {
   "cell_type": "code",
   "execution_count": 270,
   "metadata": {
    "collapsed": false
   },
   "outputs": [
    {
     "data": {
      "text/plain": [
       "['xyx', 'xzx']"
      ]
     },
     "execution_count": 270,
     "metadata": {},
     "output_type": "execute_result"
    }
   ],
   "source": [
    "re.findall(r'x.+?x', 'asxyxdasxzxdasda')"
   ]
  },
  {
   "cell_type": "code",
   "execution_count": 329,
   "metadata": {
    "collapsed": false
   },
   "outputs": [
    {
     "data": {
      "text/plain": [
       "['<code>if (data[c] &gt;= 128)\\n    sum += data[c];\\n</code>',\n",
       " '<code>T = branch taken\\nN = branch not taken\\n\\ndata[] = 0, 1, 2, 3, 4, ... 126, 127, 128, 129, 130, ... 250, 251, 252, ...\\nbranch = N  N  N  N  N  ...   N    N    T    T    T  ...   T    T    T  ...\\n\\n       = NNNNNNNNNNNN ... NNNNNNNTTTTTTTTT ... TTTTTTTTTT  (easy to predict)\\n</code>',\n",
       " '<code>data[] = 226, 185, 125, 158, 198, 144, 217, 79, 202, 118,  14, 150, 177, 182, 133, ...\\nbranch =   T,   T,   N,   T,   T,   T,   T,  N,   T,   N,   N,   T,   T,   T,   N  ...\\n\\n       = TTNTTTTNTNNTTTN ...   (completely random - hard to predict)\\n</code>',\n",
       " '<code>if (data[c] &gt;= 128)\\n    sum += data[c];\\n</code>',\n",
       " '<code>int t = (data[c] - 128) &gt;&gt; 31;\\nsum += ~t &amp; data[c];\\n</code>',\n",
       " '<code>data[]</code>',\n",
       " '<code>//  Branch - Random\\nseconds = 11.777\\n\\n//  Branch - Sorted\\nseconds = 2.352\\n\\n//  Branchless - Random\\nseconds = 2.564\\n\\n//  Branchless - Sorted\\nseconds = 2.587\\n</code>',\n",
       " '<code>//  Branch - Random\\nseconds = 10.93293813\\n\\n//  Branch - Sorted\\nseconds = 5.643797077\\n\\n//  Branchless - Random\\nseconds = 3.113581453\\n\\n//  Branchless - Sorted\\nseconds = 3.186068823\\n</code>',\n",
       " '<code>-O3</code>',\n",
       " '<code>-ftree-vectorize</code>',\n",
       " '<code>/Ox</code>']"
      ]
     },
     "execution_count": 329,
     "metadata": {},
     "output_type": "execute_result"
    }
   ],
   "source": [
    "re.findall(r'<code>.*?</code>', a.body, re.DOTALL)"
   ]
  },
  {
   "cell_type": "code",
   "execution_count": 316,
   "metadata": {
    "collapsed": true
   },
   "outputs": [],
   "source": [
    "qqq='<pre><code>if (data[c] &gt;= 128)\\n    sum += data[c];\\n</code></pre>'"
   ]
  },
  {
   "cell_type": "code",
   "execution_count": 317,
   "metadata": {
    "collapsed": false
   },
   "outputs": [
    {
     "data": {
      "text/plain": [
       "'<pre><code>if (data[c] &gt;= 128)\\n    sum += data[c];\\n</code></pre>'"
      ]
     },
     "execution_count": 317,
     "metadata": {},
     "output_type": "execute_result"
    }
   ],
   "source": [
    "qqq"
   ]
  },
  {
   "cell_type": "code",
   "execution_count": 325,
   "metadata": {
    "collapsed": false
   },
   "outputs": [
    {
     "data": {
      "text/plain": [
       "['1', '', '4', '', '7', '', '0']"
      ]
     },
     "execution_count": 325,
     "metadata": {},
     "output_type": "execute_result"
    }
   ],
   "source": [
    "'1  4  7  0'.split(' ')"
   ]
  },
  {
   "cell_type": "code",
   "execution_count": 343,
   "metadata": {
    "collapsed": false
   },
   "outputs": [],
   "source": [
    "l=['asdasd', '', 'utyutyu']\n",
    "l = filter(lambda x: len(x) > 0, l)"
   ]
  },
  {
   "cell_type": "code",
   "execution_count": 344,
   "metadata": {
    "collapsed": false
   },
   "outputs": [
    {
     "name": "stdout",
     "output_type": "stream",
     "text": [
      "asdasd\n",
      "utyutyu\n"
     ]
    }
   ],
   "source": [
    "for x in l:\n",
    "    print(x)"
   ]
  },
  {
   "cell_type": "code",
   "execution_count": 347,
   "metadata": {
    "collapsed": false
   },
   "outputs": [
    {
     "name": "stdout",
     "output_type": "stream",
     "text": [
      "34\n"
     ]
    }
   ],
   "source": [
    "codes = re.findall(r'<code>.*?</code>', a.body, re.DOTALL)\n",
    "count_lines = 0\n",
    "for code in codes:\n",
    "    text = html_to_string(code)\n",
    "    lines = text.split('\\n')\n",
    "    lines = list(filter(lambda x: len(x) > 0, lines))\n",
    "    count_lines += len(lines)\n",
    "print(count_lines)"
   ]
  },
  {
   "cell_type": "code",
   "execution_count": 323,
   "metadata": {
    "collapsed": false
   },
   "outputs": [
    {
     "data": {
      "text/plain": [
       "'<p><strong>You are the victim of <a href=\"//en.wikipedia.org/wiki/Branch_predictor\">branch predictio'"
      ]
     },
     "execution_count": 323,
     "metadata": {},
     "output_type": "execute_result"
    }
   ],
   "source": [
    "a.body[:100]"
   ]
  },
  {
   "cell_type": "code",
   "execution_count": 254,
   "metadata": {
    "collapsed": false
   },
   "outputs": [
    {
     "data": {
      "text/plain": [
       "'You are the victim of branch prediction fail.\\n\\n\\n\\nWhat is Branch Prediction?\\n\\nConsider a railroad jun'"
      ]
     },
     "execution_count": 254,
     "metadata": {},
     "output_type": "execute_result"
    }
   ],
   "source": [
    "html_to_string(a.body)[:100]"
   ]
  },
  {
   "cell_type": "code",
   "execution_count": 7,
   "metadata": {
    "collapsed": true
   },
   "outputs": [],
   "source": [
    "users=so.users()"
   ]
  },
  {
   "cell_type": "code",
   "execution_count": 8,
   "metadata": {
    "collapsed": true
   },
   "outputs": [],
   "source": [
    "u=users[0]"
   ]
  },
  {
   "cell_type": "code",
   "execution_count": 16,
   "metadata": {
    "collapsed": true
   },
   "outputs": [],
   "source": [
    "so.impose_throttling = False\n",
    "so.throttle_stop = True"
   ]
  },
  {
   "cell_type": "code",
   "execution_count": 25,
   "metadata": {
    "collapsed": false
   },
   "outputs": [
    {
     "data": {
      "text/plain": [
       "(<stackexchange.site.Site at 0x7f1a68763320>,\n",
       " 'users/22656/answers',\n",
       " stackexchange.models.Answer,\n",
       " 'answers',\n",
       " {'body': 'true', 'comments': 'true', 'site': 'stackoverflow.com'})"
      ]
     },
     "execution_count": 25,
     "metadata": {},
     "output_type": "execute_result"
    }
   ],
   "source": [
    "u.answers."
   ]
  },
  {
   "cell_type": "code",
   "execution_count": 23,
   "metadata": {
    "collapsed": false
   },
   "outputs": [],
   "source": [
    "aa=so.answers(user_id=u.id)"
   ]
  },
  {
   "cell_type": "code",
   "execution_count": 34,
   "metadata": {
    "collapsed": false
   },
   "outputs": [],
   "source": [
    "cc=so.comments(question_id=q.id)"
   ]
  },
  {
   "cell_type": "code",
   "execution_count": 36,
   "metadata": {
    "collapsed": false
   },
   "outputs": [
    {
     "data": {
      "text/plain": [
       "(<stackexchange.models.Comment at 0x7f1a682cccf8>,\n",
       " <stackexchange.models.Comment at 0x7f1a497c1b38>,\n",
       " <stackexchange.models.Comment at 0x7f1a497c1dd8>,\n",
       " <stackexchange.models.Comment at 0x7f1a497c15c0>,\n",
       " <stackexchange.models.Comment at 0x7f1a496b8a58>,\n",
       " <stackexchange.models.Comment at 0x7f1a496b8438>,\n",
       " <stackexchange.models.Comment at 0x7f1a496b8f98>,\n",
       " <stackexchange.models.Comment at 0x7f1a496b8e10>,\n",
       " <stackexchange.models.Comment at 0x7f1a49a2eeb8>,\n",
       " <stackexchange.models.Comment at 0x7f1a49a2ef28>,\n",
       " <stackexchange.models.Comment at 0x7f1a496da588>,\n",
       " <stackexchange.models.Comment at 0x7f1a496dab70>,\n",
       " <stackexchange.models.Comment at 0x7f1a496daf60>,\n",
       " <stackexchange.models.Comment at 0x7f1a496dabe0>,\n",
       " <stackexchange.models.Comment at 0x7f1a4a993be0>,\n",
       " <stackexchange.models.Comment at 0x7f1a4a993cf8>,\n",
       " <stackexchange.models.Comment at 0x7f1a4979ef98>,\n",
       " <stackexchange.models.Comment at 0x7f1a4aad6940>,\n",
       " <stackexchange.models.Comment at 0x7f1a500f3ac8>,\n",
       " <stackexchange.models.Comment at 0x7f1a49704710>,\n",
       " <stackexchange.models.Comment at 0x7f1a49704ac8>,\n",
       " <stackexchange.models.Comment at 0x7f1a49704780>,\n",
       " <stackexchange.models.Comment at 0x7f1a49704400>,\n",
       " <stackexchange.models.Comment at 0x7f1a49704080>,\n",
       " <stackexchange.models.Comment at 0x7f1a501063c8>,\n",
       " <stackexchange.models.Comment at 0x7f1a497e9dd8>,\n",
       " <stackexchange.models.Comment at 0x7f1a681ff940>,\n",
       " <stackexchange.models.Comment at 0x7f1a49777c88>,\n",
       " <stackexchange.models.Comment at 0x7f1a49777828>,\n",
       " <stackexchange.models.Comment at 0x7f1a49777be0>,\n",
       " <stackexchange.models.Comment at 0x7f1a496627b8>,\n",
       " <stackexchange.models.Comment at 0x7f1a49662da0>,\n",
       " <stackexchange.models.Comment at 0x7f1a49662eb8>,\n",
       " <stackexchange.models.Comment at 0x7f1a49662f98>,\n",
       " <stackexchange.models.Comment at 0x7f1a49662fd0>,\n",
       " <stackexchange.models.Comment at 0x7f1a4968f198>,\n",
       " <stackexchange.models.Comment at 0x7f1a4968f278>,\n",
       " <stackexchange.models.Comment at 0x7f1a497779b0>,\n",
       " <stackexchange.models.Comment at 0x7f1a49777e80>,\n",
       " <stackexchange.models.Comment at 0x7f1a49777748>,\n",
       " <stackexchange.models.Comment at 0x7f1a500dfcf8>,\n",
       " <stackexchange.models.Comment at 0x7f1a500ccb70>,\n",
       " <stackexchange.models.Comment at 0x7f1a499a3cf8>,\n",
       " <stackexchange.models.Comment at 0x7f1a4ab1c8d0>,\n",
       " <stackexchange.models.Comment at 0x7f1a4a981940>,\n",
       " <stackexchange.models.Comment at 0x7f1a49726cc0>,\n",
       " <stackexchange.models.Comment at 0x7f1a497264a8>,\n",
       " <stackexchange.models.Comment at 0x7f1a49726ba8>,\n",
       " <stackexchange.models.Comment at 0x7f1a496b8dd8>,\n",
       " <stackexchange.models.Comment at 0x7f1a496b80b8>,\n",
       " <stackexchange.models.Comment at 0x7f1a4aaea390>,\n",
       " <stackexchange.models.Comment at 0x7f1a49a0bfd0>,\n",
       " <stackexchange.models.Comment at 0x7f1a497c1e80>,\n",
       " <stackexchange.models.Comment at 0x7f1a682ad898>,\n",
       " <stackexchange.models.Comment at 0x7f1a682ad2b0>,\n",
       " <stackexchange.models.Comment at 0x7f1a497e9048>,\n",
       " <stackexchange.models.Comment at 0x7f1a4ab43e48>,\n",
       " <stackexchange.models.Comment at 0x7f1a4979e0b8>,\n",
       " <stackexchange.models.Comment at 0x7f1a496da9e8>,\n",
       " <stackexchange.models.Comment at 0x7f1a496dae80>,\n",
       " <stackexchange.models.Comment at 0x7f1a49662748>,\n",
       " <stackexchange.models.Comment at 0x7f1a496da550>,\n",
       " <stackexchange.models.Comment at 0x7f1a49704748>,\n",
       " <stackexchange.models.Comment at 0x7f1a49704be0>,\n",
       " <stackexchange.models.Comment at 0x7f1a4968f3c8>,\n",
       " <stackexchange.models.Comment at 0x7f1a4968f4a8>,\n",
       " <stackexchange.models.Comment at 0x7f1a4968f588>,\n",
       " <stackexchange.models.Comment at 0x7f1a4968f668>,\n",
       " <stackexchange.models.Comment at 0x7f1a4968f748>,\n",
       " <stackexchange.models.Comment at 0x7f1a4968f828>,\n",
       " <stackexchange.models.Comment at 0x7f1a4968f908>,\n",
       " <stackexchange.models.Comment at 0x7f1a4968f9e8>,\n",
       " <stackexchange.models.Comment at 0x7f1a4968fac8>,\n",
       " <stackexchange.models.Comment at 0x7f1a4968fba8>,\n",
       " <stackexchange.models.Comment at 0x7f1a4968fc88>,\n",
       " <stackexchange.models.Comment at 0x7f1a4968fd68>,\n",
       " <stackexchange.models.Comment at 0x7f1a4968fe48>,\n",
       " <stackexchange.models.Comment at 0x7f1a4968ff28>,\n",
       " <stackexchange.models.Comment at 0x7f1a4968ff60>,\n",
       " <stackexchange.models.Comment at 0x7f1a49953128>,\n",
       " <stackexchange.models.Comment at 0x7f1a49953208>,\n",
       " <stackexchange.models.Comment at 0x7f1a499532e8>,\n",
       " <stackexchange.models.Comment at 0x7f1a499533c8>,\n",
       " <stackexchange.models.Comment at 0x7f1a499534a8>,\n",
       " <stackexchange.models.Comment at 0x7f1a49953588>,\n",
       " <stackexchange.models.Comment at 0x7f1a49953668>,\n",
       " <stackexchange.models.Comment at 0x7f1a49953748>,\n",
       " <stackexchange.models.Comment at 0x7f1a49953828>,\n",
       " <stackexchange.models.Comment at 0x7f1a49953908>,\n",
       " <stackexchange.models.Comment at 0x7f1a499539e8>,\n",
       " <stackexchange.models.Comment at 0x7f1a4968f198>,\n",
       " <stackexchange.models.Comment at 0x7f1a4aaea390>,\n",
       " <stackexchange.models.Comment at 0x7f1a496b8470>,\n",
       " <stackexchange.models.Comment at 0x7f1a496b8978>,\n",
       " <stackexchange.models.Comment at 0x7f1a682ad2b0>,\n",
       " <stackexchange.models.Comment at 0x7f1a4ab43e48>,\n",
       " <stackexchange.models.Comment at 0x7f1a49a51d30>,\n",
       " <stackexchange.models.Comment at 0x7f1a496daf98>,\n",
       " <stackexchange.models.Comment at 0x7f1a49662898>,\n",
       " <stackexchange.models.Comment at 0x7f1a496627b8>,\n",
       " <stackexchange.models.Comment at 0x7f1a49662eb8>,\n",
       " <stackexchange.models.Comment at 0x7f1a49662fd0>,\n",
       " <stackexchange.models.Comment at 0x7f1a49662ba8>,\n",
       " <stackexchange.models.Comment at 0x7f1a49662828>,\n",
       " <stackexchange.models.Comment at 0x7f1a49953be0>,\n",
       " <stackexchange.models.Comment at 0x7f1a49953cc0>,\n",
       " <stackexchange.models.Comment at 0x7f1a49953da0>,\n",
       " <stackexchange.models.Comment at 0x7f1a49953e80>,\n",
       " <stackexchange.models.Comment at 0x7f1a49953f60>,\n",
       " <stackexchange.models.Comment at 0x7f1a49953f98>,\n",
       " <stackexchange.models.Comment at 0x7f1a4962f160>,\n",
       " <stackexchange.models.Comment at 0x7f1a4962f240>,\n",
       " <stackexchange.models.Comment at 0x7f1a4962f320>,\n",
       " <stackexchange.models.Comment at 0x7f1a4962f400>,\n",
       " <stackexchange.models.Comment at 0x7f1a4962f4e0>,\n",
       " <stackexchange.models.Comment at 0x7f1a4962f5c0>,\n",
       " <stackexchange.models.Comment at 0x7f1a4962f6a0>,\n",
       " <stackexchange.models.Comment at 0x7f1a4962f780>,\n",
       " <stackexchange.models.Comment at 0x7f1a4962f860>,\n",
       " <stackexchange.models.Comment at 0x7f1a4962f940>,\n",
       " <stackexchange.models.Comment at 0x7f1a496da0f0>,\n",
       " <stackexchange.models.Comment at 0x7f1a49953320>,\n",
       " <stackexchange.models.Comment at 0x7f1a49953668>,\n",
       " <stackexchange.models.Comment at 0x7f1a49953828>,\n",
       " <stackexchange.models.Comment at 0x7f1a49953780>,\n",
       " <stackexchange.models.Comment at 0x7f1a4968f588>,\n",
       " <stackexchange.models.Comment at 0x7f1a4968f748>,\n",
       " <stackexchange.models.Comment at 0x7f1a4968f908>,\n",
       " <stackexchange.models.Comment at 0x7f1a4968fac8>,\n",
       " <stackexchange.models.Comment at 0x7f1a4968fc88>,\n",
       " <stackexchange.models.Comment at 0x7f1a4968fe48>,\n",
       " <stackexchange.models.Comment at 0x7f1a4968ff60>,\n",
       " <stackexchange.models.Comment at 0x7f1a4968f0f0>,\n",
       " <stackexchange.models.Comment at 0x7f1a4962fb00>,\n",
       " <stackexchange.models.Comment at 0x7f1a4962fbe0>,\n",
       " <stackexchange.models.Comment at 0x7f1a4962fcc0>,\n",
       " <stackexchange.models.Comment at 0x7f1a4962fda0>,\n",
       " <stackexchange.models.Comment at 0x7f1a4962fe80>,\n",
       " <stackexchange.models.Comment at 0x7f1a4962ff60>,\n",
       " <stackexchange.models.Comment at 0x7f1a4962ff98>,\n",
       " <stackexchange.models.Comment at 0x7f1a495e1160>,\n",
       " <stackexchange.models.Comment at 0x7f1a495e1240>,\n",
       " <stackexchange.models.Comment at 0x7f1a495e1320>,\n",
       " <stackexchange.models.Comment at 0x7f1a49953a58>,\n",
       " <stackexchange.models.Comment at 0x7f1a49953898>,\n",
       " <stackexchange.models.Comment at 0x7f1a49953710>,\n",
       " <stackexchange.models.Comment at 0x7f1a49953550>,\n",
       " <stackexchange.models.Comment at 0x7f1a49953390>,\n",
       " <stackexchange.models.Comment at 0x7f1a499531d0>,\n",
       " <stackexchange.models.Comment at 0x7f1a499530b8>,\n",
       " <stackexchange.models.Comment at 0x7f1a682ad2b0>,\n",
       " <stackexchange.models.Comment at 0x7f1a4962f5c0>,\n",
       " <stackexchange.models.Comment at 0x7f1a4962f6d8>,\n",
       " <stackexchange.models.Comment at 0x7f1a4962f860>,\n",
       " <stackexchange.models.Comment at 0x7f1a49953b70>,\n",
       " <stackexchange.models.Comment at 0x7f1a49953d68>,\n",
       " <stackexchange.models.Comment at 0x7f1a49953f28>,\n",
       " <stackexchange.models.Comment at 0x7f1a49953fd0>,\n",
       " <stackexchange.models.Comment at 0x7f1a4962f2e8>,\n",
       " <stackexchange.models.Comment at 0x7f1a4962f4a8>,\n",
       " <stackexchange.models.Comment at 0x7f1a4962f668>,\n",
       " <stackexchange.models.Comment at 0x7f1a4962f828>,\n",
       " <stackexchange.models.Comment at 0x7f1a4962f9e8>,\n",
       " <stackexchange.models.Comment at 0x7f1a58022a90>,\n",
       " <stackexchange.models.Comment at 0x7f1a68769668>,\n",
       " <stackexchange.models.Comment at 0x7f1a68769e10>,\n",
       " <stackexchange.models.Comment at 0x7f1a682ad2e8>,\n",
       " <stackexchange.models.Comment at 0x7f1a682ad5c0>,\n",
       " <stackexchange.models.Comment at 0x7f1a682ad198>,\n",
       " <stackexchange.models.Comment at 0x7f1a682ad390>,\n",
       " <stackexchange.models.Comment at 0x7f1a6c047160>,\n",
       " <stackexchange.models.Comment at 0x7f1a682ccfd0>,\n",
       " <stackexchange.models.Comment at 0x7f1a680e6208>,\n",
       " <stackexchange.models.Comment at 0x7f1a4ab53710>,\n",
       " <stackexchange.models.Comment at 0x7f1a4ab539e8>,\n",
       " <stackexchange.models.Comment at 0x7f1a4ab533c8>,\n",
       " <stackexchange.models.Comment at 0x7f1a4ab53080>,\n",
       " <stackexchange.models.Comment at 0x7f1a4ab530b8>,\n",
       " <stackexchange.models.Comment at 0x7f1a4ab53278>,\n",
       " <stackexchange.models.Comment at 0x7f1a4ab53320>,\n",
       " <stackexchange.models.Comment at 0x7f1a4962fb00>,\n",
       " <stackexchange.models.Comment at 0x7f1a49953710>,\n",
       " <stackexchange.models.Comment at 0x7f1a49953390>,\n",
       " <stackexchange.models.Comment at 0x7f1a49953438>,\n",
       " <stackexchange.models.Comment at 0x7f1a4ab536d8>,\n",
       " <stackexchange.models.Comment at 0x7f1a4ab53a58>,\n",
       " <stackexchange.models.Comment at 0x7f1a4ab53a90>,\n",
       " <stackexchange.models.Comment at 0x7f1a50077080>,\n",
       " <stackexchange.models.Comment at 0x7f1a50026080>,\n",
       " <stackexchange.models.Comment at 0x7f1a50026400>,\n",
       " <stackexchange.models.Comment at 0x7f1a4aaea048>,\n",
       " <stackexchange.models.Comment at 0x7f1a50030b38>,\n",
       " <stackexchange.models.Comment at 0x7f1a4aac6c18>,\n",
       " <stackexchange.models.Comment at 0x7f1a4aac6d30>,\n",
       " <stackexchange.models.Comment at 0x7f1a68266198>,\n",
       " <stackexchange.models.Comment at 0x7f1a4a993198>,\n",
       " <stackexchange.models.Comment at 0x7f1a4a993a90>,\n",
       " <stackexchange.models.Comment at 0x7f1a4a993d68>,\n",
       " <stackexchange.models.Comment at 0x7f1a4a993518>,\n",
       " <stackexchange.models.Comment at 0x7f1a4a9937f0>,\n",
       " <stackexchange.models.Comment at 0x7f1a4a9931d0>,\n",
       " <stackexchange.models.Comment at 0x7f1a4a981978>,\n",
       " <stackexchange.models.Comment at 0x7f1a4a9818d0>,\n",
       " <stackexchange.models.Comment at 0x7f1a4a981748>,\n",
       " <stackexchange.models.Comment at 0x7f1a4a981c88>,\n",
       " <stackexchange.models.Comment at 0x7f1a4a981908>,\n",
       " <stackexchange.models.Comment at 0x7f1a4a981128>,\n",
       " <stackexchange.models.Comment at 0x7f1a4a981dd8>,\n",
       " <stackexchange.models.Comment at 0x7f1a4ab32710>,\n",
       " <stackexchange.models.Comment at 0x7f1a4ab32908>,\n",
       " <stackexchange.models.Comment at 0x7f1a49953da0>,\n",
       " <stackexchange.models.Comment at 0x7f1a4ab53320>,\n",
       " <stackexchange.models.Comment at 0x7f1a4ab53828>,\n",
       " <stackexchange.models.Comment at 0x7f1a4ab53128>,\n",
       " <stackexchange.models.Comment at 0x7f1a4ab530f0>,\n",
       " <stackexchange.models.Comment at 0x7f1a4962f6d8>,\n",
       " <stackexchange.models.Comment at 0x7f1a4962f2e8>,\n",
       " <stackexchange.models.Comment at 0x7f1a4962f668>,\n",
       " <stackexchange.models.Comment at 0x7f1a4962f9e8>,\n",
       " <stackexchange.models.Comment at 0x7f1a4962f320>,\n",
       " <stackexchange.models.Comment at 0x7f1a4962f278>,\n",
       " <stackexchange.models.Comment at 0x7f1a4ab32390>,\n",
       " <stackexchange.models.Comment at 0x7f1a4ab327b8>,\n",
       " <stackexchange.models.Comment at 0x7f1a4ab328d0>,\n",
       " <stackexchange.models.Comment at 0x7f1a4ab32080>,\n",
       " <stackexchange.models.Comment at 0x7f1a49a2ef60>,\n",
       " <stackexchange.models.Comment at 0x7f1a4a9a6470>,\n",
       " <stackexchange.models.Comment at 0x7f1a4a9a6518>,\n",
       " <stackexchange.models.Comment at 0x7f1a4ab09a20>,\n",
       " <stackexchange.models.Comment at 0x7f1a4ab09b38>,\n",
       " <stackexchange.models.Comment at 0x7f1a4ab09eb8>,\n",
       " <stackexchange.models.Comment at 0x7f1a4ab09c88>,\n",
       " <stackexchange.models.Comment at 0x7f1a4ab09c50>,\n",
       " <stackexchange.models.Comment at 0x7f1a50139da0>,\n",
       " <stackexchange.models.Comment at 0x7f1a4ab71470>,\n",
       " <stackexchange.models.Comment at 0x7f1a4ab86748>,\n",
       " <stackexchange.models.Comment at 0x7f1a4ab86278>,\n",
       " <stackexchange.models.Comment at 0x7f1a5001d8d0>,\n",
       " <stackexchange.models.Comment at 0x7f1a4aad6cc0>,\n",
       " <stackexchange.models.Comment at 0x7f1a4aad6780>,\n",
       " <stackexchange.models.Comment at 0x7f1a4962fcf8>,\n",
       " <stackexchange.models.Comment at 0x7f1a4a993c50>,\n",
       " <stackexchange.models.Comment at 0x7f1a4a993518>,\n",
       " <stackexchange.models.Comment at 0x7f1a4a9931d0>,\n",
       " <stackexchange.models.Comment at 0x7f1a4a993710>,\n",
       " <stackexchange.models.Comment at 0x7f1a4a981c88>,\n",
       " <stackexchange.models.Comment at 0x7f1a4a981128>,\n",
       " <stackexchange.models.Comment at 0x7f1a4a993588>,\n",
       " <stackexchange.models.Comment at 0x7f1a4a993e48>,\n",
       " <stackexchange.models.Comment at 0x7f1a4a993160>,\n",
       " <stackexchange.models.Comment at 0x7f1a681ffa58>,\n",
       " <stackexchange.models.Comment at 0x7f1a4aac6f98>,\n",
       " <stackexchange.models.Comment at 0x7f1a4aaea0b8>,\n",
       " <stackexchange.models.Comment at 0x7f1a50026320>,\n",
       " <stackexchange.models.Comment at 0x7f1a50077048>,\n",
       " <stackexchange.models.Comment at 0x7f1a4ab536a0>,\n",
       " <stackexchange.models.Comment at 0x7f1a4ab53390>,\n",
       " <stackexchange.models.Comment at 0x7f1a4ab53b70>,\n",
       " <stackexchange.models.Comment at 0x7f1a4ab53588>,\n",
       " <stackexchange.models.Comment at 0x7f1a4ab53550>,\n",
       " <stackexchange.models.Comment at 0x7f1a680e00b8>,\n",
       " <stackexchange.models.Comment at 0x7f1a682cceb8>,\n",
       " <stackexchange.models.Comment at 0x7f1a682ada58>,\n",
       " <stackexchange.models.Comment at 0x7f1a50139cf8>,\n",
       " <stackexchange.models.Comment at 0x7f1a4a9e5e10>,\n",
       " <stackexchange.models.Comment at 0x7f1a4ab67908>,\n",
       " <stackexchange.models.Comment at 0x7f1a4962f240>,\n",
       " <stackexchange.models.Comment at 0x7f1a4962f908>,\n",
       " <stackexchange.models.Comment at 0x7f1a4962f588>,\n",
       " <stackexchange.models.Comment at 0x7f1a4962f208>,\n",
       " <stackexchange.models.Comment at 0x7f1a4ab53320>,\n",
       " <stackexchange.models.Comment at 0x7f1a4ab09c50>,\n",
       " <stackexchange.models.Comment at 0x7f1a50139d68>,\n",
       " <stackexchange.models.Comment at 0x7f1a682ad320>,\n",
       " <stackexchange.models.Comment at 0x7f1a4ab86748>,\n",
       " <stackexchange.models.Comment at 0x7f1a5001d8d0>,\n",
       " <stackexchange.models.Comment at 0x7f1a4962f1d0>,\n",
       " <stackexchange.models.Comment at 0x7f1a4962f8d0>,\n",
       " <stackexchange.models.Comment at 0x7f1a4962f2b0>,\n",
       " <stackexchange.models.Comment at 0x7f1a4a981e80>,\n",
       " <stackexchange.models.Comment at 0x7f1a4a981b38>,\n",
       " <stackexchange.models.Comment at 0x7f1a4a981c18>,\n",
       " <stackexchange.models.Comment at 0x7f1a4a981eb8>,\n",
       " <stackexchange.models.Comment at 0x7f1a4ab328d0>,\n",
       " <stackexchange.models.Comment at 0x7f1a4ab32828>,\n",
       " <stackexchange.models.Comment at 0x7f1a4ab32198>,\n",
       " <stackexchange.models.Comment at 0x7f1a4ab32710>,\n",
       " <stackexchange.models.Comment at 0x7f1a4ab329b0>,\n",
       " <stackexchange.models.Comment at 0x7f1a49953da0>,\n",
       " <stackexchange.models.Comment at 0x7f1a49953a58>,\n",
       " <stackexchange.models.Comment at 0x7f1a49953400>,\n",
       " <stackexchange.models.Comment at 0x7f1a499531d0>,\n",
       " <stackexchange.models.Comment at 0x7f1a49953128>,\n",
       " <stackexchange.models.Comment at 0x7f1a49953dd8>,\n",
       " <stackexchange.models.Comment at 0x7f1a49953ef0>,\n",
       " <stackexchange.models.Comment at 0x7f1a49953710>,\n",
       " <stackexchange.models.Comment at 0x7f1a49953438>,\n",
       " <stackexchange.models.Comment at 0x7f1a50016ba8>,\n",
       " <stackexchange.models.Comment at 0x7f1a4aad6438>,\n",
       " <stackexchange.models.Comment at 0x7f1a4aad6978>,\n",
       " <stackexchange.models.Comment at 0x7f1a4a9818d0>,\n",
       " <stackexchange.models.Comment at 0x7f1a682ad358>,\n",
       " <stackexchange.models.Comment at 0x7f1a68769128>,\n",
       " <stackexchange.models.Comment at 0x7f1a4ab67908>,\n",
       " <stackexchange.models.Comment at 0x7f1a4aac6c18>,\n",
       " <stackexchange.models.Comment at 0x7f1a4962f630>,\n",
       " <stackexchange.models.Comment at 0x7f1a4962fc18>,\n",
       " <stackexchange.models.Comment at 0x7f1a4962f9b0>,\n",
       " <stackexchange.models.Comment at 0x7f1a4ab53b38>,\n",
       " <stackexchange.models.Comment at 0x7f1a4ab534e0>,\n",
       " <stackexchange.models.Comment at 0x7f1a4ab53748>,\n",
       " <stackexchange.models.Comment at 0x7f1a4ab53550>,\n",
       " <stackexchange.models.Comment at 0x7f1a682cceb8>,\n",
       " <stackexchange.models.Comment at 0x7f1a4aad6128>,\n",
       " <stackexchange.models.Comment at 0x7f1a4aad62e8>,\n",
       " <stackexchange.models.Comment at 0x7f1a4aad6390>,\n",
       " <stackexchange.models.Comment at 0x7f1a4aad6630>,\n",
       " <stackexchange.models.Comment at 0x7f1a4aad67f0>,\n",
       " <stackexchange.models.Comment at 0x7f1a4aad6b38>,\n",
       " <stackexchange.models.Comment at 0x7f1a4aad6f98>,\n",
       " <stackexchange.models.Comment at 0x7f1a4aad6e48>,\n",
       " <stackexchange.models.Comment at 0x7f1a4aad6dd8>,\n",
       " <stackexchange.models.Comment at 0x7f1a500b1240>,\n",
       " <stackexchange.models.Comment at 0x7f1a500b18d0>,\n",
       " <stackexchange.models.Comment at 0x7f1a4ab9af28>,\n",
       " <stackexchange.models.Comment at 0x7f1a4ab9aef0>,\n",
       " <stackexchange.models.Comment at 0x7f1a49a517f0>,\n",
       " <stackexchange.models.Comment at 0x7f1a49a512b0>,\n",
       " <stackexchange.models.Comment at 0x7f1a49a51ef0>,\n",
       " <stackexchange.models.Comment at 0x7f1a49a51320>,\n",
       " <stackexchange.models.Comment at 0x7f1a4ab53320>,\n",
       " <stackexchange.models.Comment at 0x7f1a4962f2b0>,\n",
       " <stackexchange.models.Comment at 0x7f1a4962f278>,\n",
       " <stackexchange.models.Comment at 0x7f1a4a9a63c8>,\n",
       " <stackexchange.models.Comment at 0x7f1a4ab32828>,\n",
       " <stackexchange.models.Comment at 0x7f1a4ab32710>,\n",
       " <stackexchange.models.Comment at 0x7f1a4ab32278>,\n",
       " <stackexchange.models.Comment at 0x7f1a49953fd0>,\n",
       " <stackexchange.models.Comment at 0x7f1a49953320>,\n",
       " <stackexchange.models.Comment at 0x7f1a499537b8>,\n",
       " <stackexchange.models.Comment at 0x7f1a49953c88>,\n",
       " <stackexchange.models.Comment at 0x7f1a49953438>,\n",
       " <stackexchange.models.Comment at 0x7f1a681ffa58>,\n",
       " <stackexchange.models.Comment at 0x7f1a68266198>,\n",
       " <stackexchange.models.Comment at 0x7f1a49a51710>,\n",
       " <stackexchange.models.Comment at 0x7f1a49a51240>,\n",
       " <stackexchange.models.Comment at 0x7f1a49a51400>,\n",
       " <stackexchange.models.Comment at 0x7f1a49a51160>,\n",
       " <stackexchange.models.Comment at 0x7f1a4aad6898>,\n",
       " <stackexchange.models.Comment at 0x7f1a4aad64e0>,\n",
       " <stackexchange.models.Comment at 0x7f1a4aad6cc0>,\n",
       " <stackexchange.models.Comment at 0x7f1a49953cf8>,\n",
       " <stackexchange.models.Comment at 0x7f1a499535f8>,\n",
       " <stackexchange.models.Comment at 0x7f1a49953668>,\n",
       " <stackexchange.models.Comment at 0x7f1a49953b70>,\n",
       " <stackexchange.models.Comment at 0x7f1a49953c50>,\n",
       " <stackexchange.models.Comment at 0x7f1a4a9a6470>,\n",
       " <stackexchange.models.Comment at 0x7f1a4ab322e8>,\n",
       " <stackexchange.models.Comment at 0x7f1a49a2ef60>,\n",
       " <stackexchange.models.Comment at 0x7f1a49a2eef0>,\n",
       " <stackexchange.models.Comment at 0x7f1a50077048>,\n",
       " <stackexchange.models.Comment at 0x7f1a5001df60>,\n",
       " <stackexchange.models.Comment at 0x7f1a4ab86278>,\n",
       " <stackexchange.models.Comment at 0x7f1a4ab716a0>,\n",
       " <stackexchange.models.Comment at 0x7f1a4ab09c88>,\n",
       " <stackexchange.models.Comment at 0x7f1a4ab09e10>,\n",
       " <stackexchange.models.Comment at 0x7f1a4962f908>,\n",
       " <stackexchange.models.Comment at 0x7f1a4962f320>,\n",
       " <stackexchange.models.Comment at 0x7f1a4962f048>,\n",
       " <stackexchange.models.Comment at 0x7f1a4962f748>,\n",
       " <stackexchange.models.Comment at 0x7f1a4962f400>,\n",
       " <stackexchange.models.Comment at 0x7f1a4962f198>,\n",
       " <stackexchange.models.Comment at 0x7f1a68769400>,\n",
       " <stackexchange.models.Comment at 0x7f1a50030b38>,\n",
       " <stackexchange.models.Comment at 0x7f1a682ad898>,\n",
       " <stackexchange.models.Comment at 0x7f1a6c047198>,\n",
       " <stackexchange.models.Comment at 0x7f1a682cc518>,\n",
       " <stackexchange.models.Comment at 0x7f1a4ab536a0>,\n",
       " <stackexchange.models.Comment at 0x7f1a4ab530b8>,\n",
       " <stackexchange.models.Comment at 0x7f1a4ab532e8>,\n",
       " <stackexchange.models.Comment at 0x7f1a4ab53518>,\n",
       " <stackexchange.models.Comment at 0x7f1a4ab538d0>,\n",
       " <stackexchange.models.Comment at 0x7f1a4ab53978>,\n",
       " <stackexchange.models.Comment at 0x7f1a50026240>,\n",
       " <stackexchange.models.Comment at 0x7f1a4aaea080>,\n",
       " <stackexchange.models.Comment at 0x7f1a4aac6c50>,\n",
       " <stackexchange.models.Comment at 0x7f1a681ffa20>,\n",
       " <stackexchange.models.Comment at 0x7f1a4a993c18>,\n",
       " <stackexchange.models.Comment at 0x7f1a4a993470>,\n",
       " <stackexchange.models.Comment at 0x7f1a4a993208>,\n",
       " <stackexchange.models.Comment at 0x7f1a4ab09cf8>,\n",
       " <stackexchange.models.Comment at 0x7f1a49953cf8>,\n",
       " <stackexchange.models.Comment at 0x7f1a499532e8>,\n",
       " <stackexchange.models.Comment at 0x7f1a49953b70>,\n",
       " <stackexchange.models.Comment at 0x7f1a49a2ef60>,\n",
       " <stackexchange.models.Comment at 0x7f1a4ab32898>,\n",
       " <stackexchange.models.Comment at 0x7f1a4ab32208>,\n",
       " <stackexchange.models.Comment at 0x7f1a4ab327b8>,\n",
       " <stackexchange.models.Comment at 0x7f1a4aad6860>,\n",
       " <stackexchange.models.Comment at 0x7f1a4ab67908>,\n",
       " <stackexchange.models.Comment at 0x7f1a49a51400>,\n",
       " <stackexchange.models.Comment at 0x7f1a49a512b0>,\n",
       " <stackexchange.models.Comment at 0x7f1a49a51d68>,\n",
       " <stackexchange.models.Comment at 0x7f1a49a51e48>,\n",
       " <stackexchange.models.Comment at 0x7f1a49a51748>,\n",
       " <stackexchange.models.Comment at 0x7f1a49a51b70>,\n",
       " <stackexchange.models.Comment at 0x7f1a49a51ba8>,\n",
       " <stackexchange.models.Comment at 0x7f1a50127780>,\n",
       " <stackexchange.models.Comment at 0x7f1a501277f0>,\n",
       " <stackexchange.models.Comment at 0x7f1a5018bfd0>,\n",
       " <stackexchange.models.Comment at 0x7f1a4a970080>,\n",
       " <stackexchange.models.Comment at 0x7f1a4a970358>,\n",
       " <stackexchange.models.Comment at 0x7f1a4a970b38>,\n",
       " <stackexchange.models.Comment at 0x7f1a4a9703c8>,\n",
       " <stackexchange.models.Comment at 0x7f1a4a9701d0>,\n",
       " <stackexchange.models.Comment at 0x7f1a4a970eb8>,\n",
       " <stackexchange.models.Comment at 0x7f1a4a970438>,\n",
       " <stackexchange.models.Comment at 0x7f1a4968f748>,\n",
       " <stackexchange.models.Comment at 0x7f1a4968fac8>,\n",
       " <stackexchange.models.Comment at 0x7f1a4968fe48>,\n",
       " <stackexchange.models.Comment at 0x7f1a49a51780>,\n",
       " <stackexchange.models.Comment at 0x7f1a4962f7f0>,\n",
       " <stackexchange.models.Comment at 0x7f1a50030b38>,\n",
       " <stackexchange.models.Comment at 0x7f1a682ad5c0>,\n",
       " <stackexchange.models.Comment at 0x7f1a682cc518>,\n",
       " <stackexchange.models.Comment at 0x7f1a4aaea390>,\n",
       " <stackexchange.models.Comment at 0x7f1a4aaea080>,\n",
       " <stackexchange.models.Comment at 0x7f1a4ab9aef0>,\n",
       " <stackexchange.models.Comment at 0x7f1a4a993470>,\n",
       " <stackexchange.models.Comment at 0x7f1a4a993588>,\n",
       " <stackexchange.models.Comment at 0x7f1a4ab53518>,\n",
       " <stackexchange.models.Comment at 0x7f1a4ab53978>,\n",
       " <stackexchange.models.Comment at 0x7f1a4ab53320>,\n",
       " <stackexchange.models.Comment at 0x7f1a4ab09e10>,\n",
       " <stackexchange.models.Comment at 0x7f1a4968f320>,\n",
       " <stackexchange.models.Comment at 0x7f1a4968f160>,\n",
       " <stackexchange.models.Comment at 0x7f1a4968fc18>,\n",
       " <stackexchange.models.Comment at 0x7f1a4968fa58>,\n",
       " <stackexchange.models.Comment at 0x7f1a4968f898>,\n",
       " <stackexchange.models.Comment at 0x7f1a4968f6d8>,\n",
       " <stackexchange.models.Comment at 0x7f1a4968f518>,\n",
       " <stackexchange.models.Comment at 0x7f1a4968f358>,\n",
       " <stackexchange.models.Comment at 0x7f1a4968f2b0>,\n",
       " <stackexchange.models.Comment at 0x7f1a49704cc0>,\n",
       " <stackexchange.models.Comment at 0x7f1a49704d68>,\n",
       " <stackexchange.models.Comment at 0x7f1a497049b0>,\n",
       " <stackexchange.models.Comment at 0x7f1a49704160>,\n",
       " <stackexchange.models.Comment at 0x7f1a49704550>,\n",
       " <stackexchange.models.Comment at 0x7f1a49704c88>,\n",
       " <stackexchange.models.Comment at 0x7f1a49a517f0>,\n",
       " <stackexchange.models.Comment at 0x7f1a4ab67908>,\n",
       " <stackexchange.models.Comment at 0x7f1a4a970f60>,\n",
       " <stackexchange.models.Comment at 0x7f1a4a970b38>,\n",
       " <stackexchange.models.Comment at 0x7f1a4a9701d0>,\n",
       " <stackexchange.models.Comment at 0x7f1a4a970438>,\n",
       " <stackexchange.models.Comment at 0x7f1a4968f748>,\n",
       " <stackexchange.models.Comment at 0x7f1a5001df60>,\n",
       " <stackexchange.models.Comment at 0x7f1a50077048>,\n",
       " <stackexchange.models.Comment at 0x7f1a4a9936d8>,\n",
       " <stackexchange.models.Comment at 0x7f1a4aaea400>,\n",
       " <stackexchange.models.Comment at 0x7f1a4aaea048>,\n",
       " <stackexchange.models.Comment at 0x7f1a4ab53940>,\n",
       " <stackexchange.models.Comment at 0x7f1a4ab53630>,\n",
       " <stackexchange.models.Comment at 0x7f1a4ab53550>,\n",
       " <stackexchange.models.Comment at 0x7f1a682cce80>,\n",
       " <stackexchange.models.Comment at 0x7f1a500b1208>,\n",
       " <stackexchange.models.Comment at 0x7f1a682ad358>,\n",
       " <stackexchange.models.Comment at 0x7f1a4ab71470>,\n",
       " <stackexchange.models.Comment at 0x7f1a4ab09eb8>,\n",
       " <stackexchange.models.Comment at 0x7f1a4ab86d30>,\n",
       " <stackexchange.models.Comment at 0x7f1a4a981b00>,\n",
       " <stackexchange.models.Comment at 0x7f1a4a981668>,\n",
       " <stackexchange.models.Comment at 0x7f1a4ab320b8>,\n",
       " <stackexchange.models.Comment at 0x7f1a4ab32048>,\n",
       " <stackexchange.models.Comment at 0x7f1a4a9a6518>,\n",
       " <stackexchange.models.Comment at 0x7f1a49953d30>,\n",
       " <stackexchange.models.Comment at 0x7f1a49953a90>,\n",
       " <stackexchange.models.Comment at 0x7f1a49953eb8>,\n",
       " <stackexchange.models.Comment at 0x7f1a49953cc0>,\n",
       " <stackexchange.models.Comment at 0x7f1a49953390>,\n",
       " <stackexchange.models.Comment at 0x7f1a4ab716a0>,\n",
       " <stackexchange.models.Comment at 0x7f1a4a993588>,\n",
       " <stackexchange.models.Comment at 0x7f1a4ab53160>,\n",
       " <stackexchange.models.Comment at 0x7f1a4ab53320>,\n",
       " <stackexchange.models.Comment at 0x7f1a4968f208>,\n",
       " <stackexchange.models.Comment at 0x7f1a4968fc50>,\n",
       " <stackexchange.models.Comment at 0x7f1a4968f8d0>,\n",
       " <stackexchange.models.Comment at 0x7f1a4968f550>,\n",
       " <stackexchange.models.Comment at 0x7f1a4968f2b0>,\n",
       " <stackexchange.models.Comment at 0x7f1a4962fb38>,\n",
       " <stackexchange.models.Comment at 0x7f1a4962f6d8>,\n",
       " <stackexchange.models.Comment at 0x7f1a4962f9b0>,\n",
       " <stackexchange.models.Comment at 0x7f1a4962f358>,\n",
       " <stackexchange.models.Comment at 0x7f1a4aad6898>,\n",
       " <stackexchange.models.Comment at 0x7f1a4aad6ef0>,\n",
       " <stackexchange.models.Comment at 0x7f1a4aad6b38>,\n",
       " <stackexchange.models.Comment at 0x7f1a4aad6518>,\n",
       " <stackexchange.models.Comment at 0x7f1a49704d68>,\n",
       " <stackexchange.models.Comment at 0x7f1a49704160>,\n",
       " <stackexchange.models.Comment at 0x7f1a49704c88>,\n",
       " <stackexchange.models.Comment at 0x7f1a49704908>,\n",
       " <stackexchange.models.Comment at 0x7f1a497044e0>,\n",
       " <stackexchange.models.Comment at 0x7f1a4979e5f8>,\n",
       " <stackexchange.models.Comment at 0x7f1a4979e8d0>,\n",
       " <stackexchange.models.Comment at 0x7f1a4979ee10>,\n",
       " <stackexchange.models.Comment at 0x7f1a4979e1d0>,\n",
       " <stackexchange.models.Comment at 0x7f1a4979e160>,\n",
       " <stackexchange.models.Comment at 0x7f1a4979e320>,\n",
       " <stackexchange.models.Comment at 0x7f1a4979e4e0>,\n",
       " <stackexchange.models.Comment at 0x7f1a4979e6a0>,\n",
       " <stackexchange.models.Comment at 0x7f1a4962ff98>,\n",
       " <stackexchange.models.Comment at 0x7f1a4ab53550>,\n",
       " <stackexchange.models.Comment at 0x7f1a4ab53208>,\n",
       " <stackexchange.models.Comment at 0x7f1a4ab09eb8>,\n",
       " <stackexchange.models.Comment at 0x7f1a50127780>,\n",
       " <stackexchange.models.Comment at 0x7f1a4a981668>,\n",
       " <stackexchange.models.Comment at 0x7f1a4ab32048>,\n",
       " <stackexchange.models.Comment at 0x7f1a4a9a63c8>,\n",
       " <stackexchange.models.Comment at 0x7f1a49953b70>,\n",
       " <stackexchange.models.Comment at 0x7f1a49953208>,\n",
       " <stackexchange.models.Comment at 0x7f1a49a512b0>,\n",
       " <stackexchange.models.Comment at 0x7f1a49a51748>,\n",
       " <stackexchange.models.Comment at 0x7f1a49a51780>,\n",
       " <stackexchange.models.Comment at 0x7f1a4979e9e8>,\n",
       " <stackexchange.models.Comment at 0x7f1a4979eba8>,\n",
       " <stackexchange.models.Comment at 0x7f1a4979ed68>,\n",
       " <stackexchange.models.Comment at 0x7f1a4979ef28>,\n",
       " <stackexchange.models.Comment at 0x7f1a4979ef60>,\n",
       " <stackexchange.models.Comment at 0x7f1a496da0f0>,\n",
       " <stackexchange.models.Comment at 0x7f1a496dac18>,\n",
       " <stackexchange.models.Comment at 0x7f1a496daa58>,\n",
       " <stackexchange.models.Comment at 0x7f1a496da898>,\n",
       " <stackexchange.models.Comment at 0x7f1a496da6d8>,\n",
       " <stackexchange.models.Comment at 0x7f1a496da518>,\n",
       " <stackexchange.models.Comment at 0x7f1a496da358>,\n",
       " <stackexchange.models.Comment at 0x7f1a496da198>,\n",
       " <stackexchange.models.Comment at 0x7f1a496daf98>,\n",
       " <stackexchange.models.Comment at 0x7f1a496da710>,\n",
       " <stackexchange.models.Comment at 0x7f1a496dacc0>,\n",
       " <stackexchange.models.Comment at 0x7f1a496da2e8>,\n",
       " <stackexchange.models.Comment at 0x7f1a68769128>,\n",
       " <stackexchange.models.Comment at 0x7f1a4962fb00>,\n",
       " <stackexchange.models.Comment at 0x7f1a4962f358>,\n",
       " <stackexchange.models.Comment at 0x7f1a4aad6518>,\n",
       " <stackexchange.models.Comment at 0x7f1a4aad6668>,\n",
       " <stackexchange.models.Comment at 0x7f1a49704908>,\n",
       " <stackexchange.models.Comment at 0x7f1a4aaea390>,\n",
       " <stackexchange.models.Comment at 0x7f1a4ab9aef0>,\n",
       " <stackexchange.models.Comment at 0x7f1a49704208>,\n",
       " <stackexchange.models.Comment at 0x7f1a497049b0>,\n",
       " <stackexchange.models.Comment at 0x7f1a49704e80>,\n",
       " <stackexchange.models.Comment at 0x7f1a4aad6dd8>,\n",
       " <stackexchange.models.Comment at 0x7f1a49a2ef60>,\n",
       " <stackexchange.models.Comment at 0x7f1a6c047198>,\n",
       " <stackexchange.models.Comment at 0x7f1a4962f668>,\n",
       " <stackexchange.models.Comment at 0x7f1a4962f940>,\n",
       " <stackexchange.models.Comment at 0x7f1a4962f2e8>,\n",
       " <stackexchange.models.Comment at 0x7f1a49953128>,\n",
       " <stackexchange.models.Comment at 0x7f1a4a9a64e0>,\n",
       " <stackexchange.models.Comment at 0x7f1a4a9a6400>,\n",
       " <stackexchange.models.Comment at 0x7f1a4ab326a0>,\n",
       " <stackexchange.models.Comment at 0x7f1a4a981fd0>,\n",
       " <stackexchange.models.Comment at 0x7f1a68769748>,\n",
       " <stackexchange.models.Comment at 0x7f1a682ad240>,\n",
       " <stackexchange.models.Comment at 0x7f1a682cc518>,\n",
       " <stackexchange.models.Comment at 0x7f1a682cceb8>,\n",
       " <stackexchange.models.Comment at 0x7f1a4ab531d0>,\n",
       " <stackexchange.models.Comment at 0x7f1a500264a8>,\n",
       " <stackexchange.models.Comment at 0x7f1a4aac6b00>,\n",
       " <stackexchange.models.Comment at 0x7f1a4a9930b8>,\n",
       " <stackexchange.models.Comment at 0x7f1a4ab53828>,\n",
       " <stackexchange.models.Comment at 0x7f1a496dab00>,\n",
       " <stackexchange.models.Comment at 0x7f1a496da518>,\n",
       " <stackexchange.models.Comment at 0x7f1a496da198>,\n",
       " <stackexchange.models.Comment at 0x7f1a496da710>,\n",
       " <stackexchange.models.Comment at 0x7f1a4ab716a0>,\n",
       " <stackexchange.models.Comment at 0x7f1a4a993b38>,\n",
       " <stackexchange.models.Comment at 0x7f1a4968f160>,\n",
       " <stackexchange.models.Comment at 0x7f1a4968ffd0>,\n",
       " <stackexchange.models.Comment at 0x7f1a5018bf98>,\n",
       " <stackexchange.models.Comment at 0x7f1a49a51c88>,\n",
       " <stackexchange.models.Comment at 0x7f1a49a51e80>,\n",
       " <stackexchange.models.Comment at 0x7f1a4ab9af60>,\n",
       " <stackexchange.models.Comment at 0x7f1a4979eba8>,\n",
       " <stackexchange.models.Comment at 0x7f1a4979ef28>,\n",
       " <stackexchange.models.Comment at 0x7f1a4979e9b0>,\n",
       " <stackexchange.models.Comment at 0x7f1a4979e668>,\n",
       " <stackexchange.models.Comment at 0x7f1a4979e2e8>,\n",
       " <stackexchange.models.Comment at 0x7f1a4979e438>,\n",
       " <stackexchange.models.Comment at 0x7f1a4979ed30>,\n",
       " <stackexchange.models.Comment at 0x7f1a4979ea58>,\n",
       " <stackexchange.models.Comment at 0x7f1a4979ec18>,\n",
       " <stackexchange.models.Comment at 0x7f1a4979e048>,\n",
       " <stackexchange.models.Comment at 0x7f1a4979e3c8>,\n",
       " <stackexchange.models.Comment at 0x7f1a4a9701d0>,\n",
       " <stackexchange.models.Comment at 0x7f1a4a970898>,\n",
       " <stackexchange.models.Comment at 0x7f1a4a970e48>,\n",
       " <stackexchange.models.Comment at 0x7f1a4a970f60>,\n",
       " <stackexchange.models.Comment at 0x7f1a50480be0>,\n",
       " <stackexchange.models.Comment at 0x7f1a50480c18>,\n",
       " <stackexchange.models.Comment at 0x7f1a49a517f0>,\n",
       " <stackexchange.models.Comment at 0x7f1a49953898>,\n",
       " <stackexchange.models.Comment at 0x7f1a4a9a6400>,\n",
       " <stackexchange.models.Comment at 0x7f1a4ab327b8>,\n",
       " <stackexchange.models.Comment at 0x7f1a4ab09b38>,\n",
       " <stackexchange.models.Comment at 0x7f1a68769048>,\n",
       " <stackexchange.models.Comment at 0x7f1a682cceb8>,\n",
       " <stackexchange.models.Comment at 0x7f1a4aaea080>,\n",
       " <stackexchange.models.Comment at 0x7f1a4ab534e0>,\n",
       " <stackexchange.models.Comment at 0x7f1a4ab53550>,\n",
       " <stackexchange.models.Comment at 0x7f1a4962f358>,\n",
       " <stackexchange.models.Comment at 0x7f1a4962f940>,\n",
       " <stackexchange.models.Comment at 0x7f1a4962f7f0>,\n",
       " <stackexchange.models.Comment at 0x7f1a50480550>,\n",
       " <stackexchange.models.Comment at 0x7f1a50480f98>,\n",
       " <stackexchange.models.Comment at 0x7f1a50480630>,\n",
       " <stackexchange.models.Comment at 0x7f1a4ab43f28>,\n",
       " <stackexchange.models.Comment at 0x7f1a4ab43c18>,\n",
       " <stackexchange.models.Comment at 0x7f1a4ab43630>,\n",
       " <stackexchange.models.Comment at 0x7f1a4ab43278>,\n",
       " <stackexchange.models.Comment at 0x7f1a4ab43240>,\n",
       " <stackexchange.models.Comment at 0x7f1a4ab43eb8>,\n",
       " <stackexchange.models.Comment at 0x7f1a4ab43d30>,\n",
       " <stackexchange.models.Comment at 0x7f1a4ab43588>,\n",
       " <stackexchange.models.Comment at 0x7f1a4ab43e48>,\n",
       " <stackexchange.models.Comment at 0x7f1a497e93c8>,\n",
       " <stackexchange.models.Comment at 0x7f1a497e9be0>,\n",
       " <stackexchange.models.Comment at 0x7f1a497e9710>,\n",
       " <stackexchange.models.Comment at 0x7f1a497e9860>,\n",
       " <stackexchange.models.Comment at 0x7f1a497e9e10>,\n",
       " <stackexchange.models.Comment at 0x7f1a4ab09eb8>,\n",
       " <stackexchange.models.Comment at 0x7f1a496da940>,\n",
       " <stackexchange.models.Comment at 0x7f1a496da710>,\n",
       " <stackexchange.models.Comment at 0x7f1a496da240>,\n",
       " <stackexchange.models.Comment at 0x7f1a4a970e48>,\n",
       " <stackexchange.models.Comment at 0x7f1a4a9703c8>,\n",
       " <stackexchange.models.Comment at 0x7f1a50480278>,\n",
       " <stackexchange.models.Comment at 0x7f1a4979e9b0>,\n",
       " <stackexchange.models.Comment at 0x7f1a4979e2e8>,\n",
       " <stackexchange.models.Comment at 0x7f1a4979ed30>,\n",
       " <stackexchange.models.Comment at 0x7f1a4979ec18>,\n",
       " <stackexchange.models.Comment at 0x7f1a4979e3c8>,\n",
       " <stackexchange.models.Comment at 0x7f1a4ab9aef0>,\n",
       " <stackexchange.models.Comment at 0x7f1a497e9f60>,\n",
       " <stackexchange.models.Comment at 0x7f1a497e9898>,\n",
       " <stackexchange.models.Comment at 0x7f1a497e9518>,\n",
       " <stackexchange.models.Comment at 0x7f1a497e90b8>,\n",
       " <stackexchange.models.Comment at 0x7f1a497e9940>,\n",
       " <stackexchange.models.Comment at 0x7f1a50106438>,\n",
       " <stackexchange.models.Comment at 0x7f1a50106710>,\n",
       " <stackexchange.models.Comment at 0x7f1a4ab67908>,\n",
       " <stackexchange.models.Comment at 0x7f1a50480358>,\n",
       " <stackexchange.models.Comment at 0x7f1a50480a90>,\n",
       " <stackexchange.models.Comment at 0x7f1a4a970080>,\n",
       " <stackexchange.models.Comment at 0x7f1a4979e160>,\n",
       " <stackexchange.models.Comment at 0x7f1a4979e0b8>,\n",
       " <stackexchange.models.Comment at 0x7f1a4979e550>,\n",
       " <stackexchange.models.Comment at 0x7f1a4979e5c0>,\n",
       " <stackexchange.models.Comment at 0x7f1a4979ebe0>,\n",
       " <stackexchange.models.Comment at 0x7f1a4979e9e8>,\n",
       " <stackexchange.models.Comment at 0x7f1a68769048>,\n",
       " <stackexchange.models.Comment at 0x7f1a4ab43e48>,\n",
       " <stackexchange.models.Comment at 0x7f1a497e9828>,\n",
       " <stackexchange.models.Comment at 0x7f1a497e98d0>,\n",
       " <stackexchange.models.Comment at 0x7f1a497e9860>,\n",
       " <stackexchange.models.Comment at 0x7f1a49a51710>,\n",
       " <stackexchange.models.Comment at 0x7f1a496dacc0>,\n",
       " <stackexchange.models.Comment at 0x7f1a496da358>,\n",
       " <stackexchange.models.Comment at 0x7f1a496dae80>,\n",
       " <stackexchange.models.Comment at 0x7f1a496daa58>,\n",
       " <stackexchange.models.Comment at 0x7f1a4a9934a8>,\n",
       " <stackexchange.models.Comment at 0x7f1a500264a8>,\n",
       " <stackexchange.models.Comment at 0x7f1a50026470>,\n",
       " <stackexchange.models.Comment at 0x7f1a4ab53b70>,\n",
       " <stackexchange.models.Comment at 0x7f1a500b18d0>,\n",
       " <stackexchange.models.Comment at 0x7f1a682ad5c0>,\n",
       " <stackexchange.models.Comment at 0x7f1a4ab099e8>,\n",
       " <stackexchange.models.Comment at 0x7f1a4ab09a20>,\n",
       " <stackexchange.models.Comment at 0x7f1a4a981668>,\n",
       " <stackexchange.models.Comment at 0x7f1a4ab32080>,\n",
       " <stackexchange.models.Comment at 0x7f1a4ab32470>,\n",
       " <stackexchange.models.Comment at 0x7f1a49953438>,\n",
       " <stackexchange.models.Comment at 0x7f1a49953828>,\n",
       " <stackexchange.models.Comment at 0x7f1a50127780>,\n",
       " <stackexchange.models.Comment at 0x7f1a4962f7f0>,\n",
       " <stackexchange.models.Comment at 0x7f1a4962f2b0>,\n",
       " <stackexchange.models.Comment at 0x7f1a4962feb8>,\n",
       " <stackexchange.models.Comment at 0x7f1a4962f630>,\n",
       " <stackexchange.models.Comment at 0x7f1a4aad6828>,\n",
       " <stackexchange.models.Comment at 0x7f1a4968f6d8>,\n",
       " <stackexchange.models.Comment at 0x7f1a4ab716a0>,\n",
       " <stackexchange.models.Comment at 0x7f1a50480278>,\n",
       " <stackexchange.models.Comment at 0x7f1a50480240>,\n",
       " <stackexchange.models.Comment at 0x7f1a4a970358>,\n",
       " <stackexchange.models.Comment at 0x7f1a49a51ba8>,\n",
       " <stackexchange.models.Comment at 0x7f1a4979e908>,\n",
       " <stackexchange.models.Comment at 0x7f1a4979e400>,\n",
       " <stackexchange.models.Comment at 0x7f1a4979e588>,\n",
       " <stackexchange.models.Comment at 0x7f1a4979e0b8>,\n",
       " <stackexchange.models.Comment at 0x7f1a4979e5c0>,\n",
       " <stackexchange.models.Comment at 0x7f1a682cceb8>,\n",
       " <stackexchange.models.Comment at 0x7f1a4a9a63c8>,\n",
       " <stackexchange.models.Comment at 0x7f1a4968f8d0>,\n",
       " <stackexchange.models.Comment at 0x7f1a4968f208>,\n",
       " <stackexchange.models.Comment at 0x7f1a49704cc0>,\n",
       " <stackexchange.models.Comment at 0x7f1a497045f8>,\n",
       " <stackexchange.models.Comment at 0x7f1a50106198>,\n",
       " <stackexchange.models.Comment at 0x7f1a50106160>,\n",
       " <stackexchange.models.Comment at 0x7f1a50106208>,\n",
       " <stackexchange.models.Comment at 0x7f1a500f3ba8>,\n",
       " <stackexchange.models.Comment at 0x7f1a500f31d0>,\n",
       " <stackexchange.models.Comment at 0x7f1a500f3f60>,\n",
       " <stackexchange.models.Comment at 0x7f1a500f3908>,\n",
       " <stackexchange.models.Comment at 0x7f1a500f3438>,\n",
       " <stackexchange.models.Comment at 0x7f1a500f3470>,\n",
       " <stackexchange.models.Comment at 0x7f1a500f3898>,\n",
       " <stackexchange.models.Comment at 0x7f1a500f3a58>,\n",
       " <stackexchange.models.Comment at 0x7f1a500f3c18>,\n",
       " <stackexchange.models.Comment at 0x7f1a500f3550>,\n",
       " <stackexchange.models.Comment at 0x7f1a500f3278>,\n",
       " <stackexchange.models.Comment at 0x7f1a50480940>,\n",
       " <stackexchange.models.Comment at 0x7f1a4ab53550>,\n",
       " <stackexchange.models.Comment at 0x7f1a500b18d0>,\n",
       " <stackexchange.models.Comment at 0x7f1a500b1240>,\n",
       " <stackexchange.models.Comment at 0x7f1a4ab32080>,\n",
       " <stackexchange.models.Comment at 0x7f1a499535f8>,\n",
       " <stackexchange.models.Comment at 0x7f1a50127780>,\n",
       " <stackexchange.models.Comment at 0x7f1a4ab43ba8>,\n",
       " <stackexchange.models.Comment at 0x7f1a4962feb8>,\n",
       " <stackexchange.models.Comment at 0x7f1a4aad6828>,\n",
       " <stackexchange.models.Comment at 0x7f1a4968f6d8>,\n",
       " <stackexchange.models.Comment at 0x7f1a4a9934a8>,\n",
       " <stackexchange.models.Comment at 0x7f1a4ab09a20>,\n",
       " <stackexchange.models.Comment at 0x7f1a500f3fd0>,\n",
       " <stackexchange.models.Comment at 0x7f1a500f3d30>,\n",
       " <stackexchange.models.Comment at 0x7f1a497c1be0>,\n",
       " <stackexchange.models.Comment at 0x7f1a497c1518>,\n",
       " <stackexchange.models.Comment at 0x7f1a497c1860>,\n",
       " <stackexchange.models.Comment at 0x7f1a497c1240>,\n",
       " <stackexchange.models.Comment at 0x7f1a497c13c8>,\n",
       " <stackexchange.models.Comment at 0x7f1a497c1588>,\n",
       " <stackexchange.models.Comment at 0x7f1a497c1748>,\n",
       " <stackexchange.models.Comment at 0x7f1a497c1908>,\n",
       " <stackexchange.models.Comment at 0x7f1a497c1ac8>,\n",
       " <stackexchange.models.Comment at 0x7f1a497c1c88>,\n",
       " <stackexchange.models.Comment at 0x7f1a497c1e48>,\n",
       " <stackexchange.models.Comment at 0x7f1a497c1fd0>,\n",
       " <stackexchange.models.Comment at 0x7f1a497c1358>,\n",
       " <stackexchange.models.Comment at 0x7f1a497c1320>,\n",
       " <stackexchange.models.Comment at 0x7f1a49a0b898>,\n",
       " <stackexchange.models.Comment at 0x7f1a50077048>,\n",
       " <stackexchange.models.Comment at 0x7f1a500f3390>,\n",
       " <stackexchange.models.Comment at 0x7f1a500f3c18>,\n",
       " <stackexchange.models.Comment at 0x7f1a68769048>,\n",
       " <stackexchange.models.Comment at 0x7f1a4968f208>,\n",
       " <stackexchange.models.Comment at 0x7f1a4968fa58>,\n",
       " <stackexchange.models.Comment at 0x7f1a4aad66d8>,\n",
       " <stackexchange.models.Comment at 0x7f1a4aad6b70>,\n",
       " <stackexchange.models.Comment at 0x7f1a50127438>,\n",
       " <stackexchange.models.Comment at 0x7f1a50030b38>,\n",
       " <stackexchange.models.Comment at 0x7f1a4ab32898>,\n",
       " <stackexchange.models.Comment at 0x7f1a4a9816a0>,\n",
       " <stackexchange.models.Comment at 0x7f1a4a981400>,\n",
       " <stackexchange.models.Comment at 0x7f1a682adc18>,\n",
       " <stackexchange.models.Comment at 0x7f1a4ab53828>,\n",
       " <stackexchange.models.Comment at 0x7f1a4aaea3c8>,\n",
       " <stackexchange.models.Comment at 0x7f1a4a993470>,\n",
       " <stackexchange.models.Comment at 0x7f1a4a993588>,\n",
       " <stackexchange.models.Comment at 0x7f1a496dae48>,\n",
       " <stackexchange.models.Comment at 0x7f1a496da2e8>,\n",
       " <stackexchange.models.Comment at 0x7f1a497e9710>,\n",
       " <stackexchange.models.Comment at 0x7f1a497e9588>,\n",
       " <stackexchange.models.Comment at 0x7f1a4ab43278>,\n",
       " <stackexchange.models.Comment at 0x7f1a4ab43f28>,\n",
       " <stackexchange.models.Comment at 0x7f1a4ab43588>,\n",
       " <stackexchange.models.Comment at 0x7f1a4979e588>,\n",
       " <stackexchange.models.Comment at 0x7f1a4979e5c0>,\n",
       " <stackexchange.models.Comment at 0x7f1a4979e8d0>,\n",
       " <stackexchange.models.Comment at 0x7f1a4979eeb8>,\n",
       " <stackexchange.models.Comment at 0x7f1a4979e4e0>,\n",
       " <stackexchange.models.Comment at 0x7f1a4ab53550>,\n",
       " <stackexchange.models.Comment at 0x7f1a496da400>,\n",
       " <stackexchange.models.Comment at 0x7f1a497c1978>,\n",
       " <stackexchange.models.Comment at 0x7f1a497c1128>,\n",
       " <stackexchange.models.Comment at 0x7f1a497c1470>,\n",
       " <stackexchange.models.Comment at 0x7f1a497c17f0>,\n",
       " <stackexchange.models.Comment at 0x7f1a497c1b70>,\n",
       " <stackexchange.models.Comment at 0x7f1a497c1ef0>,\n",
       " <stackexchange.models.Comment at 0x7f1a497c15f8>,\n",
       " <stackexchange.models.Comment at 0x7f1a682cceb8>,\n",
       " <stackexchange.models.Comment at 0x7f1a49a514a8>,\n",
       " <stackexchange.models.Comment at 0x7f1a49a51e80>,\n",
       " <stackexchange.models.Comment at 0x7f1a4a970eb8>,\n",
       " <stackexchange.models.Comment at 0x7f1a4a970668>,\n",
       " <stackexchange.models.Comment at 0x7f1a50480278>,\n",
       " <stackexchange.models.Comment at 0x7f1a50480710>,\n",
       " <stackexchange.models.Comment at 0x7f1a50480c50>,\n",
       " <stackexchange.models.Comment at 0x7f1a49a0bcc0>,\n",
       " <stackexchange.models.Comment at 0x7f1a49a0b978>,\n",
       " <stackexchange.models.Comment at 0x7f1a49a0bcf8>,\n",
       " <stackexchange.models.Comment at 0x7f1a49a0b2e8>,\n",
       " <stackexchange.models.Comment at 0x7f1a49a0bb38>,\n",
       " <stackexchange.models.Comment at 0x7f1a49a0b048>,\n",
       " <stackexchange.models.Comment at 0x7f1a49a0b470>,\n",
       " <stackexchange.models.Comment at 0x7f1a49a0bef0>,\n",
       " <stackexchange.models.Comment at 0x7f1a49a0bd30>,\n",
       " <stackexchange.models.Comment at 0x7f1a49a0bc88>,\n",
       " <stackexchange.models.Comment at 0x7f1a49a0ba90>,\n",
       " <stackexchange.models.Comment at 0x7f1a49a0b9e8>,\n",
       " <stackexchange.models.Comment at 0x7f1a6825d4a8>,\n",
       " <stackexchange.models.Comment at 0x7f1a49704908>,\n",
       " <stackexchange.models.Comment at 0x7f1a4a993470>,\n",
       " <stackexchange.models.Comment at 0x7f1a496da2e8>,\n",
       " <stackexchange.models.Comment at 0x7f1a497e9588>,\n",
       " <stackexchange.models.Comment at 0x7f1a4ab43f28>,\n",
       " <stackexchange.models.Comment at 0x7f1a4ab437f0>,\n",
       " <stackexchange.models.Comment at 0x7f1a500f3b00>,\n",
       " <stackexchange.models.Comment at 0x7f1a500f3908>,\n",
       " <stackexchange.models.Comment at 0x7f1a4979e588>,\n",
       " <stackexchange.models.Comment at 0x7f1a4979e8d0>,\n",
       " <stackexchange.models.Comment at 0x7f1a4979eef0>,\n",
       " <stackexchange.models.Comment at 0x7f1a4ab531d0>,\n",
       " <stackexchange.models.Comment at 0x7f1a4aaea3c8>,\n",
       " <stackexchange.models.Comment at 0x7f1a499e9898>,\n",
       " <stackexchange.models.Comment at 0x7f1a499e9198>,\n",
       " <stackexchange.models.Comment at 0x7f1a499e9fd0>,\n",
       " <stackexchange.models.Comment at 0x7f1a499e9048>,\n",
       " <stackexchange.models.Comment at 0x7f1a499e9208>,\n",
       " <stackexchange.models.Comment at 0x7f1a499e93c8>,\n",
       " <stackexchange.models.Comment at 0x7f1a499e9588>,\n",
       " <stackexchange.models.Comment at 0x7f1a499e9748>,\n",
       " <stackexchange.models.Comment at 0x7f1a499e9908>,\n",
       " <stackexchange.models.Comment at 0x7f1a499e9ac8>,\n",
       " <stackexchange.models.Comment at 0x7f1a499e9c88>,\n",
       " <stackexchange.models.Comment at 0x7f1a499e9e48>,\n",
       " <stackexchange.models.Comment at 0x7f1a499e9a90>,\n",
       " <stackexchange.models.Comment at 0x7f1a496b8080>,\n",
       " <stackexchange.models.Comment at 0x7f1a496b8240>,\n",
       " <stackexchange.models.Comment at 0x7f1a496b8400>,\n",
       " <stackexchange.models.Comment at 0x7f1a496b85c0>,\n",
       " <stackexchange.models.Comment at 0x7f1a49953128>,\n",
       " <stackexchange.models.Comment at 0x7f1a49a514a8>,\n",
       " <stackexchange.models.Comment at 0x7f1a4a970358>,\n",
       " <stackexchange.models.Comment at 0x7f1a4a970668>,\n",
       " <stackexchange.models.Comment at 0x7f1a4962f198>,\n",
       " <stackexchange.models.Comment at 0x7f1a4ab09a20>,\n",
       " <stackexchange.models.Comment at 0x7f1a49a0bcf8>,\n",
       " <stackexchange.models.Comment at 0x7f1a49a0bb38>,\n",
       " <stackexchange.models.Comment at 0x7f1a499e97b8>,\n",
       " <stackexchange.models.Comment at 0x7f1a50480240>,\n",
       " <stackexchange.models.Comment at 0x7f1a50480630>,\n",
       " <stackexchange.models.Comment at 0x7f1a50127780>,\n",
       " <stackexchange.models.Comment at 0x7f1a497c1fd0>,\n",
       " <stackexchange.models.Comment at 0x7f1a497c1908>,\n",
       " <stackexchange.models.Comment at 0x7f1a497c1240>,\n",
       " <stackexchange.models.Comment at 0x7f1a497c1eb8>,\n",
       " <stackexchange.models.Comment at 0x7f1a49a51ba8>,\n",
       " <stackexchange.models.Comment at 0x7f1a49a51320>,\n",
       " <stackexchange.models.Comment at 0x7f1a4979e860>,\n",
       " <stackexchange.models.Comment at 0x7f1a4979e2e8>,\n",
       " <stackexchange.models.Comment at 0x7f1a5018bfd0>,\n",
       " <stackexchange.models.Comment at 0x7f1a4ab43d30>,\n",
       " <stackexchange.models.Comment at 0x7f1a497e9a20>,\n",
       " <stackexchange.models.Comment at 0x7f1a497e9198>,\n",
       " <stackexchange.models.Comment at 0x7f1a497e9eb8>,\n",
       " <stackexchange.models.Comment at 0x7f1a496da940>,\n",
       " <stackexchange.models.Comment at 0x7f1a4a993208>,\n",
       " <stackexchange.models.Comment at 0x7f1a682ad160>,\n",
       " <stackexchange.models.Comment at 0x7f1a4a981128>,\n",
       " <stackexchange.models.Comment at 0x7f1a4a981f98>,\n",
       " <stackexchange.models.Comment at 0x7f1a4a9a63c8>,\n",
       " <stackexchange.models.Comment at 0x7f1a499e9438>,\n",
       " <stackexchange.models.Comment at 0x7f1a499e9588>,\n",
       " <stackexchange.models.Comment at 0x7f1a499e9908>,\n",
       " <stackexchange.models.Comment at 0x7f1a499e9c88>,\n",
       " <stackexchange.models.Comment at 0x7f1a499e9a90>,\n",
       " <stackexchange.models.Comment at 0x7f1a499532e8>,\n",
       " <stackexchange.models.Comment at 0x7f1a4962f1d0>,\n",
       " <stackexchange.models.Comment at 0x7f1a4aad6828>,\n",
       " <stackexchange.models.Comment at 0x7f1a4aad60f0>,\n",
       " <stackexchange.models.Comment at 0x7f1a50106048>,\n",
       " <stackexchange.models.Comment at 0x7f1a4968f2b0>,\n",
       " <stackexchange.models.Comment at 0x7f1a4968f8d0>,\n",
       " <stackexchange.models.Comment at 0x7f1a500f3fd0>,\n",
       " <stackexchange.models.Comment at 0x7f1a500f32e8>,\n",
       " <stackexchange.models.Comment at 0x7f1a500f3d68>,\n",
       " <stackexchange.models.Comment at 0x7f1a500f3a58>,\n",
       " <stackexchange.models.Comment at 0x7f1a500f3940>,\n",
       " <stackexchange.models.Comment at 0x7f1a49a0bac8>,\n",
       " <stackexchange.models.Comment at 0x7f1a49a0bd68>,\n",
       " <stackexchange.models.Comment at 0x7f1a49a0b550>,\n",
       " <stackexchange.models.Comment at 0x7f1a49a0b828>,\n",
       " <stackexchange.models.Comment at 0x7f1a49a0be80>,\n",
       " <stackexchange.models.Comment at 0x7f1a49a0b0b8>,\n",
       " <stackexchange.models.Comment at 0x7f1a49a0b4e0>,\n",
       " <stackexchange.models.Comment at 0x7f1a49a0bf28>,\n",
       " <stackexchange.models.Comment at 0x7f1a49a0bb70>,\n",
       " <stackexchange.models.Comment at 0x7f1a49704cc0>,\n",
       " <stackexchange.models.Comment at 0x7f1a497045f8>,\n",
       " <stackexchange.models.Comment at 0x7f1a496b8128>,\n",
       " <stackexchange.models.Comment at 0x7f1a500b1240>,\n",
       " <stackexchange.models.Comment at 0x7f1a49a51c88>,\n",
       " <stackexchange.models.Comment at 0x7f1a4979e2e8>,\n",
       " <stackexchange.models.Comment at 0x7f1a4ab43d30>,\n",
       " <stackexchange.models.Comment at 0x7f1a4ab43080>,\n",
       " <stackexchange.models.Comment at 0x7f1a496da080>,\n",
       " <stackexchange.models.Comment at 0x7f1a496da940>,\n",
       " <stackexchange.models.Comment at 0x7f1a497c11d0>,\n",
       " <stackexchange.models.Comment at 0x7f1a4a9930b8>,\n",
       " <stackexchange.models.Comment at 0x7f1a4ab53748>,\n",
       " <stackexchange.models.Comment at 0x7f1a4ab09b38>,\n",
       " <stackexchange.models.Comment at 0x7f1a68769048>,\n",
       " <stackexchange.models.Comment at 0x7f1a496b8908>,\n",
       " <stackexchange.models.Comment at 0x7f1a496b8ac8>,\n",
       " <stackexchange.models.Comment at 0x7f1a496b8c88>,\n",
       " <stackexchange.models.Comment at 0x7f1a496b8f28>,\n",
       " <stackexchange.models.Comment at 0x7f1a496b8e80>,\n",
       " <stackexchange.models.Comment at 0x7f1a496b8978>,\n",
       " <stackexchange.models.Comment at 0x7f1a496b8278>,\n",
       " <stackexchange.models.Comment at 0x7f1a496b87b8>,\n",
       " <stackexchange.models.Comment at 0x7f1a4a976f98>,\n",
       " <stackexchange.models.Comment at 0x7f1a4a976080>,\n",
       " <stackexchange.models.Comment at 0x7f1a4a976438>,\n",
       " <stackexchange.models.Comment at 0x7f1a4a976c50>,\n",
       " <stackexchange.models.Comment at 0x7f1a4a976dd8>,\n",
       " <stackexchange.models.Comment at 0x7f1a4a976358>,\n",
       " <stackexchange.models.Comment at 0x7f1a4a9764a8>,\n",
       " <stackexchange.models.Comment at 0x7f1a4a9764e0>,\n",
       " <stackexchange.models.Comment at 0x7f1a49726cc0>,\n",
       " <stackexchange.models.Comment at 0x7f1a49726240>,\n",
       " <stackexchange.models.Comment at 0x7f1a4a993470>,\n",
       " <stackexchange.models.Comment at 0x7f1a49a0be80>,\n",
       " <stackexchange.models.Comment at 0x7f1a49a0bf60>,\n",
       " <stackexchange.models.Comment at 0x7f1a49a0bc88>,\n",
       " <stackexchange.models.Comment at 0x7f1a49a0b9e8>,\n",
       " <stackexchange.models.Comment at 0x7f1a499e9208>,\n",
       " <stackexchange.models.Comment at 0x7f1a499e9780>,\n",
       " <stackexchange.models.Comment at 0x7f1a499e9c50>,\n",
       " <stackexchange.models.Comment at 0x7f1a496b84a8>,\n",
       " <stackexchange.models.Comment at 0x7f1a4ab327b8>,\n",
       " <stackexchange.models.Comment at 0x7f1a500f3f60>,\n",
       " <stackexchange.models.Comment at 0x7f1a500f3048>,\n",
       " <stackexchange.models.Comment at 0x7f1a49726198>,\n",
       " <stackexchange.models.Comment at 0x7f1a49726358>,\n",
       " <stackexchange.models.Comment at 0x7f1a49726518>,\n",
       " <stackexchange.models.Comment at 0x7f1a497266d8>,\n",
       " <stackexchange.models.Comment at 0x7f1a49726898>,\n",
       " <stackexchange.models.Comment at 0x7f1a49726a58>,\n",
       " <stackexchange.models.Comment at 0x7f1a49726e80>,\n",
       " <stackexchange.models.Comment at 0x7f1a49726b00>,\n",
       " <stackexchange.models.Comment at 0x7f1a496b82e8>,\n",
       " <stackexchange.models.Comment at 0x7f1a496b85c0>,\n",
       " <stackexchange.models.Comment at 0x7f1a49704908>,\n",
       " <stackexchange.models.Comment at 0x7f1a49a0b1d0>,\n",
       " <stackexchange.models.Comment at 0x7f1a49a0ba20>,\n",
       " <stackexchange.models.Comment at 0x7f1a49a0be10>,\n",
       " <stackexchange.models.Comment at 0x7f1a49a0b160>,\n",
       " <stackexchange.models.Comment at 0x7f1a49a0ba58>,\n",
       " <stackexchange.models.Comment at 0x7f1a500f3d30>,\n",
       " <stackexchange.models.Comment at 0x7f1a500f3390>,\n",
       " <stackexchange.models.Comment at 0x7f1a49a0bcc0>,\n",
       " <stackexchange.models.Comment at 0x7f1a4a976c50>,\n",
       " <stackexchange.models.Comment at 0x7f1a4a976eb8>,\n",
       " <stackexchange.models.Comment at 0x7f1a4a976470>,\n",
       " <stackexchange.models.Comment at 0x7f1a4a9a63c8>,\n",
       " <stackexchange.models.Comment at 0x7f1a6825d4a8>,\n",
       " <stackexchange.models.Comment at 0x7f1a499e9e48>,\n",
       " <stackexchange.models.Comment at 0x7f1a499e9748>,\n",
       " <stackexchange.models.Comment at 0x7f1a499e96d8>,\n",
       " <stackexchange.models.Comment at 0x7f1a499e9048>,\n",
       " <stackexchange.models.Comment at 0x7f1a4962f940>,\n",
       " <stackexchange.models.Comment at 0x7f1a49953898>,\n",
       " <stackexchange.models.Comment at 0x7f1a682ad240>,\n",
       " <stackexchange.models.Comment at 0x7f1a4ab53978>,\n",
       " <stackexchange.models.Comment at 0x7f1a4ab534e0>,\n",
       " <stackexchange.models.Comment at 0x7f1a4a993a90>,\n",
       " <stackexchange.models.Comment at 0x7f1a496daf98>,\n",
       " <stackexchange.models.Comment at 0x7f1a497e95c0>,\n",
       " <stackexchange.models.Comment at 0x7f1a497e9e10>,\n",
       " <stackexchange.models.Comment at 0x7f1a4ab43ba8>,\n",
       " <stackexchange.models.Comment at 0x7f1a4ab43d68>,\n",
       " <stackexchange.models.Comment at 0x7f1a4979e400>,\n",
       " <stackexchange.models.Comment at 0x7f1a4979ee10>,\n",
       " <stackexchange.models.Comment at 0x7f1a49a517b8>,\n",
       " <stackexchange.models.Comment at 0x7f1a49a51b70>,\n",
       " <stackexchange.models.Comment at 0x7f1a4a970630>,\n",
       " <stackexchange.models.Comment at 0x7f1a497c1358>,\n",
       " <stackexchange.models.Comment at 0x7f1a497c1748>,\n",
       " <stackexchange.models.Comment at 0x7f1a497c1c88>,\n",
       " <stackexchange.models.Comment at 0x7f1a497c13c8>,\n",
       " <stackexchange.models.Comment at 0x7f1a499532e8>,\n",
       " <stackexchange.models.Comment at 0x7f1a500f3518>,\n",
       " <stackexchange.models.Comment at 0x7f1a500f3550>,\n",
       " <stackexchange.models.Comment at 0x7f1a500f3d30>,\n",
       " <stackexchange.models.Comment at 0x7f1a49a0b748>,\n",
       " <stackexchange.models.Comment at 0x7f1a49a0b080>,\n",
       " <stackexchange.models.Comment at 0x7f1a49a0ba90>,\n",
       " <stackexchange.models.Comment at 0x7f1a49a0bc18>,\n",
       " <stackexchange.models.Comment at 0x7f1a49a0bfd0>,\n",
       " <stackexchange.models.Comment at 0x7f1a497c1d30>,\n",
       " ...)"
      ]
     },
     "execution_count": 36,
     "metadata": {},
     "output_type": "execute_result"
    }
   ],
   "source": [
    "cc."
   ]
  },
  {
   "cell_type": "code",
   "execution_count": 26,
   "metadata": {
    "collapsed": false
   },
   "outputs": [
    {
     "data": {
      "text/plain": [
       "31668"
      ]
     },
     "execution_count": 26,
     "metadata": {},
     "output_type": "execute_result"
    }
   ],
   "source": [
    "aa.total"
   ]
  },
  {
   "cell_type": "code",
   "execution_count": 237,
   "metadata": {
    "collapsed": false
   },
   "outputs": [],
   "source": [
    "tags=so.tags()"
   ]
  },
  {
   "cell_type": "code",
   "execution_count": 242,
   "metadata": {
    "collapsed": true
   },
   "outputs": [],
   "source": [
    "t=tags[0]"
   ]
  },
  {
   "cell_type": "code",
   "execution_count": 248,
   "metadata": {
    "collapsed": false
   },
   "outputs": [
    {
     "data": {
      "text/plain": [
       "109957"
      ]
     },
     "execution_count": 248,
     "metadata": {},
     "output_type": "execute_result"
    }
   ],
   "source": [
    "t."
   ]
  },
  {
   "cell_type": "code",
   "execution_count": 232,
   "metadata": {
    "collapsed": false
   },
   "outputs": [
    {
     "data": {
      "text/plain": [
       "stackexchange.core.StackExchangeResultset"
      ]
     },
     "execution_count": 232,
     "metadata": {},
     "output_type": "execute_result"
    }
   ],
   "source": [
    "type(questions)"
   ]
  },
  {
   "cell_type": "markdown",
   "metadata": {},
   "source": [
    "####Experience"
   ]
  },
  {
   "cell_type": "code",
   "execution_count": 4,
   "metadata": {
    "collapsed": false
   },
   "outputs": [
    {
     "name": "stdout",
     "output_type": "stream",
     "text": [
      "StackOverflow user 41981's experience:\n",
      "Most experienced on css.\n",
      "Most curious about .net.\n",
      "Accept rate is 84.62%.\n"
     ]
    }
   ],
   "source": [
    "print('StackOverflow user %d\\'s experience:' % user_id)\n",
    "\n",
    "print('Most experienced on %s.' % user.top_answer_tags.fetch()[0].tag_name)\n",
    "print('Most curious about %s.' % user.top_question_tags.fetch()[0].tag_name)\n",
    "\n",
    "total_questions = len(user.questions.fetch())\n",
    "unaccepted_questions = len(user.unaccepted_questions.fetch())\n",
    "accepted = total_questions - unaccepted_questions\n",
    "rate = accepted / float(total_questions) * 100\n",
    "print('Accept rate is %.2f%%.' % rate)"
   ]
  },
  {
   "cell_type": "markdown",
   "metadata": {},
   "source": [
    "####Highest voted"
   ]
  },
  {
   "cell_type": "code",
   "execution_count": 5,
   "metadata": {
    "collapsed": false
   },
   "outputs": [
    {
     "name": "stdout",
     "output_type": "stream",
     "text": [
      "The highest voted question on StackOverflow is:\n",
      "\t11227809\tWhy is processing a sorted array faster than an unsorted array?\t10693\n",
      "\n",
      "Look, see: http://stackoverflow.com/questions/11227809\n"
     ]
    }
   ],
   "source": [
    "print('The highest voted question on StackOverflow is:')\n",
    "question = so.questions(sort=Sort.Votes, order=DESC)[0]\n",
    "print('\\t%8d\\t%s\\t%d' % (question.id, question.title, question.score))\n",
    "print()\n",
    "print('Look, see:', question.url)"
   ]
  },
  {
   "cell_type": "markdown",
   "metadata": {},
   "source": [
    "####Question"
   ]
  },
  {
   "cell_type": "code",
   "execution_count": 6,
   "metadata": {
    "collapsed": false
   },
   "outputs": [
    {
     "name": "stdout",
     "output_type": "stream",
     "text": [
      "--- Why is processing a sorted array faster than an unsorted array? ---\n",
      "<p>Here is a piece of <strong>C++</strong> code that seems very peculiar. For some strange reason, sorting the data miraculously makes the code almost six times faster.</p>\n",
      "\n",
      "<pre class=\"lang-cpp prettyprint-override\"><code>#include &lt;algorithm&gt;\n",
      "#include &lt;ctime&gt;\n",
      "#include &lt;iostream&gt;\n",
      "\n",
      "int main()\n",
      "{\n",
      "    // Generate data\n",
      "    const unsigned arraySize = 32768;\n",
      "    int data[arraySize];\n",
      "\n",
      "    for (unsigned c = 0; c &lt; arraySize; ++c)\n",
      "        data[c] = std::rand() % 256;\n",
      "\n",
      "    // !!! With this, the next loop runs faster\n",
      "    std::sort(data, data + arraySize);\n",
      "\n",
      "    // Test\n",
      "    clock_t start = clock();\n",
      "    long long sum = 0;\n",
      "\n",
      "    for (unsigned i = 0; i &lt; 100000; ++i)\n",
      "    {\n",
      "        // Primary loop\n",
      "        for (unsigned c = 0; c &lt; arraySize; ++c)\n",
      "        {\n",
      "            if (data[c] &gt;= 128)\n",
      "                sum += data[c];\n",
      "        }\n",
      "    }\n",
      "\n",
      "    double elapsedTime = static_cast&lt;double&gt;(clock() - start) / CLOCKS_PER_SEC;\n",
      "\n",
      "    std::cout &lt;&lt; elapsedTime &lt;&lt; std::endl;\n",
      "    std::cout &lt;&lt; \"sum = \" &lt;&lt; sum &lt;&lt; std::endl;\n",
      "}\n",
      "</code></pre>\n",
      "\n",
      "<ul>\n",
      "<li>Without <code>std::sort(data, data + arraySize);</code>, the code runs in <strong>11.54</strong> seconds.</li>\n",
      "<li>With the sorted data, the code runs in <strong>1.93</strong> seconds.</li>\n",
      "</ul>\n",
      "\n",
      "<p>Initially, I thought this might be just a language or compiler anomaly. So I tried it in <strong>Java</strong>.</p>\n",
      "\n",
      "<pre class=\"lang-java prettyprint-override\"><code>import java.util.Arrays;\n",
      "import java.util.Random;\n",
      "\n",
      "public class Main\n",
      "{\n",
      "    public static void main(String[] args)\n",
      "    {\n",
      "        // Generate data\n",
      "        int arraySize = 32768;\n",
      "        int data[] = new int[arraySize];\n",
      "\n",
      "        Random rnd = new Random(0);\n",
      "        for (int c = 0; c &lt; arraySize; ++c)\n",
      "            data[c] = rnd.nextInt() % 256;\n",
      "\n",
      "        // !!! With this, the next loop runs faster\n",
      "        Arrays.sort(data);\n",
      "\n",
      "        // Test\n",
      "        long start = System.nanoTime();\n",
      "        long sum = 0;\n",
      "\n",
      "        for (int i = 0; i &lt; 100000; ++i)\n",
      "        {\n",
      "            // Primary loop\n",
      "            for (int c = 0; c &lt; arraySize; ++c)\n",
      "            {\n",
      "                if (data[c] &gt;= 128)\n",
      "                    sum += data[c];\n",
      "            }\n",
      "        }\n",
      "\n",
      "        System.out.println((System.nanoTime() - start) / 1000000000.0);\n",
      "        System.out.println(\"sum = \" + sum);\n",
      "    }\n",
      "}\n",
      "</code></pre>\n",
      "\n",
      "<p>With a somewhat similar, but less extreme result.</p>\n",
      "\n",
      "<hr>\n",
      "\n",
      "<p>My first thought was that sorting brings the data into the cache, but my next thought was how silly that is, because the array was just generated.</p>\n",
      "\n",
      "<ul>\n",
      "<li>What is going on?</li>\n",
      "<li>Why is a sorted array faster than an unsorted array?</li>\n",
      "<li>The code is summing up some independent terms, and the order should not matter.</li>\n",
      "</ul>\n",
      "\n",
      "\n",
      "9 answers.\n"
     ]
    }
   ],
   "source": [
    "#id = int(get_input(\"Enter a question ID: \"))\n",
    "id = 11227809\n",
    "question = so.question(id)\n",
    "\n",
    "print('--- %s ---' % question.title)\n",
    "print(question.body)\n",
    "print()\n",
    "print('%d answers.' % len(question.answers))"
   ]
  },
  {
   "cell_type": "markdown",
   "metadata": {},
   "source": [
    "####Recent questions"
   ]
  },
  {
   "cell_type": "code",
   "execution_count": 7,
   "metadata": {
    "collapsed": false
   },
   "outputs": [
    {
     "name": "stdout",
     "output_type": "stream",
     "text": [
      " #  vote ans view\n",
      " 1  11    0  9633 \tSystem versus user PATH environmental variable...winmerge works only if I add the path to the user PATH\n",
      " 2   0    0    4 \tReferencing unbounded function in Clojure REPL\n",
      " 3   0    0    2 \tMake bootstrap column touch the bottom of the div\n",
      " 4   0    0    2 \tSelect to Return Multiple Rows from Single Row\n",
      " 5   0    0    7 \tWhat is the best way to incrementally build a numpy array?\n",
      " 6   0    0   12 \tWhy is my sanitized img tags coming up empty?\n",
      " 7   1    0  597 \tHighcharts - Force plot lines to consume available width?\n",
      " 8   0    0    2 \tStrange behaviour when I trying to override protected static variable of Abstract class\n",
      " 9   0    0    8 \tRequesting data from Form using Jquery - have to refresh to resubmit\n",
      "10   0    0   30 \tUpload images PHP to MySQL and retrieve correct images to each form\n",
      "\n",
      "--- TITLE: System versus user PATH environmental variable...winmerge works only if I add the path to the user PATH\n",
      "11 votes, 0 answers, 9633 views.\n",
      "Tagged: windows, path, environment-variables, winmerge\n",
      "\n",
      "<p>If I add <code>C:\\Program Files (x86)\\WinMerge</code> to the User <code>PATH</code> variable(by right click on computer -> advanced system settings -> environmental variables), once I open a new cmd shell WinmergeU.exe is not recognized. If I add ...\n"
     ]
    }
   ],
   "source": [
    "sys.stdout.write('Loading...')\n",
    "sys.stdout.flush()\n",
    "\n",
    "questions = so.recent_questions(pagesize=10, filter='_b')\n",
    "print('\\r #  vote ans view')\n",
    "\n",
    "cur = 1\n",
    "for question in questions[:10]:\n",
    "    print('%2d %3d  %3d  %3d \\t%s' % (cur, question.score, len(question.answers), question.view_count, question.title))\n",
    "    cur += 1\n",
    "\n",
    "#num = int(get_input('Question no.: '))\n",
    "num = 1\n",
    "qu  = questions[num - 1]\n",
    "print()\n",
    "print('--- TITLE: %s' % qu.title)\n",
    "print('%d votes, %d answers, %d views.' % (qu.score, len(qu.answers), qu.view_count))\n",
    "print('Tagged: ' + ', '.join(qu.tags))\n",
    "print()\n",
    "print(qu.body[:250] + ('...' if len(qu.body) > 250 else ''))"
   ]
  },
  {
   "cell_type": "markdown",
   "metadata": {},
   "source": [
    "####Search"
   ]
  },
  {
   "cell_type": "code",
   "execution_count": 8,
   "metadata": {
    "collapsed": false
   },
   "outputs": [
    {
     "name": "stdout",
     "output_type": "stream",
     "text": [
      "Searching for python...\n",
      "--- questions with \"python\" in title ---\n",
      "30468555 List index out of range error (Python 2.7)\n",
      "30468977 Why does Python String concatination work with Russian text but string.format() dose not\n",
      "30469120 Python Django migrate_schemas --shared TypeError: hasattr(): attribute name must be string upon\n",
      "30426935 Reassign rows and columns in Python csv\n",
      "30468920 Python-linkedin Return URL?\n",
      "30468371 How to convert python timestamp string to epoch?\n",
      "30468593 Adding Buffer Protocol to Python Class (Not at C Level)\n",
      "30468461 Finding combinations in a list (Python)\n",
      "30467495 mysql installer fails to recognize python 3.4\n",
      "30468902 How can I control access to a Wiifi Router using Python-Flask?\n"
     ]
    }
   ],
   "source": [
    "term = 'python'\n",
    "print('Searching for %s...' % term,)\n",
    "sys.stdout.flush()\n",
    "\n",
    "qs = so.search(intitle=term)\n",
    "\n",
    "print('\\r--- questions with \"%s\" in title ---' % (term))\n",
    "\n",
    "for q in qs[:10]:\n",
    "    print('%8d %s' % (q.id, q.title))"
   ]
  },
  {
   "cell_type": "markdown",
   "metadata": {},
   "source": [
    "####Stats"
   ]
  },
  {
   "cell_type": "code",
   "execution_count": 9,
   "metadata": {
    "collapsed": false
   },
   "outputs": [
    {
     "name": "stdout",
     "output_type": "stream",
     "text": [
      "Total questions:\t9470823\n",
      "\tAnswered:\t7000654\n",
      "\tUnanswered:\t2470169\n",
      "26.08% unanswered. (73.92% answered!)\n"
     ]
    }
   ],
   "source": [
    "stats = so.stats()\n",
    "\n",
    "print('Total questions:\\t%d' % stats.total_questions)\n",
    "print('\\tAnswered:\\t%d' % (stats.total_questions - stats.total_unanswered))\n",
    "print('\\tUnanswered:\\t%d' % (stats.total_unanswered))\n",
    "\n",
    "percent = (stats.total_unanswered / float(stats.total_questions)) * 100\n",
    "print('%.2f%% unanswered. (%.2f%% answered!)' % (percent, 100 - percent))"
   ]
  },
  {
   "cell_type": "code",
   "execution_count": null,
   "metadata": {
    "collapsed": true
   },
   "outputs": [],
   "source": []
  },
  {
   "cell_type": "code",
   "execution_count": null,
   "metadata": {
    "collapsed": true
   },
   "outputs": [],
   "source": []
  },
  {
   "cell_type": "code",
   "execution_count": null,
   "metadata": {
    "collapsed": true
   },
   "outputs": [],
   "source": []
  },
  {
   "cell_type": "code",
   "execution_count": 76,
   "metadata": {
    "collapsed": false
   },
   "outputs": [
    {
     "data": {
      "text/plain": [
       "[{'a': 1, 'accepted': True}]"
      ]
     },
     "execution_count": 76,
     "metadata": {},
     "output_type": "execute_result"
    }
   ],
   "source": [
    "d1 = {'a': 1, 'accepted': True}\n",
    "d2 = {'a': 8, 'accepted': False}\n",
    "l = [d1, d2]\n",
    "list(filter(lambda x: x['accepted'], l))"
   ]
  },
  {
   "cell_type": "code",
   "execution_count": 84,
   "metadata": {
    "collapsed": true
   },
   "outputs": [],
   "source": [
    "ff=filter(lambda x: x['accepted'], l)"
   ]
  },
  {
   "cell_type": "code",
   "execution_count": 87,
   "metadata": {
    "collapsed": false
   },
   "outputs": [
    {
     "data": {
      "text/plain": [
       "[]"
      ]
     },
     "execution_count": 87,
     "metadata": {},
     "output_type": "execute_result"
    }
   ],
   "source": [
    "list(ff)"
   ]
  },
  {
   "cell_type": "code",
   "execution_count": null,
   "metadata": {
    "collapsed": true
   },
   "outputs": [],
   "source": []
  }
 ],
 "metadata": {
  "kernelspec": {
   "display_name": "Python 3",
   "language": "python",
   "name": "python3"
  },
  "language_info": {
   "codemirror_mode": {
    "name": "ipython",
    "version": 3
   },
   "file_extension": ".py",
   "mimetype": "text/x-python",
   "name": "python",
   "nbconvert_exporter": "python",
   "pygments_lexer": "ipython3",
   "version": "3.4.0"
  }
 },
 "nbformat": 4,
 "nbformat_minor": 0
}
