{
 "cells": [
  {
   "cell_type": "code",
   "execution_count": 1,
   "metadata": {
    "collapsed": false
   },
   "outputs": [],
   "source": [
    "from __future__ import print_function\n",
    "import sys\n",
    "\n",
    "import stackexchange\n",
    "from stackexchange import Site, StackOverflow, Sort, DESC\n",
    "\n",
    "import credentials"
   ]
  },
  {
   "cell_type": "code",
   "execution_count": 2,
   "metadata": {
    "collapsed": false
   },
   "outputs": [],
   "source": [
    "so = stackexchange.Site(stackexchange.StackOverflow, app_key=credentials.KEY)\n",
    "so.impose_throttling = True\n",
    "so.throttle_stop = False\n",
    "so.be_inclusive()"
   ]
  },
  {
   "cell_type": "code",
   "execution_count": 3,
   "metadata": {
    "collapsed": false
   },
   "outputs": [],
   "source": [
    "me_id = 2055126\n",
    "user_id = 41981\n",
    "me = so.user(me_id)\n",
    "user = so.user(user_id)"
   ]
  },
  {
   "cell_type": "markdown",
   "metadata": {},
   "source": [
    "####Experience"
   ]
  },
  {
   "cell_type": "code",
   "execution_count": 4,
   "metadata": {
    "collapsed": false
   },
   "outputs": [
    {
     "name": "stdout",
     "output_type": "stream",
     "text": [
      "StackOverflow user 41981's experience:\n",
      "Most experienced on css.\n",
      "Most curious about .net.\n",
      "Accept rate is 84.62%.\n"
     ]
    }
   ],
   "source": [
    "print('StackOverflow user %d\\'s experience:' % user_id)\n",
    "\n",
    "print('Most experienced on %s.' % user.top_answer_tags.fetch()[0].tag_name)\n",
    "print('Most curious about %s.' % user.top_question_tags.fetch()[0].tag_name)\n",
    "\n",
    "total_questions = len(user.questions.fetch())\n",
    "unaccepted_questions = len(user.unaccepted_questions.fetch())\n",
    "accepted = total_questions - unaccepted_questions\n",
    "rate = accepted / float(total_questions) * 100\n",
    "print('Accept rate is %.2f%%.' % rate)"
   ]
  },
  {
   "cell_type": "markdown",
   "metadata": {},
   "source": [
    "####Highest voted"
   ]
  },
  {
   "cell_type": "code",
   "execution_count": 5,
   "metadata": {
    "collapsed": false
   },
   "outputs": [
    {
     "name": "stdout",
     "output_type": "stream",
     "text": [
      "The highest voted question on StackOverflow is:\n",
      "\t11227809\tWhy is processing a sorted array faster than an unsorted array?\t10693\n",
      "\n",
      "Look, see: http://stackoverflow.com/questions/11227809\n"
     ]
    }
   ],
   "source": [
    "print('The highest voted question on StackOverflow is:')\n",
    "question = so.questions(sort=Sort.Votes, order=DESC)[0]\n",
    "print('\\t%8d\\t%s\\t%d' % (question.id, question.title, question.score))\n",
    "print()\n",
    "print('Look, see:', question.url)"
   ]
  },
  {
   "cell_type": "markdown",
   "metadata": {},
   "source": [
    "####Question"
   ]
  },
  {
   "cell_type": "code",
   "execution_count": 6,
   "metadata": {
    "collapsed": false
   },
   "outputs": [
    {
     "name": "stdout",
     "output_type": "stream",
     "text": [
      "--- Why is processing a sorted array faster than an unsorted array? ---\n",
      "<p>Here is a piece of <strong>C++</strong> code that seems very peculiar. For some strange reason, sorting the data miraculously makes the code almost six times faster.</p>\n",
      "\n",
      "<pre class=\"lang-cpp prettyprint-override\"><code>#include &lt;algorithm&gt;\n",
      "#include &lt;ctime&gt;\n",
      "#include &lt;iostream&gt;\n",
      "\n",
      "int main()\n",
      "{\n",
      "    // Generate data\n",
      "    const unsigned arraySize = 32768;\n",
      "    int data[arraySize];\n",
      "\n",
      "    for (unsigned c = 0; c &lt; arraySize; ++c)\n",
      "        data[c] = std::rand() % 256;\n",
      "\n",
      "    // !!! With this, the next loop runs faster\n",
      "    std::sort(data, data + arraySize);\n",
      "\n",
      "    // Test\n",
      "    clock_t start = clock();\n",
      "    long long sum = 0;\n",
      "\n",
      "    for (unsigned i = 0; i &lt; 100000; ++i)\n",
      "    {\n",
      "        // Primary loop\n",
      "        for (unsigned c = 0; c &lt; arraySize; ++c)\n",
      "        {\n",
      "            if (data[c] &gt;= 128)\n",
      "                sum += data[c];\n",
      "        }\n",
      "    }\n",
      "\n",
      "    double elapsedTime = static_cast&lt;double&gt;(clock() - start) / CLOCKS_PER_SEC;\n",
      "\n",
      "    std::cout &lt;&lt; elapsedTime &lt;&lt; std::endl;\n",
      "    std::cout &lt;&lt; \"sum = \" &lt;&lt; sum &lt;&lt; std::endl;\n",
      "}\n",
      "</code></pre>\n",
      "\n",
      "<ul>\n",
      "<li>Without <code>std::sort(data, data + arraySize);</code>, the code runs in <strong>11.54</strong> seconds.</li>\n",
      "<li>With the sorted data, the code runs in <strong>1.93</strong> seconds.</li>\n",
      "</ul>\n",
      "\n",
      "<p>Initially, I thought this might be just a language or compiler anomaly. So I tried it in <strong>Java</strong>.</p>\n",
      "\n",
      "<pre class=\"lang-java prettyprint-override\"><code>import java.util.Arrays;\n",
      "import java.util.Random;\n",
      "\n",
      "public class Main\n",
      "{\n",
      "    public static void main(String[] args)\n",
      "    {\n",
      "        // Generate data\n",
      "        int arraySize = 32768;\n",
      "        int data[] = new int[arraySize];\n",
      "\n",
      "        Random rnd = new Random(0);\n",
      "        for (int c = 0; c &lt; arraySize; ++c)\n",
      "            data[c] = rnd.nextInt() % 256;\n",
      "\n",
      "        // !!! With this, the next loop runs faster\n",
      "        Arrays.sort(data);\n",
      "\n",
      "        // Test\n",
      "        long start = System.nanoTime();\n",
      "        long sum = 0;\n",
      "\n",
      "        for (int i = 0; i &lt; 100000; ++i)\n",
      "        {\n",
      "            // Primary loop\n",
      "            for (int c = 0; c &lt; arraySize; ++c)\n",
      "            {\n",
      "                if (data[c] &gt;= 128)\n",
      "                    sum += data[c];\n",
      "            }\n",
      "        }\n",
      "\n",
      "        System.out.println((System.nanoTime() - start) / 1000000000.0);\n",
      "        System.out.println(\"sum = \" + sum);\n",
      "    }\n",
      "}\n",
      "</code></pre>\n",
      "\n",
      "<p>With a somewhat similar, but less extreme result.</p>\n",
      "\n",
      "<hr>\n",
      "\n",
      "<p>My first thought was that sorting brings the data into the cache, but my next thought was how silly that is, because the array was just generated.</p>\n",
      "\n",
      "<ul>\n",
      "<li>What is going on?</li>\n",
      "<li>Why is a sorted array faster than an unsorted array?</li>\n",
      "<li>The code is summing up some independent terms, and the order should not matter.</li>\n",
      "</ul>\n",
      "\n",
      "\n",
      "9 answers.\n"
     ]
    }
   ],
   "source": [
    "#id = int(get_input(\"Enter a question ID: \"))\n",
    "id = 11227809\n",
    "question = so.question(id)\n",
    "\n",
    "print('--- %s ---' % question.title)\n",
    "print(question.body)\n",
    "print()\n",
    "print('%d answers.' % len(question.answers))"
   ]
  },
  {
   "cell_type": "markdown",
   "metadata": {},
   "source": [
    "####Recent questions"
   ]
  },
  {
   "cell_type": "code",
   "execution_count": 7,
   "metadata": {
    "collapsed": false
   },
   "outputs": [
    {
     "name": "stdout",
     "output_type": "stream",
     "text": [
      " #  vote ans view\n",
      " 1  11    0  9633 \tSystem versus user PATH environmental variable...winmerge works only if I add the path to the user PATH\n",
      " 2   0    0    4 \tReferencing unbounded function in Clojure REPL\n",
      " 3   0    0    2 \tMake bootstrap column touch the bottom of the div\n",
      " 4   0    0    2 \tSelect to Return Multiple Rows from Single Row\n",
      " 5   0    0    7 \tWhat is the best way to incrementally build a numpy array?\n",
      " 6   0    0   12 \tWhy is my sanitized img tags coming up empty?\n",
      " 7   1    0  597 \tHighcharts - Force plot lines to consume available width?\n",
      " 8   0    0    2 \tStrange behaviour when I trying to override protected static variable of Abstract class\n",
      " 9   0    0    8 \tRequesting data from Form using Jquery - have to refresh to resubmit\n",
      "10   0    0   30 \tUpload images PHP to MySQL and retrieve correct images to each form\n",
      "\n",
      "--- TITLE: System versus user PATH environmental variable...winmerge works only if I add the path to the user PATH\n",
      "11 votes, 0 answers, 9633 views.\n",
      "Tagged: windows, path, environment-variables, winmerge\n",
      "\n",
      "<p>If I add <code>C:\\Program Files (x86)\\WinMerge</code> to the User <code>PATH</code> variable(by right click on computer -> advanced system settings -> environmental variables), once I open a new cmd shell WinmergeU.exe is not recognized. If I add ...\n"
     ]
    }
   ],
   "source": [
    "sys.stdout.write('Loading...')\n",
    "sys.stdout.flush()\n",
    "\n",
    "questions = so.recent_questions(pagesize=10, filter='_b')\n",
    "print('\\r #  vote ans view')\n",
    "\n",
    "cur = 1\n",
    "for question in questions[:10]:\n",
    "    print('%2d %3d  %3d  %3d \\t%s' % (cur, question.score, len(question.answers), question.view_count, question.title))\n",
    "    cur += 1\n",
    "\n",
    "#num = int(get_input('Question no.: '))\n",
    "num = 1\n",
    "qu  = questions[num - 1]\n",
    "print()\n",
    "print('--- TITLE: %s' % qu.title)\n",
    "print('%d votes, %d answers, %d views.' % (qu.score, len(qu.answers), qu.view_count))\n",
    "print('Tagged: ' + ', '.join(qu.tags))\n",
    "print()\n",
    "print(qu.body[:250] + ('...' if len(qu.body) > 250 else ''))"
   ]
  },
  {
   "cell_type": "markdown",
   "metadata": {},
   "source": [
    "####Search"
   ]
  },
  {
   "cell_type": "code",
   "execution_count": 8,
   "metadata": {
    "collapsed": false
   },
   "outputs": [
    {
     "name": "stdout",
     "output_type": "stream",
     "text": [
      "Searching for python...\n",
      "--- questions with \"python\" in title ---\n",
      "30468555 List index out of range error (Python 2.7)\n",
      "30468977 Why does Python String concatination work with Russian text but string.format() dose not\n",
      "30469120 Python Django migrate_schemas --shared TypeError: hasattr(): attribute name must be string upon\n",
      "30426935 Reassign rows and columns in Python csv\n",
      "30468920 Python-linkedin Return URL?\n",
      "30468371 How to convert python timestamp string to epoch?\n",
      "30468593 Adding Buffer Protocol to Python Class (Not at C Level)\n",
      "30468461 Finding combinations in a list (Python)\n",
      "30467495 mysql installer fails to recognize python 3.4\n",
      "30468902 How can I control access to a Wiifi Router using Python-Flask?\n"
     ]
    }
   ],
   "source": [
    "term = 'python'\n",
    "print('Searching for %s...' % term,)\n",
    "sys.stdout.flush()\n",
    "\n",
    "qs = so.search(intitle=term)\n",
    "\n",
    "print('\\r--- questions with \"%s\" in title ---' % (term))\n",
    "\n",
    "for q in qs[:10]:\n",
    "    print('%8d %s' % (q.id, q.title))"
   ]
  },
  {
   "cell_type": "markdown",
   "metadata": {},
   "source": [
    "####Stats"
   ]
  },
  {
   "cell_type": "code",
   "execution_count": 9,
   "metadata": {
    "collapsed": false
   },
   "outputs": [
    {
     "name": "stdout",
     "output_type": "stream",
     "text": [
      "Total questions:\t9470823\n",
      "\tAnswered:\t7000654\n",
      "\tUnanswered:\t2470169\n",
      "26.08% unanswered. (73.92% answered!)\n"
     ]
    }
   ],
   "source": [
    "stats = so.stats()\n",
    "\n",
    "print('Total questions:\\t%d' % stats.total_questions)\n",
    "print('\\tAnswered:\\t%d' % (stats.total_questions - stats.total_unanswered))\n",
    "print('\\tUnanswered:\\t%d' % (stats.total_unanswered))\n",
    "\n",
    "percent = (stats.total_unanswered / float(stats.total_questions)) * 100\n",
    "print('%.2f%% unanswered. (%.2f%% answered!)' % (percent, 100 - percent))"
   ]
  }
 ],
 "metadata": {
  "kernelspec": {
   "display_name": "Python 3",
   "language": "python",
   "name": "python3"
  },
  "language_info": {
   "codemirror_mode": {
    "name": "ipython",
    "version": 3
   },
   "file_extension": ".py",
   "mimetype": "text/x-python",
   "name": "python",
   "nbconvert_exporter": "python",
   "pygments_lexer": "ipython3",
   "version": "3.4.0"
  }
 },
 "nbformat": 4,
 "nbformat_minor": 0
}
